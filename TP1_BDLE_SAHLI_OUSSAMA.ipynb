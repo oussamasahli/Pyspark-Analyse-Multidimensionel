{
 "cells": [
  {
   "cell_type": "markdown",
   "metadata": {
    "application/vnd.databricks.v1+cell": {
     "inputWidgets": {},
     "nuid": "2fcea654-56eb-4219-a555-b7635dc8ec23",
     "showTitle": false,
     "title": ""
    },
    "id": "5T30y-4iGpLZ"
   },
   "source": [
    "BDLE 2022\n",
    "\n",
    "date du document  :  30/09/2022\n",
    "\n",
    "Sahli Oussama"
   ]
  },
  {
   "cell_type": "markdown",
   "metadata": {
    "application/vnd.databricks.v1+cell": {
     "inputWidgets": {},
     "nuid": "538800ba-6d08-40a7-b6b6-829b40085742",
     "showTitle": false,
     "title": ""
    },
    "id": "L_q0KahUGpLc"
   },
   "source": [
    "# TP1 2022 Préparation de données ETU\n",
    "\n",
    "\n",
    "Préparation de données\n"
   ]
  },
  {
   "cell_type": "markdown",
   "metadata": {
    "application/vnd.databricks.v1+cell": {
     "inputWidgets": {},
     "nuid": "b15737ae-19bd-4b9f-b9f3-52388cc5e50e",
     "showTitle": false,
     "title": ""
    },
    "id": "levNDESpS1hT"
   },
   "source": [
    "## Préparation du TP"
   ]
  },
  {
   "cell_type": "markdown",
   "metadata": {
    "application/vnd.databricks.v1+cell": {
     "inputWidgets": {},
     "nuid": "b6afe82e-35d6-4358-9b79-8f56074e0908",
     "showTitle": false,
     "title": ""
    },
    "id": "4pZBsez9S1hT"
   },
   "source": [
    "Vérifier que des ressources de calcul sont allouées à votre notebook est connecté (cf RAM  de disque indiqués en haut à droite) . Sinon cliquer sur le bouton connecter pour obtenir des ressources.\n",
    "\n",
    "\n"
   ]
  },
  {
   "cell_type": "markdown",
   "metadata": {
    "id": "CEjerqQ6Ink6"
   },
   "source": [
    "Pour accéder directement aux fichiers stockées sur votre google drive. Renseigner le code d'authentification lorsqu'il est demandé\n",
    "\n",
    "Ajuster le nom de votre dossier : MyDrive/ens/bdle/DM1"
   ]
  },
  {
   "cell_type": "code",
   "execution_count": 6,
   "metadata": {
    "id": "g7Dv93rsImuM"
   },
   "outputs": [],
   "source": [
    "# import os\n",
    "# from google.colab import drive\n",
    "# drive.mount(\"/content/drive\")\n",
    "\n",
    "# drive_dir = \"/content/drive/MyDrive/ens/bdle/TP1\"\n",
    "# os.makedirs(drive_dir, exist_ok=True)\n",
    "# os.listdir(drive_dir)"
   ]
  },
  {
   "cell_type": "markdown",
   "metadata": {
    "id": "7v9EXMl8aPZC"
   },
   "source": [
    "Installer pyspark et findspark :\n"
   ]
  },
  {
   "cell_type": "code",
   "execution_count": 3,
   "metadata": {
    "colab": {
     "base_uri": "https://localhost:8080/"
    },
    "id": "3zlwNHy1S8C2",
    "outputId": "20496439-7b1c-4852-b1b8-6365379e9399"
   },
   "outputs": [
    {
     "name": "stdout",
     "output_type": "stream",
     "text": [
      "\u001b[K     |████████████████████████████████| 281.3 MB 60 kB/s \n",
      "\u001b[K     |████████████████████████████████| 199 kB 80.7 MB/s \n",
      "\u001b[?25h  Building wheel for pyspark (setup.py) ... \u001b[?25l\u001b[?25hdone\n"
     ]
    }
   ],
   "source": [
    "!pip install -q pyspark\n",
    "!pip install -q findspark"
   ]
  },
  {
   "cell_type": "markdown",
   "metadata": {
    "id": "PnEmOd_zOUo0"
   },
   "source": [
    "Démarrer la session spark"
   ]
  },
  {
   "cell_type": "code",
   "execution_count": 4,
   "metadata": {
    "id": "W0ADH0J-VW7i"
   },
   "outputs": [],
   "source": [
    "import os\n",
    "\n",
    "# !find /usr/local/lib -name \"pyspark\"\n",
    "os.environ[\"SPARK_HOME\"] = \"/usr/local/lib/python3.7/dist-packages/pyspark\"\n",
    "os.environ[\"JAVA_HOME\"] = \"/usr\""
   ]
  },
  {
   "cell_type": "code",
   "execution_count": 5,
   "metadata": {
    "colab": {
     "base_uri": "https://localhost:8080/"
    },
    "id": "Q_WxQZB7TaUC",
    "outputId": "5606e4bd-5a2c-4f43-c9b4-92df9b9af43c"
   },
   "outputs": [
    {
     "name": "stdout",
     "output_type": "stream",
     "text": [
      "session démarrée, son id est  local-1665311604870\n"
     ]
    }
   ],
   "source": [
    "# Principaux import\n",
    "import findspark\n",
    "from pyspark.sql import SparkSession \n",
    "from pyspark import SparkConf  \n",
    "\n",
    "# pour les dataframe et udf\n",
    "from pyspark.sql import *  \n",
    "from pyspark.sql.functions import *\n",
    "from pyspark.sql.types import *\n",
    "from datetime import *\n",
    "\n",
    "# pour le chronomètre\n",
    "import time\n",
    "\n",
    "# initialise les variables d'environnement pour spark\n",
    "findspark.init()\n",
    "\n",
    "# Démarrage session spark \n",
    "# --------------------------\n",
    "def demarrer_spark():\n",
    "  local = \"local[*]\"\n",
    "  appName = \"TP\"\n",
    "  configLocale = SparkConf().setAppName(appName).setMaster(local).\\\n",
    "  set(\"spark.executor.memory\", \"6G\").\\\n",
    "  set(\"spark.driver.memory\",\"6G\").\\\n",
    "  set(\"spark.sql.catalogImplementation\",\"in-memory\")\n",
    "  \n",
    "  spark = SparkSession.builder.config(conf = configLocale).getOrCreate()\n",
    "  sc = spark.sparkContext\n",
    "  sc.setLogLevel(\"ERROR\")\n",
    "  \n",
    "  spark.conf.set(\"spark.sql.autoBroadcastJoinThreshold\",\"-1\")\n",
    "\n",
    "  # On ajuste l'environnement d'exécution des requêtes à la taille du cluster (4 coeurs)\n",
    "  spark.conf.set(\"spark.sql.shuffle.partitions\",\"4\")    \n",
    "  print(\"session démarrée, son id est \", sc.applicationId)\n",
    "  return spark\n",
    "spark = demarrer_spark()"
   ]
  },
  {
   "cell_type": "code",
   "execution_count": 7,
   "metadata": {
    "application/vnd.databricks.v1+cell": {
     "inputWidgets": {},
     "nuid": "852847c4-bd45-4f9c-ae8b-2c704f389cf9",
     "showTitle": false,
     "title": ""
    },
    "colab": {
     "base_uri": "https://localhost:8080/"
    },
    "id": "fj9pUgrmGpLe",
    "outputId": "c3d5a146-1d72-434d-de57-b1e6a05069cb"
   },
   "outputs": [
    {
     "name": "stdout",
     "output_type": "stream",
     "text": [
      "Nombre de partitions utilisées :  8\n"
     ]
    }
   ],
   "source": [
    "# on utilise 8 partitions au lieu de 200 par défaut\n",
    "spark.conf.set(\"spark.sql.shuffle.partitions\", \"8\")\n",
    "print(\"Nombre de partitions utilisées : \", spark.conf.get(\"spark.sql.shuffle.partitions\"))"
   ]
  },
  {
   "cell_type": "code",
   "execution_count": 8,
   "metadata": {
    "id": "wDs-7bQnatJ4"
   },
   "outputs": [],
   "source": [
    "# Optionnel :\n",
    "# pour l'accès à spark UI : voir https://www.analyticsvidhya.com/blog/2020/11/a-must-read-guide-on-how-to-work-with-pyspark-on-google-colab-for-data-scientists/\n",
    "# !wget https://bin.equinox.io/c/4VmDzA7iaHb/ngrok-stable-linux-amd64.zip\n",
    "# !unzip ngrok-stable-linux-amd64.zip\n",
    "# get_ipython().system_raw('./ngrok http 4050 &')\n",
    "# !curl -s http://localhost:4040/api/tunnels"
   ]
  },
  {
   "cell_type": "markdown",
   "metadata": {
    "id": "6PPivNNpOcBT"
   },
   "source": [
    "Redéfinir la fonction **display** pour afficher le resutltat des requêtes dans un tableau"
   ]
  },
  {
   "cell_type": "code",
   "execution_count": 9,
   "metadata": {
    "id": "FFu44fW7LRgC"
   },
   "outputs": [],
   "source": [
    "import pandas as pd\n",
    "from google.colab import data_table\n",
    "\n",
    "# alternatives to Databricks display function.\n",
    "\n",
    "def display(df, n=100):\n",
    "  return data_table.DataTable(df.limit(n).toPandas(), include_index=False, num_rows_per_page=10)\n",
    "\n",
    "def display2(df, n=20):\n",
    "  pd.set_option('max_columns', None)\n",
    "  pd.set_option('max_colwidth', None)\n",
    "  return df.limit(n).toPandas()\n"
   ]
  },
  {
   "cell_type": "markdown",
   "metadata": {
    "id": "I0-keRafUD5N"
   },
   "source": [
    "Définir le tag **%%sql** pour pouvoir écrire plus simplement des requêtes en SQL dans une cellule"
   ]
  },
  {
   "cell_type": "code",
   "execution_count": 10,
   "metadata": {
    "id": "eJ7aiRS-gaVF"
   },
   "outputs": [],
   "source": [
    "from IPython.core.magic import (register_line_magic, register_cell_magic, register_line_cell_magic)\n",
    "\n",
    "def removeComments(query):\n",
    "  result = \"\"\n",
    "  for line in query.split('\\n'):\n",
    "    if not(line.strip().startswith(\"--\")):\n",
    "      result += line + \"\\n\"\n",
    "  return result\n",
    "\n",
    "@register_line_cell_magic\n",
    "def sql(line, cell=None):\n",
    "    \"To run a sql query. Use:  %%sql\"\n",
    "    val = cell if cell is not None else line\n",
    "    tabRequetes = removeComments(val).split(\";\")\n",
    "    derniere = None\n",
    "    est_requete = False\n",
    "    for r in tabRequetes:\n",
    "        r = r.strip()\n",
    "        if len(r) > 2:\n",
    "          derniere = spark.sql(r)\n",
    "          est_requete = r.lower().startswith('select')\n",
    "    if(est_requete):\n",
    "      return display(derniere)\n",
    "    else:\n",
    "      return print('ok')"
   ]
  },
  {
   "cell_type": "code",
   "execution_count": 11,
   "metadata": {
    "id": "6jfVOKdrKTDG"
   },
   "outputs": [],
   "source": [
    "# facultatif (à ne pas utiliser)\n",
    "# %load_ext google.colab.data_table\n",
    "# %unload_ext google.colab.data_table"
   ]
  },
  {
   "cell_type": "markdown",
   "metadata": {
    "application/vnd.databricks.v1+cell": {
     "inputWidgets": {},
     "nuid": "b15737ae-19bd-4b9f-b9f3-52388cc5e50e",
     "showTitle": false,
     "title": ""
    },
    "id": "sIeeBKU2GpLc"
   },
   "source": [
    "## Accès aux données"
   ]
  },
  {
   "cell_type": "markdown",
   "metadata": {
    "application/vnd.databricks.v1+cell": {
     "inputWidgets": {},
     "nuid": "9b13d583-eac5-414c-b544-43024c76c144",
     "showTitle": false,
     "title": ""
    },
    "id": "NqVvf8iLGpLf"
   },
   "source": [
    "### URL pour l'accès aux datasets"
   ]
  },
  {
   "cell_type": "code",
   "execution_count": 12,
   "metadata": {
    "application/vnd.databricks.v1+cell": {
     "inputWidgets": {},
     "nuid": "8a1fead0-61e4-4d04-a2c0-7858f767b0a1",
     "showTitle": false,
     "title": ""
    },
    "colab": {
     "base_uri": "https://localhost:8080/"
    },
    "id": "8g6iWNvES1hW",
    "outputId": "a2c5d06f-ef23-40b3-bee0-72dccbbb337c"
   },
   "outputs": [
    {
     "name": "stdout",
     "output_type": "stream",
     "text": [
      "URL du dossier contenant les datasets  https://nuage.lip6.fr/s/H3bpyRGgnCq2NR4\n"
     ]
    }
   ],
   "source": [
    "# URL du dossier PUBLIC_DATASET contenant des fichiers de données pour les TP\n",
    "# ---------------------------------------------------------------------------\n",
    "# en cas de problème avec le téléchargement des datasets, aller directement sur l'URL ci-dessous\n",
    "PUBLIC_DATASET_URL = \"https://nuage.lip6.fr/s/H3bpyRGgnCq2NR4\" \n",
    "PUBLIC_DATASET=PUBLIC_DATASET_URL + \"/download?path=\"\n",
    "\n",
    "print(\"URL du dossier contenant les datasets \", PUBLIC_DATASET_URL)"
   ]
  },
  {
   "cell_type": "markdown",
   "metadata": {
    "id": "IIZzFLxu7d-z"
   },
   "source": [
    "### Données de mobilité"
   ]
  },
  {
   "cell_type": "markdown",
   "metadata": {
    "id": "D7O1KY6QBSsN"
   },
   "source": [
    "Données issues du dataset YFCC"
   ]
  },
  {
   "cell_type": "code",
   "execution_count": 13,
   "metadata": {
    "colab": {
     "base_uri": "https://localhost:8080/"
    },
    "id": "9sPqSsqS5Vjq",
    "outputId": "96dd7b2e-e283-41ee-9c04-295abe078236"
   },
   "outputs": [
    {
     "data": {
      "text/plain": [
       "[]"
      ]
     },
     "execution_count": 13,
     "metadata": {},
     "output_type": "execute_result"
    }
   ],
   "source": [
    "local_dir = \"/local/data\"\n",
    "os.makedirs(local_dir, exist_ok=True)\n",
    "os.listdir(local_dir)"
   ]
  },
  {
   "cell_type": "code",
   "execution_count": 14,
   "metadata": {
    "colab": {
     "base_uri": "https://localhost:8080/"
    },
    "id": "gzNZ7fIO8L-y",
    "outputId": "e81e0bda-a4ba-4566-fb53-f8ac474aafb9"
   },
   "outputs": [
    {
     "name": "stdout",
     "output_type": "stream",
     "text": [
      "downloading from URL:  https://nuage.lip6.fr/s/H3bpyRGgnCq2NR4/download?path=YFCC_POI_dataset_K_H_LIM/dataset_IJCAI_2015/data-ijcai15/userVisits-ijcai15/userVisits-Toro.csv save in : /local/data/userVisits-Toro.csv\n",
      "downloading from URL:  https://nuage.lip6.fr/s/H3bpyRGgnCq2NR4/download?path=YFCC_POI_dataset_K_H_LIM/dataset_IJCAI_2015/data-ijcai15/poiList-ijcai15/POI-Toro.csv save in : /local/data/POI-Toro.csv\n"
     ]
    },
    {
     "data": {
      "text/plain": [
       "['userVisits-Toro.csv', 'POI-Toro.csv']"
      ]
     },
     "execution_count": 14,
     "metadata": {},
     "output_type": "execute_result"
    }
   ],
   "source": [
    "from urllib import request\n",
    "\n",
    "# download dataset if not already donwloaded\n",
    "def download_file(web_dir, local_dir, file):\n",
    "  local_file = local_dir + \"/\" + file\n",
    "  web_file = web_dir + \"/\" + file\n",
    "  if(os.path.isfile(local_file)):\n",
    "    print(file, \"is already stored\")\n",
    "  else:\n",
    "    print(\"downloading from URL: \", web_file , \"save in : \" + local_file)\n",
    "    request.urlretrieve(web_file , local_file)\n",
    "\n",
    "# user visits\n",
    "web_dir = PUBLIC_DATASET + \"YFCC_POI_dataset_K_H_LIM/dataset_IJCAI_2015/data-ijcai15/userVisits-ijcai15\"\n",
    "download_file(web_dir, local_dir, \"userVisits-Toro.csv\")\n",
    "\n",
    "# poi \n",
    "web_dir = PUBLIC_DATASET + \"YFCC_POI_dataset_K_H_LIM/dataset_IJCAI_2015/data-ijcai15/poiList-ijcai15\"\n",
    "download_file(web_dir, local_dir, \"POI-Toro.csv\")\n",
    "\n",
    "\n",
    "\n",
    "os.listdir(local_dir)"
   ]
  },
  {
   "cell_type": "markdown",
   "metadata": {
    "id": "tkjftQnIDx8u"
   },
   "source": [
    "### Les visites"
   ]
  },
  {
   "cell_type": "markdown",
   "metadata": {
    "id": "tl73T_2Y45Yq"
   },
   "source": [
    "Lire les 2 premières lignes du  fichier csv en python. \n",
    "Est ce que le fichier a une ligne d'entête ?\n",
    "Quel caractère délimite deux valeurs consécutives dans une ligne de données ?"
   ]
  },
  {
   "cell_type": "code",
   "execution_count": 15,
   "metadata": {
    "colab": {
     "base_uri": "https://localhost:8080/"
    },
    "id": "eWwcNwTR4Y_M",
    "outputId": "b3ced668-6217-4933-8441-940a313d0437"
   },
   "outputs": [
    {
     "name": "stdout",
     "output_type": "stream",
     "text": [
      "\"photoID\";\"userID\";\"dateTaken\";\"poiID\";\"poiTheme\";\"poiFreq\";\"seqID\"\n",
      "\n",
      "7941504100;\"10007579@N00\";1346844688;30;\"Structure\";1538;1\n",
      "\n"
     ]
    }
   ],
   "source": [
    "f = open(local_dir + \"/\" + \"userVisits-Toro.csv\", \"r\")\n",
    "print(f.readline()); print(f.readline())"
   ]
  },
  {
   "cell_type": "markdown",
   "metadata": {
    "id": "-yuRfs1cBvCG"
   },
   "source": [
    "Lire le fichier des visites *sans* préciser le type des attributs.\n",
    "Par défaut, tous les attributs sont considérés comme étant de type string."
   ]
  },
  {
   "cell_type": "code",
   "execution_count": 16,
   "metadata": {
    "colab": {
     "base_uri": "https://localhost:8080/"
    },
    "id": "EnEfpcDwBa3m",
    "outputId": "48e1a8e3-c3f8-4e60-93f9-483943442cd7"
   },
   "outputs": [
    {
     "name": "stdout",
     "output_type": "stream",
     "text": [
      "+----------+------------+----------+-----+---------+-------+-----+\n",
      "|   photoID|      userID| dateTaken|poiID| poiTheme|poiFreq|seqID|\n",
      "+----------+------------+----------+-----+---------+-------+-----+\n",
      "|7941504100|10007579@N00|1346844688|   30|Structure|   1538|    1|\n",
      "|4886005532|10012675@N05|1142731848|    6| Cultural|    986|    2|\n",
      "|4886006468|10012675@N05|1142732248|    6| Cultural|    986|    2|\n",
      "+----------+------------+----------+-----+---------+-------+-----+\n",
      "only showing top 3 rows\n",
      "\n",
      "root\n",
      " |-- photoID: string (nullable = true)\n",
      " |-- userID: string (nullable = true)\n",
      " |-- dateTaken: string (nullable = true)\n",
      " |-- poiID: string (nullable = true)\n",
      " |-- poiTheme: string (nullable = true)\n",
      " |-- poiFreq: string (nullable = true)\n",
      " |-- seqID: string (nullable = true)\n",
      "\n"
     ]
    }
   ],
   "source": [
    "user_visits = spark.read.option(\"header\", \"True\").option(\"delimiter\", \";\").format(\"csv\").load(local_dir + \"/\" + \"userVisits-Toro.csv\")\n",
    "user_visits.show(3)\n",
    "user_visits.printSchema()"
   ]
  },
  {
   "cell_type": "markdown",
   "metadata": {
    "id": "tOKVS5T2B5xd"
   },
   "source": [
    "Lire le fichier en précisant le schéma : nom et type des attributs"
   ]
  },
  {
   "cell_type": "code",
   "execution_count": 17,
   "metadata": {
    "colab": {
     "base_uri": "https://localhost:8080/"
    },
    "id": "7KFQLcGpFySS",
    "outputId": "cac045d3-74a8-4e8a-e4e0-482765ee7e22"
   },
   "outputs": [
    {
     "name": "stdout",
     "output_type": "stream",
     "text": [
      "+----------+------------+----------+-----+---------+-------+-----+\n",
      "|   photoID|      userID|      date|poiID| poiTheme|poiFreq|seqID|\n",
      "+----------+------------+----------+-----+---------+-------+-----+\n",
      "|7941504100|10007579@N00|1346844688|   30|Structure|   1538|    1|\n",
      "|4886005532|10012675@N05|1142731848|    6| Cultural|    986|    2|\n",
      "|4886006468|10012675@N05|1142732248|    6| Cultural|    986|    2|\n",
      "|4885404441|10012675@N05|1142732373|    6| Cultural|    986|    2|\n",
      "|4886008334|10012675@N05|1142732445|    6| Cultural|    986|    2|\n",
      "|4886009150|10012675@N05|1142916492|    6| Cultural|    986|    3|\n",
      "|7054481539|10012675@N05|1319327174|   13| Cultural|    964|    4|\n",
      "|6908387594|10012675@N05|1319328255|   13| Cultural|    964|    4|\n",
      "|6908381912|10012675@N05|1319331463|   13| Cultural|    964|    4|\n",
      "|6908398496|10012675@N05|1319331886|   13| Cultural|    964|    4|\n",
      "+----------+------------+----------+-----+---------+-------+-----+\n",
      "only showing top 10 rows\n",
      "\n",
      "root\n",
      " |-- photoID: long (nullable = true)\n",
      " |-- userID: string (nullable = true)\n",
      " |-- date: long (nullable = true)\n",
      " |-- poiID: integer (nullable = true)\n",
      " |-- poiTheme: string (nullable = true)\n",
      " |-- poiFreq: integer (nullable = true)\n",
      " |-- seqID: integer (nullable = true)\n",
      "\n"
     ]
    }
   ],
   "source": [
    "schema = \"photoID long, userID String, date Long, poiID int, poiTheme String, poiFreq int, seqID int\"\n",
    "\n",
    "user_visits = spark.read.option(\"header\", \"True\").option(\"delimiter\", \";\").csv(local_dir + \"/\" + \"userVisits-Toro.csv\", schema = schema)\n",
    "user_visits.persist()\n",
    "user_visits.createOrReplaceTempView(\"user_visits\")\n",
    "user_visits.show(10)\n",
    "user_visits.printSchema()"
   ]
  },
  {
   "cell_type": "markdown",
   "metadata": {
    "id": "kpCZV_kezFPD"
   },
   "source": [
    "Vérifier qu'il n'y a pas de date nulle"
   ]
  },
  {
   "cell_type": "code",
   "execution_count": 18,
   "metadata": {
    "colab": {
     "base_uri": "https://localhost:8080/",
     "height": 111
    },
    "id": "g4Xs3emr90fU",
    "outputId": "99743798-4880-464f-dd5e-30054446f947"
   },
   "outputs": [
    {
     "data": {
      "application/vnd.google.colaboratory.module+javascript": "\n      import \"https://ssl.gstatic.com/colaboratory/data_table/a8bd4d5e58f96183/data_table.js\";\n\n      window.createDataTable({\n        data: [[{\n            'v': 0,\n            'f': \"0\",\n        }]],\n        columns: [[\"number\", \"nb_dates_nulles\"]],\n        columnOptions: [],\n        rowsPerPage: 10,\n        helpUrl: \"https://colab.research.google.com/notebooks/data_table.ipynb\",\n        suppressOutputScrolling: true,\n        minimumWidth: undefined,\n      });\n    ",
      "text/html": [
       "<div>\n",
       "<style scoped>\n",
       "    .dataframe tbody tr th:only-of-type {\n",
       "        vertical-align: middle;\n",
       "    }\n",
       "\n",
       "    .dataframe tbody tr th {\n",
       "        vertical-align: top;\n",
       "    }\n",
       "\n",
       "    .dataframe thead th {\n",
       "        text-align: right;\n",
       "    }\n",
       "</style>\n",
       "<table border=\"1\" class=\"dataframe\">\n",
       "  <thead>\n",
       "    <tr style=\"text-align: right;\">\n",
       "      <th></th>\n",
       "      <th>nb_dates_nulles</th>\n",
       "    </tr>\n",
       "  </thead>\n",
       "  <tbody>\n",
       "    <tr>\n",
       "      <th>0</th>\n",
       "      <td>0</td>\n",
       "    </tr>\n",
       "  </tbody>\n",
       "</table>\n",
       "</div>"
      ],
      "text/plain": [
       "<google.colab.data_table.DataTable object>"
      ]
     },
     "execution_count": 18,
     "metadata": {},
     "output_type": "execute_result"
    }
   ],
   "source": [
    "%%sql\n",
    "select count(1) as nb_dates_nulles\n",
    "from user_visits\n",
    "where date is null\n",
    "\n",
    "-- autre solution avec \"case\"\n",
    "--select count(case when isnull(date) then date end) as nb_date_nulles\n",
    "--from user_visits"
   ]
  },
  {
   "cell_type": "markdown",
   "metadata": {
    "id": "SsuPFy54S1x_"
   },
   "source": [
    "\n",
    "Vérifier qu'il n'y a aucune séquence associée à plusieurs utilisateurs"
   ]
  },
  {
   "cell_type": "code",
   "execution_count": 19,
   "metadata": {
    "colab": {
     "base_uri": "https://localhost:8080/",
     "height": 90
    },
    "id": "Etb5c2LzRy3S",
    "outputId": "58fc2813-6b22-40de-96a0-274054da99c8"
   },
   "outputs": [
    {
     "data": {
      "application/vnd.google.colaboratory.module+javascript": "\n      import \"https://ssl.gstatic.com/colaboratory/data_table/a8bd4d5e58f96183/data_table.js\";\n\n      window.createDataTable({\n        data: [],\n        columns: [[\"number\", \"seqID\"]],\n        columnOptions: [],\n        rowsPerPage: 10,\n        helpUrl: \"https://colab.research.google.com/notebooks/data_table.ipynb\",\n        suppressOutputScrolling: true,\n        minimumWidth: undefined,\n      });\n    ",
      "text/html": [
       "<div>\n",
       "<style scoped>\n",
       "    .dataframe tbody tr th:only-of-type {\n",
       "        vertical-align: middle;\n",
       "    }\n",
       "\n",
       "    .dataframe tbody tr th {\n",
       "        vertical-align: top;\n",
       "    }\n",
       "\n",
       "    .dataframe thead th {\n",
       "        text-align: right;\n",
       "    }\n",
       "</style>\n",
       "<table border=\"1\" class=\"dataframe\">\n",
       "  <thead>\n",
       "    <tr style=\"text-align: right;\">\n",
       "      <th></th>\n",
       "      <th>seqID</th>\n",
       "    </tr>\n",
       "  </thead>\n",
       "  <tbody>\n",
       "  </tbody>\n",
       "</table>\n",
       "</div>"
      ],
      "text/plain": [
       "<google.colab.data_table.DataTable object>"
      ]
     },
     "execution_count": 19,
     "metadata": {},
     "output_type": "execute_result"
    }
   ],
   "source": [
    "%%sql\n",
    "select seqID\n",
    "from user_visits\n",
    "group by seqID\n",
    "having count(distinct userID) > 1"
   ]
  },
  {
   "cell_type": "markdown",
   "metadata": {
    "id": "6yN_LHZo1TtA"
   },
   "source": [
    "\n",
    "#### POI_sequence\n",
    "\n",
    "La table **POI_sequence**(seqID, poiID). Les POI visités durant une séquence.\n",
    "Pour simplifier on compte chaque POI une seule fois par séquence et on ne considère pas l'ordre de visite des POI.\n",
    "\n",
    "Rmq: il n'est pas nécessaire de préciser le userID pour identifier une séquence."
   ]
  },
  {
   "cell_type": "code",
   "execution_count": 20,
   "metadata": {
    "colab": {
     "base_uri": "https://localhost:8080/",
     "height": 315
    },
    "id": "7XDLgVgqPayh",
    "outputId": "dd5180fa-6eed-4067-bc5f-a681a9b8a6ac"
   },
   "outputs": [
    {
     "data": {
      "application/vnd.google.colaboratory.module+javascript": "\n      import \"https://ssl.gstatic.com/colaboratory/data_table/a8bd4d5e58f96183/data_table.js\";\n\n      window.createDataTable({\n        data: [[{\n            'v': 9,\n            'f': \"9\",\n        },\n{\n            'v': 24,\n            'f': \"24\",\n        }],\n [{\n            'v': 16,\n            'f': \"16\",\n        },\n{\n            'v': 24,\n            'f': \"24\",\n        }],\n [{\n            'v': 26,\n            'f': \"26\",\n        },\n{\n            'v': 22,\n            'f': \"22\",\n        }],\n [{\n            'v': 29,\n            'f': \"29\",\n        },\n{\n            'v': 25,\n            'f': \"25\",\n        }],\n [{\n            'v': 54,\n            'f': \"54\",\n        },\n{\n            'v': 25,\n            'f': \"25\",\n        }],\n [{\n            'v': 58,\n            'f': \"58\",\n        },\n{\n            'v': 27,\n            'f': \"27\",\n        }],\n [{\n            'v': 60,\n            'f': \"60\",\n        },\n{\n            'v': 7,\n            'f': \"7\",\n        }],\n [{\n            'v': 103,\n            'f': \"103\",\n        },\n{\n            'v': 7,\n            'f': \"7\",\n        }],\n [{\n            'v': 106,\n            'f': \"106\",\n        },\n{\n            'v': 30,\n            'f': \"30\",\n        }],\n [{\n            'v': 107,\n            'f': \"107\",\n        },\n{\n            'v': 30,\n            'f': \"30\",\n        }],\n [{\n            'v': 114,\n            'f': \"114\",\n        },\n{\n            'v': 20,\n            'f': \"20\",\n        }],\n [{\n            'v': 115,\n            'f': \"115\",\n        },\n{\n            'v': 1,\n            'f': \"1\",\n        }],\n [{\n            'v': 119,\n            'f': \"119\",\n        },\n{\n            'v': 8,\n            'f': \"8\",\n        }],\n [{\n            'v': 130,\n            'f': \"130\",\n        },\n{\n            'v': 28,\n            'f': \"28\",\n        }],\n [{\n            'v': 136,\n            'f': \"136\",\n        },\n{\n            'v': 3,\n            'f': \"3\",\n        }],\n [{\n            'v': 142,\n            'f': \"142\",\n        },\n{\n            'v': 3,\n            'f': \"3\",\n        }],\n [{\n            'v': 157,\n            'f': \"157\",\n        },\n{\n            'v': 27,\n            'f': \"27\",\n        }],\n [{\n            'v': 162,\n            'f': \"162\",\n        },\n{\n            'v': 7,\n            'f': \"7\",\n        }],\n [{\n            'v': 166,\n            'f': \"166\",\n        },\n{\n            'v': 22,\n            'f': \"22\",\n        }],\n [{\n            'v': 174,\n            'f': \"174\",\n        },\n{\n            'v': 16,\n            'f': \"16\",\n        }],\n [{\n            'v': 175,\n            'f': \"175\",\n        },\n{\n            'v': 30,\n            'f': \"30\",\n        }],\n [{\n            'v': 205,\n            'f': \"205\",\n        },\n{\n            'v': 21,\n            'f': \"21\",\n        }],\n [{\n            'v': 210,\n            'f': \"210\",\n        },\n{\n            'v': 21,\n            'f': \"21\",\n        }],\n [{\n            'v': 213,\n            'f': \"213\",\n        },\n{\n            'v': 26,\n            'f': \"26\",\n        }],\n [{\n            'v': 233,\n            'f': \"233\",\n        },\n{\n            'v': 6,\n            'f': \"6\",\n        }],\n [{\n            'v': 247,\n            'f': \"247\",\n        },\n{\n            'v': 3,\n            'f': \"3\",\n        }],\n [{\n            'v': 250,\n            'f': \"250\",\n        },\n{\n            'v': 4,\n            'f': \"4\",\n        }],\n [{\n            'v': 259,\n            'f': \"259\",\n        },\n{\n            'v': 4,\n            'f': \"4\",\n        }],\n [{\n            'v': 260,\n            'f': \"260\",\n        },\n{\n            'v': 4,\n            'f': \"4\",\n        }],\n [{\n            'v': 261,\n            'f': \"261\",\n        },\n{\n            'v': 4,\n            'f': \"4\",\n        }],\n [{\n            'v': 281,\n            'f': \"281\",\n        },\n{\n            'v': 22,\n            'f': \"22\",\n        }],\n [{\n            'v': 285,\n            'f': \"285\",\n        },\n{\n            'v': 16,\n            'f': \"16\",\n        }],\n [{\n            'v': 287,\n            'f': \"287\",\n        },\n{\n            'v': 7,\n            'f': \"7\",\n        }],\n [{\n            'v': 294,\n            'f': \"294\",\n        },\n{\n            'v': 16,\n            'f': \"16\",\n        }],\n [{\n            'v': 296,\n            'f': \"296\",\n        },\n{\n            'v': 21,\n            'f': \"21\",\n        }],\n [{\n            'v': 298,\n            'f': \"298\",\n        },\n{\n            'v': 23,\n            'f': \"23\",\n        }],\n [{\n            'v': 298,\n            'f': \"298\",\n        },\n{\n            'v': 30,\n            'f': \"30\",\n        }],\n [{\n            'v': 298,\n            'f': \"298\",\n        },\n{\n            'v': 8,\n            'f': \"8\",\n        }],\n [{\n            'v': 299,\n            'f': \"299\",\n        },\n{\n            'v': 23,\n            'f': \"23\",\n        }],\n [{\n            'v': 328,\n            'f': \"328\",\n        },\n{\n            'v': 11,\n            'f': \"11\",\n        }],\n [{\n            'v': 329,\n            'f': \"329\",\n        },\n{\n            'v': 24,\n            'f': \"24\",\n        }],\n [{\n            'v': 329,\n            'f': \"329\",\n        },\n{\n            'v': 21,\n            'f': \"21\",\n        }],\n [{\n            'v': 334,\n            'f': \"334\",\n        },\n{\n            'v': 8,\n            'f': \"8\",\n        }],\n [{\n            'v': 363,\n            'f': \"363\",\n        },\n{\n            'v': 16,\n            'f': \"16\",\n        }],\n [{\n            'v': 367,\n            'f': \"367\",\n        },\n{\n            'v': 16,\n            'f': \"16\",\n        }],\n [{\n            'v': 370,\n            'f': \"370\",\n        },\n{\n            'v': 25,\n            'f': \"25\",\n        }],\n [{\n            'v': 371,\n            'f': \"371\",\n        },\n{\n            'v': 7,\n            'f': \"7\",\n        }],\n [{\n            'v': 382,\n            'f': \"382\",\n        },\n{\n            'v': 22,\n            'f': \"22\",\n        }],\n [{\n            'v': 382,\n            'f': \"382\",\n        },\n{\n            'v': 28,\n            'f': \"28\",\n        }],\n [{\n            'v': 408,\n            'f': \"408\",\n        },\n{\n            'v': 16,\n            'f': \"16\",\n        }],\n [{\n            'v': 409,\n            'f': \"409\",\n        },\n{\n            'v': 22,\n            'f': \"22\",\n        }],\n [{\n            'v': 417,\n            'f': \"417\",\n        },\n{\n            'v': 23,\n            'f': \"23\",\n        }],\n [{\n            'v': 420,\n            'f': \"420\",\n        },\n{\n            'v': 22,\n            'f': \"22\",\n        }],\n [{\n            'v': 424,\n            'f': \"424\",\n        },\n{\n            'v': 11,\n            'f': \"11\",\n        }],\n [{\n            'v': 427,\n            'f': \"427\",\n        },\n{\n            'v': 15,\n            'f': \"15\",\n        }],\n [{\n            'v': 438,\n            'f': \"438\",\n        },\n{\n            'v': 22,\n            'f': \"22\",\n        }],\n [{\n            'v': 439,\n            'f': \"439\",\n        },\n{\n            'v': 23,\n            'f': \"23\",\n        }],\n [{\n            'v': 444,\n            'f': \"444\",\n        },\n{\n            'v': 16,\n            'f': \"16\",\n        }],\n [{\n            'v': 445,\n            'f': \"445\",\n        },\n{\n            'v': 13,\n            'f': \"13\",\n        }],\n [{\n            'v': 448,\n            'f': \"448\",\n        },\n{\n            'v': 23,\n            'f': \"23\",\n        }],\n [{\n            'v': 453,\n            'f': \"453\",\n        },\n{\n            'v': 28,\n            'f': \"28\",\n        }],\n [{\n            'v': 459,\n            'f': \"459\",\n        },\n{\n            'v': 25,\n            'f': \"25\",\n        }],\n [{\n            'v': 459,\n            'f': \"459\",\n        },\n{\n            'v': 11,\n            'f': \"11\",\n        }],\n [{\n            'v': 460,\n            'f': \"460\",\n        },\n{\n            'v': 25,\n            'f': \"25\",\n        }],\n [{\n            'v': 464,\n            'f': \"464\",\n        },\n{\n            'v': 21,\n            'f': \"21\",\n        }],\n [{\n            'v': 466,\n            'f': \"466\",\n        },\n{\n            'v': 3,\n            'f': \"3\",\n        }],\n [{\n            'v': 472,\n            'f': \"472\",\n        },\n{\n            'v': 14,\n            'f': \"14\",\n        }],\n [{\n            'v': 474,\n            'f': \"474\",\n        },\n{\n            'v': 23,\n            'f': \"23\",\n        }],\n [{\n            'v': 477,\n            'f': \"477\",\n        },\n{\n            'v': 16,\n            'f': \"16\",\n        }],\n [{\n            'v': 486,\n            'f': \"486\",\n        },\n{\n            'v': 23,\n            'f': \"23\",\n        }],\n [{\n            'v': 490,\n            'f': \"490\",\n        },\n{\n            'v': 30,\n            'f': \"30\",\n        }],\n [{\n            'v': 509,\n            'f': \"509\",\n        },\n{\n            'v': 22,\n            'f': \"22\",\n        }],\n [{\n            'v': 512,\n            'f': \"512\",\n        },\n{\n            'v': 7,\n            'f': \"7\",\n        }],\n [{\n            'v': 513,\n            'f': \"513\",\n        },\n{\n            'v': 23,\n            'f': \"23\",\n        }],\n [{\n            'v': 515,\n            'f': \"515\",\n        },\n{\n            'v': 11,\n            'f': \"11\",\n        }],\n [{\n            'v': 518,\n            'f': \"518\",\n        },\n{\n            'v': 21,\n            'f': \"21\",\n        }],\n [{\n            'v': 525,\n            'f': \"525\",\n        },\n{\n            'v': 7,\n            'f': \"7\",\n        }],\n [{\n            'v': 529,\n            'f': \"529\",\n        },\n{\n            'v': 8,\n            'f': \"8\",\n        }],\n [{\n            'v': 547,\n            'f': \"547\",\n        },\n{\n            'v': 28,\n            'f': \"28\",\n        }],\n [{\n            'v': 548,\n            'f': \"548\",\n        },\n{\n            'v': 21,\n            'f': \"21\",\n        }],\n [{\n            'v': 549,\n            'f': \"549\",\n        },\n{\n            'v': 1,\n            'f': \"1\",\n        }],\n [{\n            'v': 549,\n            'f': \"549\",\n        },\n{\n            'v': 8,\n            'f': \"8\",\n        }],\n [{\n            'v': 549,\n            'f': \"549\",\n        },\n{\n            'v': 21,\n            'f': \"21\",\n        }],\n [{\n            'v': 550,\n            'f': \"550\",\n        },\n{\n            'v': 1,\n            'f': \"1\",\n        }],\n [{\n            'v': 551,\n            'f': \"551\",\n        },\n{\n            'v': 22,\n            'f': \"22\",\n        }],\n [{\n            'v': 553,\n            'f': \"553\",\n        },\n{\n            'v': 22,\n            'f': \"22\",\n        }],\n [{\n            'v': 555,\n            'f': \"555\",\n        },\n{\n            'v': 30,\n            'f': \"30\",\n        }],\n [{\n            'v': 560,\n            'f': \"560\",\n        },\n{\n            'v': 24,\n            'f': \"24\",\n        }],\n [{\n            'v': 562,\n            'f': \"562\",\n        },\n{\n            'v': 22,\n            'f': \"22\",\n        }],\n [{\n            'v': 564,\n            'f': \"564\",\n        },\n{\n            'v': 23,\n            'f': \"23\",\n        }],\n [{\n            'v': 574,\n            'f': \"574\",\n        },\n{\n            'v': 6,\n            'f': \"6\",\n        }],\n [{\n            'v': 587,\n            'f': \"587\",\n        },\n{\n            'v': 2,\n            'f': \"2\",\n        }],\n [{\n            'v': 588,\n            'f': \"588\",\n        },\n{\n            'v': 6,\n            'f': \"6\",\n        }],\n [{\n            'v': 608,\n            'f': \"608\",\n        },\n{\n            'v': 16,\n            'f': \"16\",\n        }],\n [{\n            'v': 612,\n            'f': \"612\",\n        },\n{\n            'v': 7,\n            'f': \"7\",\n        }],\n [{\n            'v': 624,\n            'f': \"624\",\n        },\n{\n            'v': 23,\n            'f': \"23\",\n        }],\n [{\n            'v': 634,\n            'f': \"634\",\n        },\n{\n            'v': 22,\n            'f': \"22\",\n        }],\n [{\n            'v': 638,\n            'f': \"638\",\n        },\n{\n            'v': 4,\n            'f': \"4\",\n        }],\n [{\n            'v': 641,\n            'f': \"641\",\n        },\n{\n            'v': 30,\n            'f': \"30\",\n        }],\n [{\n            'v': 658,\n            'f': \"658\",\n        },\n{\n            'v': 22,\n            'f': \"22\",\n        }]],\n        columns: [[\"number\", \"seqID\"], [\"number\", \"poiID\"]],\n        columnOptions: [],\n        rowsPerPage: 10,\n        helpUrl: \"https://colab.research.google.com/notebooks/data_table.ipynb\",\n        suppressOutputScrolling: true,\n        minimumWidth: undefined,\n      });\n    ",
      "text/html": [
       "<div>\n",
       "<style scoped>\n",
       "    .dataframe tbody tr th:only-of-type {\n",
       "        vertical-align: middle;\n",
       "    }\n",
       "\n",
       "    .dataframe tbody tr th {\n",
       "        vertical-align: top;\n",
       "    }\n",
       "\n",
       "    .dataframe thead th {\n",
       "        text-align: right;\n",
       "    }\n",
       "</style>\n",
       "<table border=\"1\" class=\"dataframe\">\n",
       "  <thead>\n",
       "    <tr style=\"text-align: right;\">\n",
       "      <th></th>\n",
       "      <th>seqID</th>\n",
       "      <th>poiID</th>\n",
       "    </tr>\n",
       "  </thead>\n",
       "  <tbody>\n",
       "    <tr>\n",
       "      <th>0</th>\n",
       "      <td>9</td>\n",
       "      <td>24</td>\n",
       "    </tr>\n",
       "    <tr>\n",
       "      <th>1</th>\n",
       "      <td>16</td>\n",
       "      <td>24</td>\n",
       "    </tr>\n",
       "    <tr>\n",
       "      <th>2</th>\n",
       "      <td>26</td>\n",
       "      <td>22</td>\n",
       "    </tr>\n",
       "    <tr>\n",
       "      <th>3</th>\n",
       "      <td>29</td>\n",
       "      <td>25</td>\n",
       "    </tr>\n",
       "    <tr>\n",
       "      <th>4</th>\n",
       "      <td>54</td>\n",
       "      <td>25</td>\n",
       "    </tr>\n",
       "    <tr>\n",
       "      <th>...</th>\n",
       "      <td>...</td>\n",
       "      <td>...</td>\n",
       "    </tr>\n",
       "    <tr>\n",
       "      <th>95</th>\n",
       "      <td>624</td>\n",
       "      <td>23</td>\n",
       "    </tr>\n",
       "    <tr>\n",
       "      <th>96</th>\n",
       "      <td>634</td>\n",
       "      <td>22</td>\n",
       "    </tr>\n",
       "    <tr>\n",
       "      <th>97</th>\n",
       "      <td>638</td>\n",
       "      <td>4</td>\n",
       "    </tr>\n",
       "    <tr>\n",
       "      <th>98</th>\n",
       "      <td>641</td>\n",
       "      <td>30</td>\n",
       "    </tr>\n",
       "    <tr>\n",
       "      <th>99</th>\n",
       "      <td>658</td>\n",
       "      <td>22</td>\n",
       "    </tr>\n",
       "  </tbody>\n",
       "</table>\n",
       "<p>100 rows × 2 columns</p>\n",
       "</div>"
      ],
      "text/plain": [
       "<google.colab.data_table.DataTable object>"
      ]
     },
     "execution_count": 20,
     "metadata": {},
     "output_type": "execute_result"
    }
   ],
   "source": [
    "%%sql\n",
    "create or replace temp view POI_sequence as \n",
    "select distinct seqID, poiID\n",
    "from user_visits;\n",
    "\n",
    "select * from POI_sequence"
   ]
  },
  {
   "cell_type": "markdown",
   "metadata": {
    "id": "ZWSe1Q_KCH4T"
   },
   "source": [
    "### Les lieux visités : POI\n",
    "Ils sont appelés *Point Of Interest*"
   ]
  },
  {
   "cell_type": "code",
   "execution_count": 21,
   "metadata": {
    "colab": {
     "base_uri": "https://localhost:8080/"
    },
    "id": "e-9XGdbAA5Qq",
    "outputId": "ea77fcdc-5e89-4e3e-c9c9-4be37705a200"
   },
   "outputs": [
    {
     "name": "stdout",
     "output_type": "stream",
     "text": [
      "+-----+------------------+--------+---------+-----+\n",
      "|poiID|           poiName|latitude|longitude|theme|\n",
      "+-----+------------------+--------+---------+-----+\n",
      "|    1| Air_Canada_Centre|43.64333|-79.37917|Sport|\n",
      "|    2|         BMO_Field|43.63278|-79.41861|Sport|\n",
      "|    3|Maple_Leaf_Gardens|43.66222|-79.38028|Sport|\n",
      "+-----+------------------+--------+---------+-----+\n",
      "only showing top 3 rows\n",
      "\n",
      "root\n",
      " |-- poiID: long (nullable = true)\n",
      " |-- poiName: string (nullable = true)\n",
      " |-- latitude: double (nullable = true)\n",
      " |-- longitude: double (nullable = true)\n",
      " |-- theme: string (nullable = true)\n",
      "\n"
     ]
    }
   ],
   "source": [
    "poi_schema = \"poiID long, poiName String, latitude double, longitude double, theme String\"\n",
    "\n",
    "poi = spark.read.option(\"header\", \"True\").option(\"delimiter\", \";\").csv(local_dir + \"/\" + \"POI-Toro.csv\", schema = poi_schema)\n",
    "poi.show(3)\n",
    "poi.printSchema()\n",
    "poi.createOrReplaceTempView(\"POI\")"
   ]
  },
  {
   "cell_type": "code",
   "execution_count": 22,
   "metadata": {
    "colab": {
     "base_uri": "https://localhost:8080/",
     "height": 315
    },
    "id": "bGeoQ73VeylD",
    "outputId": "3650ee5c-dcaa-4065-8e6e-46923415e55f"
   },
   "outputs": [
    {
     "data": {
      "application/vnd.google.colaboratory.module+javascript": "\n      import \"https://ssl.gstatic.com/colaboratory/data_table/a8bd4d5e58f96183/data_table.js\";\n\n      window.createDataTable({\n        data: [[{\n            'v': 1,\n            'f': \"1\",\n        },\n\"Air_Canada_Centre\",\n{\n            'v': 43.64333,\n            'f': \"43.64333\",\n        },\n{\n            'v': -79.37917,\n            'f': \"-79.37917\",\n        },\n\"Sport\"],\n [{\n            'v': 2,\n            'f': \"2\",\n        },\n\"BMO_Field\",\n{\n            'v': 43.63278,\n            'f': \"43.63278\",\n        },\n{\n            'v': -79.41861,\n            'f': \"-79.41861\",\n        },\n\"Sport\"],\n [{\n            'v': 3,\n            'f': \"3\",\n        },\n\"Maple_Leaf_Gardens\",\n{\n            'v': 43.66222,\n            'f': \"43.66222\",\n        },\n{\n            'v': -79.38028,\n            'f': \"-79.38028\",\n        },\n\"Sport\"],\n [{\n            'v': 4,\n            'f': \"4\",\n        },\n\"Rogers_Centre\",\n{\n            'v': 43.64139,\n            'f': \"43.64139\",\n        },\n{\n            'v': -79.38917,\n            'f': \"-79.38917\",\n        },\n\"Sport\"],\n [{\n            'v': 5,\n            'f': \"5\",\n        },\n\"Woodbine_Racetrack\",\n{\n            'v': 43.712525,\n            'f': \"43.712525\",\n        },\n{\n            'v': -79.6020417,\n            'f': \"-79.6020417\",\n        },\n\"Sport\"],\n [{\n            'v': 6,\n            'f': \"6\",\n        },\n\"Art_Gallery_of_Ontario\",\n{\n            'v': 43.65389,\n            'f': \"43.65389\",\n        },\n{\n            'v': -79.39278,\n            'f': \"-79.39278\",\n        },\n\"Cultural\"],\n [{\n            'v': 7,\n            'f': \"7\",\n        },\n\"Hockey_Hall_of_Fame\",\n{\n            'v': 43.646976,\n            'f': \"43.646976\",\n        },\n{\n            'v': -79.377253,\n            'f': \"-79.377253\",\n        },\n\"Cultural\"],\n [{\n            'v': 8,\n            'f': \"8\",\n        },\n\"Ripley%27s_Aquarium_of_Canada\",\n{\n            'v': 43.642481,\n            'f': \"43.642481\",\n        },\n{\n            'v': -79.38605,\n            'f': \"-79.38605\",\n        },\n\"Cultural\"],\n [{\n            'v': 9,\n            'f': \"9\",\n        },\n\"Ontario_Science_Centre\",\n{\n            'v': 43.71667,\n            'f': \"43.71667\",\n        },\n{\n            'v': -79.33833,\n            'f': \"-79.33833\",\n        },\n\"Cultural\"],\n [{\n            'v': 10,\n            'f': \"10\",\n        },\n\"Riverdale_Farm\",\n{\n            'v': 43.667111,\n            'f': \"43.667111\",\n        },\n{\n            'v': -79.361294,\n            'f': \"-79.361294\",\n        },\n\"Cultural\"],\n [{\n            'v': 11,\n            'f': \"11\",\n        },\n\"Royal_Ontario_Museum\",\n{\n            'v': 43.6675,\n            'f': \"43.6675\",\n        },\n{\n            'v': -79.39417,\n            'f': \"-79.39417\",\n        },\n\"Cultural\"],\n [{\n            'v': 12,\n            'f': \"12\",\n        },\n\"Toronto_Zoo\",\n{\n            'v': 43.8202778,\n            'f': \"43.8202778\",\n        },\n{\n            'v': -79.1827778,\n            'f': \"-79.1827778\",\n        },\n\"Cultural\"],\n [{\n            'v': 13,\n            'f': \"13\",\n        },\n\"Casa_Loma\",\n{\n            'v': 43.6781,\n            'f': \"43.6781\",\n        },\n{\n            'v': -79.4095,\n            'f': \"-79.4095\",\n        },\n\"Cultural\"],\n [{\n            'v': 14,\n            'f': \"14\",\n        },\n\"Canadian_National_Exhibition\",\n{\n            'v': 43.63333,\n            'f': \"43.63333\",\n        },\n{\n            'v': -79.41667,\n            'f': \"-79.41667\",\n        },\n\"Amusement\"],\n [{\n            'v': 15,\n            'f': \"15\",\n        },\n\"Centreville_Amusement_Park\",\n{\n            'v': 43.6203083,\n            'f': \"43.6203083\",\n        },\n{\n            'v': -79.3736778,\n            'f': \"-79.3736778\",\n        },\n\"Amusement\"],\n [{\n            'v': 16,\n            'f': \"16\",\n        },\n\"CN_Tower\",\n{\n            'v': 43.6426,\n            'f': \"43.6426\",\n        },\n{\n            'v': -79.3871,\n            'f': \"-79.3871\",\n        },\n\"Amusement\"],\n [{\n            'v': 17,\n            'f': \"17\",\n        },\n\"Exhibition_Place\",\n{\n            'v': 43.63278,\n            'f': \"43.63278\",\n        },\n{\n            'v': -79.41611,\n            'f': \"-79.41611\",\n        },\n\"Amusement\"],\n [{\n            'v': 18,\n            'f': \"18\",\n        },\n\"Sunnyside_Amusement_Park\",\n{\n            'v': 43.637923,\n            'f': \"43.637923\",\n        },\n{\n            'v': -79.450786,\n            'f': \"-79.450786\",\n        },\n\"Amusement\"],\n [{\n            'v': 19,\n            'f': \"19\",\n        },\n\"Toronto_Islands\",\n{\n            'v': 43.62083,\n            'f': \"43.62083\",\n        },\n{\n            'v': -79.37861,\n            'f': \"-79.37861\",\n        },\n\"Beach\"],\n [{\n            'v': 20,\n            'f': \"20\",\n        },\n\"High_Park\",\n{\n            'v': 43.646821,\n            'f': \"43.646821\",\n        },\n{\n            'v': -79.462996,\n            'f': \"-79.462996\",\n        },\n\"Beach\"],\n [{\n            'v': 21,\n            'f': \"21\",\n        },\n\"Yonge-Dundas_Square\",\n{\n            'v': 43.65611,\n            'f': \"43.65611\",\n        },\n{\n            'v': -79.38028,\n            'f': \"-79.38028\",\n        },\n\"Beach\"],\n [{\n            'v': 22,\n            'f': \"22\",\n        },\n\"Nathan_Phillips_Square\",\n{\n            'v': 43.6525,\n            'f': \"43.6525\",\n        },\n{\n            'v': -79.38361,\n            'f': \"-79.38361\",\n        },\n\"Beach\"],\n [{\n            'v': 23,\n            'f': \"23\",\n        },\n\"Toronto_Eaton_Centre\",\n{\n            'v': 43.653982,\n            'f': \"43.653982\",\n        },\n{\n            'v': -79.380319,\n            'f': \"-79.380319\",\n        },\n\"Shopping\"],\n [{\n            'v': 24,\n            'f': \"24\",\n        },\n\"Harbourfront_Centre\",\n{\n            'v': 43.63849,\n            'f': \"43.63849\",\n        },\n{\n            'v': -79.382068,\n            'f': \"-79.382068\",\n        },\n\"Shopping\"],\n [{\n            'v': 25,\n            'f': \"25\",\n        },\n\"Kensington_Market\",\n{\n            'v': 43.6547722,\n            'f': \"43.6547722\",\n        },\n{\n            'v': -79.4006778,\n            'f': \"-79.4006778\",\n        },\n\"Shopping\"],\n [{\n            'v': 26,\n            'f': \"26\",\n        },\n\"Yorkdale_Shopping_Centre\",\n{\n            'v': 43.725599,\n            'f': \"43.725599\",\n        },\n{\n            'v': -79.452696,\n            'f': \"-79.452696\",\n        },\n\"Shopping\"],\n [{\n            'v': 27,\n            'f': \"27\",\n        },\n\"Yorkville,_Toronto\",\n{\n            'v': 43.67028,\n            'f': \"43.67028\",\n        },\n{\n            'v': -79.39111,\n            'f': \"-79.39111\",\n        },\n\"Shopping\"],\n [{\n            'v': 28,\n            'f': \"28\",\n        },\n\"Old_City_Hall_(Toronto)\",\n{\n            'v': 43.6525,\n            'f': \"43.6525\",\n        },\n{\n            'v': -79.38167,\n            'f': \"-79.38167\",\n        },\n\"Structure\"],\n [{\n            'v': 29,\n            'f': \"29\",\n        },\n\"Ontario_Legislative_Building\",\n{\n            'v': 43.662447,\n            'f': \"43.662447\",\n        },\n{\n            'v': -79.391708,\n            'f': \"-79.391708\",\n        },\n\"Structure\"],\n [{\n            'v': 30,\n            'f': \"30\",\n        },\n\"Union_Station_(Toronto)\",\n{\n            'v': 43.64528,\n            'f': \"43.64528\",\n        },\n{\n            'v': -79.38056,\n            'f': \"-79.38056\",\n        },\n\"Structure\"]],\n        columns: [[\"number\", \"poiID\"], [\"string\", \"poiName\"], [\"number\", \"latitude\"], [\"number\", \"longitude\"], [\"string\", \"theme\"]],\n        columnOptions: [],\n        rowsPerPage: 10,\n        helpUrl: \"https://colab.research.google.com/notebooks/data_table.ipynb\",\n        suppressOutputScrolling: true,\n        minimumWidth: undefined,\n      });\n    ",
      "text/html": [
       "<div>\n",
       "<style scoped>\n",
       "    .dataframe tbody tr th:only-of-type {\n",
       "        vertical-align: middle;\n",
       "    }\n",
       "\n",
       "    .dataframe tbody tr th {\n",
       "        vertical-align: top;\n",
       "    }\n",
       "\n",
       "    .dataframe thead th {\n",
       "        text-align: right;\n",
       "    }\n",
       "</style>\n",
       "<table border=\"1\" class=\"dataframe\">\n",
       "  <thead>\n",
       "    <tr style=\"text-align: right;\">\n",
       "      <th></th>\n",
       "      <th>poiID</th>\n",
       "      <th>poiName</th>\n",
       "      <th>latitude</th>\n",
       "      <th>longitude</th>\n",
       "      <th>theme</th>\n",
       "    </tr>\n",
       "  </thead>\n",
       "  <tbody>\n",
       "    <tr>\n",
       "      <th>0</th>\n",
       "      <td>1</td>\n",
       "      <td>Air_Canada_Centre</td>\n",
       "      <td>43.643330</td>\n",
       "      <td>-79.379170</td>\n",
       "      <td>Sport</td>\n",
       "    </tr>\n",
       "    <tr>\n",
       "      <th>1</th>\n",
       "      <td>2</td>\n",
       "      <td>BMO_Field</td>\n",
       "      <td>43.632780</td>\n",
       "      <td>-79.418610</td>\n",
       "      <td>Sport</td>\n",
       "    </tr>\n",
       "    <tr>\n",
       "      <th>2</th>\n",
       "      <td>3</td>\n",
       "      <td>Maple_Leaf_Gardens</td>\n",
       "      <td>43.662220</td>\n",
       "      <td>-79.380280</td>\n",
       "      <td>Sport</td>\n",
       "    </tr>\n",
       "    <tr>\n",
       "      <th>3</th>\n",
       "      <td>4</td>\n",
       "      <td>Rogers_Centre</td>\n",
       "      <td>43.641390</td>\n",
       "      <td>-79.389170</td>\n",
       "      <td>Sport</td>\n",
       "    </tr>\n",
       "    <tr>\n",
       "      <th>4</th>\n",
       "      <td>5</td>\n",
       "      <td>Woodbine_Racetrack</td>\n",
       "      <td>43.712525</td>\n",
       "      <td>-79.602042</td>\n",
       "      <td>Sport</td>\n",
       "    </tr>\n",
       "    <tr>\n",
       "      <th>5</th>\n",
       "      <td>6</td>\n",
       "      <td>Art_Gallery_of_Ontario</td>\n",
       "      <td>43.653890</td>\n",
       "      <td>-79.392780</td>\n",
       "      <td>Cultural</td>\n",
       "    </tr>\n",
       "    <tr>\n",
       "      <th>6</th>\n",
       "      <td>7</td>\n",
       "      <td>Hockey_Hall_of_Fame</td>\n",
       "      <td>43.646976</td>\n",
       "      <td>-79.377253</td>\n",
       "      <td>Cultural</td>\n",
       "    </tr>\n",
       "    <tr>\n",
       "      <th>7</th>\n",
       "      <td>8</td>\n",
       "      <td>Ripley%27s_Aquarium_of_Canada</td>\n",
       "      <td>43.642481</td>\n",
       "      <td>-79.386050</td>\n",
       "      <td>Cultural</td>\n",
       "    </tr>\n",
       "    <tr>\n",
       "      <th>8</th>\n",
       "      <td>9</td>\n",
       "      <td>Ontario_Science_Centre</td>\n",
       "      <td>43.716670</td>\n",
       "      <td>-79.338330</td>\n",
       "      <td>Cultural</td>\n",
       "    </tr>\n",
       "    <tr>\n",
       "      <th>9</th>\n",
       "      <td>10</td>\n",
       "      <td>Riverdale_Farm</td>\n",
       "      <td>43.667111</td>\n",
       "      <td>-79.361294</td>\n",
       "      <td>Cultural</td>\n",
       "    </tr>\n",
       "    <tr>\n",
       "      <th>10</th>\n",
       "      <td>11</td>\n",
       "      <td>Royal_Ontario_Museum</td>\n",
       "      <td>43.667500</td>\n",
       "      <td>-79.394170</td>\n",
       "      <td>Cultural</td>\n",
       "    </tr>\n",
       "    <tr>\n",
       "      <th>11</th>\n",
       "      <td>12</td>\n",
       "      <td>Toronto_Zoo</td>\n",
       "      <td>43.820278</td>\n",
       "      <td>-79.182778</td>\n",
       "      <td>Cultural</td>\n",
       "    </tr>\n",
       "    <tr>\n",
       "      <th>12</th>\n",
       "      <td>13</td>\n",
       "      <td>Casa_Loma</td>\n",
       "      <td>43.678100</td>\n",
       "      <td>-79.409500</td>\n",
       "      <td>Cultural</td>\n",
       "    </tr>\n",
       "    <tr>\n",
       "      <th>13</th>\n",
       "      <td>14</td>\n",
       "      <td>Canadian_National_Exhibition</td>\n",
       "      <td>43.633330</td>\n",
       "      <td>-79.416670</td>\n",
       "      <td>Amusement</td>\n",
       "    </tr>\n",
       "    <tr>\n",
       "      <th>14</th>\n",
       "      <td>15</td>\n",
       "      <td>Centreville_Amusement_Park</td>\n",
       "      <td>43.620308</td>\n",
       "      <td>-79.373678</td>\n",
       "      <td>Amusement</td>\n",
       "    </tr>\n",
       "    <tr>\n",
       "      <th>15</th>\n",
       "      <td>16</td>\n",
       "      <td>CN_Tower</td>\n",
       "      <td>43.642600</td>\n",
       "      <td>-79.387100</td>\n",
       "      <td>Amusement</td>\n",
       "    </tr>\n",
       "    <tr>\n",
       "      <th>16</th>\n",
       "      <td>17</td>\n",
       "      <td>Exhibition_Place</td>\n",
       "      <td>43.632780</td>\n",
       "      <td>-79.416110</td>\n",
       "      <td>Amusement</td>\n",
       "    </tr>\n",
       "    <tr>\n",
       "      <th>17</th>\n",
       "      <td>18</td>\n",
       "      <td>Sunnyside_Amusement_Park</td>\n",
       "      <td>43.637923</td>\n",
       "      <td>-79.450786</td>\n",
       "      <td>Amusement</td>\n",
       "    </tr>\n",
       "    <tr>\n",
       "      <th>18</th>\n",
       "      <td>19</td>\n",
       "      <td>Toronto_Islands</td>\n",
       "      <td>43.620830</td>\n",
       "      <td>-79.378610</td>\n",
       "      <td>Beach</td>\n",
       "    </tr>\n",
       "    <tr>\n",
       "      <th>19</th>\n",
       "      <td>20</td>\n",
       "      <td>High_Park</td>\n",
       "      <td>43.646821</td>\n",
       "      <td>-79.462996</td>\n",
       "      <td>Beach</td>\n",
       "    </tr>\n",
       "    <tr>\n",
       "      <th>20</th>\n",
       "      <td>21</td>\n",
       "      <td>Yonge-Dundas_Square</td>\n",
       "      <td>43.656110</td>\n",
       "      <td>-79.380280</td>\n",
       "      <td>Beach</td>\n",
       "    </tr>\n",
       "    <tr>\n",
       "      <th>21</th>\n",
       "      <td>22</td>\n",
       "      <td>Nathan_Phillips_Square</td>\n",
       "      <td>43.652500</td>\n",
       "      <td>-79.383610</td>\n",
       "      <td>Beach</td>\n",
       "    </tr>\n",
       "    <tr>\n",
       "      <th>22</th>\n",
       "      <td>23</td>\n",
       "      <td>Toronto_Eaton_Centre</td>\n",
       "      <td>43.653982</td>\n",
       "      <td>-79.380319</td>\n",
       "      <td>Shopping</td>\n",
       "    </tr>\n",
       "    <tr>\n",
       "      <th>23</th>\n",
       "      <td>24</td>\n",
       "      <td>Harbourfront_Centre</td>\n",
       "      <td>43.638490</td>\n",
       "      <td>-79.382068</td>\n",
       "      <td>Shopping</td>\n",
       "    </tr>\n",
       "    <tr>\n",
       "      <th>24</th>\n",
       "      <td>25</td>\n",
       "      <td>Kensington_Market</td>\n",
       "      <td>43.654772</td>\n",
       "      <td>-79.400678</td>\n",
       "      <td>Shopping</td>\n",
       "    </tr>\n",
       "    <tr>\n",
       "      <th>25</th>\n",
       "      <td>26</td>\n",
       "      <td>Yorkdale_Shopping_Centre</td>\n",
       "      <td>43.725599</td>\n",
       "      <td>-79.452696</td>\n",
       "      <td>Shopping</td>\n",
       "    </tr>\n",
       "    <tr>\n",
       "      <th>26</th>\n",
       "      <td>27</td>\n",
       "      <td>Yorkville,_Toronto</td>\n",
       "      <td>43.670280</td>\n",
       "      <td>-79.391110</td>\n",
       "      <td>Shopping</td>\n",
       "    </tr>\n",
       "    <tr>\n",
       "      <th>27</th>\n",
       "      <td>28</td>\n",
       "      <td>Old_City_Hall_(Toronto)</td>\n",
       "      <td>43.652500</td>\n",
       "      <td>-79.381670</td>\n",
       "      <td>Structure</td>\n",
       "    </tr>\n",
       "    <tr>\n",
       "      <th>28</th>\n",
       "      <td>29</td>\n",
       "      <td>Ontario_Legislative_Building</td>\n",
       "      <td>43.662447</td>\n",
       "      <td>-79.391708</td>\n",
       "      <td>Structure</td>\n",
       "    </tr>\n",
       "    <tr>\n",
       "      <th>29</th>\n",
       "      <td>30</td>\n",
       "      <td>Union_Station_(Toronto)</td>\n",
       "      <td>43.645280</td>\n",
       "      <td>-79.380560</td>\n",
       "      <td>Structure</td>\n",
       "    </tr>\n",
       "  </tbody>\n",
       "</table>\n",
       "</div>"
      ],
      "text/plain": [
       "<google.colab.data_table.DataTable object>"
      ]
     },
     "execution_count": 22,
     "metadata": {},
     "output_type": "execute_result"
    }
   ],
   "source": [
    "%%sql\n",
    "cache table POI;\n",
    "\n",
    "SELECT * \n",
    "FROM POI"
   ]
  },
  {
   "cell_type": "markdown",
   "metadata": {
    "id": "yTyTy_DVd_Ld"
   },
   "source": [
    "la liste des thèmes"
   ]
  },
  {
   "cell_type": "code",
   "execution_count": 23,
   "metadata": {
    "colab": {
     "base_uri": "https://localhost:8080/",
     "height": 219
    },
    "id": "DhBjBGf5IUer",
    "outputId": "403e920a-3a31-49c2-bf4c-6ee98f234a33"
   },
   "outputs": [
    {
     "data": {
      "application/vnd.google.colaboratory.module+javascript": "\n      import \"https://ssl.gstatic.com/colaboratory/data_table/a8bd4d5e58f96183/data_table.js\";\n\n      window.createDataTable({\n        data: [[\"Amusement\"],\n [\"Beach\"],\n [\"Cultural\"],\n [\"Shopping\"],\n [\"Sport\"],\n [\"Structure\"]],\n        columns: [[\"string\", \"theme\"]],\n        columnOptions: [],\n        rowsPerPage: 10,\n        helpUrl: \"https://colab.research.google.com/notebooks/data_table.ipynb\",\n        suppressOutputScrolling: true,\n        minimumWidth: undefined,\n      });\n    ",
      "text/html": [
       "<div>\n",
       "<style scoped>\n",
       "    .dataframe tbody tr th:only-of-type {\n",
       "        vertical-align: middle;\n",
       "    }\n",
       "\n",
       "    .dataframe tbody tr th {\n",
       "        vertical-align: top;\n",
       "    }\n",
       "\n",
       "    .dataframe thead th {\n",
       "        text-align: right;\n",
       "    }\n",
       "</style>\n",
       "<table border=\"1\" class=\"dataframe\">\n",
       "  <thead>\n",
       "    <tr style=\"text-align: right;\">\n",
       "      <th></th>\n",
       "      <th>theme</th>\n",
       "    </tr>\n",
       "  </thead>\n",
       "  <tbody>\n",
       "    <tr>\n",
       "      <th>0</th>\n",
       "      <td>Amusement</td>\n",
       "    </tr>\n",
       "    <tr>\n",
       "      <th>1</th>\n",
       "      <td>Beach</td>\n",
       "    </tr>\n",
       "    <tr>\n",
       "      <th>2</th>\n",
       "      <td>Cultural</td>\n",
       "    </tr>\n",
       "    <tr>\n",
       "      <th>3</th>\n",
       "      <td>Shopping</td>\n",
       "    </tr>\n",
       "    <tr>\n",
       "      <th>4</th>\n",
       "      <td>Sport</td>\n",
       "    </tr>\n",
       "    <tr>\n",
       "      <th>5</th>\n",
       "      <td>Structure</td>\n",
       "    </tr>\n",
       "  </tbody>\n",
       "</table>\n",
       "</div>"
      ],
      "text/plain": [
       "<google.colab.data_table.DataTable object>"
      ]
     },
     "execution_count": 23,
     "metadata": {},
     "output_type": "execute_result"
    }
   ],
   "source": [
    "%%sql\n",
    "create or replace temp view themes as\n",
    "select distinct theme\n",
    "from POI\n",
    "order by theme;\n",
    "\n",
    "cache table themes;\n",
    "\n",
    "select *\n",
    "from themes"
   ]
  },
  {
   "cell_type": "markdown",
   "metadata": {
    "application/vnd.databricks.v1+cell": {
     "inputWidgets": {},
     "nuid": "2df59fb1-4bd6-4d74-9ca4-d4959934dd9d",
     "showTitle": false,
     "title": ""
    },
    "id": "qkCz6l14GpLo"
   },
   "source": [
    "## Exercice 1"
   ]
  },
  {
   "cell_type": "markdown",
   "metadata": {
    "id": "TCXIej13EfHx"
   },
   "source": [
    "#### 1) Les 10 POI les plus photographiés\n",
    "indications: on peut compléter une requête SQL avec *LIMIT 10* pour borner la taille résultat (partiel) souhaité."
   ]
  },
  {
   "cell_type": "code",
   "execution_count": 24,
   "metadata": {
    "colab": {
     "base_uri": "https://localhost:8080/",
     "height": 305
    },
    "id": "1RZRrj0TIHAB",
    "outputId": "24e5514d-ec5a-48f8-bf42-7af1540bcf20"
   },
   "outputs": [
    {
     "data": {
      "application/vnd.google.colaboratory.module+javascript": "\n      import \"https://ssl.gstatic.com/colaboratory/data_table/a8bd4d5e58f96183/data_table.js\";\n\n      window.createDataTable({\n        data: [[{\n            'v': 11,\n            'f': \"11\",\n        },\n{\n            'v': 4139,\n            'f': \"4139\",\n        }],\n [{\n            'v': 22,\n            'f': \"22\",\n        },\n{\n            'v': 3603,\n            'f': \"3603\",\n        }],\n [{\n            'v': 21,\n            'f': \"21\",\n        },\n{\n            'v': 3591,\n            'f': \"3591\",\n        }],\n [{\n            'v': 16,\n            'f': \"16\",\n        },\n{\n            'v': 3553,\n            'f': \"3553\",\n        }],\n [{\n            'v': 1,\n            'f': \"1\",\n        },\n{\n            'v': 3506,\n            'f': \"3506\",\n        }],\n [{\n            'v': 4,\n            'f': \"4\",\n        },\n{\n            'v': 3056,\n            'f': \"3056\",\n        }],\n [{\n            'v': 7,\n            'f': \"7\",\n        },\n{\n            'v': 2053,\n            'f': \"2053\",\n        }],\n [{\n            'v': 23,\n            'f': \"23\",\n        },\n{\n            'v': 1866,\n            'f': \"1866\",\n        }],\n [{\n            'v': 8,\n            'f': \"8\",\n        },\n{\n            'v': 1736,\n            'f': \"1736\",\n        }],\n [{\n            'v': 25,\n            'f': \"25\",\n        },\n{\n            'v': 1701,\n            'f': \"1701\",\n        }]],\n        columns: [[\"number\", \"poiID\"], [\"number\", \"nbPhoto\"]],\n        columnOptions: [],\n        rowsPerPage: 10,\n        helpUrl: \"https://colab.research.google.com/notebooks/data_table.ipynb\",\n        suppressOutputScrolling: true,\n        minimumWidth: undefined,\n      });\n    ",
      "text/html": [
       "<div>\n",
       "<style scoped>\n",
       "    .dataframe tbody tr th:only-of-type {\n",
       "        vertical-align: middle;\n",
       "    }\n",
       "\n",
       "    .dataframe tbody tr th {\n",
       "        vertical-align: top;\n",
       "    }\n",
       "\n",
       "    .dataframe thead th {\n",
       "        text-align: right;\n",
       "    }\n",
       "</style>\n",
       "<table border=\"1\" class=\"dataframe\">\n",
       "  <thead>\n",
       "    <tr style=\"text-align: right;\">\n",
       "      <th></th>\n",
       "      <th>poiID</th>\n",
       "      <th>nbPhoto</th>\n",
       "    </tr>\n",
       "  </thead>\n",
       "  <tbody>\n",
       "    <tr>\n",
       "      <th>0</th>\n",
       "      <td>11</td>\n",
       "      <td>4139</td>\n",
       "    </tr>\n",
       "    <tr>\n",
       "      <th>1</th>\n",
       "      <td>22</td>\n",
       "      <td>3603</td>\n",
       "    </tr>\n",
       "    <tr>\n",
       "      <th>2</th>\n",
       "      <td>21</td>\n",
       "      <td>3591</td>\n",
       "    </tr>\n",
       "    <tr>\n",
       "      <th>3</th>\n",
       "      <td>16</td>\n",
       "      <td>3553</td>\n",
       "    </tr>\n",
       "    <tr>\n",
       "      <th>4</th>\n",
       "      <td>1</td>\n",
       "      <td>3506</td>\n",
       "    </tr>\n",
       "    <tr>\n",
       "      <th>5</th>\n",
       "      <td>4</td>\n",
       "      <td>3056</td>\n",
       "    </tr>\n",
       "    <tr>\n",
       "      <th>6</th>\n",
       "      <td>7</td>\n",
       "      <td>2053</td>\n",
       "    </tr>\n",
       "    <tr>\n",
       "      <th>7</th>\n",
       "      <td>23</td>\n",
       "      <td>1866</td>\n",
       "    </tr>\n",
       "    <tr>\n",
       "      <th>8</th>\n",
       "      <td>8</td>\n",
       "      <td>1736</td>\n",
       "    </tr>\n",
       "    <tr>\n",
       "      <th>9</th>\n",
       "      <td>25</td>\n",
       "      <td>1701</td>\n",
       "    </tr>\n",
       "  </tbody>\n",
       "</table>\n",
       "</div>"
      ],
      "text/plain": [
       "<google.colab.data_table.DataTable object>"
      ]
     },
     "execution_count": 24,
     "metadata": {},
     "output_type": "execute_result"
    }
   ],
   "source": [
    "%%sql\n",
    "select v.poiID, count(distinct(v.photoID)) as nbPhoto\n",
    "from user_visits v\n",
    "group by v.poiID\n",
    "order by count(distinct(v.photoID)) desc\n",
    "limit(10);\n"
   ]
  },
  {
   "cell_type": "markdown",
   "metadata": {
    "id": "IIEN0viEFl2A"
   },
   "source": [
    "#### 2) Les visites avec date détaillée\n",
    "Définir la table Visite_date(userID, seqID, poiID, date, annee, mois, jour, heure) contenant les visites avec la date détaillée composée des attributs : année, mois, jour, heure.\n",
    "Indication : la date est initialement au format \"unix\". Voir la fonction de conversion de date from_unixtime et la fonction extract."
   ]
  },
  {
   "cell_type": "code",
   "execution_count": 25,
   "metadata": {
    "colab": {
     "base_uri": "https://localhost:8080/",
     "height": 315
    },
    "id": "q1WqlxZUMKuG",
    "outputId": "b85d3fa9-9a01-4c67-8d47-5f69d48e2a49"
   },
   "outputs": [
    {
     "data": {
      "application/vnd.google.colaboratory.module+javascript": "\n      import \"https://ssl.gstatic.com/colaboratory/data_table/a8bd4d5e58f96183/data_table.js\";\n\n      window.createDataTable({\n        data: [[\"10007579@N00\",\n{\n            'v': 1,\n            'f': \"1\",\n        },\n{\n            'v': 30,\n            'f': \"30\",\n        },\n\"2012-09-05 11:31:28\",\n{\n            'v': 2012,\n            'f': \"2012\",\n        },\n{\n            'v': 9,\n            'f': \"9\",\n        },\n{\n            'v': 5,\n            'f': \"5\",\n        },\n{\n            'v': 11,\n            'f': \"11\",\n        },\n{\n            'v': 31,\n            'f': \"31\",\n        },\n{\n            'v': 28,\n            'f': \"28\",\n        }],\n [\"10012675@N05\",\n{\n            'v': 2,\n            'f': \"2\",\n        },\n{\n            'v': 6,\n            'f': \"6\",\n        },\n\"2006-03-19 01:30:48\",\n{\n            'v': 2006,\n            'f': \"2006\",\n        },\n{\n            'v': 3,\n            'f': \"3\",\n        },\n{\n            'v': 19,\n            'f': \"19\",\n        },\n{\n            'v': 1,\n            'f': \"1\",\n        },\n{\n            'v': 30,\n            'f': \"30\",\n        },\n{\n            'v': 48,\n            'f': \"48\",\n        }],\n [\"10012675@N05\",\n{\n            'v': 2,\n            'f': \"2\",\n        },\n{\n            'v': 6,\n            'f': \"6\",\n        },\n\"2006-03-19 01:37:28\",\n{\n            'v': 2006,\n            'f': \"2006\",\n        },\n{\n            'v': 3,\n            'f': \"3\",\n        },\n{\n            'v': 19,\n            'f': \"19\",\n        },\n{\n            'v': 1,\n            'f': \"1\",\n        },\n{\n            'v': 37,\n            'f': \"37\",\n        },\n{\n            'v': 28,\n            'f': \"28\",\n        }],\n [\"10012675@N05\",\n{\n            'v': 2,\n            'f': \"2\",\n        },\n{\n            'v': 6,\n            'f': \"6\",\n        },\n\"2006-03-19 01:39:33\",\n{\n            'v': 2006,\n            'f': \"2006\",\n        },\n{\n            'v': 3,\n            'f': \"3\",\n        },\n{\n            'v': 19,\n            'f': \"19\",\n        },\n{\n            'v': 1,\n            'f': \"1\",\n        },\n{\n            'v': 39,\n            'f': \"39\",\n        },\n{\n            'v': 33,\n            'f': \"33\",\n        }],\n [\"10012675@N05\",\n{\n            'v': 2,\n            'f': \"2\",\n        },\n{\n            'v': 6,\n            'f': \"6\",\n        },\n\"2006-03-19 01:40:45\",\n{\n            'v': 2006,\n            'f': \"2006\",\n        },\n{\n            'v': 3,\n            'f': \"3\",\n        },\n{\n            'v': 19,\n            'f': \"19\",\n        },\n{\n            'v': 1,\n            'f': \"1\",\n        },\n{\n            'v': 40,\n            'f': \"40\",\n        },\n{\n            'v': 45,\n            'f': \"45\",\n        }],\n [\"10012675@N05\",\n{\n            'v': 3,\n            'f': \"3\",\n        },\n{\n            'v': 6,\n            'f': \"6\",\n        },\n\"2006-03-21 04:48:12\",\n{\n            'v': 2006,\n            'f': \"2006\",\n        },\n{\n            'v': 3,\n            'f': \"3\",\n        },\n{\n            'v': 21,\n            'f': \"21\",\n        },\n{\n            'v': 4,\n            'f': \"4\",\n        },\n{\n            'v': 48,\n            'f': \"48\",\n        },\n{\n            'v': 12,\n            'f': \"12\",\n        }],\n [\"10012675@N05\",\n{\n            'v': 4,\n            'f': \"4\",\n        },\n{\n            'v': 13,\n            'f': \"13\",\n        },\n\"2011-10-22 23:46:14\",\n{\n            'v': 2011,\n            'f': \"2011\",\n        },\n{\n            'v': 10,\n            'f': \"10\",\n        },\n{\n            'v': 22,\n            'f': \"22\",\n        },\n{\n            'v': 23,\n            'f': \"23\",\n        },\n{\n            'v': 46,\n            'f': \"46\",\n        },\n{\n            'v': 14,\n            'f': \"14\",\n        }],\n [\"10012675@N05\",\n{\n            'v': 4,\n            'f': \"4\",\n        },\n{\n            'v': 13,\n            'f': \"13\",\n        },\n\"2011-10-23 00:04:15\",\n{\n            'v': 2011,\n            'f': \"2011\",\n        },\n{\n            'v': 10,\n            'f': \"10\",\n        },\n{\n            'v': 23,\n            'f': \"23\",\n        },\n{\n            'v': 0,\n            'f': \"0\",\n        },\n{\n            'v': 4,\n            'f': \"4\",\n        },\n{\n            'v': 15,\n            'f': \"15\",\n        }],\n [\"10012675@N05\",\n{\n            'v': 4,\n            'f': \"4\",\n        },\n{\n            'v': 13,\n            'f': \"13\",\n        },\n\"2011-10-23 00:57:43\",\n{\n            'v': 2011,\n            'f': \"2011\",\n        },\n{\n            'v': 10,\n            'f': \"10\",\n        },\n{\n            'v': 23,\n            'f': \"23\",\n        },\n{\n            'v': 0,\n            'f': \"0\",\n        },\n{\n            'v': 57,\n            'f': \"57\",\n        },\n{\n            'v': 43,\n            'f': \"43\",\n        }],\n [\"10012675@N05\",\n{\n            'v': 4,\n            'f': \"4\",\n        },\n{\n            'v': 13,\n            'f': \"13\",\n        },\n\"2011-10-23 01:04:46\",\n{\n            'v': 2011,\n            'f': \"2011\",\n        },\n{\n            'v': 10,\n            'f': \"10\",\n        },\n{\n            'v': 23,\n            'f': \"23\",\n        },\n{\n            'v': 1,\n            'f': \"1\",\n        },\n{\n            'v': 4,\n            'f': \"4\",\n        },\n{\n            'v': 46,\n            'f': \"46\",\n        }],\n [\"10012675@N05\",\n{\n            'v': 4,\n            'f': \"4\",\n        },\n{\n            'v': 13,\n            'f': \"13\",\n        },\n\"2011-10-23 01:06:25\",\n{\n            'v': 2011,\n            'f': \"2011\",\n        },\n{\n            'v': 10,\n            'f': \"10\",\n        },\n{\n            'v': 23,\n            'f': \"23\",\n        },\n{\n            'v': 1,\n            'f': \"1\",\n        },\n{\n            'v': 6,\n            'f': \"6\",\n        },\n{\n            'v': 25,\n            'f': \"25\",\n        }],\n [\"10012675@N05\",\n{\n            'v': 4,\n            'f': \"4\",\n        },\n{\n            'v': 13,\n            'f': \"13\",\n        },\n\"2011-10-23 01:10:00\",\n{\n            'v': 2011,\n            'f': \"2011\",\n        },\n{\n            'v': 10,\n            'f': \"10\",\n        },\n{\n            'v': 23,\n            'f': \"23\",\n        },\n{\n            'v': 1,\n            'f': \"1\",\n        },\n{\n            'v': 10,\n            'f': \"10\",\n        },\n{\n            'v': 0,\n            'f': \"0\",\n        }],\n [\"10012675@N05\",\n{\n            'v': 4,\n            'f': \"4\",\n        },\n{\n            'v': 13,\n            'f': \"13\",\n        },\n\"2011-10-23 01:16:49\",\n{\n            'v': 2011,\n            'f': \"2011\",\n        },\n{\n            'v': 10,\n            'f': \"10\",\n        },\n{\n            'v': 23,\n            'f': \"23\",\n        },\n{\n            'v': 1,\n            'f': \"1\",\n        },\n{\n            'v': 16,\n            'f': \"16\",\n        },\n{\n            'v': 49,\n            'f': \"49\",\n        }],\n [\"10012675@N05\",\n{\n            'v': 4,\n            'f': \"4\",\n        },\n{\n            'v': 13,\n            'f': \"13\",\n        },\n\"2011-10-23 01:19:38\",\n{\n            'v': 2011,\n            'f': \"2011\",\n        },\n{\n            'v': 10,\n            'f': \"10\",\n        },\n{\n            'v': 23,\n            'f': \"23\",\n        },\n{\n            'v': 1,\n            'f': \"1\",\n        },\n{\n            'v': 19,\n            'f': \"19\",\n        },\n{\n            'v': 38,\n            'f': \"38\",\n        }],\n [\"10012675@N05\",\n{\n            'v': 4,\n            'f': \"4\",\n        },\n{\n            'v': 13,\n            'f': \"13\",\n        },\n\"2011-10-23 01:20:48\",\n{\n            'v': 2011,\n            'f': \"2011\",\n        },\n{\n            'v': 10,\n            'f': \"10\",\n        },\n{\n            'v': 23,\n            'f': \"23\",\n        },\n{\n            'v': 1,\n            'f': \"1\",\n        },\n{\n            'v': 20,\n            'f': \"20\",\n        },\n{\n            'v': 48,\n            'f': \"48\",\n        }],\n [\"10014440@N06\",\n{\n            'v': 5,\n            'f': \"5\",\n        },\n{\n            'v': 24,\n            'f': \"24\",\n        },\n\"2007-11-27 01:57:01\",\n{\n            'v': 2007,\n            'f': \"2007\",\n        },\n{\n            'v': 11,\n            'f': \"11\",\n        },\n{\n            'v': 27,\n            'f': \"27\",\n        },\n{\n            'v': 1,\n            'f': \"1\",\n        },\n{\n            'v': 57,\n            'f': \"57\",\n        },\n{\n            'v': 1,\n            'f': \"1\",\n        }],\n [\"10014440@N06\",\n{\n            'v': 5,\n            'f': \"5\",\n        },\n{\n            'v': 24,\n            'f': \"24\",\n        },\n\"2007-11-27 01:58:57\",\n{\n            'v': 2007,\n            'f': \"2007\",\n        },\n{\n            'v': 11,\n            'f': \"11\",\n        },\n{\n            'v': 27,\n            'f': \"27\",\n        },\n{\n            'v': 1,\n            'f': \"1\",\n        },\n{\n            'v': 58,\n            'f': \"58\",\n        },\n{\n            'v': 57,\n            'f': \"57\",\n        }],\n [\"10014440@N06\",\n{\n            'v': 5,\n            'f': \"5\",\n        },\n{\n            'v': 24,\n            'f': \"24\",\n        },\n\"2007-11-27 02:01:18\",\n{\n            'v': 2007,\n            'f': \"2007\",\n        },\n{\n            'v': 11,\n            'f': \"11\",\n        },\n{\n            'v': 27,\n            'f': \"27\",\n        },\n{\n            'v': 2,\n            'f': \"2\",\n        },\n{\n            'v': 1,\n            'f': \"1\",\n        },\n{\n            'v': 18,\n            'f': \"18\",\n        }],\n [\"10014440@N06\",\n{\n            'v': 6,\n            'f': \"6\",\n        },\n{\n            'v': 23,\n            'f': \"23\",\n        },\n\"2007-12-19 08:09:27\",\n{\n            'v': 2007,\n            'f': \"2007\",\n        },\n{\n            'v': 12,\n            'f': \"12\",\n        },\n{\n            'v': 19,\n            'f': \"19\",\n        },\n{\n            'v': 8,\n            'f': \"8\",\n        },\n{\n            'v': 9,\n            'f': \"9\",\n        },\n{\n            'v': 27,\n            'f': \"27\",\n        }],\n [\"10014440@N06\",\n{\n            'v': 6,\n            'f': \"6\",\n        },\n{\n            'v': 23,\n            'f': \"23\",\n        },\n\"2007-12-19 08:10:39\",\n{\n            'v': 2007,\n            'f': \"2007\",\n        },\n{\n            'v': 12,\n            'f': \"12\",\n        },\n{\n            'v': 19,\n            'f': \"19\",\n        },\n{\n            'v': 8,\n            'f': \"8\",\n        },\n{\n            'v': 10,\n            'f': \"10\",\n        },\n{\n            'v': 39,\n            'f': \"39\",\n        }],\n [\"10014440@N06\",\n{\n            'v': 6,\n            'f': \"6\",\n        },\n{\n            'v': 23,\n            'f': \"23\",\n        },\n\"2007-12-19 08:15:42\",\n{\n            'v': 2007,\n            'f': \"2007\",\n        },\n{\n            'v': 12,\n            'f': \"12\",\n        },\n{\n            'v': 19,\n            'f': \"19\",\n        },\n{\n            'v': 8,\n            'f': \"8\",\n        },\n{\n            'v': 15,\n            'f': \"15\",\n        },\n{\n            'v': 42,\n            'f': \"42\",\n        }],\n [\"10014440@N06\",\n{\n            'v': 6,\n            'f': \"6\",\n        },\n{\n            'v': 23,\n            'f': \"23\",\n        },\n\"2007-12-19 08:15:57\",\n{\n            'v': 2007,\n            'f': \"2007\",\n        },\n{\n            'v': 12,\n            'f': \"12\",\n        },\n{\n            'v': 19,\n            'f': \"19\",\n        },\n{\n            'v': 8,\n            'f': \"8\",\n        },\n{\n            'v': 15,\n            'f': \"15\",\n        },\n{\n            'v': 57,\n            'f': \"57\",\n        }],\n [\"10014440@N06\",\n{\n            'v': 6,\n            'f': \"6\",\n        },\n{\n            'v': 23,\n            'f': \"23\",\n        },\n\"2007-12-19 08:16:47\",\n{\n            'v': 2007,\n            'f': \"2007\",\n        },\n{\n            'v': 12,\n            'f': \"12\",\n        },\n{\n            'v': 19,\n            'f': \"19\",\n        },\n{\n            'v': 8,\n            'f': \"8\",\n        },\n{\n            'v': 16,\n            'f': \"16\",\n        },\n{\n            'v': 47,\n            'f': \"47\",\n        }],\n [\"10014440@N06\",\n{\n            'v': 6,\n            'f': \"6\",\n        },\n{\n            'v': 23,\n            'f': \"23\",\n        },\n\"2007-12-19 08:17:24\",\n{\n            'v': 2007,\n            'f': \"2007\",\n        },\n{\n            'v': 12,\n            'f': \"12\",\n        },\n{\n            'v': 19,\n            'f': \"19\",\n        },\n{\n            'v': 8,\n            'f': \"8\",\n        },\n{\n            'v': 17,\n            'f': \"17\",\n        },\n{\n            'v': 24,\n            'f': \"24\",\n        }],\n [\"10014440@N06\",\n{\n            'v': 6,\n            'f': \"6\",\n        },\n{\n            'v': 23,\n            'f': \"23\",\n        },\n\"2007-12-19 08:19:14\",\n{\n            'v': 2007,\n            'f': \"2007\",\n        },\n{\n            'v': 12,\n            'f': \"12\",\n        },\n{\n            'v': 19,\n            'f': \"19\",\n        },\n{\n            'v': 8,\n            'f': \"8\",\n        },\n{\n            'v': 19,\n            'f': \"19\",\n        },\n{\n            'v': 14,\n            'f': \"14\",\n        }],\n [\"10014440@N06\",\n{\n            'v': 6,\n            'f': \"6\",\n        },\n{\n            'v': 23,\n            'f': \"23\",\n        },\n\"2007-12-19 08:21:44\",\n{\n            'v': 2007,\n            'f': \"2007\",\n        },\n{\n            'v': 12,\n            'f': \"12\",\n        },\n{\n            'v': 19,\n            'f': \"19\",\n        },\n{\n            'v': 8,\n            'f': \"8\",\n        },\n{\n            'v': 21,\n            'f': \"21\",\n        },\n{\n            'v': 44,\n            'f': \"44\",\n        }],\n [\"10014440@N06\",\n{\n            'v': 6,\n            'f': \"6\",\n        },\n{\n            'v': 23,\n            'f': \"23\",\n        },\n\"2007-12-19 08:22:06\",\n{\n            'v': 2007,\n            'f': \"2007\",\n        },\n{\n            'v': 12,\n            'f': \"12\",\n        },\n{\n            'v': 19,\n            'f': \"19\",\n        },\n{\n            'v': 8,\n            'f': \"8\",\n        },\n{\n            'v': 22,\n            'f': \"22\",\n        },\n{\n            'v': 6,\n            'f': \"6\",\n        }],\n [\"10014440@N06\",\n{\n            'v': 6,\n            'f': \"6\",\n        },\n{\n            'v': 23,\n            'f': \"23\",\n        },\n\"2007-12-19 08:22:18\",\n{\n            'v': 2007,\n            'f': \"2007\",\n        },\n{\n            'v': 12,\n            'f': \"12\",\n        },\n{\n            'v': 19,\n            'f': \"19\",\n        },\n{\n            'v': 8,\n            'f': \"8\",\n        },\n{\n            'v': 22,\n            'f': \"22\",\n        },\n{\n            'v': 18,\n            'f': \"18\",\n        }],\n [\"10014440@N06\",\n{\n            'v': 6,\n            'f': \"6\",\n        },\n{\n            'v': 23,\n            'f': \"23\",\n        },\n\"2007-12-19 08:25:54\",\n{\n            'v': 2007,\n            'f': \"2007\",\n        },\n{\n            'v': 12,\n            'f': \"12\",\n        },\n{\n            'v': 19,\n            'f': \"19\",\n        },\n{\n            'v': 8,\n            'f': \"8\",\n        },\n{\n            'v': 25,\n            'f': \"25\",\n        },\n{\n            'v': 54,\n            'f': \"54\",\n        }],\n [\"10014440@N06\",\n{\n            'v': 6,\n            'f': \"6\",\n        },\n{\n            'v': 23,\n            'f': \"23\",\n        },\n\"2007-12-19 08:27:12\",\n{\n            'v': 2007,\n            'f': \"2007\",\n        },\n{\n            'v': 12,\n            'f': \"12\",\n        },\n{\n            'v': 19,\n            'f': \"19\",\n        },\n{\n            'v': 8,\n            'f': \"8\",\n        },\n{\n            'v': 27,\n            'f': \"27\",\n        },\n{\n            'v': 12,\n            'f': \"12\",\n        }],\n [\"10014440@N06\",\n{\n            'v': 7,\n            'f': \"7\",\n        },\n{\n            'v': 23,\n            'f': \"23\",\n        },\n\"2007-12-25 23:57:05\",\n{\n            'v': 2007,\n            'f': \"2007\",\n        },\n{\n            'v': 12,\n            'f': \"12\",\n        },\n{\n            'v': 25,\n            'f': \"25\",\n        },\n{\n            'v': 23,\n            'f': \"23\",\n        },\n{\n            'v': 57,\n            'f': \"57\",\n        },\n{\n            'v': 5,\n            'f': \"5\",\n        }],\n [\"10014440@N06\",\n{\n            'v': 7,\n            'f': \"7\",\n        },\n{\n            'v': 23,\n            'f': \"23\",\n        },\n\"2007-12-26 00:00:29\",\n{\n            'v': 2007,\n            'f': \"2007\",\n        },\n{\n            'v': 12,\n            'f': \"12\",\n        },\n{\n            'v': 26,\n            'f': \"26\",\n        },\n{\n            'v': 0,\n            'f': \"0\",\n        },\n{\n            'v': 0,\n            'f': \"0\",\n        },\n{\n            'v': 29,\n            'f': \"29\",\n        }],\n [\"10014440@N06\",\n{\n            'v': 7,\n            'f': \"7\",\n        },\n{\n            'v': 23,\n            'f': \"23\",\n        },\n\"2007-12-26 00:02:41\",\n{\n            'v': 2007,\n            'f': \"2007\",\n        },\n{\n            'v': 12,\n            'f': \"12\",\n        },\n{\n            'v': 26,\n            'f': \"26\",\n        },\n{\n            'v': 0,\n            'f': \"0\",\n        },\n{\n            'v': 2,\n            'f': \"2\",\n        },\n{\n            'v': 41,\n            'f': \"41\",\n        }],\n [\"10014440@N06\",\n{\n            'v': 7,\n            'f': \"7\",\n        },\n{\n            'v': 23,\n            'f': \"23\",\n        },\n\"2007-12-26 00:06:30\",\n{\n            'v': 2007,\n            'f': \"2007\",\n        },\n{\n            'v': 12,\n            'f': \"12\",\n        },\n{\n            'v': 26,\n            'f': \"26\",\n        },\n{\n            'v': 0,\n            'f': \"0\",\n        },\n{\n            'v': 6,\n            'f': \"6\",\n        },\n{\n            'v': 30,\n            'f': \"30\",\n        }],\n [\"10014440@N06\",\n{\n            'v': 7,\n            'f': \"7\",\n        },\n{\n            'v': 23,\n            'f': \"23\",\n        },\n\"2007-12-26 00:06:38\",\n{\n            'v': 2007,\n            'f': \"2007\",\n        },\n{\n            'v': 12,\n            'f': \"12\",\n        },\n{\n            'v': 26,\n            'f': \"26\",\n        },\n{\n            'v': 0,\n            'f': \"0\",\n        },\n{\n            'v': 6,\n            'f': \"6\",\n        },\n{\n            'v': 38,\n            'f': \"38\",\n        }],\n [\"10014440@N06\",\n{\n            'v': 8,\n            'f': \"8\",\n        },\n{\n            'v': 23,\n            'f': \"23\",\n        },\n\"2008-03-22 05:34:47\",\n{\n            'v': 2008,\n            'f': \"2008\",\n        },\n{\n            'v': 3,\n            'f': \"3\",\n        },\n{\n            'v': 22,\n            'f': \"22\",\n        },\n{\n            'v': 5,\n            'f': \"5\",\n        },\n{\n            'v': 34,\n            'f': \"34\",\n        },\n{\n            'v': 47,\n            'f': \"47\",\n        }],\n [\"10014440@N06\",\n{\n            'v': 8,\n            'f': \"8\",\n        },\n{\n            'v': 23,\n            'f': \"23\",\n        },\n\"2008-03-22 05:39:05\",\n{\n            'v': 2008,\n            'f': \"2008\",\n        },\n{\n            'v': 3,\n            'f': \"3\",\n        },\n{\n            'v': 22,\n            'f': \"22\",\n        },\n{\n            'v': 5,\n            'f': \"5\",\n        },\n{\n            'v': 39,\n            'f': \"39\",\n        },\n{\n            'v': 5,\n            'f': \"5\",\n        }],\n [\"10014440@N06\",\n{\n            'v': 8,\n            'f': \"8\",\n        },\n{\n            'v': 23,\n            'f': \"23\",\n        },\n\"2008-03-22 05:39:19\",\n{\n            'v': 2008,\n            'f': \"2008\",\n        },\n{\n            'v': 3,\n            'f': \"3\",\n        },\n{\n            'v': 22,\n            'f': \"22\",\n        },\n{\n            'v': 5,\n            'f': \"5\",\n        },\n{\n            'v': 39,\n            'f': \"39\",\n        },\n{\n            'v': 19,\n            'f': \"19\",\n        }],\n [\"10014440@N06\",\n{\n            'v': 8,\n            'f': \"8\",\n        },\n{\n            'v': 23,\n            'f': \"23\",\n        },\n\"2008-03-22 05:40:41\",\n{\n            'v': 2008,\n            'f': \"2008\",\n        },\n{\n            'v': 3,\n            'f': \"3\",\n        },\n{\n            'v': 22,\n            'f': \"22\",\n        },\n{\n            'v': 5,\n            'f': \"5\",\n        },\n{\n            'v': 40,\n            'f': \"40\",\n        },\n{\n            'v': 41,\n            'f': \"41\",\n        }],\n [\"10014440@N06\",\n{\n            'v': 8,\n            'f': \"8\",\n        },\n{\n            'v': 23,\n            'f': \"23\",\n        },\n\"2008-03-22 05:44:42\",\n{\n            'v': 2008,\n            'f': \"2008\",\n        },\n{\n            'v': 3,\n            'f': \"3\",\n        },\n{\n            'v': 22,\n            'f': \"22\",\n        },\n{\n            'v': 5,\n            'f': \"5\",\n        },\n{\n            'v': 44,\n            'f': \"44\",\n        },\n{\n            'v': 42,\n            'f': \"42\",\n        }],\n [\"10014440@N06\",\n{\n            'v': 8,\n            'f': \"8\",\n        },\n{\n            'v': 23,\n            'f': \"23\",\n        },\n\"2008-03-22 05:45:52\",\n{\n            'v': 2008,\n            'f': \"2008\",\n        },\n{\n            'v': 3,\n            'f': \"3\",\n        },\n{\n            'v': 22,\n            'f': \"22\",\n        },\n{\n            'v': 5,\n            'f': \"5\",\n        },\n{\n            'v': 45,\n            'f': \"45\",\n        },\n{\n            'v': 52,\n            'f': \"52\",\n        }],\n [\"10014440@N06\",\n{\n            'v': 8,\n            'f': \"8\",\n        },\n{\n            'v': 23,\n            'f': \"23\",\n        },\n\"2008-03-22 05:46:53\",\n{\n            'v': 2008,\n            'f': \"2008\",\n        },\n{\n            'v': 3,\n            'f': \"3\",\n        },\n{\n            'v': 22,\n            'f': \"22\",\n        },\n{\n            'v': 5,\n            'f': \"5\",\n        },\n{\n            'v': 46,\n            'f': \"46\",\n        },\n{\n            'v': 53,\n            'f': \"53\",\n        }],\n [\"10014440@N06\",\n{\n            'v': 8,\n            'f': \"8\",\n        },\n{\n            'v': 23,\n            'f': \"23\",\n        },\n\"2008-03-22 05:54:35\",\n{\n            'v': 2008,\n            'f': \"2008\",\n        },\n{\n            'v': 3,\n            'f': \"3\",\n        },\n{\n            'v': 22,\n            'f': \"22\",\n        },\n{\n            'v': 5,\n            'f': \"5\",\n        },\n{\n            'v': 54,\n            'f': \"54\",\n        },\n{\n            'v': 35,\n            'f': \"35\",\n        }],\n [\"10014440@N06\",\n{\n            'v': 8,\n            'f': \"8\",\n        },\n{\n            'v': 23,\n            'f': \"23\",\n        },\n\"2008-03-22 05:54:38\",\n{\n            'v': 2008,\n            'f': \"2008\",\n        },\n{\n            'v': 3,\n            'f': \"3\",\n        },\n{\n            'v': 22,\n            'f': \"22\",\n        },\n{\n            'v': 5,\n            'f': \"5\",\n        },\n{\n            'v': 54,\n            'f': \"54\",\n        },\n{\n            'v': 38,\n            'f': \"38\",\n        }],\n [\"10014440@N06\",\n{\n            'v': 8,\n            'f': \"8\",\n        },\n{\n            'v': 23,\n            'f': \"23\",\n        },\n\"2008-03-22 06:01:42\",\n{\n            'v': 2008,\n            'f': \"2008\",\n        },\n{\n            'v': 3,\n            'f': \"3\",\n        },\n{\n            'v': 22,\n            'f': \"22\",\n        },\n{\n            'v': 6,\n            'f': \"6\",\n        },\n{\n            'v': 1,\n            'f': \"1\",\n        },\n{\n            'v': 42,\n            'f': \"42\",\n        }],\n [\"10014440@N06\",\n{\n            'v': 8,\n            'f': \"8\",\n        },\n{\n            'v': 24,\n            'f': \"24\",\n        },\n\"2008-03-22 06:51:13\",\n{\n            'v': 2008,\n            'f': \"2008\",\n        },\n{\n            'v': 3,\n            'f': \"3\",\n        },\n{\n            'v': 22,\n            'f': \"22\",\n        },\n{\n            'v': 6,\n            'f': \"6\",\n        },\n{\n            'v': 51,\n            'f': \"51\",\n        },\n{\n            'v': 13,\n            'f': \"13\",\n        }],\n [\"10014440@N06\",\n{\n            'v': 8,\n            'f': \"8\",\n        },\n{\n            'v': 24,\n            'f': \"24\",\n        },\n\"2008-03-22 06:57:15\",\n{\n            'v': 2008,\n            'f': \"2008\",\n        },\n{\n            'v': 3,\n            'f': \"3\",\n        },\n{\n            'v': 22,\n            'f': \"22\",\n        },\n{\n            'v': 6,\n            'f': \"6\",\n        },\n{\n            'v': 57,\n            'f': \"57\",\n        },\n{\n            'v': 15,\n            'f': \"15\",\n        }],\n [\"10014440@N06\",\n{\n            'v': 8,\n            'f': \"8\",\n        },\n{\n            'v': 24,\n            'f': \"24\",\n        },\n\"2008-03-22 06:57:38\",\n{\n            'v': 2008,\n            'f': \"2008\",\n        },\n{\n            'v': 3,\n            'f': \"3\",\n        },\n{\n            'v': 22,\n            'f': \"22\",\n        },\n{\n            'v': 6,\n            'f': \"6\",\n        },\n{\n            'v': 57,\n            'f': \"57\",\n        },\n{\n            'v': 38,\n            'f': \"38\",\n        }],\n [\"10014440@N06\",\n{\n            'v': 8,\n            'f': \"8\",\n        },\n{\n            'v': 24,\n            'f': \"24\",\n        },\n\"2008-03-22 07:01:00\",\n{\n            'v': 2008,\n            'f': \"2008\",\n        },\n{\n            'v': 3,\n            'f': \"3\",\n        },\n{\n            'v': 22,\n            'f': \"22\",\n        },\n{\n            'v': 7,\n            'f': \"7\",\n        },\n{\n            'v': 1,\n            'f': \"1\",\n        },\n{\n            'v': 0,\n            'f': \"0\",\n        }],\n [\"10014440@N06\",\n{\n            'v': 8,\n            'f': \"8\",\n        },\n{\n            'v': 24,\n            'f': \"24\",\n        },\n\"2008-03-22 07:01:31\",\n{\n            'v': 2008,\n            'f': \"2008\",\n        },\n{\n            'v': 3,\n            'f': \"3\",\n        },\n{\n            'v': 22,\n            'f': \"22\",\n        },\n{\n            'v': 7,\n            'f': \"7\",\n        },\n{\n            'v': 1,\n            'f': \"1\",\n        },\n{\n            'v': 31,\n            'f': \"31\",\n        }],\n [\"10014440@N06\",\n{\n            'v': 8,\n            'f': \"8\",\n        },\n{\n            'v': 24,\n            'f': \"24\",\n        },\n\"2008-03-22 07:02:44\",\n{\n            'v': 2008,\n            'f': \"2008\",\n        },\n{\n            'v': 3,\n            'f': \"3\",\n        },\n{\n            'v': 22,\n            'f': \"22\",\n        },\n{\n            'v': 7,\n            'f': \"7\",\n        },\n{\n            'v': 2,\n            'f': \"2\",\n        },\n{\n            'v': 44,\n            'f': \"44\",\n        }],\n [\"10014440@N06\",\n{\n            'v': 8,\n            'f': \"8\",\n        },\n{\n            'v': 24,\n            'f': \"24\",\n        },\n\"2008-03-22 07:03:00\",\n{\n            'v': 2008,\n            'f': \"2008\",\n        },\n{\n            'v': 3,\n            'f': \"3\",\n        },\n{\n            'v': 22,\n            'f': \"22\",\n        },\n{\n            'v': 7,\n            'f': \"7\",\n        },\n{\n            'v': 3,\n            'f': \"3\",\n        },\n{\n            'v': 0,\n            'f': \"0\",\n        }],\n [\"10014440@N06\",\n{\n            'v': 8,\n            'f': \"8\",\n        },\n{\n            'v': 24,\n            'f': \"24\",\n        },\n\"2008-03-22 07:03:25\",\n{\n            'v': 2008,\n            'f': \"2008\",\n        },\n{\n            'v': 3,\n            'f': \"3\",\n        },\n{\n            'v': 22,\n            'f': \"22\",\n        },\n{\n            'v': 7,\n            'f': \"7\",\n        },\n{\n            'v': 3,\n            'f': \"3\",\n        },\n{\n            'v': 25,\n            'f': \"25\",\n        }],\n [\"10014440@N06\",\n{\n            'v': 8,\n            'f': \"8\",\n        },\n{\n            'v': 24,\n            'f': \"24\",\n        },\n\"2008-03-22 07:04:10\",\n{\n            'v': 2008,\n            'f': \"2008\",\n        },\n{\n            'v': 3,\n            'f': \"3\",\n        },\n{\n            'v': 22,\n            'f': \"22\",\n        },\n{\n            'v': 7,\n            'f': \"7\",\n        },\n{\n            'v': 4,\n            'f': \"4\",\n        },\n{\n            'v': 10,\n            'f': \"10\",\n        }],\n [\"10014440@N06\",\n{\n            'v': 8,\n            'f': \"8\",\n        },\n{\n            'v': 24,\n            'f': \"24\",\n        },\n\"2008-03-22 07:05:18\",\n{\n            'v': 2008,\n            'f': \"2008\",\n        },\n{\n            'v': 3,\n            'f': \"3\",\n        },\n{\n            'v': 22,\n            'f': \"22\",\n        },\n{\n            'v': 7,\n            'f': \"7\",\n        },\n{\n            'v': 5,\n            'f': \"5\",\n        },\n{\n            'v': 18,\n            'f': \"18\",\n        }],\n [\"10014440@N06\",\n{\n            'v': 8,\n            'f': \"8\",\n        },\n{\n            'v': 24,\n            'f': \"24\",\n        },\n\"2008-03-22 07:06:57\",\n{\n            'v': 2008,\n            'f': \"2008\",\n        },\n{\n            'v': 3,\n            'f': \"3\",\n        },\n{\n            'v': 22,\n            'f': \"22\",\n        },\n{\n            'v': 7,\n            'f': \"7\",\n        },\n{\n            'v': 6,\n            'f': \"6\",\n        },\n{\n            'v': 57,\n            'f': \"57\",\n        }],\n [\"10014440@N06\",\n{\n            'v': 8,\n            'f': \"8\",\n        },\n{\n            'v': 24,\n            'f': \"24\",\n        },\n\"2008-03-22 07:08:32\",\n{\n            'v': 2008,\n            'f': \"2008\",\n        },\n{\n            'v': 3,\n            'f': \"3\",\n        },\n{\n            'v': 22,\n            'f': \"22\",\n        },\n{\n            'v': 7,\n            'f': \"7\",\n        },\n{\n            'v': 8,\n            'f': \"8\",\n        },\n{\n            'v': 32,\n            'f': \"32\",\n        }],\n [\"10014440@N06\",\n{\n            'v': 8,\n            'f': \"8\",\n        },\n{\n            'v': 24,\n            'f': \"24\",\n        },\n\"2008-03-22 07:11:27\",\n{\n            'v': 2008,\n            'f': \"2008\",\n        },\n{\n            'v': 3,\n            'f': \"3\",\n        },\n{\n            'v': 22,\n            'f': \"22\",\n        },\n{\n            'v': 7,\n            'f': \"7\",\n        },\n{\n            'v': 11,\n            'f': \"11\",\n        },\n{\n            'v': 27,\n            'f': \"27\",\n        }],\n [\"10014440@N06\",\n{\n            'v': 8,\n            'f': \"8\",\n        },\n{\n            'v': 24,\n            'f': \"24\",\n        },\n\"2008-03-22 07:12:00\",\n{\n            'v': 2008,\n            'f': \"2008\",\n        },\n{\n            'v': 3,\n            'f': \"3\",\n        },\n{\n            'v': 22,\n            'f': \"22\",\n        },\n{\n            'v': 7,\n            'f': \"7\",\n        },\n{\n            'v': 12,\n            'f': \"12\",\n        },\n{\n            'v': 0,\n            'f': \"0\",\n        }],\n [\"10014440@N06\",\n{\n            'v': 8,\n            'f': \"8\",\n        },\n{\n            'v': 24,\n            'f': \"24\",\n        },\n\"2008-03-22 07:12:26\",\n{\n            'v': 2008,\n            'f': \"2008\",\n        },\n{\n            'v': 3,\n            'f': \"3\",\n        },\n{\n            'v': 22,\n            'f': \"22\",\n        },\n{\n            'v': 7,\n            'f': \"7\",\n        },\n{\n            'v': 12,\n            'f': \"12\",\n        },\n{\n            'v': 26,\n            'f': \"26\",\n        }],\n [\"10014440@N06\",\n{\n            'v': 8,\n            'f': \"8\",\n        },\n{\n            'v': 24,\n            'f': \"24\",\n        },\n\"2008-03-22 07:13:52\",\n{\n            'v': 2008,\n            'f': \"2008\",\n        },\n{\n            'v': 3,\n            'f': \"3\",\n        },\n{\n            'v': 22,\n            'f': \"22\",\n        },\n{\n            'v': 7,\n            'f': \"7\",\n        },\n{\n            'v': 13,\n            'f': \"13\",\n        },\n{\n            'v': 52,\n            'f': \"52\",\n        }],\n [\"10014440@N06\",\n{\n            'v': 9,\n            'f': \"9\",\n        },\n{\n            'v': 24,\n            'f': \"24\",\n        },\n\"2008-07-01 05:29:26\",\n{\n            'v': 2008,\n            'f': \"2008\",\n        },\n{\n            'v': 7,\n            'f': \"7\",\n        },\n{\n            'v': 1,\n            'f': \"1\",\n        },\n{\n            'v': 5,\n            'f': \"5\",\n        },\n{\n            'v': 29,\n            'f': \"29\",\n        },\n{\n            'v': 26,\n            'f': \"26\",\n        }],\n [\"10014440@N06\",\n{\n            'v': 9,\n            'f': \"9\",\n        },\n{\n            'v': 24,\n            'f': \"24\",\n        },\n\"2008-07-01 05:29:44\",\n{\n            'v': 2008,\n            'f': \"2008\",\n        },\n{\n            'v': 7,\n            'f': \"7\",\n        },\n{\n            'v': 1,\n            'f': \"1\",\n        },\n{\n            'v': 5,\n            'f': \"5\",\n        },\n{\n            'v': 29,\n            'f': \"29\",\n        },\n{\n            'v': 44,\n            'f': \"44\",\n        }],\n [\"10014440@N06\",\n{\n            'v': 9,\n            'f': \"9\",\n        },\n{\n            'v': 24,\n            'f': \"24\",\n        },\n\"2008-07-01 05:30:03\",\n{\n            'v': 2008,\n            'f': \"2008\",\n        },\n{\n            'v': 7,\n            'f': \"7\",\n        },\n{\n            'v': 1,\n            'f': \"1\",\n        },\n{\n            'v': 5,\n            'f': \"5\",\n        },\n{\n            'v': 30,\n            'f': \"30\",\n        },\n{\n            'v': 3,\n            'f': \"3\",\n        }],\n [\"10014440@N06\",\n{\n            'v': 9,\n            'f': \"9\",\n        },\n{\n            'v': 24,\n            'f': \"24\",\n        },\n\"2008-07-01 05:31:10\",\n{\n            'v': 2008,\n            'f': \"2008\",\n        },\n{\n            'v': 7,\n            'f': \"7\",\n        },\n{\n            'v': 1,\n            'f': \"1\",\n        },\n{\n            'v': 5,\n            'f': \"5\",\n        },\n{\n            'v': 31,\n            'f': \"31\",\n        },\n{\n            'v': 10,\n            'f': \"10\",\n        }],\n [\"10014440@N06\",\n{\n            'v': 9,\n            'f': \"9\",\n        },\n{\n            'v': 24,\n            'f': \"24\",\n        },\n\"2008-07-01 05:31:17\",\n{\n            'v': 2008,\n            'f': \"2008\",\n        },\n{\n            'v': 7,\n            'f': \"7\",\n        },\n{\n            'v': 1,\n            'f': \"1\",\n        },\n{\n            'v': 5,\n            'f': \"5\",\n        },\n{\n            'v': 31,\n            'f': \"31\",\n        },\n{\n            'v': 17,\n            'f': \"17\",\n        }],\n [\"10014440@N06\",\n{\n            'v': 9,\n            'f': \"9\",\n        },\n{\n            'v': 24,\n            'f': \"24\",\n        },\n\"2008-07-01 05:34:22\",\n{\n            'v': 2008,\n            'f': \"2008\",\n        },\n{\n            'v': 7,\n            'f': \"7\",\n        },\n{\n            'v': 1,\n            'f': \"1\",\n        },\n{\n            'v': 5,\n            'f': \"5\",\n        },\n{\n            'v': 34,\n            'f': \"34\",\n        },\n{\n            'v': 22,\n            'f': \"22\",\n        }],\n [\"10014440@N06\",\n{\n            'v': 10,\n            'f': \"10\",\n        },\n{\n            'v': 25,\n            'f': \"25\",\n        },\n\"2008-07-09 08:29:18\",\n{\n            'v': 2008,\n            'f': \"2008\",\n        },\n{\n            'v': 7,\n            'f': \"7\",\n        },\n{\n            'v': 9,\n            'f': \"9\",\n        },\n{\n            'v': 8,\n            'f': \"8\",\n        },\n{\n            'v': 29,\n            'f': \"29\",\n        },\n{\n            'v': 18,\n            'f': \"18\",\n        }],\n [\"10014440@N06\",\n{\n            'v': 10,\n            'f': \"10\",\n        },\n{\n            'v': 25,\n            'f': \"25\",\n        },\n\"2008-07-09 08:29:31\",\n{\n            'v': 2008,\n            'f': \"2008\",\n        },\n{\n            'v': 7,\n            'f': \"7\",\n        },\n{\n            'v': 9,\n            'f': \"9\",\n        },\n{\n            'v': 8,\n            'f': \"8\",\n        },\n{\n            'v': 29,\n            'f': \"29\",\n        },\n{\n            'v': 31,\n            'f': \"31\",\n        }],\n [\"10014440@N06\",\n{\n            'v': 10,\n            'f': \"10\",\n        },\n{\n            'v': 25,\n            'f': \"25\",\n        },\n\"2008-07-09 08:29:39\",\n{\n            'v': 2008,\n            'f': \"2008\",\n        },\n{\n            'v': 7,\n            'f': \"7\",\n        },\n{\n            'v': 9,\n            'f': \"9\",\n        },\n{\n            'v': 8,\n            'f': \"8\",\n        },\n{\n            'v': 29,\n            'f': \"29\",\n        },\n{\n            'v': 39,\n            'f': \"39\",\n        }],\n [\"10014440@N06\",\n{\n            'v': 10,\n            'f': \"10\",\n        },\n{\n            'v': 25,\n            'f': \"25\",\n        },\n\"2008-07-09 08:29:51\",\n{\n            'v': 2008,\n            'f': \"2008\",\n        },\n{\n            'v': 7,\n            'f': \"7\",\n        },\n{\n            'v': 9,\n            'f': \"9\",\n        },\n{\n            'v': 8,\n            'f': \"8\",\n        },\n{\n            'v': 29,\n            'f': \"29\",\n        },\n{\n            'v': 51,\n            'f': \"51\",\n        }],\n [\"10014440@N06\",\n{\n            'v': 10,\n            'f': \"10\",\n        },\n{\n            'v': 25,\n            'f': \"25\",\n        },\n\"2008-07-09 08:30:01\",\n{\n            'v': 2008,\n            'f': \"2008\",\n        },\n{\n            'v': 7,\n            'f': \"7\",\n        },\n{\n            'v': 9,\n            'f': \"9\",\n        },\n{\n            'v': 8,\n            'f': \"8\",\n        },\n{\n            'v': 30,\n            'f': \"30\",\n        },\n{\n            'v': 1,\n            'f': \"1\",\n        }],\n [\"10014440@N06\",\n{\n            'v': 10,\n            'f': \"10\",\n        },\n{\n            'v': 25,\n            'f': \"25\",\n        },\n\"2008-07-09 08:30:07\",\n{\n            'v': 2008,\n            'f': \"2008\",\n        },\n{\n            'v': 7,\n            'f': \"7\",\n        },\n{\n            'v': 9,\n            'f': \"9\",\n        },\n{\n            'v': 8,\n            'f': \"8\",\n        },\n{\n            'v': 30,\n            'f': \"30\",\n        },\n{\n            'v': 7,\n            'f': \"7\",\n        }],\n [\"10014440@N06\",\n{\n            'v': 10,\n            'f': \"10\",\n        },\n{\n            'v': 25,\n            'f': \"25\",\n        },\n\"2008-07-09 08:30:20\",\n{\n            'v': 2008,\n            'f': \"2008\",\n        },\n{\n            'v': 7,\n            'f': \"7\",\n        },\n{\n            'v': 9,\n            'f': \"9\",\n        },\n{\n            'v': 8,\n            'f': \"8\",\n        },\n{\n            'v': 30,\n            'f': \"30\",\n        },\n{\n            'v': 20,\n            'f': \"20\",\n        }],\n [\"10014440@N06\",\n{\n            'v': 10,\n            'f': \"10\",\n        },\n{\n            'v': 25,\n            'f': \"25\",\n        },\n\"2008-07-09 08:30:44\",\n{\n            'v': 2008,\n            'f': \"2008\",\n        },\n{\n            'v': 7,\n            'f': \"7\",\n        },\n{\n            'v': 9,\n            'f': \"9\",\n        },\n{\n            'v': 8,\n            'f': \"8\",\n        },\n{\n            'v': 30,\n            'f': \"30\",\n        },\n{\n            'v': 44,\n            'f': \"44\",\n        }],\n [\"10014440@N06\",\n{\n            'v': 10,\n            'f': \"10\",\n        },\n{\n            'v': 25,\n            'f': \"25\",\n        },\n\"2008-07-09 08:30:47\",\n{\n            'v': 2008,\n            'f': \"2008\",\n        },\n{\n            'v': 7,\n            'f': \"7\",\n        },\n{\n            'v': 9,\n            'f': \"9\",\n        },\n{\n            'v': 8,\n            'f': \"8\",\n        },\n{\n            'v': 30,\n            'f': \"30\",\n        },\n{\n            'v': 47,\n            'f': \"47\",\n        }],\n [\"10014440@N06\",\n{\n            'v': 10,\n            'f': \"10\",\n        },\n{\n            'v': 25,\n            'f': \"25\",\n        },\n\"2008-07-09 08:30:48\",\n{\n            'v': 2008,\n            'f': \"2008\",\n        },\n{\n            'v': 7,\n            'f': \"7\",\n        },\n{\n            'v': 9,\n            'f': \"9\",\n        },\n{\n            'v': 8,\n            'f': \"8\",\n        },\n{\n            'v': 30,\n            'f': \"30\",\n        },\n{\n            'v': 48,\n            'f': \"48\",\n        }],\n [\"10014440@N06\",\n{\n            'v': 10,\n            'f': \"10\",\n        },\n{\n            'v': 25,\n            'f': \"25\",\n        },\n\"2008-07-09 08:46:50\",\n{\n            'v': 2008,\n            'f': \"2008\",\n        },\n{\n            'v': 7,\n            'f': \"7\",\n        },\n{\n            'v': 9,\n            'f': \"9\",\n        },\n{\n            'v': 8,\n            'f': \"8\",\n        },\n{\n            'v': 46,\n            'f': \"46\",\n        },\n{\n            'v': 50,\n            'f': \"50\",\n        }],\n [\"10014440@N06\",\n{\n            'v': 10,\n            'f': \"10\",\n        },\n{\n            'v': 25,\n            'f': \"25\",\n        },\n\"2008-07-09 08:47:37\",\n{\n            'v': 2008,\n            'f': \"2008\",\n        },\n{\n            'v': 7,\n            'f': \"7\",\n        },\n{\n            'v': 9,\n            'f': \"9\",\n        },\n{\n            'v': 8,\n            'f': \"8\",\n        },\n{\n            'v': 47,\n            'f': \"47\",\n        },\n{\n            'v': 37,\n            'f': \"37\",\n        }],\n [\"10014440@N06\",\n{\n            'v': 10,\n            'f': \"10\",\n        },\n{\n            'v': 25,\n            'f': \"25\",\n        },\n\"2008-07-09 08:47:41\",\n{\n            'v': 2008,\n            'f': \"2008\",\n        },\n{\n            'v': 7,\n            'f': \"7\",\n        },\n{\n            'v': 9,\n            'f': \"9\",\n        },\n{\n            'v': 8,\n            'f': \"8\",\n        },\n{\n            'v': 47,\n            'f': \"47\",\n        },\n{\n            'v': 41,\n            'f': \"41\",\n        }],\n [\"10014440@N06\",\n{\n            'v': 10,\n            'f': \"10\",\n        },\n{\n            'v': 25,\n            'f': \"25\",\n        },\n\"2008-07-09 08:48:25\",\n{\n            'v': 2008,\n            'f': \"2008\",\n        },\n{\n            'v': 7,\n            'f': \"7\",\n        },\n{\n            'v': 9,\n            'f': \"9\",\n        },\n{\n            'v': 8,\n            'f': \"8\",\n        },\n{\n            'v': 48,\n            'f': \"48\",\n        },\n{\n            'v': 25,\n            'f': \"25\",\n        }],\n [\"10014440@N06\",\n{\n            'v': 10,\n            'f': \"10\",\n        },\n{\n            'v': 25,\n            'f': \"25\",\n        },\n\"2008-07-09 08:48:28\",\n{\n            'v': 2008,\n            'f': \"2008\",\n        },\n{\n            'v': 7,\n            'f': \"7\",\n        },\n{\n            'v': 9,\n            'f': \"9\",\n        },\n{\n            'v': 8,\n            'f': \"8\",\n        },\n{\n            'v': 48,\n            'f': \"48\",\n        },\n{\n            'v': 28,\n            'f': \"28\",\n        }],\n [\"10014440@N06\",\n{\n            'v': 10,\n            'f': \"10\",\n        },\n{\n            'v': 25,\n            'f': \"25\",\n        },\n\"2008-07-09 08:48:49\",\n{\n            'v': 2008,\n            'f': \"2008\",\n        },\n{\n            'v': 7,\n            'f': \"7\",\n        },\n{\n            'v': 9,\n            'f': \"9\",\n        },\n{\n            'v': 8,\n            'f': \"8\",\n        },\n{\n            'v': 48,\n            'f': \"48\",\n        },\n{\n            'v': 49,\n            'f': \"49\",\n        }],\n [\"10014440@N06\",\n{\n            'v': 10,\n            'f': \"10\",\n        },\n{\n            'v': 25,\n            'f': \"25\",\n        },\n\"2008-07-09 08:49:25\",\n{\n            'v': 2008,\n            'f': \"2008\",\n        },\n{\n            'v': 7,\n            'f': \"7\",\n        },\n{\n            'v': 9,\n            'f': \"9\",\n        },\n{\n            'v': 8,\n            'f': \"8\",\n        },\n{\n            'v': 49,\n            'f': \"49\",\n        },\n{\n            'v': 25,\n            'f': \"25\",\n        }],\n [\"10014440@N06\",\n{\n            'v': 10,\n            'f': \"10\",\n        },\n{\n            'v': 25,\n            'f': \"25\",\n        },\n\"2008-07-09 08:49:56\",\n{\n            'v': 2008,\n            'f': \"2008\",\n        },\n{\n            'v': 7,\n            'f': \"7\",\n        },\n{\n            'v': 9,\n            'f': \"9\",\n        },\n{\n            'v': 8,\n            'f': \"8\",\n        },\n{\n            'v': 49,\n            'f': \"49\",\n        },\n{\n            'v': 56,\n            'f': \"56\",\n        }],\n [\"10014440@N06\",\n{\n            'v': 10,\n            'f': \"10\",\n        },\n{\n            'v': 25,\n            'f': \"25\",\n        },\n\"2008-07-09 08:50:02\",\n{\n            'v': 2008,\n            'f': \"2008\",\n        },\n{\n            'v': 7,\n            'f': \"7\",\n        },\n{\n            'v': 9,\n            'f': \"9\",\n        },\n{\n            'v': 8,\n            'f': \"8\",\n        },\n{\n            'v': 50,\n            'f': \"50\",\n        },\n{\n            'v': 2,\n            'f': \"2\",\n        }],\n [\"10014440@N06\",\n{\n            'v': 10,\n            'f': \"10\",\n        },\n{\n            'v': 25,\n            'f': \"25\",\n        },\n\"2008-07-09 08:50:35\",\n{\n            'v': 2008,\n            'f': \"2008\",\n        },\n{\n            'v': 7,\n            'f': \"7\",\n        },\n{\n            'v': 9,\n            'f': \"9\",\n        },\n{\n            'v': 8,\n            'f': \"8\",\n        },\n{\n            'v': 50,\n            'f': \"50\",\n        },\n{\n            'v': 35,\n            'f': \"35\",\n        }],\n [\"10014440@N06\",\n{\n            'v': 10,\n            'f': \"10\",\n        },\n{\n            'v': 25,\n            'f': \"25\",\n        },\n\"2008-07-09 08:50:41\",\n{\n            'v': 2008,\n            'f': \"2008\",\n        },\n{\n            'v': 7,\n            'f': \"7\",\n        },\n{\n            'v': 9,\n            'f': \"9\",\n        },\n{\n            'v': 8,\n            'f': \"8\",\n        },\n{\n            'v': 50,\n            'f': \"50\",\n        },\n{\n            'v': 41,\n            'f': \"41\",\n        }],\n [\"10014440@N06\",\n{\n            'v': 10,\n            'f': \"10\",\n        },\n{\n            'v': 25,\n            'f': \"25\",\n        },\n\"2008-07-09 08:51:03\",\n{\n            'v': 2008,\n            'f': \"2008\",\n        },\n{\n            'v': 7,\n            'f': \"7\",\n        },\n{\n            'v': 9,\n            'f': \"9\",\n        },\n{\n            'v': 8,\n            'f': \"8\",\n        },\n{\n            'v': 51,\n            'f': \"51\",\n        },\n{\n            'v': 3,\n            'f': \"3\",\n        }],\n [\"10014440@N06\",\n{\n            'v': 10,\n            'f': \"10\",\n        },\n{\n            'v': 25,\n            'f': \"25\",\n        },\n\"2008-07-09 08:51:33\",\n{\n            'v': 2008,\n            'f': \"2008\",\n        },\n{\n            'v': 7,\n            'f': \"7\",\n        },\n{\n            'v': 9,\n            'f': \"9\",\n        },\n{\n            'v': 8,\n            'f': \"8\",\n        },\n{\n            'v': 51,\n            'f': \"51\",\n        },\n{\n            'v': 33,\n            'f': \"33\",\n        }],\n [\"10014440@N06\",\n{\n            'v': 10,\n            'f': \"10\",\n        },\n{\n            'v': 25,\n            'f': \"25\",\n        },\n\"2008-07-09 08:51:39\",\n{\n            'v': 2008,\n            'f': \"2008\",\n        },\n{\n            'v': 7,\n            'f': \"7\",\n        },\n{\n            'v': 9,\n            'f': \"9\",\n        },\n{\n            'v': 8,\n            'f': \"8\",\n        },\n{\n            'v': 51,\n            'f': \"51\",\n        },\n{\n            'v': 39,\n            'f': \"39\",\n        }],\n [\"10014440@N06\",\n{\n            'v': 10,\n            'f': \"10\",\n        },\n{\n            'v': 25,\n            'f': \"25\",\n        },\n\"2008-07-09 08:52:22\",\n{\n            'v': 2008,\n            'f': \"2008\",\n        },\n{\n            'v': 7,\n            'f': \"7\",\n        },\n{\n            'v': 9,\n            'f': \"9\",\n        },\n{\n            'v': 8,\n            'f': \"8\",\n        },\n{\n            'v': 52,\n            'f': \"52\",\n        },\n{\n            'v': 22,\n            'f': \"22\",\n        }],\n [\"10014440@N06\",\n{\n            'v': 10,\n            'f': \"10\",\n        },\n{\n            'v': 25,\n            'f': \"25\",\n        },\n\"2008-07-09 08:52:22\",\n{\n            'v': 2008,\n            'f': \"2008\",\n        },\n{\n            'v': 7,\n            'f': \"7\",\n        },\n{\n            'v': 9,\n            'f': \"9\",\n        },\n{\n            'v': 8,\n            'f': \"8\",\n        },\n{\n            'v': 52,\n            'f': \"52\",\n        },\n{\n            'v': 22,\n            'f': \"22\",\n        }],\n [\"10014440@N06\",\n{\n            'v': 10,\n            'f': \"10\",\n        },\n{\n            'v': 25,\n            'f': \"25\",\n        },\n\"2008-07-09 08:52:57\",\n{\n            'v': 2008,\n            'f': \"2008\",\n        },\n{\n            'v': 7,\n            'f': \"7\",\n        },\n{\n            'v': 9,\n            'f': \"9\",\n        },\n{\n            'v': 8,\n            'f': \"8\",\n        },\n{\n            'v': 52,\n            'f': \"52\",\n        },\n{\n            'v': 57,\n            'f': \"57\",\n        }],\n [\"10014440@N06\",\n{\n            'v': 10,\n            'f': \"10\",\n        },\n{\n            'v': 25,\n            'f': \"25\",\n        },\n\"2008-07-09 08:53:01\",\n{\n            'v': 2008,\n            'f': \"2008\",\n        },\n{\n            'v': 7,\n            'f': \"7\",\n        },\n{\n            'v': 9,\n            'f': \"9\",\n        },\n{\n            'v': 8,\n            'f': \"8\",\n        },\n{\n            'v': 53,\n            'f': \"53\",\n        },\n{\n            'v': 1,\n            'f': \"1\",\n        }],\n [\"10014440@N06\",\n{\n            'v': 10,\n            'f': \"10\",\n        },\n{\n            'v': 25,\n            'f': \"25\",\n        },\n\"2008-07-09 08:53:33\",\n{\n            'v': 2008,\n            'f': \"2008\",\n        },\n{\n            'v': 7,\n            'f': \"7\",\n        },\n{\n            'v': 9,\n            'f': \"9\",\n        },\n{\n            'v': 8,\n            'f': \"8\",\n        },\n{\n            'v': 53,\n            'f': \"53\",\n        },\n{\n            'v': 33,\n            'f': \"33\",\n        }],\n [\"10014440@N06\",\n{\n            'v': 10,\n            'f': \"10\",\n        },\n{\n            'v': 25,\n            'f': \"25\",\n        },\n\"2008-07-09 08:53:54\",\n{\n            'v': 2008,\n            'f': \"2008\",\n        },\n{\n            'v': 7,\n            'f': \"7\",\n        },\n{\n            'v': 9,\n            'f': \"9\",\n        },\n{\n            'v': 8,\n            'f': \"8\",\n        },\n{\n            'v': 53,\n            'f': \"53\",\n        },\n{\n            'v': 54,\n            'f': \"54\",\n        }],\n [\"10014440@N06\",\n{\n            'v': 10,\n            'f': \"10\",\n        },\n{\n            'v': 25,\n            'f': \"25\",\n        },\n\"2008-07-09 08:54:10\",\n{\n            'v': 2008,\n            'f': \"2008\",\n        },\n{\n            'v': 7,\n            'f': \"7\",\n        },\n{\n            'v': 9,\n            'f': \"9\",\n        },\n{\n            'v': 8,\n            'f': \"8\",\n        },\n{\n            'v': 54,\n            'f': \"54\",\n        },\n{\n            'v': 10,\n            'f': \"10\",\n        }],\n [\"10014440@N06\",\n{\n            'v': 10,\n            'f': \"10\",\n        },\n{\n            'v': 25,\n            'f': \"25\",\n        },\n\"2008-07-09 08:54:15\",\n{\n            'v': 2008,\n            'f': \"2008\",\n        },\n{\n            'v': 7,\n            'f': \"7\",\n        },\n{\n            'v': 9,\n            'f': \"9\",\n        },\n{\n            'v': 8,\n            'f': \"8\",\n        },\n{\n            'v': 54,\n            'f': \"54\",\n        },\n{\n            'v': 15,\n            'f': \"15\",\n        }],\n [\"10014440@N06\",\n{\n            'v': 10,\n            'f': \"10\",\n        },\n{\n            'v': 25,\n            'f': \"25\",\n        },\n\"2008-07-09 08:54:34\",\n{\n            'v': 2008,\n            'f': \"2008\",\n        },\n{\n            'v': 7,\n            'f': \"7\",\n        },\n{\n            'v': 9,\n            'f': \"9\",\n        },\n{\n            'v': 8,\n            'f': \"8\",\n        },\n{\n            'v': 54,\n            'f': \"54\",\n        },\n{\n            'v': 34,\n            'f': \"34\",\n        }]],\n        columns: [[\"string\", \"userID\"], [\"number\", \"seqID\"], [\"number\", \"poiID\"], [\"string\", \"date\"], [\"number\", \"annee\"], [\"number\", \"mois\"], [\"number\", \"jour\"], [\"number\", \"heure\"], [\"number\", \"minute\"], [\"number\", \"seconde\"]],\n        columnOptions: [],\n        rowsPerPage: 10,\n        helpUrl: \"https://colab.research.google.com/notebooks/data_table.ipynb\",\n        suppressOutputScrolling: true,\n        minimumWidth: undefined,\n      });\n    ",
      "text/html": [
       "<div>\n",
       "<style scoped>\n",
       "    .dataframe tbody tr th:only-of-type {\n",
       "        vertical-align: middle;\n",
       "    }\n",
       "\n",
       "    .dataframe tbody tr th {\n",
       "        vertical-align: top;\n",
       "    }\n",
       "\n",
       "    .dataframe thead th {\n",
       "        text-align: right;\n",
       "    }\n",
       "</style>\n",
       "<table border=\"1\" class=\"dataframe\">\n",
       "  <thead>\n",
       "    <tr style=\"text-align: right;\">\n",
       "      <th></th>\n",
       "      <th>userID</th>\n",
       "      <th>seqID</th>\n",
       "      <th>poiID</th>\n",
       "      <th>date</th>\n",
       "      <th>annee</th>\n",
       "      <th>mois</th>\n",
       "      <th>jour</th>\n",
       "      <th>heure</th>\n",
       "      <th>minute</th>\n",
       "      <th>seconde</th>\n",
       "    </tr>\n",
       "  </thead>\n",
       "  <tbody>\n",
       "    <tr>\n",
       "      <th>0</th>\n",
       "      <td>10007579@N00</td>\n",
       "      <td>1</td>\n",
       "      <td>30</td>\n",
       "      <td>2012-09-05 11:31:28</td>\n",
       "      <td>2012</td>\n",
       "      <td>9</td>\n",
       "      <td>5</td>\n",
       "      <td>11</td>\n",
       "      <td>31</td>\n",
       "      <td>28</td>\n",
       "    </tr>\n",
       "    <tr>\n",
       "      <th>1</th>\n",
       "      <td>10012675@N05</td>\n",
       "      <td>2</td>\n",
       "      <td>6</td>\n",
       "      <td>2006-03-19 01:30:48</td>\n",
       "      <td>2006</td>\n",
       "      <td>3</td>\n",
       "      <td>19</td>\n",
       "      <td>1</td>\n",
       "      <td>30</td>\n",
       "      <td>48</td>\n",
       "    </tr>\n",
       "    <tr>\n",
       "      <th>2</th>\n",
       "      <td>10012675@N05</td>\n",
       "      <td>2</td>\n",
       "      <td>6</td>\n",
       "      <td>2006-03-19 01:37:28</td>\n",
       "      <td>2006</td>\n",
       "      <td>3</td>\n",
       "      <td>19</td>\n",
       "      <td>1</td>\n",
       "      <td>37</td>\n",
       "      <td>28</td>\n",
       "    </tr>\n",
       "    <tr>\n",
       "      <th>3</th>\n",
       "      <td>10012675@N05</td>\n",
       "      <td>2</td>\n",
       "      <td>6</td>\n",
       "      <td>2006-03-19 01:39:33</td>\n",
       "      <td>2006</td>\n",
       "      <td>3</td>\n",
       "      <td>19</td>\n",
       "      <td>1</td>\n",
       "      <td>39</td>\n",
       "      <td>33</td>\n",
       "    </tr>\n",
       "    <tr>\n",
       "      <th>4</th>\n",
       "      <td>10012675@N05</td>\n",
       "      <td>2</td>\n",
       "      <td>6</td>\n",
       "      <td>2006-03-19 01:40:45</td>\n",
       "      <td>2006</td>\n",
       "      <td>3</td>\n",
       "      <td>19</td>\n",
       "      <td>1</td>\n",
       "      <td>40</td>\n",
       "      <td>45</td>\n",
       "    </tr>\n",
       "    <tr>\n",
       "      <th>...</th>\n",
       "      <td>...</td>\n",
       "      <td>...</td>\n",
       "      <td>...</td>\n",
       "      <td>...</td>\n",
       "      <td>...</td>\n",
       "      <td>...</td>\n",
       "      <td>...</td>\n",
       "      <td>...</td>\n",
       "      <td>...</td>\n",
       "      <td>...</td>\n",
       "    </tr>\n",
       "    <tr>\n",
       "      <th>95</th>\n",
       "      <td>10014440@N06</td>\n",
       "      <td>10</td>\n",
       "      <td>25</td>\n",
       "      <td>2008-07-09 08:53:33</td>\n",
       "      <td>2008</td>\n",
       "      <td>7</td>\n",
       "      <td>9</td>\n",
       "      <td>8</td>\n",
       "      <td>53</td>\n",
       "      <td>33</td>\n",
       "    </tr>\n",
       "    <tr>\n",
       "      <th>96</th>\n",
       "      <td>10014440@N06</td>\n",
       "      <td>10</td>\n",
       "      <td>25</td>\n",
       "      <td>2008-07-09 08:53:54</td>\n",
       "      <td>2008</td>\n",
       "      <td>7</td>\n",
       "      <td>9</td>\n",
       "      <td>8</td>\n",
       "      <td>53</td>\n",
       "      <td>54</td>\n",
       "    </tr>\n",
       "    <tr>\n",
       "      <th>97</th>\n",
       "      <td>10014440@N06</td>\n",
       "      <td>10</td>\n",
       "      <td>25</td>\n",
       "      <td>2008-07-09 08:54:10</td>\n",
       "      <td>2008</td>\n",
       "      <td>7</td>\n",
       "      <td>9</td>\n",
       "      <td>8</td>\n",
       "      <td>54</td>\n",
       "      <td>10</td>\n",
       "    </tr>\n",
       "    <tr>\n",
       "      <th>98</th>\n",
       "      <td>10014440@N06</td>\n",
       "      <td>10</td>\n",
       "      <td>25</td>\n",
       "      <td>2008-07-09 08:54:15</td>\n",
       "      <td>2008</td>\n",
       "      <td>7</td>\n",
       "      <td>9</td>\n",
       "      <td>8</td>\n",
       "      <td>54</td>\n",
       "      <td>15</td>\n",
       "    </tr>\n",
       "    <tr>\n",
       "      <th>99</th>\n",
       "      <td>10014440@N06</td>\n",
       "      <td>10</td>\n",
       "      <td>25</td>\n",
       "      <td>2008-07-09 08:54:34</td>\n",
       "      <td>2008</td>\n",
       "      <td>7</td>\n",
       "      <td>9</td>\n",
       "      <td>8</td>\n",
       "      <td>54</td>\n",
       "      <td>34</td>\n",
       "    </tr>\n",
       "  </tbody>\n",
       "</table>\n",
       "<p>100 rows × 10 columns</p>\n",
       "</div>"
      ],
      "text/plain": [
       "<google.colab.data_table.DataTable object>"
      ]
     },
     "execution_count": 25,
     "metadata": {},
     "output_type": "execute_result"
    }
   ],
   "source": [
    "%%sql\n",
    "create or replace temp view Visite_Date as\n",
    "\n",
    "select userID, seqID, poiID, FROM_UNIXTIME(date) as date, \n",
    "EXTRACT(YEAR FROM FROM_UNIXTIME(date)) as annee, EXTRACT(MONTH FROM FROM_UNIXTIME(date)) as mois,\n",
    "EXTRACT(DAY FROM FROM_UNIXTIME(date)) as jour, EXTRACT(HOUR FROM FROM_UNIXTIME(date)) as heure,\n",
    "EXTRACT(MINUTE FROM FROM_UNIXTIME(date)) as minute, \n",
    "CAST ( REGEXP_EXTRACT( EXTRACT(SECOND FROM FROM_UNIXTIME(date)) , \"^([0-9]+)\\..+\", 1)  as Int) as seconde\n",
    "\n",
    "from user_visits;\n",
    "\n",
    "select * from Visite_Date"
   ]
  },
  {
   "cell_type": "markdown",
   "metadata": {
    "id": "2e9OrOG1FLJI"
   },
   "source": [
    "#### 3a) Le nombre de POI par utilisateur\n",
    "Le résultat (userID, nbPOI) est trié par nombre décroissant de POI."
   ]
  },
  {
   "cell_type": "code",
   "execution_count": 26,
   "metadata": {
    "colab": {
     "base_uri": "https://localhost:8080/",
     "height": 315
    },
    "id": "vMal57aBGjd7",
    "outputId": "45514d98-b36d-4bdc-a891-1700a822bc16"
   },
   "outputs": [
    {
     "data": {
      "application/vnd.google.colaboratory.module+javascript": "\n      import \"https://ssl.gstatic.com/colaboratory/data_table/a8bd4d5e58f96183/data_table.js\";\n\n      window.createDataTable({\n        data: [[\"34211328@N00\",\n{\n            'v': 24,\n            'f': \"24\",\n        }],\n [\"43139087@N00\",\n{\n            'v': 23,\n            'f': \"23\",\n        }],\n [\"84987970@N00\",\n{\n            'v': 22,\n            'f': \"22\",\n        }],\n [\"30624156@N00\",\n{\n            'v': 20,\n            'f': \"20\",\n        }],\n [\"63677124@N07\",\n{\n            'v': 19,\n            'f': \"19\",\n        }],\n [\"20741443@N00\",\n{\n            'v': 19,\n            'f': \"19\",\n        }],\n [\"48784629@N00\",\n{\n            'v': 17,\n            'f': \"17\",\n        }],\n [\"24854893@N00\",\n{\n            'v': 16,\n            'f': \"16\",\n        }],\n [\"59525924@N05\",\n{\n            'v': 15,\n            'f': \"15\",\n        }],\n [\"11191102@N07\",\n{\n            'v': 15,\n            'f': \"15\",\n        }],\n [\"34427466731@N01\",\n{\n            'v': 14,\n            'f': \"14\",\n        }],\n [\"39460517@N03\",\n{\n            'v': 14,\n            'f': \"14\",\n        }],\n [\"78436447@N00\",\n{\n            'v': 14,\n            'f': \"14\",\n        }],\n [\"71401076@N00\",\n{\n            'v': 14,\n            'f': \"14\",\n        }],\n [\"40437944@N00\",\n{\n            'v': 13,\n            'f': \"13\",\n        }],\n [\"45742513@N00\",\n{\n            'v': 13,\n            'f': \"13\",\n        }],\n [\"9985167@N04\",\n{\n            'v': 13,\n            'f': \"13\",\n        }],\n [\"23987663@N00\",\n{\n            'v': 13,\n            'f': \"13\",\n        }],\n [\"9449875@N03\",\n{\n            'v': 13,\n            'f': \"13\",\n        }],\n [\"37663331@N00\",\n{\n            'v': 13,\n            'f': \"13\",\n        }],\n [\"13644648@N03\",\n{\n            'v': 13,\n            'f': \"13\",\n        }],\n [\"42536354@N00\",\n{\n            'v': 13,\n            'f': \"13\",\n        }],\n [\"36521964195@N01\",\n{\n            'v': 13,\n            'f': \"13\",\n        }],\n [\"46769540@N00\",\n{\n            'v': 13,\n            'f': \"13\",\n        }],\n [\"76323119@N00\",\n{\n            'v': 13,\n            'f': \"13\",\n        }],\n [\"7776449@N06\",\n{\n            'v': 13,\n            'f': \"13\",\n        }],\n [\"37517876@N07\",\n{\n            'v': 13,\n            'f': \"13\",\n        }],\n [\"91032493@N00\",\n{\n            'v': 12,\n            'f': \"12\",\n        }],\n [\"65481599@N00\",\n{\n            'v': 12,\n            'f': \"12\",\n        }],\n [\"99771506@N00\",\n{\n            'v': 12,\n            'f': \"12\",\n        }],\n [\"57958712@N00\",\n{\n            'v': 12,\n            'f': \"12\",\n        }],\n [\"48096488@N03\",\n{\n            'v': 12,\n            'f': \"12\",\n        }],\n [\"34608255@N08\",\n{\n            'v': 12,\n            'f': \"12\",\n        }],\n [\"11090433@N05\",\n{\n            'v': 12,\n            'f': \"12\",\n        }],\n [\"10627620@N06\",\n{\n            'v': 12,\n            'f': \"12\",\n        }],\n [\"16693950@N00\",\n{\n            'v': 11,\n            'f': \"11\",\n        }],\n [\"29146273@N03\",\n{\n            'v': 11,\n            'f': \"11\",\n        }],\n [\"9911655@N08\",\n{\n            'v': 11,\n            'f': \"11\",\n        }],\n [\"14036428@N00\",\n{\n            'v': 11,\n            'f': \"11\",\n        }],\n [\"99127884@N00\",\n{\n            'v': 11,\n            'f': \"11\",\n        }],\n [\"84711541@N00\",\n{\n            'v': 11,\n            'f': \"11\",\n        }],\n [\"32188688@N00\",\n{\n            'v': 11,\n            'f': \"11\",\n        }],\n [\"63706803@N00\",\n{\n            'v': 11,\n            'f': \"11\",\n        }],\n [\"51149594@N07\",\n{\n            'v': 11,\n            'f': \"11\",\n        }],\n [\"20456447@N03\",\n{\n            'v': 11,\n            'f': \"11\",\n        }],\n [\"69754957@N00\",\n{\n            'v': 11,\n            'f': \"11\",\n        }],\n [\"14718163@N08\",\n{\n            'v': 11,\n            'f': \"11\",\n        }],\n [\"98715075@N00\",\n{\n            'v': 11,\n            'f': \"11\",\n        }],\n [\"77112637@N00\",\n{\n            'v': 11,\n            'f': \"11\",\n        }],\n [\"39587684@N00\",\n{\n            'v': 10,\n            'f': \"10\",\n        }],\n [\"35034348378@N01\",\n{\n            'v': 10,\n            'f': \"10\",\n        }],\n [\"22996605@N05\",\n{\n            'v': 10,\n            'f': \"10\",\n        }],\n [\"85801042@N00\",\n{\n            'v': 10,\n            'f': \"10\",\n        }],\n [\"8110030@N05\",\n{\n            'v': 10,\n            'f': \"10\",\n        }],\n [\"35468159247@N01\",\n{\n            'v': 10,\n            'f': \"10\",\n        }],\n [\"24616128@N00\",\n{\n            'v': 10,\n            'f': \"10\",\n        }],\n [\"33473816@N00\",\n{\n            'v': 10,\n            'f': \"10\",\n        }],\n [\"13907834@N00\",\n{\n            'v': 10,\n            'f': \"10\",\n        }],\n [\"47616704@N00\",\n{\n            'v': 10,\n            'f': \"10\",\n        }],\n [\"99906907@N00\",\n{\n            'v': 10,\n            'f': \"10\",\n        }],\n [\"17759914@N00\",\n{\n            'v': 10,\n            'f': \"10\",\n        }],\n [\"50642338@N00\",\n{\n            'v': 9,\n            'f': \"9\",\n        }],\n [\"9492113@N02\",\n{\n            'v': 9,\n            'f': \"9\",\n        }],\n [\"54058873@N00\",\n{\n            'v': 9,\n            'f': \"9\",\n        }],\n [\"51035610516@N01\",\n{\n            'v': 9,\n            'f': \"9\",\n        }],\n [\"76714146@N03\",\n{\n            'v': 9,\n            'f': \"9\",\n        }],\n [\"71482738@N00\",\n{\n            'v': 9,\n            'f': \"9\",\n        }],\n [\"61377999@N03\",\n{\n            'v': 9,\n            'f': \"9\",\n        }],\n [\"35034359137@N01\",\n{\n            'v': 9,\n            'f': \"9\",\n        }],\n [\"94416001@N00\",\n{\n            'v': 9,\n            'f': \"9\",\n        }],\n [\"23908938@N02\",\n{\n            'v': 9,\n            'f': \"9\",\n        }],\n [\"10502709@N05\",\n{\n            'v': 9,\n            'f': \"9\",\n        }],\n [\"94064020@N00\",\n{\n            'v': 9,\n            'f': \"9\",\n        }],\n [\"39357749@N00\",\n{\n            'v': 9,\n            'f': \"9\",\n        }],\n [\"31911001@N00\",\n{\n            'v': 9,\n            'f': \"9\",\n        }],\n [\"14816925@N00\",\n{\n            'v': 9,\n            'f': \"9\",\n        }],\n [\"49576181@N00\",\n{\n            'v': 9,\n            'f': \"9\",\n        }],\n [\"35322156@N00\",\n{\n            'v': 9,\n            'f': \"9\",\n        }],\n [\"48085290@N00\",\n{\n            'v': 9,\n            'f': \"9\",\n        }],\n [\"58919362@N00\",\n{\n            'v': 9,\n            'f': \"9\",\n        }],\n [\"64005175@N00\",\n{\n            'v': 9,\n            'f': \"9\",\n        }],\n [\"51668926@N00\",\n{\n            'v': 9,\n            'f': \"9\",\n        }],\n [\"44124367522@N01\",\n{\n            'v': 8,\n            'f': \"8\",\n        }],\n [\"54329815@N00\",\n{\n            'v': 8,\n            'f': \"8\",\n        }],\n [\"82405581@N00\",\n{\n            'v': 8,\n            'f': \"8\",\n        }],\n [\"10789562@N08\",\n{\n            'v': 8,\n            'f': \"8\",\n        }],\n [\"77483134@N00\",\n{\n            'v': 8,\n            'f': \"8\",\n        }],\n [\"57449260@N00\",\n{\n            'v': 8,\n            'f': \"8\",\n        }],\n [\"42907325@N00\",\n{\n            'v': 8,\n            'f': \"8\",\n        }],\n [\"49503002894@N01\",\n{\n            'v': 8,\n            'f': \"8\",\n        }],\n [\"66762373@N04\",\n{\n            'v': 8,\n            'f': \"8\",\n        }],\n [\"14750766@N02\",\n{\n            'v': 8,\n            'f': \"8\",\n        }],\n [\"36357702@N08\",\n{\n            'v': 8,\n            'f': \"8\",\n        }],\n [\"28721558@N07\",\n{\n            'v': 8,\n            'f': \"8\",\n        }],\n [\"18948547@N00\",\n{\n            'v': 8,\n            'f': \"8\",\n        }],\n [\"16048448@N00\",\n{\n            'v': 8,\n            'f': \"8\",\n        }],\n [\"31349854@N00\",\n{\n            'v': 8,\n            'f': \"8\",\n        }],\n [\"56020405@N08\",\n{\n            'v': 8,\n            'f': \"8\",\n        }],\n [\"36101699447@N01\",\n{\n            'v': 8,\n            'f': \"8\",\n        }],\n [\"70289230@N00\",\n{\n            'v': 8,\n            'f': \"8\",\n        }]],\n        columns: [[\"string\", \"userID\"], [\"number\", \"nbPOI\"]],\n        columnOptions: [],\n        rowsPerPage: 10,\n        helpUrl: \"https://colab.research.google.com/notebooks/data_table.ipynb\",\n        suppressOutputScrolling: true,\n        minimumWidth: undefined,\n      });\n    ",
      "text/html": [
       "<div>\n",
       "<style scoped>\n",
       "    .dataframe tbody tr th:only-of-type {\n",
       "        vertical-align: middle;\n",
       "    }\n",
       "\n",
       "    .dataframe tbody tr th {\n",
       "        vertical-align: top;\n",
       "    }\n",
       "\n",
       "    .dataframe thead th {\n",
       "        text-align: right;\n",
       "    }\n",
       "</style>\n",
       "<table border=\"1\" class=\"dataframe\">\n",
       "  <thead>\n",
       "    <tr style=\"text-align: right;\">\n",
       "      <th></th>\n",
       "      <th>userID</th>\n",
       "      <th>nbPOI</th>\n",
       "    </tr>\n",
       "  </thead>\n",
       "  <tbody>\n",
       "    <tr>\n",
       "      <th>0</th>\n",
       "      <td>34211328@N00</td>\n",
       "      <td>24</td>\n",
       "    </tr>\n",
       "    <tr>\n",
       "      <th>1</th>\n",
       "      <td>43139087@N00</td>\n",
       "      <td>23</td>\n",
       "    </tr>\n",
       "    <tr>\n",
       "      <th>2</th>\n",
       "      <td>84987970@N00</td>\n",
       "      <td>22</td>\n",
       "    </tr>\n",
       "    <tr>\n",
       "      <th>3</th>\n",
       "      <td>30624156@N00</td>\n",
       "      <td>20</td>\n",
       "    </tr>\n",
       "    <tr>\n",
       "      <th>4</th>\n",
       "      <td>63677124@N07</td>\n",
       "      <td>19</td>\n",
       "    </tr>\n",
       "    <tr>\n",
       "      <th>...</th>\n",
       "      <td>...</td>\n",
       "      <td>...</td>\n",
       "    </tr>\n",
       "    <tr>\n",
       "      <th>95</th>\n",
       "      <td>16048448@N00</td>\n",
       "      <td>8</td>\n",
       "    </tr>\n",
       "    <tr>\n",
       "      <th>96</th>\n",
       "      <td>31349854@N00</td>\n",
       "      <td>8</td>\n",
       "    </tr>\n",
       "    <tr>\n",
       "      <th>97</th>\n",
       "      <td>56020405@N08</td>\n",
       "      <td>8</td>\n",
       "    </tr>\n",
       "    <tr>\n",
       "      <th>98</th>\n",
       "      <td>36101699447@N01</td>\n",
       "      <td>8</td>\n",
       "    </tr>\n",
       "    <tr>\n",
       "      <th>99</th>\n",
       "      <td>70289230@N00</td>\n",
       "      <td>8</td>\n",
       "    </tr>\n",
       "  </tbody>\n",
       "</table>\n",
       "<p>100 rows × 2 columns</p>\n",
       "</div>"
      ],
      "text/plain": [
       "<google.colab.data_table.DataTable object>"
      ]
     },
     "execution_count": 26,
     "metadata": {},
     "output_type": "execute_result"
    }
   ],
   "source": [
    "%%sql\n",
    "select userID, count(distinct(poiID)) as nbPOI\n",
    "from user_visits \n",
    "group by(userID)\n",
    "order by count(distinct(poiID)) desc;"
   ]
  },
  {
   "cell_type": "markdown",
   "metadata": {
    "id": "WCv8lnB_9yYW"
   },
   "source": [
    "#### 3b) Le nombre de POI par séquence\n",
    "Définir la table Seq3plus(seqID, nbPoi) correspondant aux séquences qui contiennent au moins 3 POI distincts.\n",
    "Afficher le résultat trié par nombre de POI décroissant puis numéro de séquence croissant.\n"
   ]
  },
  {
   "cell_type": "code",
   "execution_count": 27,
   "metadata": {
    "colab": {
     "base_uri": "https://localhost:8080/",
     "height": 315
    },
    "id": "KuBohuZ79x3N",
    "outputId": "8638ff63-639b-4710-9759-e63d93333178"
   },
   "outputs": [
    {
     "data": {
      "application/vnd.google.colaboratory.module+javascript": "\n      import \"https://ssl.gstatic.com/colaboratory/data_table/a8bd4d5e58f96183/data_table.js\";\n\n      window.createDataTable({\n        data: [[{\n            'v': 298,\n            'f': \"298\",\n        },\n{\n            'v': 13,\n            'f': \"13\",\n        }],\n [{\n            'v': 4961,\n            'f': \"4961\",\n        },\n{\n            'v': 10,\n            'f': \"10\",\n        }],\n [{\n            'v': 4351,\n            'f': \"4351\",\n        },\n{\n            'v': 9,\n            'f': \"9\",\n        }],\n [{\n            'v': 5964,\n            'f': \"5964\",\n        },\n{\n            'v': 9,\n            'f': \"9\",\n        }],\n [{\n            'v': 510,\n            'f': \"510\",\n        },\n{\n            'v': 8,\n            'f': \"8\",\n        }],\n [{\n            'v': 525,\n            'f': \"525\",\n        },\n{\n            'v': 8,\n            'f': \"8\",\n        }],\n [{\n            'v': 5369,\n            'f': \"5369\",\n        },\n{\n            'v': 8,\n            'f': \"8\",\n        }],\n [{\n            'v': 5981,\n            'f': \"5981\",\n        },\n{\n            'v': 8,\n            'f': \"8\",\n        }],\n [{\n            'v': 454,\n            'f': \"454\",\n        },\n{\n            'v': 7,\n            'f': \"7\",\n        }],\n [{\n            'v': 681,\n            'f': \"681\",\n        },\n{\n            'v': 7,\n            'f': \"7\",\n        }],\n [{\n            'v': 686,\n            'f': \"686\",\n        },\n{\n            'v': 7,\n            'f': \"7\",\n        }],\n [{\n            'v': 905,\n            'f': \"905\",\n        },\n{\n            'v': 7,\n            'f': \"7\",\n        }],\n [{\n            'v': 2072,\n            'f': \"2072\",\n        },\n{\n            'v': 7,\n            'f': \"7\",\n        }],\n [{\n            'v': 2252,\n            'f': \"2252\",\n        },\n{\n            'v': 7,\n            'f': \"7\",\n        }],\n [{\n            'v': 3052,\n            'f': \"3052\",\n        },\n{\n            'v': 7,\n            'f': \"7\",\n        }],\n [{\n            'v': 5254,\n            'f': \"5254\",\n        },\n{\n            'v': 7,\n            'f': \"7\",\n        }],\n [{\n            'v': 5263,\n            'f': \"5263\",\n        },\n{\n            'v': 7,\n            'f': \"7\",\n        }],\n [{\n            'v': 1281,\n            'f': \"1281\",\n        },\n{\n            'v': 6,\n            'f': \"6\",\n        }],\n [{\n            'v': 1358,\n            'f': \"1358\",\n        },\n{\n            'v': 6,\n            'f': \"6\",\n        }],\n [{\n            'v': 1786,\n            'f': \"1786\",\n        },\n{\n            'v': 6,\n            'f': \"6\",\n        }],\n [{\n            'v': 3504,\n            'f': \"3504\",\n        },\n{\n            'v': 6,\n            'f': \"6\",\n        }],\n [{\n            'v': 3636,\n            'f': \"3636\",\n        },\n{\n            'v': 6,\n            'f': \"6\",\n        }],\n [{\n            'v': 4493,\n            'f': \"4493\",\n        },\n{\n            'v': 6,\n            'f': \"6\",\n        }],\n [{\n            'v': 5250,\n            'f': \"5250\",\n        },\n{\n            'v': 6,\n            'f': \"6\",\n        }],\n [{\n            'v': 5276,\n            'f': \"5276\",\n        },\n{\n            'v': 6,\n            'f': \"6\",\n        }],\n [{\n            'v': 5277,\n            'f': \"5277\",\n        },\n{\n            'v': 6,\n            'f': \"6\",\n        }],\n [{\n            'v': 549,\n            'f': \"549\",\n        },\n{\n            'v': 5,\n            'f': \"5\",\n        }],\n [{\n            'v': 708,\n            'f': \"708\",\n        },\n{\n            'v': 5,\n            'f': \"5\",\n        }],\n [{\n            'v': 729,\n            'f': \"729\",\n        },\n{\n            'v': 5,\n            'f': \"5\",\n        }],\n [{\n            'v': 783,\n            'f': \"783\",\n        },\n{\n            'v': 5,\n            'f': \"5\",\n        }],\n [{\n            'v': 788,\n            'f': \"788\",\n        },\n{\n            'v': 5,\n            'f': \"5\",\n        }],\n [{\n            'v': 809,\n            'f': \"809\",\n        },\n{\n            'v': 5,\n            'f': \"5\",\n        }],\n [{\n            'v': 1598,\n            'f': \"1598\",\n        },\n{\n            'v': 5,\n            'f': \"5\",\n        }],\n [{\n            'v': 1912,\n            'f': \"1912\",\n        },\n{\n            'v': 5,\n            'f': \"5\",\n        }],\n [{\n            'v': 1940,\n            'f': \"1940\",\n        },\n{\n            'v': 5,\n            'f': \"5\",\n        }],\n [{\n            'v': 1968,\n            'f': \"1968\",\n        },\n{\n            'v': 5,\n            'f': \"5\",\n        }],\n [{\n            'v': 1993,\n            'f': \"1993\",\n        },\n{\n            'v': 5,\n            'f': \"5\",\n        }],\n [{\n            'v': 2069,\n            'f': \"2069\",\n        },\n{\n            'v': 5,\n            'f': \"5\",\n        }],\n [{\n            'v': 2196,\n            'f': \"2196\",\n        },\n{\n            'v': 5,\n            'f': \"5\",\n        }],\n [{\n            'v': 2207,\n            'f': \"2207\",\n        },\n{\n            'v': 5,\n            'f': \"5\",\n        }],\n [{\n            'v': 2705,\n            'f': \"2705\",\n        },\n{\n            'v': 5,\n            'f': \"5\",\n        }],\n [{\n            'v': 2916,\n            'f': \"2916\",\n        },\n{\n            'v': 5,\n            'f': \"5\",\n        }],\n [{\n            'v': 3149,\n            'f': \"3149\",\n        },\n{\n            'v': 5,\n            'f': \"5\",\n        }],\n [{\n            'v': 3501,\n            'f': \"3501\",\n        },\n{\n            'v': 5,\n            'f': \"5\",\n        }],\n [{\n            'v': 3767,\n            'f': \"3767\",\n        },\n{\n            'v': 5,\n            'f': \"5\",\n        }],\n [{\n            'v': 4408,\n            'f': \"4408\",\n        },\n{\n            'v': 5,\n            'f': \"5\",\n        }],\n [{\n            'v': 4450,\n            'f': \"4450\",\n        },\n{\n            'v': 5,\n            'f': \"5\",\n        }],\n [{\n            'v': 4578,\n            'f': \"4578\",\n        },\n{\n            'v': 5,\n            'f': \"5\",\n        }],\n [{\n            'v': 4758,\n            'f': \"4758\",\n        },\n{\n            'v': 5,\n            'f': \"5\",\n        }],\n [{\n            'v': 4782,\n            'f': \"4782\",\n        },\n{\n            'v': 5,\n            'f': \"5\",\n        }],\n [{\n            'v': 4997,\n            'f': \"4997\",\n        },\n{\n            'v': 5,\n            'f': \"5\",\n        }],\n [{\n            'v': 5099,\n            'f': \"5099\",\n        },\n{\n            'v': 5,\n            'f': \"5\",\n        }],\n [{\n            'v': 5214,\n            'f': \"5214\",\n        },\n{\n            'v': 5,\n            'f': \"5\",\n        }],\n [{\n            'v': 5337,\n            'f': \"5337\",\n        },\n{\n            'v': 5,\n            'f': \"5\",\n        }],\n [{\n            'v': 5377,\n            'f': \"5377\",\n        },\n{\n            'v': 5,\n            'f': \"5\",\n        }],\n [{\n            'v': 5541,\n            'f': \"5541\",\n        },\n{\n            'v': 5,\n            'f': \"5\",\n        }],\n [{\n            'v': 5555,\n            'f': \"5555\",\n        },\n{\n            'v': 5,\n            'f': \"5\",\n        }],\n [{\n            'v': 5556,\n            'f': \"5556\",\n        },\n{\n            'v': 5,\n            'f': \"5\",\n        }],\n [{\n            'v': 6028,\n            'f': \"6028\",\n        },\n{\n            'v': 5,\n            'f': \"5\",\n        }],\n [{\n            'v': 71,\n            'f': \"71\",\n        },\n{\n            'v': 4,\n            'f': \"4\",\n        }],\n [{\n            'v': 139,\n            'f': \"139\",\n        },\n{\n            'v': 4,\n            'f': \"4\",\n        }],\n [{\n            'v': 302,\n            'f': \"302\",\n        },\n{\n            'v': 4,\n            'f': \"4\",\n        }],\n [{\n            'v': 380,\n            'f': \"380\",\n        },\n{\n            'v': 4,\n            'f': \"4\",\n        }],\n [{\n            'v': 687,\n            'f': \"687\",\n        },\n{\n            'v': 4,\n            'f': \"4\",\n        }],\n [{\n            'v': 688,\n            'f': \"688\",\n        },\n{\n            'v': 4,\n            'f': \"4\",\n        }],\n [{\n            'v': 753,\n            'f': \"753\",\n        },\n{\n            'v': 4,\n            'f': \"4\",\n        }],\n [{\n            'v': 786,\n            'f': \"786\",\n        },\n{\n            'v': 4,\n            'f': \"4\",\n        }],\n [{\n            'v': 813,\n            'f': \"813\",\n        },\n{\n            'v': 4,\n            'f': \"4\",\n        }],\n [{\n            'v': 814,\n            'f': \"814\",\n        },\n{\n            'v': 4,\n            'f': \"4\",\n        }],\n [{\n            'v': 822,\n            'f': \"822\",\n        },\n{\n            'v': 4,\n            'f': \"4\",\n        }],\n [{\n            'v': 884,\n            'f': \"884\",\n        },\n{\n            'v': 4,\n            'f': \"4\",\n        }],\n [{\n            'v': 929,\n            'f': \"929\",\n        },\n{\n            'v': 4,\n            'f': \"4\",\n        }],\n [{\n            'v': 979,\n            'f': \"979\",\n        },\n{\n            'v': 4,\n            'f': \"4\",\n        }],\n [{\n            'v': 988,\n            'f': \"988\",\n        },\n{\n            'v': 4,\n            'f': \"4\",\n        }],\n [{\n            'v': 1066,\n            'f': \"1066\",\n        },\n{\n            'v': 4,\n            'f': \"4\",\n        }],\n [{\n            'v': 1082,\n            'f': \"1082\",\n        },\n{\n            'v': 4,\n            'f': \"4\",\n        }],\n [{\n            'v': 1118,\n            'f': \"1118\",\n        },\n{\n            'v': 4,\n            'f': \"4\",\n        }],\n [{\n            'v': 1123,\n            'f': \"1123\",\n        },\n{\n            'v': 4,\n            'f': \"4\",\n        }],\n [{\n            'v': 1128,\n            'f': \"1128\",\n        },\n{\n            'v': 4,\n            'f': \"4\",\n        }],\n [{\n            'v': 1237,\n            'f': \"1237\",\n        },\n{\n            'v': 4,\n            'f': \"4\",\n        }],\n [{\n            'v': 1259,\n            'f': \"1259\",\n        },\n{\n            'v': 4,\n            'f': \"4\",\n        }],\n [{\n            'v': 1270,\n            'f': \"1270\",\n        },\n{\n            'v': 4,\n            'f': \"4\",\n        }],\n [{\n            'v': 1283,\n            'f': \"1283\",\n        },\n{\n            'v': 4,\n            'f': \"4\",\n        }],\n [{\n            'v': 1312,\n            'f': \"1312\",\n        },\n{\n            'v': 4,\n            'f': \"4\",\n        }],\n [{\n            'v': 1321,\n            'f': \"1321\",\n        },\n{\n            'v': 4,\n            'f': \"4\",\n        }],\n [{\n            'v': 1523,\n            'f': \"1523\",\n        },\n{\n            'v': 4,\n            'f': \"4\",\n        }],\n [{\n            'v': 1591,\n            'f': \"1591\",\n        },\n{\n            'v': 4,\n            'f': \"4\",\n        }],\n [{\n            'v': 1592,\n            'f': \"1592\",\n        },\n{\n            'v': 4,\n            'f': \"4\",\n        }],\n [{\n            'v': 1792,\n            'f': \"1792\",\n        },\n{\n            'v': 4,\n            'f': \"4\",\n        }],\n [{\n            'v': 1802,\n            'f': \"1802\",\n        },\n{\n            'v': 4,\n            'f': \"4\",\n        }],\n [{\n            'v': 1938,\n            'f': \"1938\",\n        },\n{\n            'v': 4,\n            'f': \"4\",\n        }],\n [{\n            'v': 2158,\n            'f': \"2158\",\n        },\n{\n            'v': 4,\n            'f': \"4\",\n        }],\n [{\n            'v': 2275,\n            'f': \"2275\",\n        },\n{\n            'v': 4,\n            'f': \"4\",\n        }],\n [{\n            'v': 2334,\n            'f': \"2334\",\n        },\n{\n            'v': 4,\n            'f': \"4\",\n        }],\n [{\n            'v': 2340,\n            'f': \"2340\",\n        },\n{\n            'v': 4,\n            'f': \"4\",\n        }],\n [{\n            'v': 2377,\n            'f': \"2377\",\n        },\n{\n            'v': 4,\n            'f': \"4\",\n        }],\n [{\n            'v': 2466,\n            'f': \"2466\",\n        },\n{\n            'v': 4,\n            'f': \"4\",\n        }],\n [{\n            'v': 2472,\n            'f': \"2472\",\n        },\n{\n            'v': 4,\n            'f': \"4\",\n        }],\n [{\n            'v': 2896,\n            'f': \"2896\",\n        },\n{\n            'v': 4,\n            'f': \"4\",\n        }],\n [{\n            'v': 3493,\n            'f': \"3493\",\n        },\n{\n            'v': 4,\n            'f': \"4\",\n        }]],\n        columns: [[\"number\", \"seqID\"], [\"number\", \"nbPOI\"]],\n        columnOptions: [],\n        rowsPerPage: 10,\n        helpUrl: \"https://colab.research.google.com/notebooks/data_table.ipynb\",\n        suppressOutputScrolling: true,\n        minimumWidth: undefined,\n      });\n    ",
      "text/html": [
       "<div>\n",
       "<style scoped>\n",
       "    .dataframe tbody tr th:only-of-type {\n",
       "        vertical-align: middle;\n",
       "    }\n",
       "\n",
       "    .dataframe tbody tr th {\n",
       "        vertical-align: top;\n",
       "    }\n",
       "\n",
       "    .dataframe thead th {\n",
       "        text-align: right;\n",
       "    }\n",
       "</style>\n",
       "<table border=\"1\" class=\"dataframe\">\n",
       "  <thead>\n",
       "    <tr style=\"text-align: right;\">\n",
       "      <th></th>\n",
       "      <th>seqID</th>\n",
       "      <th>nbPOI</th>\n",
       "    </tr>\n",
       "  </thead>\n",
       "  <tbody>\n",
       "    <tr>\n",
       "      <th>0</th>\n",
       "      <td>298</td>\n",
       "      <td>13</td>\n",
       "    </tr>\n",
       "    <tr>\n",
       "      <th>1</th>\n",
       "      <td>4961</td>\n",
       "      <td>10</td>\n",
       "    </tr>\n",
       "    <tr>\n",
       "      <th>2</th>\n",
       "      <td>4351</td>\n",
       "      <td>9</td>\n",
       "    </tr>\n",
       "    <tr>\n",
       "      <th>3</th>\n",
       "      <td>5964</td>\n",
       "      <td>9</td>\n",
       "    </tr>\n",
       "    <tr>\n",
       "      <th>4</th>\n",
       "      <td>510</td>\n",
       "      <td>8</td>\n",
       "    </tr>\n",
       "    <tr>\n",
       "      <th>...</th>\n",
       "      <td>...</td>\n",
       "      <td>...</td>\n",
       "    </tr>\n",
       "    <tr>\n",
       "      <th>95</th>\n",
       "      <td>2377</td>\n",
       "      <td>4</td>\n",
       "    </tr>\n",
       "    <tr>\n",
       "      <th>96</th>\n",
       "      <td>2466</td>\n",
       "      <td>4</td>\n",
       "    </tr>\n",
       "    <tr>\n",
       "      <th>97</th>\n",
       "      <td>2472</td>\n",
       "      <td>4</td>\n",
       "    </tr>\n",
       "    <tr>\n",
       "      <th>98</th>\n",
       "      <td>2896</td>\n",
       "      <td>4</td>\n",
       "    </tr>\n",
       "    <tr>\n",
       "      <th>99</th>\n",
       "      <td>3493</td>\n",
       "      <td>4</td>\n",
       "    </tr>\n",
       "  </tbody>\n",
       "</table>\n",
       "<p>100 rows × 2 columns</p>\n",
       "</div>"
      ],
      "text/plain": [
       "<google.colab.data_table.DataTable object>"
      ]
     },
     "execution_count": 27,
     "metadata": {},
     "output_type": "execute_result"
    }
   ],
   "source": [
    "%%sql\n",
    "create or replace temp view Seq3plus as \n",
    "select seqID, count(distinct(poiID)) as nbPOI\n",
    "from user_visits\n",
    "group by seqID\n",
    "having count(distinct(poiID)) >=3\n",
    "order by nbPOI desc, seqID asc;\n",
    "\n",
    "select * from seq3plus\n",
    "order by nbPOI desc, seqID;"
   ]
  },
  {
   "cell_type": "markdown",
   "metadata": {
    "id": "Ji392nLBGmL-"
   },
   "source": [
    "#### 4) Trajectoire\n",
    "\n"
   ]
  },
  {
   "cell_type": "markdown",
   "metadata": {
    "id": "cilKMio1LXZS"
   },
   "source": [
    "Définir la table Trajectoire(userID, seqID, listPOI).\n",
    "\n",
    "listPOI est la liste des POI visités, pendant la séquence seqID, dans l'ordre chronologique\n",
    "\n",
    "Indications:\n",
    "pour la sequence 687 la listPOI est [7,16,4,8,4,16]"
   ]
  },
  {
   "cell_type": "code",
   "execution_count": 28,
   "metadata": {
    "colab": {
     "base_uri": "https://localhost:8080/"
    },
    "id": "PdKv9p1VFuRR",
    "outputId": "feda5b40-d45a-40de-8e3b-7c1c9b6fc92e"
   },
   "outputs": [
    {
     "name": "stdout",
     "output_type": "stream",
     "text": [
      "[2, 1, 0, 2]\n"
     ]
    }
   ],
   "source": [
    "def trierPOI(t):\n",
    "  result=[]\n",
    "  for n in sorted(t):\n",
    "    if(len(result)!=0) :\n",
    "        if( result[len(result)-1] != n[1]) :\n",
    "          result.append(n[1])\n",
    "    else:\n",
    "        result.append(n[1])\n",
    "  return result\n",
    "\n",
    "spark.udf.register(\"trierPOI\", trierPOI, ArrayType(IntegerType()))\n",
    "\n",
    "# test local\n",
    "print(trierPOI([(13,0),(10,2), (12,1), (14,2),(11,2)]))"
   ]
  },
  {
   "cell_type": "code",
   "execution_count": 29,
   "metadata": {
    "colab": {
     "base_uri": "https://localhost:8080/",
     "height": 315
    },
    "id": "FkptIs4nIIuY",
    "outputId": "ebb6ead8-d10f-4d18-9b05-d8c964ba41c8"
   },
   "outputs": [
    {
     "data": {
      "application/vnd.google.colaboratory.module+javascript": "\n      import \"https://ssl.gstatic.com/colaboratory/data_table/a8bd4d5e58f96183/data_table.js\";\n\n      window.createDataTable({\n        data: [[\"14617133@N05\",\n{\n            'v': 384,\n            'f': \"384\",\n        },\n[22, 28, 22, 28, 22, 28]],\n [\"20456447@N03\",\n{\n            'v': 687,\n            'f': \"687\",\n        },\n[7, 16, 4, 8, 4, 16]],\n [\"20741443@N00\",\n{\n            'v': 729,\n            'f': \"729\",\n        },\n[23, 21, 22, 7, 28, 23]],\n [\"27168489@N00\",\n{\n            'v': 1358,\n            'f': \"1358\",\n        },\n[16, 8, 28, 22, 23, 21]],\n [\"29352917@N00\",\n{\n            'v': 1524,\n            'f': \"1524\",\n        },\n[29, 30, 16, 29, 16, 29]],\n [\"30624156@N00\",\n{\n            'v': 1598,\n            'f': \"1598\",\n        },\n[28, 7, 30, 28, 22, 27]],\n [\"32827327@N03\",\n{\n            'v': 1786,\n            'f': \"1786\",\n        },\n[20, 6, 25, 11, 30, 24]],\n [\"33547369@N00\",\n{\n            'v': 1877,\n            'f': \"1877\",\n        },\n[23, 21, 23, 22, 23, 22]],\n [\"34128007@N04\",\n{\n            'v': 1912,\n            'f': \"1912\",\n        },\n[8, 16, 4, 1, 29, 16]],\n [\"34314322@N00\",\n{\n            'v': 1993,\n            'f': \"1993\",\n        },\n[30, 22, 28, 29, 30, 16]],\n [\"35034347485@N01\",\n{\n            'v': 2069,\n            'f': \"2069\",\n        },\n[6, 21, 23, 28, 22, 28]],\n [\"35237095252@N01\",\n{\n            'v': 2158,\n            'f': \"2158\",\n        },\n[30, 7, 30, 16, 4, 16]],\n [\"44925192@N00\",\n{\n            'v': 2916,\n            'f': \"2916\",\n        },\n[21, 7, 30, 16, 4, 16]],\n [\"49503002894@N01\",\n{\n            'v': 3401,\n            'f': \"3401\",\n        },\n[22, 8, 22, 8, 22, 3]],\n [\"51035610516@N01\",\n{\n            'v': 3501,\n            'f': \"3501\",\n        },\n[21, 30, 8, 16, 4, 16]],\n [\"51035681908@N01\",\n{\n            'v': 3504,\n            'f': \"3504\",\n        },\n[21, 22, 4, 16, 25, 11]],\n [\"84987970@N00\",\n{\n            'v': 5180,\n            'f': \"5180\",\n        },\n[22, 28, 22, 23, 21, 22]],\n [\"84987970@N00\",\n{\n            'v': 5250,\n            'f': \"5250\",\n        },\n[30, 23, 21, 22, 6, 16]],\n [\"84987970@N00\",\n{\n            'v': 5276,\n            'f': \"5276\",\n        },\n[6, 4, 30, 7, 28, 21]],\n [\"86292040@N00\",\n{\n            'v': 5377,\n            'f': \"5377\",\n        },\n[30, 1, 8, 16, 8, 23]]],\n        columns: [[\"string\", \"userID\"], [\"number\", \"seqID\"], [\"string\", \"listePOI\"]],\n        columnOptions: [],\n        rowsPerPage: 10,\n        helpUrl: \"https://colab.research.google.com/notebooks/data_table.ipynb\",\n        suppressOutputScrolling: true,\n        minimumWidth: undefined,\n      });\n    ",
      "text/html": [
       "<div>\n",
       "<style scoped>\n",
       "    .dataframe tbody tr th:only-of-type {\n",
       "        vertical-align: middle;\n",
       "    }\n",
       "\n",
       "    .dataframe tbody tr th {\n",
       "        vertical-align: top;\n",
       "    }\n",
       "\n",
       "    .dataframe thead th {\n",
       "        text-align: right;\n",
       "    }\n",
       "</style>\n",
       "<table border=\"1\" class=\"dataframe\">\n",
       "  <thead>\n",
       "    <tr style=\"text-align: right;\">\n",
       "      <th></th>\n",
       "      <th>userID</th>\n",
       "      <th>seqID</th>\n",
       "      <th>listePOI</th>\n",
       "    </tr>\n",
       "  </thead>\n",
       "  <tbody>\n",
       "    <tr>\n",
       "      <th>0</th>\n",
       "      <td>14617133@N05</td>\n",
       "      <td>384</td>\n",
       "      <td>[22, 28, 22, 28, 22, 28]</td>\n",
       "    </tr>\n",
       "    <tr>\n",
       "      <th>1</th>\n",
       "      <td>20456447@N03</td>\n",
       "      <td>687</td>\n",
       "      <td>[7, 16, 4, 8, 4, 16]</td>\n",
       "    </tr>\n",
       "    <tr>\n",
       "      <th>2</th>\n",
       "      <td>20741443@N00</td>\n",
       "      <td>729</td>\n",
       "      <td>[23, 21, 22, 7, 28, 23]</td>\n",
       "    </tr>\n",
       "    <tr>\n",
       "      <th>3</th>\n",
       "      <td>27168489@N00</td>\n",
       "      <td>1358</td>\n",
       "      <td>[16, 8, 28, 22, 23, 21]</td>\n",
       "    </tr>\n",
       "    <tr>\n",
       "      <th>4</th>\n",
       "      <td>29352917@N00</td>\n",
       "      <td>1524</td>\n",
       "      <td>[29, 30, 16, 29, 16, 29]</td>\n",
       "    </tr>\n",
       "    <tr>\n",
       "      <th>5</th>\n",
       "      <td>30624156@N00</td>\n",
       "      <td>1598</td>\n",
       "      <td>[28, 7, 30, 28, 22, 27]</td>\n",
       "    </tr>\n",
       "    <tr>\n",
       "      <th>6</th>\n",
       "      <td>32827327@N03</td>\n",
       "      <td>1786</td>\n",
       "      <td>[20, 6, 25, 11, 30, 24]</td>\n",
       "    </tr>\n",
       "    <tr>\n",
       "      <th>7</th>\n",
       "      <td>33547369@N00</td>\n",
       "      <td>1877</td>\n",
       "      <td>[23, 21, 23, 22, 23, 22]</td>\n",
       "    </tr>\n",
       "    <tr>\n",
       "      <th>8</th>\n",
       "      <td>34128007@N04</td>\n",
       "      <td>1912</td>\n",
       "      <td>[8, 16, 4, 1, 29, 16]</td>\n",
       "    </tr>\n",
       "    <tr>\n",
       "      <th>9</th>\n",
       "      <td>34314322@N00</td>\n",
       "      <td>1993</td>\n",
       "      <td>[30, 22, 28, 29, 30, 16]</td>\n",
       "    </tr>\n",
       "    <tr>\n",
       "      <th>10</th>\n",
       "      <td>35034347485@N01</td>\n",
       "      <td>2069</td>\n",
       "      <td>[6, 21, 23, 28, 22, 28]</td>\n",
       "    </tr>\n",
       "    <tr>\n",
       "      <th>11</th>\n",
       "      <td>35237095252@N01</td>\n",
       "      <td>2158</td>\n",
       "      <td>[30, 7, 30, 16, 4, 16]</td>\n",
       "    </tr>\n",
       "    <tr>\n",
       "      <th>12</th>\n",
       "      <td>44925192@N00</td>\n",
       "      <td>2916</td>\n",
       "      <td>[21, 7, 30, 16, 4, 16]</td>\n",
       "    </tr>\n",
       "    <tr>\n",
       "      <th>13</th>\n",
       "      <td>49503002894@N01</td>\n",
       "      <td>3401</td>\n",
       "      <td>[22, 8, 22, 8, 22, 3]</td>\n",
       "    </tr>\n",
       "    <tr>\n",
       "      <th>14</th>\n",
       "      <td>51035610516@N01</td>\n",
       "      <td>3501</td>\n",
       "      <td>[21, 30, 8, 16, 4, 16]</td>\n",
       "    </tr>\n",
       "    <tr>\n",
       "      <th>15</th>\n",
       "      <td>51035681908@N01</td>\n",
       "      <td>3504</td>\n",
       "      <td>[21, 22, 4, 16, 25, 11]</td>\n",
       "    </tr>\n",
       "    <tr>\n",
       "      <th>16</th>\n",
       "      <td>84987970@N00</td>\n",
       "      <td>5180</td>\n",
       "      <td>[22, 28, 22, 23, 21, 22]</td>\n",
       "    </tr>\n",
       "    <tr>\n",
       "      <th>17</th>\n",
       "      <td>84987970@N00</td>\n",
       "      <td>5250</td>\n",
       "      <td>[30, 23, 21, 22, 6, 16]</td>\n",
       "    </tr>\n",
       "    <tr>\n",
       "      <th>18</th>\n",
       "      <td>84987970@N00</td>\n",
       "      <td>5276</td>\n",
       "      <td>[6, 4, 30, 7, 28, 21]</td>\n",
       "    </tr>\n",
       "    <tr>\n",
       "      <th>19</th>\n",
       "      <td>86292040@N00</td>\n",
       "      <td>5377</td>\n",
       "      <td>[30, 1, 8, 16, 8, 23]</td>\n",
       "    </tr>\n",
       "  </tbody>\n",
       "</table>\n",
       "</div>"
      ],
      "text/plain": [
       "<google.colab.data_table.DataTable object>"
      ]
     },
     "execution_count": 29,
     "metadata": {},
     "output_type": "execute_result"
    }
   ],
   "source": [
    "%%sql\n",
    "create or replace temp view Trajectoire as\n",
    "\n",
    "select userID, seqID, trierPOI(collect_list((date,poiID))) as listePOI\n",
    "from user_visits\n",
    "group by userID, seqID;\n",
    "\n",
    "cache table Trajectoire;\n",
    "\n",
    "select * from Trajectoire\n",
    "where size(listePOI) == 6\n",
    "order by seqID"
   ]
  },
  {
   "cell_type": "markdown",
   "metadata": {
    "id": "Ws2JH1hxG4UY"
   },
   "source": [
    "verification "
   ]
  },
  {
   "cell_type": "code",
   "execution_count": null,
   "metadata": {
    "colab": {
     "base_uri": "https://localhost:8080/",
     "height": 315
    },
    "id": "hkGzhFy9JRKa",
    "outputId": "75362b59-5f48-4e2b-b268-35b8767bc846"
   },
   "outputs": [
    {
     "data": {
      "application/vnd.google.colaboratory.module+javascript": "\n      import \"https://ssl.gstatic.com/colaboratory/data_table/a8bd4d5e58f96183/data_table.js\";\n\n      window.createDataTable({\n        data: [[{\n            'v': 7252786584,\n            'f': \"7252786584\",\n        },\n\"20456447@N03\",\n{\n            'v': 1337381658,\n            'f': \"1337381658\",\n        },\n{\n            'v': 7,\n            'f': \"7\",\n        },\n\"Cultural\",\n{\n            'v': 2064,\n            'f': \"2064\",\n        },\n{\n            'v': 687,\n            'f': \"687\",\n        }],\n [{\n            'v': 7252796922,\n            'f': \"7252796922\",\n        },\n\"20456447@N03\",\n{\n            'v': 1337381696,\n            'f': \"1337381696\",\n        },\n{\n            'v': 7,\n            'f': \"7\",\n        },\n\"Cultural\",\n{\n            'v': 2064,\n            'f': \"2064\",\n        },\n{\n            'v': 687,\n            'f': \"687\",\n        }],\n [{\n            'v': 7259485768,\n            'f': \"7259485768\",\n        },\n\"20456447@N03\",\n{\n            'v': 1337381722,\n            'f': \"1337381722\",\n        },\n{\n            'v': 7,\n            'f': \"7\",\n        },\n\"Cultural\",\n{\n            'v': 2064,\n            'f': \"2064\",\n        },\n{\n            'v': 687,\n            'f': \"687\",\n        }],\n [{\n            'v': 7259486332,\n            'f': \"7259486332\",\n        },\n\"20456447@N03\",\n{\n            'v': 1337381807,\n            'f': \"1337381807\",\n        },\n{\n            'v': 7,\n            'f': \"7\",\n        },\n\"Cultural\",\n{\n            'v': 2064,\n            'f': \"2064\",\n        },\n{\n            'v': 687,\n            'f': \"687\",\n        }],\n [{\n            'v': 7252977842,\n            'f': \"7252977842\",\n        },\n\"20456447@N03\",\n{\n            'v': 1337381855,\n            'f': \"1337381855\",\n        },\n{\n            'v': 7,\n            'f': \"7\",\n        },\n\"Cultural\",\n{\n            'v': 2064,\n            'f': \"2064\",\n        },\n{\n            'v': 687,\n            'f': \"687\",\n        }],\n [{\n            'v': 7252791876,\n            'f': \"7252791876\",\n        },\n\"20456447@N03\",\n{\n            'v': 1337381898,\n            'f': \"1337381898\",\n        },\n{\n            'v': 7,\n            'f': \"7\",\n        },\n\"Cultural\",\n{\n            'v': 2064,\n            'f': \"2064\",\n        },\n{\n            'v': 687,\n            'f': \"687\",\n        }],\n [{\n            'v': 7252977332,\n            'f': \"7252977332\",\n        },\n\"20456447@N03\",\n{\n            'v': 1337381954,\n            'f': \"1337381954\",\n        },\n{\n            'v': 7,\n            'f': \"7\",\n        },\n\"Cultural\",\n{\n            'v': 2064,\n            'f': \"2064\",\n        },\n{\n            'v': 687,\n            'f': \"687\",\n        }],\n [{\n            'v': 7252978536,\n            'f': \"7252978536\",\n        },\n\"20456447@N03\",\n{\n            'v': 1337381978,\n            'f': \"1337381978\",\n        },\n{\n            'v': 7,\n            'f': \"7\",\n        },\n\"Cultural\",\n{\n            'v': 2064,\n            'f': \"2064\",\n        },\n{\n            'v': 687,\n            'f': \"687\",\n        }],\n [{\n            'v': 7252976862,\n            'f': \"7252976862\",\n        },\n\"20456447@N03\",\n{\n            'v': 1337381993,\n            'f': \"1337381993\",\n        },\n{\n            'v': 7,\n            'f': \"7\",\n        },\n\"Cultural\",\n{\n            'v': 2064,\n            'f': \"2064\",\n        },\n{\n            'v': 687,\n            'f': \"687\",\n        }],\n [{\n            'v': 7252975758,\n            'f': \"7252975758\",\n        },\n\"20456447@N03\",\n{\n            'v': 1337382106,\n            'f': \"1337382106\",\n        },\n{\n            'v': 7,\n            'f': \"7\",\n        },\n\"Cultural\",\n{\n            'v': 2064,\n            'f': \"2064\",\n        },\n{\n            'v': 687,\n            'f': \"687\",\n        }],\n [{\n            'v': 7230840028,\n            'f': \"7230840028\",\n        },\n\"20456447@N03\",\n{\n            'v': 1337382511,\n            'f': \"1337382511\",\n        },\n{\n            'v': 7,\n            'f': \"7\",\n        },\n\"Cultural\",\n{\n            'v': 2064,\n            'f': \"2064\",\n        },\n{\n            'v': 687,\n            'f': \"687\",\n        }],\n [{\n            'v': 7259487084,\n            'f': \"7259487084\",\n        },\n\"20456447@N03\",\n{\n            'v': 1337382887,\n            'f': \"1337382887\",\n        },\n{\n            'v': 7,\n            'f': \"7\",\n        },\n\"Cultural\",\n{\n            'v': 2064,\n            'f': \"2064\",\n        },\n{\n            'v': 687,\n            'f': \"687\",\n        }],\n [{\n            'v': 7259405150,\n            'f': \"7259405150\",\n        },\n\"20456447@N03\",\n{\n            'v': 1337383038,\n            'f': \"1337383038\",\n        },\n{\n            'v': 7,\n            'f': \"7\",\n        },\n\"Cultural\",\n{\n            'v': 2064,\n            'f': \"2064\",\n        },\n{\n            'v': 687,\n            'f': \"687\",\n        }],\n [{\n            'v': 7259487618,\n            'f': \"7259487618\",\n        },\n\"20456447@N03\",\n{\n            'v': 1337383150,\n            'f': \"1337383150\",\n        },\n{\n            'v': 7,\n            'f': \"7\",\n        },\n\"Cultural\",\n{\n            'v': 2064,\n            'f': \"2064\",\n        },\n{\n            'v': 687,\n            'f': \"687\",\n        }],\n [{\n            'v': 7259406056,\n            'f': \"7259406056\",\n        },\n\"20456447@N03\",\n{\n            'v': 1337383362,\n            'f': \"1337383362\",\n        },\n{\n            'v': 7,\n            'f': \"7\",\n        },\n\"Cultural\",\n{\n            'v': 2064,\n            'f': \"2064\",\n        },\n{\n            'v': 687,\n            'f': \"687\",\n        }],\n [{\n            'v': 7259406690,\n            'f': \"7259406690\",\n        },\n\"20456447@N03\",\n{\n            'v': 1337383391,\n            'f': \"1337383391\",\n        },\n{\n            'v': 7,\n            'f': \"7\",\n        },\n\"Cultural\",\n{\n            'v': 2064,\n            'f': \"2064\",\n        },\n{\n            'v': 687,\n            'f': \"687\",\n        }],\n [{\n            'v': 7259407166,\n            'f': \"7259407166\",\n        },\n\"20456447@N03\",\n{\n            'v': 1337383412,\n            'f': \"1337383412\",\n        },\n{\n            'v': 7,\n            'f': \"7\",\n        },\n\"Cultural\",\n{\n            'v': 2064,\n            'f': \"2064\",\n        },\n{\n            'v': 687,\n            'f': \"687\",\n        }],\n [{\n            'v': 7252302804,\n            'f': \"7252302804\",\n        },\n\"20456447@N03\",\n{\n            'v': 1337387676,\n            'f': \"1337387676\",\n        },\n{\n            'v': 16,\n            'f': \"16\",\n        },\n\"Amusement\",\n{\n            'v': 3553,\n            'f': \"3553\",\n        },\n{\n            'v': 687,\n            'f': \"687\",\n        }],\n [{\n            'v': 7238363116,\n            'f': \"7238363116\",\n        },\n\"20456447@N03\",\n{\n            'v': 1337387908,\n            'f': \"1337387908\",\n        },\n{\n            'v': 16,\n            'f': \"16\",\n        },\n\"Amusement\",\n{\n            'v': 3553,\n            'f': \"3553\",\n        },\n{\n            'v': 687,\n            'f': \"687\",\n        }],\n [{\n            'v': 7238363826,\n            'f': \"7238363826\",\n        },\n\"20456447@N03\",\n{\n            'v': 1337387930,\n            'f': \"1337387930\",\n        },\n{\n            'v': 16,\n            'f': \"16\",\n        },\n\"Amusement\",\n{\n            'v': 3553,\n            'f': \"3553\",\n        },\n{\n            'v': 687,\n            'f': \"687\",\n        }],\n [{\n            'v': 7238362452,\n            'f': \"7238362452\",\n        },\n\"20456447@N03\",\n{\n            'v': 1337387941,\n            'f': \"1337387941\",\n        },\n{\n            'v': 16,\n            'f': \"16\",\n        },\n\"Amusement\",\n{\n            'v': 3553,\n            'f': \"3553\",\n        },\n{\n            'v': 687,\n            'f': \"687\",\n        }],\n [{\n            'v': 7238364578,\n            'f': \"7238364578\",\n        },\n\"20456447@N03\",\n{\n            'v': 1337387986,\n            'f': \"1337387986\",\n        },\n{\n            'v': 16,\n            'f': \"16\",\n        },\n\"Amusement\",\n{\n            'v': 3553,\n            'f': \"3553\",\n        },\n{\n            'v': 687,\n            'f': \"687\",\n        }],\n [{\n            'v': 7237697792,\n            'f': \"7237697792\",\n        },\n\"20456447@N03\",\n{\n            'v': 1337388006,\n            'f': \"1337388006\",\n        },\n{\n            'v': 16,\n            'f': \"16\",\n        },\n\"Amusement\",\n{\n            'v': 3553,\n            'f': \"3553\",\n        },\n{\n            'v': 687,\n            'f': \"687\",\n        }],\n [{\n            'v': 7237698694,\n            'f': \"7237698694\",\n        },\n\"20456447@N03\",\n{\n            'v': 1337388117,\n            'f': \"1337388117\",\n        },\n{\n            'v': 4,\n            'f': \"4\",\n        },\n\"Sport\",\n{\n            'v': 3056,\n            'f': \"3056\",\n        },\n{\n            'v': 687,\n            'f': \"687\",\n        }],\n [{\n            'v': 7252765558,\n            'f': \"7252765558\",\n        },\n\"20456447@N03\",\n{\n            'v': 1337388166,\n            'f': \"1337388166\",\n        },\n{\n            'v': 4,\n            'f': \"4\",\n        },\n\"Sport\",\n{\n            'v': 3056,\n            'f': \"3056\",\n        },\n{\n            'v': 687,\n            'f': \"687\",\n        }],\n [{\n            'v': 7252327012,\n            'f': \"7252327012\",\n        },\n\"20456447@N03\",\n{\n            'v': 1337388196,\n            'f': \"1337388196\",\n        },\n{\n            'v': 4,\n            'f': \"4\",\n        },\n\"Sport\",\n{\n            'v': 3056,\n            'f': \"3056\",\n        },\n{\n            'v': 687,\n            'f': \"687\",\n        }],\n [{\n            'v': 7252326464,\n            'f': \"7252326464\",\n        },\n\"20456447@N03\",\n{\n            'v': 1337388248,\n            'f': \"1337388248\",\n        },\n{\n            'v': 4,\n            'f': \"4\",\n        },\n\"Sport\",\n{\n            'v': 3056,\n            'f': \"3056\",\n        },\n{\n            'v': 687,\n            'f': \"687\",\n        }],\n [{\n            'v': 7257645080,\n            'f': \"7257645080\",\n        },\n\"20456447@N03\",\n{\n            'v': 1337388379,\n            'f': \"1337388379\",\n        },\n{\n            'v': 4,\n            'f': \"4\",\n        },\n\"Sport\",\n{\n            'v': 3056,\n            'f': \"3056\",\n        },\n{\n            'v': 687,\n            'f': \"687\",\n        }],\n [{\n            'v': 7252379098,\n            'f': \"7252379098\",\n        },\n\"20456447@N03\",\n{\n            'v': 1337388429,\n            'f': \"1337388429\",\n        },\n{\n            'v': 4,\n            'f': \"4\",\n        },\n\"Sport\",\n{\n            'v': 3056,\n            'f': \"3056\",\n        },\n{\n            'v': 687,\n            'f': \"687\",\n        }],\n [{\n            'v': 7249311662,\n            'f': \"7249311662\",\n        },\n\"20456447@N03\",\n{\n            'v': 1337388569,\n            'f': \"1337388569\",\n        },\n{\n            'v': 4,\n            'f': \"4\",\n        },\n\"Sport\",\n{\n            'v': 3056,\n            'f': \"3056\",\n        },\n{\n            'v': 687,\n            'f': \"687\",\n        }],\n [{\n            'v': 7238398964,\n            'f': \"7238398964\",\n        },\n\"20456447@N03\",\n{\n            'v': 1337388681,\n            'f': \"1337388681\",\n        },\n{\n            'v': 4,\n            'f': \"4\",\n        },\n\"Sport\",\n{\n            'v': 3056,\n            'f': \"3056\",\n        },\n{\n            'v': 687,\n            'f': \"687\",\n        }],\n [{\n            'v': 7257664334,\n            'f': \"7257664334\",\n        },\n\"20456447@N03\",\n{\n            'v': 1337388724,\n            'f': \"1337388724\",\n        },\n{\n            'v': 4,\n            'f': \"4\",\n        },\n\"Sport\",\n{\n            'v': 3056,\n            'f': \"3056\",\n        },\n{\n            'v': 687,\n            'f': \"687\",\n        }],\n [{\n            'v': 7238400702,\n            'f': \"7238400702\",\n        },\n\"20456447@N03\",\n{\n            'v': 1337388967,\n            'f': \"1337388967\",\n        },\n{\n            'v': 4,\n            'f': \"4\",\n        },\n\"Sport\",\n{\n            'v': 3056,\n            'f': \"3056\",\n        },\n{\n            'v': 687,\n            'f': \"687\",\n        }],\n [{\n            'v': 7249276496,\n            'f': \"7249276496\",\n        },\n\"20456447@N03\",\n{\n            'v': 1337389075,\n            'f': \"1337389075\",\n        },\n{\n            'v': 4,\n            'f': \"4\",\n        },\n\"Sport\",\n{\n            'v': 3056,\n            'f': \"3056\",\n        },\n{\n            'v': 687,\n            'f': \"687\",\n        }],\n [{\n            'v': 7231011104,\n            'f': \"7231011104\",\n        },\n\"20456447@N03\",\n{\n            'v': 1337389155,\n            'f': \"1337389155\",\n        },\n{\n            'v': 4,\n            'f': \"4\",\n        },\n\"Sport\",\n{\n            'v': 3056,\n            'f': \"3056\",\n        },\n{\n            'v': 687,\n            'f': \"687\",\n        }],\n [{\n            'v': 7256496320,\n            'f': \"7256496320\",\n        },\n\"20456447@N03\",\n{\n            'v': 1337389296,\n            'f': \"1337389296\",\n        },\n{\n            'v': 8,\n            'f': \"8\",\n        },\n\"Cultural\",\n{\n            'v': 1736,\n            'f': \"1736\",\n        },\n{\n            'v': 687,\n            'f': \"687\",\n        }],\n [{\n            'v': 7257687452,\n            'f': \"7257687452\",\n        },\n\"20456447@N03\",\n{\n            'v': 1337389361,\n            'f': \"1337389361\",\n        },\n{\n            'v': 8,\n            'f': \"8\",\n        },\n\"Cultural\",\n{\n            'v': 1736,\n            'f': \"1736\",\n        },\n{\n            'v': 687,\n            'f': \"687\",\n        }],\n [{\n            'v': 7257856730,\n            'f': \"7257856730\",\n        },\n\"20456447@N03\",\n{\n            'v': 1337390090,\n            'f': \"1337390090\",\n        },\n{\n            'v': 4,\n            'f': \"4\",\n        },\n\"Sport\",\n{\n            'v': 3056,\n            'f': \"3056\",\n        },\n{\n            'v': 687,\n            'f': \"687\",\n        }],\n [{\n            'v': 7252396748,\n            'f': \"7252396748\",\n        },\n\"20456447@N03\",\n{\n            'v': 1337390177,\n            'f': \"1337390177\",\n        },\n{\n            'v': 4,\n            'f': \"4\",\n        },\n\"Sport\",\n{\n            'v': 3056,\n            'f': \"3056\",\n        },\n{\n            'v': 687,\n            'f': \"687\",\n        }],\n [{\n            'v': 7258292190,\n            'f': \"7258292190\",\n        },\n\"20456447@N03\",\n{\n            'v': 1337393542,\n            'f': \"1337393542\",\n        },\n{\n            'v': 4,\n            'f': \"4\",\n        },\n\"Sport\",\n{\n            'v': 3056,\n            'f': \"3056\",\n        },\n{\n            'v': 687,\n            'f': \"687\",\n        }],\n [{\n            'v': 7251297482,\n            'f': \"7251297482\",\n        },\n\"20456447@N03\",\n{\n            'v': 1337393553,\n            'f': \"1337393553\",\n        },\n{\n            'v': 4,\n            'f': \"4\",\n        },\n\"Sport\",\n{\n            'v': 3056,\n            'f': \"3056\",\n        },\n{\n            'v': 687,\n            'f': \"687\",\n        }],\n [{\n            'v': 7251309652,\n            'f': \"7251309652\",\n        },\n\"20456447@N03\",\n{\n            'v': 1337393633,\n            'f': \"1337393633\",\n        },\n{\n            'v': 4,\n            'f': \"4\",\n        },\n\"Sport\",\n{\n            'v': 3056,\n            'f': \"3056\",\n        },\n{\n            'v': 687,\n            'f': \"687\",\n        }],\n [{\n            'v': 7252411316,\n            'f': \"7252411316\",\n        },\n\"20456447@N03\",\n{\n            'v': 1337393746,\n            'f': \"1337393746\",\n        },\n{\n            'v': 4,\n            'f': \"4\",\n        },\n\"Sport\",\n{\n            'v': 3056,\n            'f': \"3056\",\n        },\n{\n            'v': 687,\n            'f': \"687\",\n        }],\n [{\n            'v': 7251312174,\n            'f': \"7251312174\",\n        },\n\"20456447@N03\",\n{\n            'v': 1337394078,\n            'f': \"1337394078\",\n        },\n{\n            'v': 4,\n            'f': \"4\",\n        },\n\"Sport\",\n{\n            'v': 3056,\n            'f': \"3056\",\n        },\n{\n            'v': 687,\n            'f': \"687\",\n        }],\n [{\n            'v': 7258305976,\n            'f': \"7258305976\",\n        },\n\"20456447@N03\",\n{\n            'v': 1337394185,\n            'f': \"1337394185\",\n        },\n{\n            'v': 4,\n            'f': \"4\",\n        },\n\"Sport\",\n{\n            'v': 3056,\n            'f': \"3056\",\n        },\n{\n            'v': 687,\n            'f': \"687\",\n        }],\n [{\n            'v': 7258316298,\n            'f': \"7258316298\",\n        },\n\"20456447@N03\",\n{\n            'v': 1337394286,\n            'f': \"1337394286\",\n        },\n{\n            'v': 4,\n            'f': \"4\",\n        },\n\"Sport\",\n{\n            'v': 3056,\n            'f': \"3056\",\n        },\n{\n            'v': 687,\n            'f': \"687\",\n        }],\n [{\n            'v': 7258329106,\n            'f': \"7258329106\",\n        },\n\"20456447@N03\",\n{\n            'v': 1337394326,\n            'f': \"1337394326\",\n        },\n{\n            'v': 4,\n            'f': \"4\",\n        },\n\"Sport\",\n{\n            'v': 3056,\n            'f': \"3056\",\n        },\n{\n            'v': 687,\n            'f': \"687\",\n        }],\n [{\n            'v': 7251306066,\n            'f': \"7251306066\",\n        },\n\"20456447@N03\",\n{\n            'v': 1337394933,\n            'f': \"1337394933\",\n        },\n{\n            'v': 4,\n            'f': \"4\",\n        },\n\"Sport\",\n{\n            'v': 3056,\n            'f': \"3056\",\n        },\n{\n            'v': 687,\n            'f': \"687\",\n        }],\n [{\n            'v': 7251315344,\n            'f': \"7251315344\",\n        },\n\"20456447@N03\",\n{\n            'v': 1337395311,\n            'f': \"1337395311\",\n        },\n{\n            'v': 4,\n            'f': \"4\",\n        },\n\"Sport\",\n{\n            'v': 3056,\n            'f': \"3056\",\n        },\n{\n            'v': 687,\n            'f': \"687\",\n        }],\n [{\n            'v': 7251301854,\n            'f': \"7251301854\",\n        },\n\"20456447@N03\",\n{\n            'v': 1337396361,\n            'f': \"1337396361\",\n        },\n{\n            'v': 4,\n            'f': \"4\",\n        },\n\"Sport\",\n{\n            'v': 3056,\n            'f': \"3056\",\n        },\n{\n            'v': 687,\n            'f': \"687\",\n        }],\n [{\n            'v': 7251310886,\n            'f': \"7251310886\",\n        },\n\"20456447@N03\",\n{\n            'v': 1337396424,\n            'f': \"1337396424\",\n        },\n{\n            'v': 4,\n            'f': \"4\",\n        },\n\"Sport\",\n{\n            'v': 3056,\n            'f': \"3056\",\n        },\n{\n            'v': 687,\n            'f': \"687\",\n        }],\n [{\n            'v': 7238398310,\n            'f': \"7238398310\",\n        },\n\"20456447@N03\",\n{\n            'v': 1337396473,\n            'f': \"1337396473\",\n        },\n{\n            'v': 4,\n            'f': \"4\",\n        },\n\"Sport\",\n{\n            'v': 3056,\n            'f': \"3056\",\n        },\n{\n            'v': 687,\n            'f': \"687\",\n        }],\n [{\n            'v': 7251308588,\n            'f': \"7251308588\",\n        },\n\"20456447@N03\",\n{\n            'v': 1337396546,\n            'f': \"1337396546\",\n        },\n{\n            'v': 4,\n            'f': \"4\",\n        },\n\"Sport\",\n{\n            'v': 3056,\n            'f': \"3056\",\n        },\n{\n            'v': 687,\n            'f': \"687\",\n        }],\n [{\n            'v': 7237703688,\n            'f': \"7237703688\",\n        },\n\"20456447@N03\",\n{\n            'v': 1337398089,\n            'f': \"1337398089\",\n        },\n{\n            'v': 4,\n            'f': \"4\",\n        },\n\"Sport\",\n{\n            'v': 3056,\n            'f': \"3056\",\n        },\n{\n            'v': 687,\n            'f': \"687\",\n        }],\n [{\n            'v': 7251316328,\n            'f': \"7251316328\",\n        },\n\"20456447@N03\",\n{\n            'v': 1337398338,\n            'f': \"1337398338\",\n        },\n{\n            'v': 4,\n            'f': \"4\",\n        },\n\"Sport\",\n{\n            'v': 3056,\n            'f': \"3056\",\n        },\n{\n            'v': 687,\n            'f': \"687\",\n        }],\n [{\n            'v': 7251299612,\n            'f': \"7251299612\",\n        },\n\"20456447@N03\",\n{\n            'v': 1337398338,\n            'f': \"1337398338\",\n        },\n{\n            'v': 4,\n            'f': \"4\",\n        },\n\"Sport\",\n{\n            'v': 3056,\n            'f': \"3056\",\n        },\n{\n            'v': 687,\n            'f': \"687\",\n        }],\n [{\n            'v': 7237699402,\n            'f': \"7237699402\",\n        },\n\"20456447@N03\",\n{\n            'v': 1337398860,\n            'f': \"1337398860\",\n        },\n{\n            'v': 4,\n            'f': \"4\",\n        },\n\"Sport\",\n{\n            'v': 3056,\n            'f': \"3056\",\n        },\n{\n            'v': 687,\n            'f': \"687\",\n        }],\n [{\n            'v': 7237701682,\n            'f': \"7237701682\",\n        },\n\"20456447@N03\",\n{\n            'v': 1337398969,\n            'f': \"1337398969\",\n        },\n{\n            'v': 4,\n            'f': \"4\",\n        },\n\"Sport\",\n{\n            'v': 3056,\n            'f': \"3056\",\n        },\n{\n            'v': 687,\n            'f': \"687\",\n        }],\n [{\n            'v': 7251305214,\n            'f': \"7251305214\",\n        },\n\"20456447@N03\",\n{\n            'v': 1337399120,\n            'f': \"1337399120\",\n        },\n{\n            'v': 4,\n            'f': \"4\",\n        },\n\"Sport\",\n{\n            'v': 3056,\n            'f': \"3056\",\n        },\n{\n            'v': 687,\n            'f': \"687\",\n        }],\n [{\n            'v': 7258369076,\n            'f': \"7258369076\",\n        },\n\"20456447@N03\",\n{\n            'v': 1337399150,\n            'f': \"1337399150\",\n        },\n{\n            'v': 4,\n            'f': \"4\",\n        },\n\"Sport\",\n{\n            'v': 3056,\n            'f': \"3056\",\n        },\n{\n            'v': 687,\n            'f': \"687\",\n        }],\n [{\n            'v': 7237703022,\n            'f': \"7237703022\",\n        },\n\"20456447@N03\",\n{\n            'v': 1337399168,\n            'f': \"1337399168\",\n        },\n{\n            'v': 4,\n            'f': \"4\",\n        },\n\"Sport\",\n{\n            'v': 3056,\n            'f': \"3056\",\n        },\n{\n            'v': 687,\n            'f': \"687\",\n        }],\n [{\n            'v': 7237702280,\n            'f': \"7237702280\",\n        },\n\"20456447@N03\",\n{\n            'v': 1337399283,\n            'f': \"1337399283\",\n        },\n{\n            'v': 4,\n            'f': \"4\",\n        },\n\"Sport\",\n{\n            'v': 3056,\n            'f': \"3056\",\n        },\n{\n            'v': 687,\n            'f': \"687\",\n        }],\n [{\n            'v': 7258400456,\n            'f': \"7258400456\",\n        },\n\"20456447@N03\",\n{\n            'v': 1337399313,\n            'f': \"1337399313\",\n        },\n{\n            'v': 4,\n            'f': \"4\",\n        },\n\"Sport\",\n{\n            'v': 3056,\n            'f': \"3056\",\n        },\n{\n            'v': 687,\n            'f': \"687\",\n        }],\n [{\n            'v': 7258439814,\n            'f': \"7258439814\",\n        },\n\"20456447@N03\",\n{\n            'v': 1337399635,\n            'f': \"1337399635\",\n        },\n{\n            'v': 4,\n            'f': \"4\",\n        },\n\"Sport\",\n{\n            'v': 3056,\n            'f': \"3056\",\n        },\n{\n            'v': 687,\n            'f': \"687\",\n        }],\n [{\n            'v': 7252451652,\n            'f': \"7252451652\",\n        },\n\"20456447@N03\",\n{\n            'v': 1337400130,\n            'f': \"1337400130\",\n        },\n{\n            'v': 4,\n            'f': \"4\",\n        },\n\"Sport\",\n{\n            'v': 3056,\n            'f': \"3056\",\n        },\n{\n            'v': 687,\n            'f': \"687\",\n        }],\n [{\n            'v': 7251298794,\n            'f': \"7251298794\",\n        },\n\"20456447@N03\",\n{\n            'v': 1337400316,\n            'f': \"1337400316\",\n        },\n{\n            'v': 4,\n            'f': \"4\",\n        },\n\"Sport\",\n{\n            'v': 3056,\n            'f': \"3056\",\n        },\n{\n            'v': 687,\n            'f': \"687\",\n        }],\n [{\n            'v': 7251313128,\n            'f': \"7251313128\",\n        },\n\"20456447@N03\",\n{\n            'v': 1337400410,\n            'f': \"1337400410\",\n        },\n{\n            'v': 4,\n            'f': \"4\",\n        },\n\"Sport\",\n{\n            'v': 3056,\n            'f': \"3056\",\n        },\n{\n            'v': 687,\n            'f': \"687\",\n        }],\n [{\n            'v': 7251300820,\n            'f': \"7251300820\",\n        },\n\"20456447@N03\",\n{\n            'v': 1337400419,\n            'f': \"1337400419\",\n        },\n{\n            'v': 4,\n            'f': \"4\",\n        },\n\"Sport\",\n{\n            'v': 3056,\n            'f': \"3056\",\n        },\n{\n            'v': 687,\n            'f': \"687\",\n        }],\n [{\n            'v': 7238401384,\n            'f': \"7238401384\",\n        },\n\"20456447@N03\",\n{\n            'v': 1337400963,\n            'f': \"1337400963\",\n        },\n{\n            'v': 4,\n            'f': \"4\",\n        },\n\"Sport\",\n{\n            'v': 3056,\n            'f': \"3056\",\n        },\n{\n            'v': 687,\n            'f': \"687\",\n        }],\n [{\n            'v': 7251302984,\n            'f': \"7251302984\",\n        },\n\"20456447@N03\",\n{\n            'v': 1337401019,\n            'f': \"1337401019\",\n        },\n{\n            'v': 4,\n            'f': \"4\",\n        },\n\"Sport\",\n{\n            'v': 3056,\n            'f': \"3056\",\n        },\n{\n            'v': 687,\n            'f': \"687\",\n        }],\n [{\n            'v': 7251306984,\n            'f': \"7251306984\",\n        },\n\"20456447@N03\",\n{\n            'v': 1337401205,\n            'f': \"1337401205\",\n        },\n{\n            'v': 4,\n            'f': \"4\",\n        },\n\"Sport\",\n{\n            'v': 3056,\n            'f': \"3056\",\n        },\n{\n            'v': 687,\n            'f': \"687\",\n        }],\n [{\n            'v': 7251314184,\n            'f': \"7251314184\",\n        },\n\"20456447@N03\",\n{\n            'v': 1337401251,\n            'f': \"1337401251\",\n        },\n{\n            'v': 4,\n            'f': \"4\",\n        },\n\"Sport\",\n{\n            'v': 3056,\n            'f': \"3056\",\n        },\n{\n            'v': 687,\n            'f': \"687\",\n        }],\n [{\n            'v': 7258481548,\n            'f': \"7258481548\",\n        },\n\"20456447@N03\",\n{\n            'v': 1337401343,\n            'f': \"1337401343\",\n        },\n{\n            'v': 4,\n            'f': \"4\",\n        },\n\"Sport\",\n{\n            'v': 3056,\n            'f': \"3056\",\n        },\n{\n            'v': 687,\n            'f': \"687\",\n        }],\n [{\n            'v': 7251304330,\n            'f': \"7251304330\",\n        },\n\"20456447@N03\",\n{\n            'v': 1337401397,\n            'f': \"1337401397\",\n        },\n{\n            'v': 4,\n            'f': \"4\",\n        },\n\"Sport\",\n{\n            'v': 3056,\n            'f': \"3056\",\n        },\n{\n            'v': 687,\n            'f': \"687\",\n        }],\n [{\n            'v': 7238339286,\n            'f': \"7238339286\",\n        },\n\"20456447@N03\",\n{\n            'v': 1337417651,\n            'f': \"1337417651\",\n        },\n{\n            'v': 16,\n            'f': \"16\",\n        },\n\"Amusement\",\n{\n            'v': 3553,\n            'f': \"3553\",\n        },\n{\n            'v': 687,\n            'f': \"687\",\n        }],\n [{\n            'v': 7238399830,\n            'f': \"7238399830\",\n        },\n\"20456447@N03\",\n{\n            'v': 1337418633,\n            'f': \"1337418633\",\n        },\n{\n            'v': 16,\n            'f': \"16\",\n        },\n\"Amusement\",\n{\n            'v': 3553,\n            'f': \"3553\",\n        },\n{\n            'v': 687,\n            'f': \"687\",\n        }],\n [{\n            'v': 7238072104,\n            'f': \"7238072104\",\n        },\n\"20456447@N03\",\n{\n            'v': 1337420623,\n            'f': \"1337420623\",\n        },\n{\n            'v': 16,\n            'f': \"16\",\n        },\n\"Amusement\",\n{\n            'v': 3553,\n            'f': \"3553\",\n        },\n{\n            'v': 687,\n            'f': \"687\",\n        }],\n [{\n            'v': 7258512558,\n            'f': \"7258512558\",\n        },\n\"20456447@N03\",\n{\n            'v': 1337420720,\n            'f': \"1337420720\",\n        },\n{\n            'v': 16,\n            'f': \"16\",\n        },\n\"Amusement\",\n{\n            'v': 3553,\n            'f': \"3553\",\n        },\n{\n            'v': 687,\n            'f': \"687\",\n        }],\n [{\n            'v': 7258525484,\n            'f': \"7258525484\",\n        },\n\"20456447@N03\",\n{\n            'v': 1337420961,\n            'f': \"1337420961\",\n        },\n{\n            'v': 16,\n            'f': \"16\",\n        },\n\"Amusement\",\n{\n            'v': 3553,\n            'f': \"3553\",\n        },\n{\n            'v': 687,\n            'f': \"687\",\n        }],\n [{\n            'v': 7256704280,\n            'f': \"7256704280\",\n        },\n\"20456447@N03\",\n{\n            'v': 1337422210,\n            'f': \"1337422210\",\n        },\n{\n            'v': 16,\n            'f': \"16\",\n        },\n\"Amusement\",\n{\n            'v': 3553,\n            'f': \"3553\",\n        },\n{\n            'v': 687,\n            'f': \"687\",\n        }],\n [{\n            'v': 7258547802,\n            'f': \"7258547802\",\n        },\n\"20456447@N03\",\n{\n            'v': 1337422225,\n            'f': \"1337422225\",\n        },\n{\n            'v': 16,\n            'f': \"16\",\n        },\n\"Amusement\",\n{\n            'v': 3553,\n            'f': \"3553\",\n        },\n{\n            'v': 687,\n            'f': \"687\",\n        }],\n [{\n            'v': 7258548982,\n            'f': \"7258548982\",\n        },\n\"20456447@N03\",\n{\n            'v': 1337422303,\n            'f': \"1337422303\",\n        },\n{\n            'v': 16,\n            'f': \"16\",\n        },\n\"Amusement\",\n{\n            'v': 3553,\n            'f': \"3553\",\n        },\n{\n            'v': 687,\n            'f': \"687\",\n        }],\n [{\n            'v': 7258561528,\n            'f': \"7258561528\",\n        },\n\"20456447@N03\",\n{\n            'v': 1337422385,\n            'f': \"1337422385\",\n        },\n{\n            'v': 16,\n            'f': \"16\",\n        },\n\"Amusement\",\n{\n            'v': 3553,\n            'f': \"3553\",\n        },\n{\n            'v': 687,\n            'f': \"687\",\n        }],\n [{\n            'v': 7256713412,\n            'f': \"7256713412\",\n        },\n\"20456447@N03\",\n{\n            'v': 1337422407,\n            'f': \"1337422407\",\n        },\n{\n            'v': 16,\n            'f': \"16\",\n        },\n\"Amusement\",\n{\n            'v': 3553,\n            'f': \"3553\",\n        },\n{\n            'v': 687,\n            'f': \"687\",\n        }],\n [{\n            'v': 7252808214,\n            'f': \"7252808214\",\n        },\n\"20456447@N03\",\n{\n            'v': 1337422442,\n            'f': \"1337422442\",\n        },\n{\n            'v': 16,\n            'f': \"16\",\n        },\n\"Amusement\",\n{\n            'v': 3553,\n            'f': \"3553\",\n        },\n{\n            'v': 687,\n            'f': \"687\",\n        }],\n [{\n            'v': 7252817310,\n            'f': \"7252817310\",\n        },\n\"20456447@N03\",\n{\n            'v': 1337422552,\n            'f': \"1337422552\",\n        },\n{\n            'v': 16,\n            'f': \"16\",\n        },\n\"Amusement\",\n{\n            'v': 3553,\n            'f': \"3553\",\n        },\n{\n            'v': 687,\n            'f': \"687\",\n        }],\n [{\n            'v': 7256727132,\n            'f': \"7256727132\",\n        },\n\"20456447@N03\",\n{\n            'v': 1337422611,\n            'f': \"1337422611\",\n        },\n{\n            'v': 16,\n            'f': \"16\",\n        },\n\"Amusement\",\n{\n            'v': 3553,\n            'f': \"3553\",\n        },\n{\n            'v': 687,\n            'f': \"687\",\n        }],\n [{\n            'v': 7237700856,\n            'f': \"7237700856\",\n        },\n\"20456447@N03\",\n{\n            'v': 1337424914,\n            'f': \"1337424914\",\n        },\n{\n            'v': 16,\n            'f': \"16\",\n        },\n\"Amusement\",\n{\n            'v': 3553,\n            'f': \"3553\",\n        },\n{\n            'v': 687,\n            'f': \"687\",\n        }]],\n        columns: [[\"number\", \"photoID\"], [\"string\", \"userID\"], [\"number\", \"date\"], [\"number\", \"poiID\"], [\"string\", \"poiTheme\"], [\"number\", \"poiFreq\"], [\"number\", \"seqID\"]],\n        columnOptions: [],\n        rowsPerPage: 10,\n        helpUrl: \"https://colab.research.google.com/notebooks/data_table.ipynb\",\n        suppressOutputScrolling: true,\n        minimumWidth: undefined,\n      });\n    ",
      "text/html": [
       "<div>\n",
       "<style scoped>\n",
       "    .dataframe tbody tr th:only-of-type {\n",
       "        vertical-align: middle;\n",
       "    }\n",
       "\n",
       "    .dataframe tbody tr th {\n",
       "        vertical-align: top;\n",
       "    }\n",
       "\n",
       "    .dataframe thead th {\n",
       "        text-align: right;\n",
       "    }\n",
       "</style>\n",
       "<table border=\"1\" class=\"dataframe\">\n",
       "  <thead>\n",
       "    <tr style=\"text-align: right;\">\n",
       "      <th></th>\n",
       "      <th>photoID</th>\n",
       "      <th>userID</th>\n",
       "      <th>date</th>\n",
       "      <th>poiID</th>\n",
       "      <th>poiTheme</th>\n",
       "      <th>poiFreq</th>\n",
       "      <th>seqID</th>\n",
       "    </tr>\n",
       "  </thead>\n",
       "  <tbody>\n",
       "    <tr>\n",
       "      <th>0</th>\n",
       "      <td>7252786584</td>\n",
       "      <td>20456447@N03</td>\n",
       "      <td>1337381658</td>\n",
       "      <td>7</td>\n",
       "      <td>Cultural</td>\n",
       "      <td>2064</td>\n",
       "      <td>687</td>\n",
       "    </tr>\n",
       "    <tr>\n",
       "      <th>1</th>\n",
       "      <td>7252796922</td>\n",
       "      <td>20456447@N03</td>\n",
       "      <td>1337381696</td>\n",
       "      <td>7</td>\n",
       "      <td>Cultural</td>\n",
       "      <td>2064</td>\n",
       "      <td>687</td>\n",
       "    </tr>\n",
       "    <tr>\n",
       "      <th>2</th>\n",
       "      <td>7259485768</td>\n",
       "      <td>20456447@N03</td>\n",
       "      <td>1337381722</td>\n",
       "      <td>7</td>\n",
       "      <td>Cultural</td>\n",
       "      <td>2064</td>\n",
       "      <td>687</td>\n",
       "    </tr>\n",
       "    <tr>\n",
       "      <th>3</th>\n",
       "      <td>7259486332</td>\n",
       "      <td>20456447@N03</td>\n",
       "      <td>1337381807</td>\n",
       "      <td>7</td>\n",
       "      <td>Cultural</td>\n",
       "      <td>2064</td>\n",
       "      <td>687</td>\n",
       "    </tr>\n",
       "    <tr>\n",
       "      <th>4</th>\n",
       "      <td>7252977842</td>\n",
       "      <td>20456447@N03</td>\n",
       "      <td>1337381855</td>\n",
       "      <td>7</td>\n",
       "      <td>Cultural</td>\n",
       "      <td>2064</td>\n",
       "      <td>687</td>\n",
       "    </tr>\n",
       "    <tr>\n",
       "      <th>...</th>\n",
       "      <td>...</td>\n",
       "      <td>...</td>\n",
       "      <td>...</td>\n",
       "      <td>...</td>\n",
       "      <td>...</td>\n",
       "      <td>...</td>\n",
       "      <td>...</td>\n",
       "    </tr>\n",
       "    <tr>\n",
       "      <th>83</th>\n",
       "      <td>7256713412</td>\n",
       "      <td>20456447@N03</td>\n",
       "      <td>1337422407</td>\n",
       "      <td>16</td>\n",
       "      <td>Amusement</td>\n",
       "      <td>3553</td>\n",
       "      <td>687</td>\n",
       "    </tr>\n",
       "    <tr>\n",
       "      <th>84</th>\n",
       "      <td>7252808214</td>\n",
       "      <td>20456447@N03</td>\n",
       "      <td>1337422442</td>\n",
       "      <td>16</td>\n",
       "      <td>Amusement</td>\n",
       "      <td>3553</td>\n",
       "      <td>687</td>\n",
       "    </tr>\n",
       "    <tr>\n",
       "      <th>85</th>\n",
       "      <td>7252817310</td>\n",
       "      <td>20456447@N03</td>\n",
       "      <td>1337422552</td>\n",
       "      <td>16</td>\n",
       "      <td>Amusement</td>\n",
       "      <td>3553</td>\n",
       "      <td>687</td>\n",
       "    </tr>\n",
       "    <tr>\n",
       "      <th>86</th>\n",
       "      <td>7256727132</td>\n",
       "      <td>20456447@N03</td>\n",
       "      <td>1337422611</td>\n",
       "      <td>16</td>\n",
       "      <td>Amusement</td>\n",
       "      <td>3553</td>\n",
       "      <td>687</td>\n",
       "    </tr>\n",
       "    <tr>\n",
       "      <th>87</th>\n",
       "      <td>7237700856</td>\n",
       "      <td>20456447@N03</td>\n",
       "      <td>1337424914</td>\n",
       "      <td>16</td>\n",
       "      <td>Amusement</td>\n",
       "      <td>3553</td>\n",
       "      <td>687</td>\n",
       "    </tr>\n",
       "  </tbody>\n",
       "</table>\n",
       "<p>88 rows × 7 columns</p>\n",
       "</div>"
      ],
      "text/plain": [
       "<google.colab.data_table.DataTable object>"
      ]
     },
     "execution_count": 30,
     "metadata": {},
     "output_type": "execute_result"
    }
   ],
   "source": [
    " %%sql\n",
    " select *\n",
    " from user_Visits\n",
    " where seqID = 687\n",
    " order by date"
   ]
  },
  {
   "cell_type": "markdown",
   "metadata": {
    "id": "dVy-SWDmHDYU"
   },
   "source": [
    "#### 5) Transitions\n",
    "5a) Définir la table Transitions(poi1, poi2, nbTrans) avec nbTrans étant le nombre de déplacements directs de poi1 à poi2.\n",
    "Indication: deux POI apparaissant successivement (poi1 suivi de poi2) dans une séquence forment un déplacement direct entre poi1 et poi2.\n",
    "Une séquence contenant un seul POI ne correspond à aucun déplacement."
   ]
  },
  {
   "cell_type": "code",
   "execution_count": 30,
   "metadata": {
    "colab": {
     "base_uri": "https://localhost:8080/"
    },
    "id": "_mkP2Ztpf1Oq",
    "outputId": "cb1cffd5-bbe1-4c88-e755-413e65916318"
   },
   "outputs": [
    {
     "name": "stdout",
     "output_type": "stream",
     "text": [
      "[(2, 6), (6, 1), (1, 6)]\n"
     ]
    }
   ],
   "source": [
    "def transition(listePOI):\n",
    "  result=[]\n",
    "  if(len(listePOI)==1):\n",
    "    return None\n",
    "  for i in range (0, len(listePOI)-1):\n",
    "    if(listePOI[i] != listePOI[i+1]):\n",
    "      result.append((listePOI[i],listePOI[i+1]))\n",
    "  return result\n",
    "\n",
    "spark.udf.register(\"transition\", transition, ArrayType( StructType( [StructField(\"p1\" , IntegerType()), StructField(\"p2\" , IntegerType()) ] ) ) )\n",
    "\n",
    "# test local\n",
    "print(transition([2,6,1,6]))"
   ]
  },
  {
   "cell_type": "code",
   "execution_count": 31,
   "metadata": {
    "colab": {
     "base_uri": "https://localhost:8080/",
     "height": 315
    },
    "id": "YmvXq9pzIFGw",
    "outputId": "8d2b17be-5f48-4e13-ef6b-2359a220e3b0"
   },
   "outputs": [
    {
     "data": {
      "application/vnd.google.colaboratory.module+javascript": "\n      import \"https://ssl.gstatic.com/colaboratory/data_table/a8bd4d5e58f96183/data_table.js\";\n\n      window.createDataTable({\n        data: [[{\n            'v': 8,\n            'f': \"8\",\n        },\n{\n            'v': 23,\n            'f': \"23\",\n        },\n{\n            'v': 24,\n            'f': \"24\",\n        }],\n [{\n            'v': 33,\n            'f': \"33\",\n        },\n{\n            'v': 21,\n            'f': \"21\",\n        },\n{\n            'v': 25,\n            'f': \"25\",\n        }],\n [{\n            'v': 58,\n            'f': \"58\",\n        },\n{\n            'v': 7,\n            'f': \"7\",\n        },\n{\n            'v': 11,\n            'f': \"11\",\n        }],\n [{\n            'v': 58,\n            'f': \"58\",\n        },\n{\n            'v': 11,\n            'f': \"11\",\n        },\n{\n            'v': 27,\n            'f': \"27\",\n        }],\n [{\n            'v': 59,\n            'f': \"59\",\n        },\n{\n            'v': 11,\n            'f': \"11\",\n        },\n{\n            'v': 27,\n            'f': \"27\",\n        }],\n [{\n            'v': 67,\n            'f': \"67\",\n        },\n{\n            'v': 28,\n            'f': \"28\",\n        },\n{\n            'v': 23,\n            'f': \"23\",\n        }],\n [{\n            'v': 67,\n            'f': \"67\",\n        },\n{\n            'v': 23,\n            'f': \"23\",\n        },\n{\n            'v': 22,\n            'f': \"22\",\n        }],\n [{\n            'v': 67,\n            'f': \"67\",\n        },\n{\n            'v': 22,\n            'f': \"22\",\n        },\n{\n            'v': 28,\n            'f': \"28\",\n        }],\n [{\n            'v': 71,\n            'f': \"71\",\n        },\n{\n            'v': 22,\n            'f': \"22\",\n        },\n{\n            'v': 28,\n            'f': \"28\",\n        }],\n [{\n            'v': 71,\n            'f': \"71\",\n        },\n{\n            'v': 28,\n            'f': \"28\",\n        },\n{\n            'v': 23,\n            'f': \"23\",\n        }],\n [{\n            'v': 71,\n            'f': \"71\",\n        },\n{\n            'v': 23,\n            'f': \"23\",\n        },\n{\n            'v': 21,\n            'f': \"21\",\n        }],\n [{\n            'v': 75,\n            'f': \"75\",\n        },\n{\n            'v': 25,\n            'f': \"25\",\n        },\n{\n            'v': 6,\n            'f': \"6\",\n        }],\n [{\n            'v': 99,\n            'f': \"99\",\n        },\n{\n            'v': 3,\n            'f': \"3\",\n        },\n{\n            'v': 23,\n            'f': \"23\",\n        }],\n [{\n            'v': 99,\n            'f': \"99\",\n        },\n{\n            'v': 23,\n            'f': \"23\",\n        },\n{\n            'v': 27,\n            'f': \"27\",\n        }],\n [{\n            'v': 100,\n            'f': \"100\",\n        },\n{\n            'v': 21,\n            'f': \"21\",\n        },\n{\n            'v': 23,\n            'f': \"23\",\n        }],\n [{\n            'v': 100,\n            'f': \"100\",\n        },\n{\n            'v': 23,\n            'f': \"23\",\n        },\n{\n            'v': 30,\n            'f': \"30\",\n        }],\n [{\n            'v': 102,\n            'f': \"102\",\n        },\n{\n            'v': 23,\n            'f': \"23\",\n        },\n{\n            'v': 30,\n            'f': \"30\",\n        }],\n [{\n            'v': 103,\n            'f': \"103\",\n        },\n{\n            'v': 30,\n            'f': \"30\",\n        },\n{\n            'v': 7,\n            'f': \"7\",\n        }],\n [{\n            'v': 103,\n            'f': \"103\",\n        },\n{\n            'v': 7,\n            'f': \"7\",\n        },\n{\n            'v': 30,\n            'f': \"30\",\n        }],\n [{\n            'v': 104,\n            'f': \"104\",\n        },\n{\n            'v': 23,\n            'f': \"23\",\n        },\n{\n            'v': 30,\n            'f': \"30\",\n        }],\n [{\n            'v': 105,\n            'f': \"105\",\n        },\n{\n            'v': 30,\n            'f': \"30\",\n        },\n{\n            'v': 21,\n            'f': \"21\",\n        }],\n [{\n            'v': 111,\n            'f': \"111\",\n        },\n{\n            'v': 30,\n            'f': \"30\",\n        },\n{\n            'v': 1,\n            'f': \"1\",\n        }],\n [{\n            'v': 113,\n            'f': \"113\",\n        },\n{\n            'v': 30,\n            'f': \"30\",\n        },\n{\n            'v': 7,\n            'f': \"7\",\n        }],\n [{\n            'v': 113,\n            'f': \"113\",\n        },\n{\n            'v': 7,\n            'f': \"7\",\n        },\n{\n            'v': 30,\n            'f': \"30\",\n        }],\n [{\n            'v': 139,\n            'f': \"139\",\n        },\n{\n            'v': 3,\n            'f': \"3\",\n        },\n{\n            'v': 23,\n            'f': \"23\",\n        }],\n [{\n            'v': 139,\n            'f': \"139\",\n        },\n{\n            'v': 23,\n            'f': \"23\",\n        },\n{\n            'v': 22,\n            'f': \"22\",\n        }],\n [{\n            'v': 139,\n            'f': \"139\",\n        },\n{\n            'v': 22,\n            'f': \"22\",\n        },\n{\n            'v': 30,\n            'f': \"30\",\n        }],\n [{\n            'v': 139,\n            'f': \"139\",\n        },\n{\n            'v': 30,\n            'f': \"30\",\n        },\n{\n            'v': 22,\n            'f': \"22\",\n        }],\n [{\n            'v': 149,\n            'f': \"149\",\n        },\n{\n            'v': 2,\n            'f': \"2\",\n        },\n{\n            'v': 17,\n            'f': \"17\",\n        }],\n [{\n            'v': 155,\n            'f': \"155\",\n        },\n{\n            'v': 16,\n            'f': \"16\",\n        },\n{\n            'v': 4,\n            'f': \"4\",\n        }],\n [{\n            'v': 155,\n            'f': \"155\",\n        },\n{\n            'v': 4,\n            'f': \"4\",\n        },\n{\n            'v': 22,\n            'f': \"22\",\n        }],\n [{\n            'v': 157,\n            'f': \"157\",\n        },\n{\n            'v': 27,\n            'f': \"27\",\n        },\n{\n            'v': 23,\n            'f': \"23\",\n        }],\n [{\n            'v': 157,\n            'f': \"157\",\n        },\n{\n            'v': 23,\n            'f': \"23\",\n        },\n{\n            'v': 11,\n            'f': \"11\",\n        }],\n [{\n            'v': 157,\n            'f': \"157\",\n        },\n{\n            'v': 11,\n            'f': \"11\",\n        },\n{\n            'v': 27,\n            'f': \"27\",\n        }],\n [{\n            'v': 158,\n            'f': \"158\",\n        },\n{\n            'v': 15,\n            'f': \"15\",\n        },\n{\n            'v': 1,\n            'f': \"1\",\n        }],\n [{\n            'v': 162,\n            'f': \"162\",\n        },\n{\n            'v': 7,\n            'f': \"7\",\n        },\n{\n            'v': 30,\n            'f': \"30\",\n        }],\n [{\n            'v': 162,\n            'f': \"162\",\n        },\n{\n            'v': 30,\n            'f': \"30\",\n        },\n{\n            'v': 22,\n            'f': \"22\",\n        }],\n [{\n            'v': 164,\n            'f': \"164\",\n        },\n{\n            'v': 29,\n            'f': \"29\",\n        },\n{\n            'v': 11,\n            'f': \"11\",\n        }],\n [{\n            'v': 166,\n            'f': \"166\",\n        },\n{\n            'v': 7,\n            'f': \"7\",\n        },\n{\n            'v': 22,\n            'f': \"22\",\n        }],\n [{\n            'v': 166,\n            'f': \"166\",\n        },\n{\n            'v': 22,\n            'f': \"22\",\n        },\n{\n            'v': 28,\n            'f': \"28\",\n        }],\n [{\n            'v': 169,\n            'f': \"169\",\n        },\n{\n            'v': 16,\n            'f': \"16\",\n        },\n{\n            'v': 4,\n            'f': \"4\",\n        }],\n [{\n            'v': 169,\n            'f': \"169\",\n        },\n{\n            'v': 4,\n            'f': \"4\",\n        },\n{\n            'v': 30,\n            'f': \"30\",\n        }],\n [{\n            'v': 171,\n            'f': \"171\",\n        },\n{\n            'v': 28,\n            'f': \"28\",\n        },\n{\n            'v': 22,\n            'f': \"22\",\n        }],\n [{\n            'v': 171,\n            'f': \"171\",\n        },\n{\n            'v': 22,\n            'f': \"22\",\n        },\n{\n            'v': 28,\n            'f': \"28\",\n        }],\n [{\n            'v': 171,\n            'f': \"171\",\n        },\n{\n            'v': 28,\n            'f': \"28\",\n        },\n{\n            'v': 22,\n            'f': \"22\",\n        }],\n [{\n            'v': 175,\n            'f': \"175\",\n        },\n{\n            'v': 30,\n            'f': \"30\",\n        },\n{\n            'v': 16,\n            'f': \"16\",\n        }],\n [{\n            'v': 197,\n            'f': \"197\",\n        },\n{\n            'v': 25,\n            'f': \"25\",\n        },\n{\n            'v': 3,\n            'f': \"3\",\n        }],\n [{\n            'v': 220,\n            'f': \"220\",\n        },\n{\n            'v': 23,\n            'f': \"23\",\n        },\n{\n            'v': 6,\n            'f': \"6\",\n        }],\n [{\n            'v': 230,\n            'f': \"230\",\n        },\n{\n            'v': 16,\n            'f': \"16\",\n        },\n{\n            'v': 8,\n            'f': \"8\",\n        }],\n [{\n            'v': 230,\n            'f': \"230\",\n        },\n{\n            'v': 8,\n            'f': \"8\",\n        },\n{\n            'v': 16,\n            'f': \"16\",\n        }],\n [{\n            'v': 232,\n            'f': \"232\",\n        },\n{\n            'v': 14,\n            'f': \"14\",\n        },\n{\n            'v': 2,\n            'f': \"2\",\n        }],\n [{\n            'v': 236,\n            'f': \"236\",\n        },\n{\n            'v': 16,\n            'f': \"16\",\n        },\n{\n            'v': 8,\n            'f': \"8\",\n        }],\n [{\n            'v': 239,\n            'f': \"239\",\n        },\n{\n            'v': 21,\n            'f': \"21\",\n        },\n{\n            'v': 23,\n            'f': \"23\",\n        }],\n [{\n            'v': 239,\n            'f': \"239\",\n        },\n{\n            'v': 23,\n            'f': \"23\",\n        },\n{\n            'v': 21,\n            'f': \"21\",\n        }],\n [{\n            'v': 246,\n            'f': \"246\",\n        },\n{\n            'v': 3,\n            'f': \"3\",\n        },\n{\n            'v': 22,\n            'f': \"22\",\n        }],\n [{\n            'v': 253,\n            'f': \"253\",\n        },\n{\n            'v': 24,\n            'f': \"24\",\n        },\n{\n            'v': 11,\n            'f': \"11\",\n        }],\n [{\n            'v': 254,\n            'f': \"254\",\n        },\n{\n            'v': 28,\n            'f': \"28\",\n        },\n{\n            'v': 22,\n            'f': \"22\",\n        }],\n [{\n            'v': 256,\n            'f': \"256\",\n        },\n{\n            'v': 7,\n            'f': \"7\",\n        },\n{\n            'v': 16,\n            'f': \"16\",\n        }],\n [{\n            'v': 262,\n            'f': \"262\",\n        },\n{\n            'v': 16,\n            'f': \"16\",\n        },\n{\n            'v': 13,\n            'f': \"13\",\n        }],\n [{\n            'v': 267,\n            'f': \"267\",\n        },\n{\n            'v': 21,\n            'f': \"21\",\n        },\n{\n            'v': 23,\n            'f': \"23\",\n        }],\n [{\n            'v': 270,\n            'f': \"270\",\n        },\n{\n            'v': 28,\n            'f': \"28\",\n        },\n{\n            'v': 23,\n            'f': \"23\",\n        }],\n [{\n            'v': 271,\n            'f': \"271\",\n        },\n{\n            'v': 16,\n            'f': \"16\",\n        },\n{\n            'v': 28,\n            'f': \"28\",\n        }],\n [{\n            'v': 288,\n            'f': \"288\",\n        },\n{\n            'v': 30,\n            'f': \"30\",\n        },\n{\n            'v': 16,\n            'f': \"16\",\n        }],\n [{\n            'v': 288,\n            'f': \"288\",\n        },\n{\n            'v': 16,\n            'f': \"16\",\n        },\n{\n            'v': 8,\n            'f': \"8\",\n        }],\n [{\n            'v': 289,\n            'f': \"289\",\n        },\n{\n            'v': 1,\n            'f': \"1\",\n        },\n{\n            'v': 8,\n            'f': \"8\",\n        }],\n [{\n            'v': 291,\n            'f': \"291\",\n        },\n{\n            'v': 11,\n            'f': \"11\",\n        },\n{\n            'v': 27,\n            'f': \"27\",\n        }],\n [{\n            'v': 294,\n            'f': \"294\",\n        },\n{\n            'v': 16,\n            'f': \"16\",\n        },\n{\n            'v': 8,\n            'f': \"8\",\n        }],\n [{\n            'v': 294,\n            'f': \"294\",\n        },\n{\n            'v': 8,\n            'f': \"8\",\n        },\n{\n            'v': 16,\n            'f': \"16\",\n        }],\n [{\n            'v': 294,\n            'f': \"294\",\n        },\n{\n            'v': 16,\n            'f': \"16\",\n        },\n{\n            'v': 30,\n            'f': \"30\",\n        }],\n [{\n            'v': 298,\n            'f': \"298\",\n        },\n{\n            'v': 22,\n            'f': \"22\",\n        },\n{\n            'v': 7,\n            'f': \"7\",\n        }],\n [{\n            'v': 298,\n            'f': \"298\",\n        },\n{\n            'v': 7,\n            'f': \"7\",\n        },\n{\n            'v': 23,\n            'f': \"23\",\n        }],\n [{\n            'v': 298,\n            'f': \"298\",\n        },\n{\n            'v': 23,\n            'f': \"23\",\n        },\n{\n            'v': 28,\n            'f': \"28\",\n        }],\n [{\n            'v': 298,\n            'f': \"298\",\n        },\n{\n            'v': 28,\n            'f': \"28\",\n        },\n{\n            'v': 1,\n            'f': \"1\",\n        }],\n [{\n            'v': 298,\n            'f': \"298\",\n        },\n{\n            'v': 1,\n            'f': \"1\",\n        },\n{\n            'v': 29,\n            'f': \"29\",\n        }],\n [{\n            'v': 298,\n            'f': \"298\",\n        },\n{\n            'v': 29,\n            'f': \"29\",\n        },\n{\n            'v': 30,\n            'f': \"30\",\n        }],\n [{\n            'v': 298,\n            'f': \"298\",\n        },\n{\n            'v': 30,\n            'f': \"30\",\n        },\n{\n            'v': 8,\n            'f': \"8\",\n        }],\n [{\n            'v': 298,\n            'f': \"298\",\n        },\n{\n            'v': 8,\n            'f': \"8\",\n        },\n{\n            'v': 29,\n            'f': \"29\",\n        }],\n [{\n            'v': 298,\n            'f': \"298\",\n        },\n{\n            'v': 29,\n            'f': \"29\",\n        },\n{\n            'v': 6,\n            'f': \"6\",\n        }],\n [{\n            'v': 298,\n            'f': \"298\",\n        },\n{\n            'v': 6,\n            'f': \"6\",\n        },\n{\n            'v': 28,\n            'f': \"28\",\n        }],\n [{\n            'v': 298,\n            'f': \"298\",\n        },\n{\n            'v': 28,\n            'f': \"28\",\n        },\n{\n            'v': 23,\n            'f': \"23\",\n        }],\n [{\n            'v': 298,\n            'f': \"298\",\n        },\n{\n            'v': 23,\n            'f': \"23\",\n        },\n{\n            'v': 30,\n            'f': \"30\",\n        }],\n [{\n            'v': 298,\n            'f': \"298\",\n        },\n{\n            'v': 30,\n            'f': \"30\",\n        },\n{\n            'v': 11,\n            'f': \"11\",\n        }],\n [{\n            'v': 298,\n            'f': \"298\",\n        },\n{\n            'v': 11,\n            'f': \"11\",\n        },\n{\n            'v': 24,\n            'f': \"24\",\n        }],\n [{\n            'v': 298,\n            'f': \"298\",\n        },\n{\n            'v': 24,\n            'f': \"24\",\n        },\n{\n            'v': 22,\n            'f': \"22\",\n        }],\n [{\n            'v': 298,\n            'f': \"298\",\n        },\n{\n            'v': 22,\n            'f': \"22\",\n        },\n{\n            'v': 29,\n            'f': \"29\",\n        }],\n [{\n            'v': 298,\n            'f': \"298\",\n        },\n{\n            'v': 29,\n            'f': \"29\",\n        },\n{\n            'v': 4,\n            'f': \"4\",\n        }],\n [{\n            'v': 298,\n            'f': \"298\",\n        },\n{\n            'v': 4,\n            'f': \"4\",\n        },\n{\n            'v': 16,\n            'f': \"16\",\n        }],\n [{\n            'v': 298,\n            'f': \"298\",\n        },\n{\n            'v': 16,\n            'f': \"16\",\n        },\n{\n            'v': 8,\n            'f': \"8\",\n        }],\n [{\n            'v': 298,\n            'f': \"298\",\n        },\n{\n            'v': 8,\n            'f': \"8\",\n        },\n{\n            'v': 30,\n            'f': \"30\",\n        }],\n [{\n            'v': 301,\n            'f': \"301\",\n        },\n{\n            'v': 14,\n            'f': \"14\",\n        },\n{\n            'v': 17,\n            'f': \"17\",\n        }],\n [{\n            'v': 302,\n            'f': \"302\",\n        },\n{\n            'v': 8,\n            'f': \"8\",\n        },\n{\n            'v': 16,\n            'f': \"16\",\n        }],\n [{\n            'v': 302,\n            'f': \"302\",\n        },\n{\n            'v': 16,\n            'f': \"16\",\n        },\n{\n            'v': 4,\n            'f': \"4\",\n        }],\n [{\n            'v': 302,\n            'f': \"302\",\n        },\n{\n            'v': 4,\n            'f': \"4\",\n        },\n{\n            'v': 22,\n            'f': \"22\",\n        }],\n [{\n            'v': 315,\n            'f': \"315\",\n        },\n{\n            'v': 16,\n            'f': \"16\",\n        },\n{\n            'v': 4,\n            'f': \"4\",\n        }],\n [{\n            'v': 315,\n            'f': \"315\",\n        },\n{\n            'v': 4,\n            'f': \"4\",\n        },\n{\n            'v': 16,\n            'f': \"16\",\n        }],\n [{\n            'v': 315,\n            'f': \"315\",\n        },\n{\n            'v': 16,\n            'f': \"16\",\n        },\n{\n            'v': 8,\n            'f': \"8\",\n        }],\n [{\n            'v': 315,\n            'f': \"315\",\n        },\n{\n            'v': 8,\n            'f': \"8\",\n        },\n{\n            'v': 16,\n            'f': \"16\",\n        }],\n [{\n            'v': 316,\n            'f': \"316\",\n        },\n{\n            'v': 21,\n            'f': \"21\",\n        },\n{\n            'v': 27,\n            'f': \"27\",\n        }],\n [{\n            'v': 316,\n            'f': \"316\",\n        },\n{\n            'v': 27,\n            'f': \"27\",\n        },\n{\n            'v': 11,\n            'f': \"11\",\n        }],\n [{\n            'v': 316,\n            'f': \"316\",\n        },\n{\n            'v': 11,\n            'f': \"11\",\n        },\n{\n            'v': 27,\n            'f': \"27\",\n        }]],\n        columns: [[\"number\", \"seqID\"], [\"number\", \"p1\"], [\"number\", \"p2\"]],\n        columnOptions: [],\n        rowsPerPage: 10,\n        helpUrl: \"https://colab.research.google.com/notebooks/data_table.ipynb\",\n        suppressOutputScrolling: true,\n        minimumWidth: undefined,\n      });\n    ",
      "text/html": [
       "<div>\n",
       "<style scoped>\n",
       "    .dataframe tbody tr th:only-of-type {\n",
       "        vertical-align: middle;\n",
       "    }\n",
       "\n",
       "    .dataframe tbody tr th {\n",
       "        vertical-align: top;\n",
       "    }\n",
       "\n",
       "    .dataframe thead th {\n",
       "        text-align: right;\n",
       "    }\n",
       "</style>\n",
       "<table border=\"1\" class=\"dataframe\">\n",
       "  <thead>\n",
       "    <tr style=\"text-align: right;\">\n",
       "      <th></th>\n",
       "      <th>seqID</th>\n",
       "      <th>p1</th>\n",
       "      <th>p2</th>\n",
       "    </tr>\n",
       "  </thead>\n",
       "  <tbody>\n",
       "    <tr>\n",
       "      <th>0</th>\n",
       "      <td>8</td>\n",
       "      <td>23</td>\n",
       "      <td>24</td>\n",
       "    </tr>\n",
       "    <tr>\n",
       "      <th>1</th>\n",
       "      <td>33</td>\n",
       "      <td>21</td>\n",
       "      <td>25</td>\n",
       "    </tr>\n",
       "    <tr>\n",
       "      <th>2</th>\n",
       "      <td>58</td>\n",
       "      <td>7</td>\n",
       "      <td>11</td>\n",
       "    </tr>\n",
       "    <tr>\n",
       "      <th>3</th>\n",
       "      <td>58</td>\n",
       "      <td>11</td>\n",
       "      <td>27</td>\n",
       "    </tr>\n",
       "    <tr>\n",
       "      <th>4</th>\n",
       "      <td>59</td>\n",
       "      <td>11</td>\n",
       "      <td>27</td>\n",
       "    </tr>\n",
       "    <tr>\n",
       "      <th>...</th>\n",
       "      <td>...</td>\n",
       "      <td>...</td>\n",
       "      <td>...</td>\n",
       "    </tr>\n",
       "    <tr>\n",
       "      <th>95</th>\n",
       "      <td>315</td>\n",
       "      <td>16</td>\n",
       "      <td>8</td>\n",
       "    </tr>\n",
       "    <tr>\n",
       "      <th>96</th>\n",
       "      <td>315</td>\n",
       "      <td>8</td>\n",
       "      <td>16</td>\n",
       "    </tr>\n",
       "    <tr>\n",
       "      <th>97</th>\n",
       "      <td>316</td>\n",
       "      <td>21</td>\n",
       "      <td>27</td>\n",
       "    </tr>\n",
       "    <tr>\n",
       "      <th>98</th>\n",
       "      <td>316</td>\n",
       "      <td>27</td>\n",
       "      <td>11</td>\n",
       "    </tr>\n",
       "    <tr>\n",
       "      <th>99</th>\n",
       "      <td>316</td>\n",
       "      <td>11</td>\n",
       "      <td>27</td>\n",
       "    </tr>\n",
       "  </tbody>\n",
       "</table>\n",
       "<p>100 rows × 3 columns</p>\n",
       "</div>"
      ],
      "text/plain": [
       "<google.colab.data_table.DataTable object>"
      ]
     },
     "execution_count": 31,
     "metadata": {},
     "output_type": "execute_result"
    }
   ],
   "source": [
    "%%sql\n",
    "create or replace temp view Transition1 as \n",
    "select seqID, explode(transition(collect_list(poiID))) as transition\n",
    "from user_visits\n",
    "group by seqID;\n",
    "\n",
    "\n",
    "select t.seqID, t.transition.p1,  t.transition.p2\n",
    "from Transition1 t"
   ]
  },
  {
   "cell_type": "code",
   "execution_count": 32,
   "metadata": {
    "colab": {
     "base_uri": "https://localhost:8080/",
     "height": 315
    },
    "id": "6gjXqFmyLB8Y",
    "outputId": "0cce3d56-d76e-44fb-9a80-72af0ca1ab10"
   },
   "outputs": [
    {
     "data": {
      "application/vnd.google.colaboratory.module+javascript": "\n      import \"https://ssl.gstatic.com/colaboratory/data_table/a8bd4d5e58f96183/data_table.js\";\n\n      window.createDataTable({\n        data: [[{\n            'v': 23,\n            'f': \"23\",\n        },\n{\n            'v': 21,\n            'f': \"21\",\n        },\n{\n            'v': 82,\n            'f': \"82\",\n        }],\n [{\n            'v': 22,\n            'f': \"22\",\n        },\n{\n            'v': 28,\n            'f': \"28\",\n        },\n{\n            'v': 70,\n            'f': \"70\",\n        }],\n [{\n            'v': 28,\n            'f': \"28\",\n        },\n{\n            'v': 22,\n            'f': \"22\",\n        },\n{\n            'v': 64,\n            'f': \"64\",\n        }],\n [{\n            'v': 21,\n            'f': \"21\",\n        },\n{\n            'v': 23,\n            'f': \"23\",\n        },\n{\n            'v': 63,\n            'f': \"63\",\n        }],\n [{\n            'v': 7,\n            'f': \"7\",\n        },\n{\n            'v': 30,\n            'f': \"30\",\n        },\n{\n            'v': 57,\n            'f': \"57\",\n        }],\n [{\n            'v': 30,\n            'f': \"30\",\n        },\n{\n            'v': 7,\n            'f': \"7\",\n        },\n{\n            'v': 48,\n            'f': \"48\",\n        }],\n [{\n            'v': 23,\n            'f': \"23\",\n        },\n{\n            'v': 28,\n            'f': \"28\",\n        },\n{\n            'v': 43,\n            'f': \"43\",\n        }],\n [{\n            'v': 28,\n            'f': \"28\",\n        },\n{\n            'v': 23,\n            'f': \"23\",\n        },\n{\n            'v': 42,\n            'f': \"42\",\n        }],\n [{\n            'v': 8,\n            'f': \"8\",\n        },\n{\n            'v': 16,\n            'f': \"16\",\n        },\n{\n            'v': 41,\n            'f': \"41\",\n        }],\n [{\n            'v': 16,\n            'f': \"16\",\n        },\n{\n            'v': 8,\n            'f': \"8\",\n        },\n{\n            'v': 40,\n            'f': \"40\",\n        }],\n [{\n            'v': 16,\n            'f': \"16\",\n        },\n{\n            'v': 4,\n            'f': \"4\",\n        },\n{\n            'v': 38,\n            'f': \"38\",\n        }],\n [{\n            'v': 4,\n            'f': \"4\",\n        },\n{\n            'v': 16,\n            'f': \"16\",\n        },\n{\n            'v': 37,\n            'f': \"37\",\n        }],\n [{\n            'v': 23,\n            'f': \"23\",\n        },\n{\n            'v': 22,\n            'f': \"22\",\n        },\n{\n            'v': 28,\n            'f': \"28\",\n        }],\n [{\n            'v': 11,\n            'f': \"11\",\n        },\n{\n            'v': 27,\n            'f': \"27\",\n        },\n{\n            'v': 26,\n            'f': \"26\",\n        }],\n [{\n            'v': 22,\n            'f': \"22\",\n        },\n{\n            'v': 23,\n            'f': \"23\",\n        },\n{\n            'v': 26,\n            'f': \"26\",\n        }],\n [{\n            'v': 30,\n            'f': \"30\",\n        },\n{\n            'v': 16,\n            'f': \"16\",\n        },\n{\n            'v': 24,\n            'f': \"24\",\n        }],\n [{\n            'v': 22,\n            'f': \"22\",\n        },\n{\n            'v': 21,\n            'f': \"21\",\n        },\n{\n            'v': 23,\n            'f': \"23\",\n        }],\n [{\n            'v': 21,\n            'f': \"21\",\n        },\n{\n            'v': 28,\n            'f': \"28\",\n        },\n{\n            'v': 21,\n            'f': \"21\",\n        }],\n [{\n            'v': 21,\n            'f': \"21\",\n        },\n{\n            'v': 22,\n            'f': \"22\",\n        },\n{\n            'v': 20,\n            'f': \"20\",\n        }],\n [{\n            'v': 28,\n            'f': \"28\",\n        },\n{\n            'v': 21,\n            'f': \"21\",\n        },\n{\n            'v': 18,\n            'f': \"18\",\n        }],\n [{\n            'v': 27,\n            'f': \"27\",\n        },\n{\n            'v': 11,\n            'f': \"11\",\n        },\n{\n            'v': 18,\n            'f': \"18\",\n        }],\n [{\n            'v': 8,\n            'f': \"8\",\n        },\n{\n            'v': 30,\n            'f': \"30\",\n        },\n{\n            'v': 17,\n            'f': \"17\",\n        }],\n [{\n            'v': 7,\n            'f': \"7\",\n        },\n{\n            'v': 28,\n            'f': \"28\",\n        },\n{\n            'v': 17,\n            'f': \"17\",\n        }],\n [{\n            'v': 30,\n            'f': \"30\",\n        },\n{\n            'v': 22,\n            'f': \"22\",\n        },\n{\n            'v': 17,\n            'f': \"17\",\n        }],\n [{\n            'v': 7,\n            'f': \"7\",\n        },\n{\n            'v': 23,\n            'f': \"23\",\n        },\n{\n            'v': 15,\n            'f': \"15\",\n        }],\n [{\n            'v': 23,\n            'f': \"23\",\n        },\n{\n            'v': 30,\n            'f': \"30\",\n        },\n{\n            'v': 15,\n            'f': \"15\",\n        }],\n [{\n            'v': 16,\n            'f': \"16\",\n        },\n{\n            'v': 30,\n            'f': \"30\",\n        },\n{\n            'v': 15,\n            'f': \"15\",\n        }],\n [{\n            'v': 7,\n            'f': \"7\",\n        },\n{\n            'v': 21,\n            'f': \"21\",\n        },\n{\n            'v': 14,\n            'f': \"14\",\n        }],\n [{\n            'v': 1,\n            'f': \"1\",\n        },\n{\n            'v': 30,\n            'f': \"30\",\n        },\n{\n            'v': 14,\n            'f': \"14\",\n        }],\n [{\n            'v': 6,\n            'f': \"6\",\n        },\n{\n            'v': 22,\n            'f': \"22\",\n        },\n{\n            'v': 13,\n            'f': \"13\",\n        }],\n [{\n            'v': 16,\n            'f': \"16\",\n        },\n{\n            'v': 24,\n            'f': \"24\",\n        },\n{\n            'v': 13,\n            'f': \"13\",\n        }],\n [{\n            'v': 30,\n            'f': \"30\",\n        },\n{\n            'v': 8,\n            'f': \"8\",\n        },\n{\n            'v': 13,\n            'f': \"13\",\n        }],\n [{\n            'v': 21,\n            'f': \"21\",\n        },\n{\n            'v': 30,\n            'f': \"30\",\n        },\n{\n            'v': 13,\n            'f': \"13\",\n        }],\n [{\n            'v': 14,\n            'f': \"14\",\n        },\n{\n            'v': 17,\n            'f': \"17\",\n        },\n{\n            'v': 13,\n            'f': \"13\",\n        }],\n [{\n            'v': 22,\n            'f': \"22\",\n        },\n{\n            'v': 6,\n            'f': \"6\",\n        },\n{\n            'v': 13,\n            'f': \"13\",\n        }],\n [{\n            'v': 22,\n            'f': \"22\",\n        },\n{\n            'v': 7,\n            'f': \"7\",\n        },\n{\n            'v': 13,\n            'f': \"13\",\n        }],\n [{\n            'v': 3,\n            'f': \"3\",\n        },\n{\n            'v': 21,\n            'f': \"21\",\n        },\n{\n            'v': 12,\n            'f': \"12\",\n        }],\n [{\n            'v': 16,\n            'f': \"16\",\n        },\n{\n            'v': 22,\n            'f': \"22\",\n        },\n{\n            'v': 12,\n            'f': \"12\",\n        }],\n [{\n            'v': 30,\n            'f': \"30\",\n        },\n{\n            'v': 1,\n            'f': \"1\",\n        },\n{\n            'v': 12,\n            'f': \"12\",\n        }],\n [{\n            'v': 7,\n            'f': \"7\",\n        },\n{\n            'v': 16,\n            'f': \"16\",\n        },\n{\n            'v': 12,\n            'f': \"12\",\n        }],\n [{\n            'v': 28,\n            'f': \"28\",\n        },\n{\n            'v': 30,\n            'f': \"30\",\n        },\n{\n            'v': 12,\n            'f': \"12\",\n        }],\n [{\n            'v': 22,\n            'f': \"22\",\n        },\n{\n            'v': 29,\n            'f': \"29\",\n        },\n{\n            'v': 12,\n            'f': \"12\",\n        }],\n [{\n            'v': 2,\n            'f': \"2\",\n        },\n{\n            'v': 17,\n            'f': \"17\",\n        },\n{\n            'v': 12,\n            'f': \"12\",\n        }],\n [{\n            'v': 21,\n            'f': \"21\",\n        },\n{\n            'v': 7,\n            'f': \"7\",\n        },\n{\n            'v': 11,\n            'f': \"11\",\n        }],\n [{\n            'v': 7,\n            'f': \"7\",\n        },\n{\n            'v': 22,\n            'f': \"22\",\n        },\n{\n            'v': 11,\n            'f': \"11\",\n        }],\n [{\n            'v': 16,\n            'f': \"16\",\n        },\n{\n            'v': 7,\n            'f': \"7\",\n        },\n{\n            'v': 11,\n            'f': \"11\",\n        }],\n [{\n            'v': 23,\n            'f': \"23\",\n        },\n{\n            'v': 7,\n            'f': \"7\",\n        },\n{\n            'v': 11,\n            'f': \"11\",\n        }],\n [{\n            'v': 6,\n            'f': \"6\",\n        },\n{\n            'v': 25,\n            'f': \"25\",\n        },\n{\n            'v': 10,\n            'f': \"10\",\n        }],\n [{\n            'v': 22,\n            'f': \"22\",\n        },\n{\n            'v': 16,\n            'f': \"16\",\n        },\n{\n            'v': 10,\n            'f': \"10\",\n        }],\n [{\n            'v': 21,\n            'f': \"21\",\n        },\n{\n            'v': 3,\n            'f': \"3\",\n        },\n{\n            'v': 10,\n            'f': \"10\",\n        }],\n [{\n            'v': 22,\n            'f': \"22\",\n        },\n{\n            'v': 30,\n            'f': \"30\",\n        },\n{\n            'v': 10,\n            'f': \"10\",\n        }],\n [{\n            'v': 30,\n            'f': \"30\",\n        },\n{\n            'v': 23,\n            'f': \"23\",\n        },\n{\n            'v': 9,\n            'f': \"9\",\n        }],\n [{\n            'v': 28,\n            'f': \"28\",\n        },\n{\n            'v': 7,\n            'f': \"7\",\n        },\n{\n            'v': 9,\n            'f': \"9\",\n        }],\n [{\n            'v': 30,\n            'f': \"30\",\n        },\n{\n            'v': 21,\n            'f': \"21\",\n        },\n{\n            'v': 9,\n            'f': \"9\",\n        }],\n [{\n            'v': 24,\n            'f': \"24\",\n        },\n{\n            'v': 16,\n            'f': \"16\",\n        },\n{\n            'v': 9,\n            'f': \"9\",\n        }],\n [{\n            'v': 30,\n            'f': \"30\",\n        },\n{\n            'v': 28,\n            'f': \"28\",\n        },\n{\n            'v': 8,\n            'f': \"8\",\n        }],\n [{\n            'v': 8,\n            'f': \"8\",\n        },\n{\n            'v': 4,\n            'f': \"4\",\n        },\n{\n            'v': 8,\n            'f': \"8\",\n        }],\n [{\n            'v': 11,\n            'f': \"11\",\n        },\n{\n            'v': 21,\n            'f': \"21\",\n        },\n{\n            'v': 8,\n            'f': \"8\",\n        }],\n [{\n            'v': 17,\n            'f': \"17\",\n        },\n{\n            'v': 14,\n            'f': \"14\",\n        },\n{\n            'v': 8,\n            'f': \"8\",\n        }],\n [{\n            'v': 21,\n            'f': \"21\",\n        },\n{\n            'v': 6,\n            'f': \"6\",\n        },\n{\n            'v': 8,\n            'f': \"8\",\n        }],\n [{\n            'v': 6,\n            'f': \"6\",\n        },\n{\n            'v': 11,\n            'f': \"11\",\n        },\n{\n            'v': 8,\n            'f': \"8\",\n        }],\n [{\n            'v': 11,\n            'f': \"11\",\n        },\n{\n            'v': 29,\n            'f': \"29\",\n        },\n{\n            'v': 8,\n            'f': \"8\",\n        }],\n [{\n            'v': 22,\n            'f': \"22\",\n        },\n{\n            'v': 25,\n            'f': \"25\",\n        },\n{\n            'v': 8,\n            'f': \"8\",\n        }],\n [{\n            'v': 6,\n            'f': \"6\",\n        },\n{\n            'v': 21,\n            'f': \"21\",\n        },\n{\n            'v': 8,\n            'f': \"8\",\n        }],\n [{\n            'v': 25,\n            'f': \"25\",\n        },\n{\n            'v': 6,\n            'f': \"6\",\n        },\n{\n            'v': 8,\n            'f': \"8\",\n        }],\n [{\n            'v': 7,\n            'f': \"7\",\n        },\n{\n            'v': 1,\n            'f': \"1\",\n        },\n{\n            'v': 7,\n            'f': \"7\",\n        }],\n [{\n            'v': 1,\n            'f': \"1\",\n        },\n{\n            'v': 8,\n            'f': \"8\",\n        },\n{\n            'v': 7,\n            'f': \"7\",\n        }],\n [{\n            'v': 25,\n            'f': \"25\",\n        },\n{\n            'v': 11,\n            'f': \"11\",\n        },\n{\n            'v': 6,\n            'f': \"6\",\n        }],\n [{\n            'v': 22,\n            'f': \"22\",\n        },\n{\n            'v': 8,\n            'f': \"8\",\n        },\n{\n            'v': 6,\n            'f': \"6\",\n        }],\n [{\n            'v': 4,\n            'f': \"4\",\n        },\n{\n            'v': 30,\n            'f': \"30\",\n        },\n{\n            'v': 6,\n            'f': \"6\",\n        }],\n [{\n            'v': 30,\n            'f': \"30\",\n        },\n{\n            'v': 24,\n            'f': \"24\",\n        },\n{\n            'v': 6,\n            'f': \"6\",\n        }],\n [{\n            'v': 13,\n            'f': \"13\",\n        },\n{\n            'v': 11,\n            'f': \"11\",\n        },\n{\n            'v': 6,\n            'f': \"6\",\n        }],\n [{\n            'v': 8,\n            'f': \"8\",\n        },\n{\n            'v': 22,\n            'f': \"22\",\n        },\n{\n            'v': 6,\n            'f': \"6\",\n        }],\n [{\n            'v': 25,\n            'f': \"25\",\n        },\n{\n            'v': 22,\n            'f': \"22\",\n        },\n{\n            'v': 6,\n            'f': \"6\",\n        }],\n [{\n            'v': 24,\n            'f': \"24\",\n        },\n{\n            'v': 30,\n            'f': \"30\",\n        },\n{\n            'v': 6,\n            'f': \"6\",\n        }],\n [{\n            'v': 29,\n            'f': \"29\",\n        },\n{\n            'v': 11,\n            'f': \"11\",\n        },\n{\n            'v': 6,\n            'f': \"6\",\n        }],\n [{\n            'v': 4,\n            'f': \"4\",\n        },\n{\n            'v': 8,\n            'f': \"8\",\n        },\n{\n            'v': 5,\n            'f': \"5\",\n        }],\n [{\n            'v': 1,\n            'f': \"1\",\n        },\n{\n            'v': 7,\n            'f': \"7\",\n        },\n{\n            'v': 5,\n            'f': \"5\",\n        }],\n [{\n            'v': 15,\n            'f': \"15\",\n        },\n{\n            'v': 19,\n            'f': \"19\",\n        },\n{\n            'v': 5,\n            'f': \"5\",\n        }],\n [{\n            'v': 27,\n            'f': \"27\",\n        },\n{\n            'v': 21,\n            'f': \"21\",\n        },\n{\n            'v': 5,\n            'f': \"5\",\n        }],\n [{\n            'v': 22,\n            'f': \"22\",\n        },\n{\n            'v': 4,\n            'f': \"4\",\n        },\n{\n            'v': 5,\n            'f': \"5\",\n        }],\n [{\n            'v': 16,\n            'f': \"16\",\n        },\n{\n            'v': 1,\n            'f': \"1\",\n        },\n{\n            'v': 5,\n            'f': \"5\",\n        }],\n [{\n            'v': 16,\n            'f': \"16\",\n        },\n{\n            'v': 6,\n            'f': \"6\",\n        },\n{\n            'v': 5,\n            'f': \"5\",\n        }],\n [{\n            'v': 16,\n            'f': \"16\",\n        },\n{\n            'v': 28,\n            'f': \"28\",\n        },\n{\n            'v': 5,\n            'f': \"5\",\n        }],\n [{\n            'v': 6,\n            'f': \"6\",\n        },\n{\n            'v': 16,\n            'f': \"16\",\n        },\n{\n            'v': 5,\n            'f': \"5\",\n        }],\n [{\n            'v': 21,\n            'f': \"21\",\n        },\n{\n            'v': 25,\n            'f': \"25\",\n        },\n{\n            'v': 5,\n            'f': \"5\",\n        }],\n [{\n            'v': 28,\n            'f': \"28\",\n        },\n{\n            'v': 16,\n            'f': \"16\",\n        },\n{\n            'v': 5,\n            'f': \"5\",\n        }],\n [{\n            'v': 16,\n            'f': \"16\",\n        },\n{\n            'v': 21,\n            'f': \"21\",\n        },\n{\n            'v': 5,\n            'f': \"5\",\n        }],\n [{\n            'v': 29,\n            'f': \"29\",\n        },\n{\n            'v': 6,\n            'f': \"6\",\n        },\n{\n            'v': 5,\n            'f': \"5\",\n        }],\n [{\n            'v': 2,\n            'f': \"2\",\n        },\n{\n            'v': 14,\n            'f': \"14\",\n        },\n{\n            'v': 5,\n            'f': \"5\",\n        }],\n [{\n            'v': 4,\n            'f': \"4\",\n        },\n{\n            'v': 22,\n            'f': \"22\",\n        },\n{\n            'v': 4,\n            'f': \"4\",\n        }],\n [{\n            'v': 29,\n            'f': \"29\",\n        },\n{\n            'v': 23,\n            'f': \"23\",\n        },\n{\n            'v': 4,\n            'f': \"4\",\n        }],\n [{\n            'v': 29,\n            'f': \"29\",\n        },\n{\n            'v': 16,\n            'f': \"16\",\n        },\n{\n            'v': 4,\n            'f': \"4\",\n        }],\n [{\n            'v': 8,\n            'f': \"8\",\n        },\n{\n            'v': 21,\n            'f': \"21\",\n        },\n{\n            'v': 4,\n            'f': \"4\",\n        }],\n [{\n            'v': 23,\n            'f': \"23\",\n        },\n{\n            'v': 11,\n            'f': \"11\",\n        },\n{\n            'v': 4,\n            'f': \"4\",\n        }],\n [{\n            'v': 7,\n            'f': \"7\",\n        },\n{\n            'v': 11,\n            'f': \"11\",\n        },\n{\n            'v': 4,\n            'f': \"4\",\n        }],\n [{\n            'v': 23,\n            'f': \"23\",\n        },\n{\n            'v': 29,\n            'f': \"29\",\n        },\n{\n            'v': 4,\n            'f': \"4\",\n        }],\n [{\n            'v': 11,\n            'f': \"11\",\n        },\n{\n            'v': 25,\n            'f': \"25\",\n        },\n{\n            'v': 4,\n            'f': \"4\",\n        }],\n [{\n            'v': 19,\n            'f': \"19\",\n        },\n{\n            'v': 15,\n            'f': \"15\",\n        },\n{\n            'v': 4,\n            'f': \"4\",\n        }],\n [{\n            'v': 29,\n            'f': \"29\",\n        },\n{\n            'v': 7,\n            'f': \"7\",\n        },\n{\n            'v': 4,\n            'f': \"4\",\n        }]],\n        columns: [[\"number\", \"p1\"], [\"number\", \"p2\"], [\"number\", \"nbtransition\"]],\n        columnOptions: [],\n        rowsPerPage: 10,\n        helpUrl: \"https://colab.research.google.com/notebooks/data_table.ipynb\",\n        suppressOutputScrolling: true,\n        minimumWidth: undefined,\n      });\n    ",
      "text/html": [
       "<div>\n",
       "<style scoped>\n",
       "    .dataframe tbody tr th:only-of-type {\n",
       "        vertical-align: middle;\n",
       "    }\n",
       "\n",
       "    .dataframe tbody tr th {\n",
       "        vertical-align: top;\n",
       "    }\n",
       "\n",
       "    .dataframe thead th {\n",
       "        text-align: right;\n",
       "    }\n",
       "</style>\n",
       "<table border=\"1\" class=\"dataframe\">\n",
       "  <thead>\n",
       "    <tr style=\"text-align: right;\">\n",
       "      <th></th>\n",
       "      <th>p1</th>\n",
       "      <th>p2</th>\n",
       "      <th>nbtransition</th>\n",
       "    </tr>\n",
       "  </thead>\n",
       "  <tbody>\n",
       "    <tr>\n",
       "      <th>0</th>\n",
       "      <td>23</td>\n",
       "      <td>21</td>\n",
       "      <td>82</td>\n",
       "    </tr>\n",
       "    <tr>\n",
       "      <th>1</th>\n",
       "      <td>22</td>\n",
       "      <td>28</td>\n",
       "      <td>70</td>\n",
       "    </tr>\n",
       "    <tr>\n",
       "      <th>2</th>\n",
       "      <td>28</td>\n",
       "      <td>22</td>\n",
       "      <td>64</td>\n",
       "    </tr>\n",
       "    <tr>\n",
       "      <th>3</th>\n",
       "      <td>21</td>\n",
       "      <td>23</td>\n",
       "      <td>63</td>\n",
       "    </tr>\n",
       "    <tr>\n",
       "      <th>4</th>\n",
       "      <td>7</td>\n",
       "      <td>30</td>\n",
       "      <td>57</td>\n",
       "    </tr>\n",
       "    <tr>\n",
       "      <th>...</th>\n",
       "      <td>...</td>\n",
       "      <td>...</td>\n",
       "      <td>...</td>\n",
       "    </tr>\n",
       "    <tr>\n",
       "      <th>95</th>\n",
       "      <td>7</td>\n",
       "      <td>11</td>\n",
       "      <td>4</td>\n",
       "    </tr>\n",
       "    <tr>\n",
       "      <th>96</th>\n",
       "      <td>23</td>\n",
       "      <td>29</td>\n",
       "      <td>4</td>\n",
       "    </tr>\n",
       "    <tr>\n",
       "      <th>97</th>\n",
       "      <td>11</td>\n",
       "      <td>25</td>\n",
       "      <td>4</td>\n",
       "    </tr>\n",
       "    <tr>\n",
       "      <th>98</th>\n",
       "      <td>19</td>\n",
       "      <td>15</td>\n",
       "      <td>4</td>\n",
       "    </tr>\n",
       "    <tr>\n",
       "      <th>99</th>\n",
       "      <td>29</td>\n",
       "      <td>7</td>\n",
       "      <td>4</td>\n",
       "    </tr>\n",
       "  </tbody>\n",
       "</table>\n",
       "<p>100 rows × 3 columns</p>\n",
       "</div>"
      ],
      "text/plain": [
       "<google.colab.data_table.DataTable object>"
      ]
     },
     "execution_count": 32,
     "metadata": {},
     "output_type": "execute_result"
    }
   ],
   "source": [
    "%%sql\n",
    "create or replace temp view Transition2 as \n",
    "select t.transition.p1,  t.transition.p2, count(*) as nbtransition\n",
    "from Transition1 t\n",
    "group by t.transition.p1,  t.transition.p2;\n",
    "\n",
    "select * from Transition2\n",
    "order by nbtransition desc;"
   ]
  },
  {
   "cell_type": "markdown",
   "metadata": {
    "id": "M5-7PFtuU9Oc"
   },
   "source": [
    "b) Definir la vue \n",
    "Transition_relative avec des valeurs de transition relatives au nombre total de transition partant d'un POI.\n",
    "\n",
    "Indication: créer une vue donnant le nombre total de transitions par poi."
   ]
  },
  {
   "cell_type": "code",
   "execution_count": 33,
   "metadata": {
    "colab": {
     "base_uri": "https://localhost:8080/",
     "height": 315
    },
    "id": "PJ90Pm8lR72L",
    "outputId": "87678609-3988-4b28-a0b5-0a99c3019572"
   },
   "outputs": [
    {
     "data": {
      "application/vnd.google.colaboratory.module+javascript": "\n      import \"https://ssl.gstatic.com/colaboratory/data_table/a8bd4d5e58f96183/data_table.js\";\n\n      window.createDataTable({\n        data: [[{\n            'v': 1,\n            'f': \"1\",\n        },\n{\n            'v': 45,\n            'f': \"45\",\n        }],\n [{\n            'v': 2,\n            'f': \"2\",\n        },\n{\n            'v': 18,\n            'f': \"18\",\n        }],\n [{\n            'v': 3,\n            'f': \"3\",\n        },\n{\n            'v': 24,\n            'f': \"24\",\n        }],\n [{\n            'v': 4,\n            'f': \"4\",\n        },\n{\n            'v': 61,\n            'f': \"61\",\n        }],\n [{\n            'v': 6,\n            'f': \"6\",\n        },\n{\n            'v': 61,\n            'f': \"61\",\n        }],\n [{\n            'v': 7,\n            'f': \"7\",\n        },\n{\n            'v': 153,\n            'f': \"153\",\n        }],\n [{\n            'v': 8,\n            'f': \"8\",\n        },\n{\n            'v': 93,\n            'f': \"93\",\n        }],\n [{\n            'v': 9,\n            'f': \"9\",\n        },\n{\n            'v': 1,\n            'f': \"1\",\n        }],\n [{\n            'v': 10,\n            'f': \"10\",\n        },\n{\n            'v': 4,\n            'f': \"4\",\n        }],\n [{\n            'v': 11,\n            'f': \"11\",\n        },\n{\n            'v': 68,\n            'f': \"68\",\n        }],\n [{\n            'v': 13,\n            'f': \"13\",\n        },\n{\n            'v': 20,\n            'f': \"20\",\n        }],\n [{\n            'v': 14,\n            'f': \"14\",\n        },\n{\n            'v': 16,\n            'f': \"16\",\n        }],\n [{\n            'v': 15,\n            'f': \"15\",\n        },\n{\n            'v': 8,\n            'f': \"8\",\n        }],\n [{\n            'v': 16,\n            'f': \"16\",\n        },\n{\n            'v': 166,\n            'f': \"166\",\n        }],\n [{\n            'v': 17,\n            'f': \"17\",\n        },\n{\n            'v': 12,\n            'f': \"12\",\n        }],\n [{\n            'v': 19,\n            'f': \"19\",\n        },\n{\n            'v': 12,\n            'f': \"12\",\n        }],\n [{\n            'v': 20,\n            'f': \"20\",\n        },\n{\n            'v': 2,\n            'f': \"2\",\n        }],\n [{\n            'v': 21,\n            'f': \"21\",\n        },\n{\n            'v': 166,\n            'f': \"166\",\n        }],\n [{\n            'v': 22,\n            'f': \"22\",\n        },\n{\n            'v': 211,\n            'f': \"211\",\n        }],\n [{\n            'v': 23,\n            'f': \"23\",\n        },\n{\n            'v': 211,\n            'f': \"211\",\n        }],\n [{\n            'v': 24,\n            'f': \"24\",\n        },\n{\n            'v': 40,\n            'f': \"40\",\n        }],\n [{\n            'v': 25,\n            'f': \"25\",\n        },\n{\n            'v': 41,\n            'f': \"41\",\n        }],\n [{\n            'v': 26,\n            'f': \"26\",\n        },\n{\n            'v': 2,\n            'f': \"2\",\n        }],\n [{\n            'v': 27,\n            'f': \"27\",\n        },\n{\n            'v': 36,\n            'f': \"36\",\n        }],\n [{\n            'v': 28,\n            'f': \"28\",\n        },\n{\n            'v': 166,\n            'f': \"166\",\n        }],\n [{\n            'v': 29,\n            'f': \"29\",\n        },\n{\n            'v': 41,\n            'f': \"41\",\n        }],\n [{\n            'v': 30,\n            'f': \"30\",\n        },\n{\n            'v': 159,\n            'f': \"159\",\n        }]],\n        columns: [[\"number\", \"p1\"], [\"number\", \"total\"]],\n        columnOptions: [],\n        rowsPerPage: 10,\n        helpUrl: \"https://colab.research.google.com/notebooks/data_table.ipynb\",\n        suppressOutputScrolling: true,\n        minimumWidth: undefined,\n      });\n    ",
      "text/html": [
       "<div>\n",
       "<style scoped>\n",
       "    .dataframe tbody tr th:only-of-type {\n",
       "        vertical-align: middle;\n",
       "    }\n",
       "\n",
       "    .dataframe tbody tr th {\n",
       "        vertical-align: top;\n",
       "    }\n",
       "\n",
       "    .dataframe thead th {\n",
       "        text-align: right;\n",
       "    }\n",
       "</style>\n",
       "<table border=\"1\" class=\"dataframe\">\n",
       "  <thead>\n",
       "    <tr style=\"text-align: right;\">\n",
       "      <th></th>\n",
       "      <th>p1</th>\n",
       "      <th>total</th>\n",
       "    </tr>\n",
       "  </thead>\n",
       "  <tbody>\n",
       "    <tr>\n",
       "      <th>0</th>\n",
       "      <td>1</td>\n",
       "      <td>45</td>\n",
       "    </tr>\n",
       "    <tr>\n",
       "      <th>1</th>\n",
       "      <td>2</td>\n",
       "      <td>18</td>\n",
       "    </tr>\n",
       "    <tr>\n",
       "      <th>2</th>\n",
       "      <td>3</td>\n",
       "      <td>24</td>\n",
       "    </tr>\n",
       "    <tr>\n",
       "      <th>3</th>\n",
       "      <td>4</td>\n",
       "      <td>61</td>\n",
       "    </tr>\n",
       "    <tr>\n",
       "      <th>4</th>\n",
       "      <td>6</td>\n",
       "      <td>61</td>\n",
       "    </tr>\n",
       "    <tr>\n",
       "      <th>5</th>\n",
       "      <td>7</td>\n",
       "      <td>153</td>\n",
       "    </tr>\n",
       "    <tr>\n",
       "      <th>6</th>\n",
       "      <td>8</td>\n",
       "      <td>93</td>\n",
       "    </tr>\n",
       "    <tr>\n",
       "      <th>7</th>\n",
       "      <td>9</td>\n",
       "      <td>1</td>\n",
       "    </tr>\n",
       "    <tr>\n",
       "      <th>8</th>\n",
       "      <td>10</td>\n",
       "      <td>4</td>\n",
       "    </tr>\n",
       "    <tr>\n",
       "      <th>9</th>\n",
       "      <td>11</td>\n",
       "      <td>68</td>\n",
       "    </tr>\n",
       "    <tr>\n",
       "      <th>10</th>\n",
       "      <td>13</td>\n",
       "      <td>20</td>\n",
       "    </tr>\n",
       "    <tr>\n",
       "      <th>11</th>\n",
       "      <td>14</td>\n",
       "      <td>16</td>\n",
       "    </tr>\n",
       "    <tr>\n",
       "      <th>12</th>\n",
       "      <td>15</td>\n",
       "      <td>8</td>\n",
       "    </tr>\n",
       "    <tr>\n",
       "      <th>13</th>\n",
       "      <td>16</td>\n",
       "      <td>166</td>\n",
       "    </tr>\n",
       "    <tr>\n",
       "      <th>14</th>\n",
       "      <td>17</td>\n",
       "      <td>12</td>\n",
       "    </tr>\n",
       "    <tr>\n",
       "      <th>15</th>\n",
       "      <td>19</td>\n",
       "      <td>12</td>\n",
       "    </tr>\n",
       "    <tr>\n",
       "      <th>16</th>\n",
       "      <td>20</td>\n",
       "      <td>2</td>\n",
       "    </tr>\n",
       "    <tr>\n",
       "      <th>17</th>\n",
       "      <td>21</td>\n",
       "      <td>166</td>\n",
       "    </tr>\n",
       "    <tr>\n",
       "      <th>18</th>\n",
       "      <td>22</td>\n",
       "      <td>211</td>\n",
       "    </tr>\n",
       "    <tr>\n",
       "      <th>19</th>\n",
       "      <td>23</td>\n",
       "      <td>211</td>\n",
       "    </tr>\n",
       "    <tr>\n",
       "      <th>20</th>\n",
       "      <td>24</td>\n",
       "      <td>40</td>\n",
       "    </tr>\n",
       "    <tr>\n",
       "      <th>21</th>\n",
       "      <td>25</td>\n",
       "      <td>41</td>\n",
       "    </tr>\n",
       "    <tr>\n",
       "      <th>22</th>\n",
       "      <td>26</td>\n",
       "      <td>2</td>\n",
       "    </tr>\n",
       "    <tr>\n",
       "      <th>23</th>\n",
       "      <td>27</td>\n",
       "      <td>36</td>\n",
       "    </tr>\n",
       "    <tr>\n",
       "      <th>24</th>\n",
       "      <td>28</td>\n",
       "      <td>166</td>\n",
       "    </tr>\n",
       "    <tr>\n",
       "      <th>25</th>\n",
       "      <td>29</td>\n",
       "      <td>41</td>\n",
       "    </tr>\n",
       "    <tr>\n",
       "      <th>26</th>\n",
       "      <td>30</td>\n",
       "      <td>159</td>\n",
       "    </tr>\n",
       "  </tbody>\n",
       "</table>\n",
       "</div>"
      ],
      "text/plain": [
       "<google.colab.data_table.DataTable object>"
      ]
     },
     "execution_count": 33,
     "metadata": {},
     "output_type": "execute_result"
    }
   ],
   "source": [
    "%%sql\n",
    "create or replace temp view Total_transition as \n",
    "select p1, sum(nbtransition) as total\n",
    "from Transition2\n",
    "group by p1\n",
    "order by p1 asc;\n",
    "\n",
    "\n",
    "select * from Total_transition"
   ]
  },
  {
   "cell_type": "code",
   "execution_count": 34,
   "metadata": {
    "colab": {
     "base_uri": "https://localhost:8080/",
     "height": 315
    },
    "id": "yED5O5sCVn3R",
    "outputId": "afdc5afd-7e7b-436b-c0a3-df046fc1cf2a"
   },
   "outputs": [
    {
     "data": {
      "application/vnd.google.colaboratory.module+javascript": "\n      import \"https://ssl.gstatic.com/colaboratory/data_table/a8bd4d5e58f96183/data_table.js\";\n\n      window.createDataTable({\n        data: [[{\n            'v': 1,\n            'f': \"1\",\n        },\n{\n            'v': 16,\n            'f': \"16\",\n        },\n{\n            'v': 0.08888888888888889,\n            'f': \"0.08888888888888889\",\n        }],\n [{\n            'v': 1,\n            'f': \"1\",\n        },\n{\n            'v': 19,\n            'f': \"19\",\n        },\n{\n            'v': 0.022222222222222223,\n            'f': \"0.022222222222222223\",\n        }],\n [{\n            'v': 1,\n            'f': \"1\",\n        },\n{\n            'v': 7,\n            'f': \"7\",\n        },\n{\n            'v': 0.1111111111111111,\n            'f': \"0.1111111111111111\",\n        }],\n [{\n            'v': 1,\n            'f': \"1\",\n        },\n{\n            'v': 8,\n            'f': \"8\",\n        },\n{\n            'v': 0.15555555555555556,\n            'f': \"0.15555555555555556\",\n        }],\n [{\n            'v': 1,\n            'f': \"1\",\n        },\n{\n            'v': 24,\n            'f': \"24\",\n        },\n{\n            'v': 0.044444444444444446,\n            'f': \"0.044444444444444446\",\n        }],\n [{\n            'v': 1,\n            'f': \"1\",\n        },\n{\n            'v': 22,\n            'f': \"22\",\n        },\n{\n            'v': 0.06666666666666667,\n            'f': \"0.06666666666666667\",\n        }],\n [{\n            'v': 1,\n            'f': \"1\",\n        },\n{\n            'v': 21,\n            'f': \"21\",\n        },\n{\n            'v': 0.08888888888888889,\n            'f': \"0.08888888888888889\",\n        }],\n [{\n            'v': 1,\n            'f': \"1\",\n        },\n{\n            'v': 23,\n            'f': \"23\",\n        },\n{\n            'v': 0.022222222222222223,\n            'f': \"0.022222222222222223\",\n        }],\n [{\n            'v': 1,\n            'f': \"1\",\n        },\n{\n            'v': 30,\n            'f': \"30\",\n        },\n{\n            'v': 0.3111111111111111,\n            'f': \"0.3111111111111111\",\n        }],\n [{\n            'v': 1,\n            'f': \"1\",\n        },\n{\n            'v': 15,\n            'f': \"15\",\n        },\n{\n            'v': 0.022222222222222223,\n            'f': \"0.022222222222222223\",\n        }],\n [{\n            'v': 1,\n            'f': \"1\",\n        },\n{\n            'v': 29,\n            'f': \"29\",\n        },\n{\n            'v': 0.044444444444444446,\n            'f': \"0.044444444444444446\",\n        }],\n [{\n            'v': 1,\n            'f': \"1\",\n        },\n{\n            'v': 4,\n            'f': \"4\",\n        },\n{\n            'v': 0.022222222222222223,\n            'f': \"0.022222222222222223\",\n        }],\n [{\n            'v': 2,\n            'f': \"2\",\n        },\n{\n            'v': 17,\n            'f': \"17\",\n        },\n{\n            'v': 0.6666666666666666,\n            'f': \"0.6666666666666666\",\n        }],\n [{\n            'v': 2,\n            'f': \"2\",\n        },\n{\n            'v': 14,\n            'f': \"14\",\n        },\n{\n            'v': 0.2777777777777778,\n            'f': \"0.2777777777777778\",\n        }],\n [{\n            'v': 2,\n            'f': \"2\",\n        },\n{\n            'v': 23,\n            'f': \"23\",\n        },\n{\n            'v': 0.05555555555555555,\n            'f': \"0.05555555555555555\",\n        }],\n [{\n            'v': 3,\n            'f': \"3\",\n        },\n{\n            'v': 22,\n            'f': \"22\",\n        },\n{\n            'v': 0.041666666666666664,\n            'f': \"0.041666666666666664\",\n        }],\n [{\n            'v': 3,\n            'f': \"3\",\n        },\n{\n            'v': 21,\n            'f': \"21\",\n        },\n{\n            'v': 0.5,\n            'f': \"0.5\",\n        }],\n [{\n            'v': 3,\n            'f': \"3\",\n        },\n{\n            'v': 30,\n            'f': \"30\",\n        },\n{\n            'v': 0.125,\n            'f': \"0.125\",\n        }],\n [{\n            'v': 3,\n            'f': \"3\",\n        },\n{\n            'v': 23,\n            'f': \"23\",\n        },\n{\n            'v': 0.125,\n            'f': \"0.125\",\n        }],\n [{\n            'v': 3,\n            'f': \"3\",\n        },\n{\n            'v': 29,\n            'f': \"29\",\n        },\n{\n            'v': 0.08333333333333333,\n            'f': \"0.08333333333333333\",\n        }],\n [{\n            'v': 3,\n            'f': \"3\",\n        },\n{\n            'v': 6,\n            'f': \"6\",\n        },\n{\n            'v': 0.041666666666666664,\n            'f': \"0.041666666666666664\",\n        }],\n [{\n            'v': 3,\n            'f': \"3\",\n        },\n{\n            'v': 4,\n            'f': \"4\",\n        },\n{\n            'v': 0.041666666666666664,\n            'f': \"0.041666666666666664\",\n        }],\n [{\n            'v': 3,\n            'f': \"3\",\n        },\n{\n            'v': 24,\n            'f': \"24\",\n        },\n{\n            'v': 0.041666666666666664,\n            'f': \"0.041666666666666664\",\n        }],\n [{\n            'v': 4,\n            'f': \"4\",\n        },\n{\n            'v': 1,\n            'f': \"1\",\n        },\n{\n            'v': 0.03278688524590164,\n            'f': \"0.03278688524590164\",\n        }],\n [{\n            'v': 4,\n            'f': \"4\",\n        },\n{\n            'v': 2,\n            'f': \"2\",\n        },\n{\n            'v': 0.01639344262295082,\n            'f': \"0.01639344262295082\",\n        }],\n [{\n            'v': 4,\n            'f': \"4\",\n        },\n{\n            'v': 8,\n            'f': \"8\",\n        },\n{\n            'v': 0.08196721311475409,\n            'f': \"0.08196721311475409\",\n        }],\n [{\n            'v': 4,\n            'f': \"4\",\n        },\n{\n            'v': 6,\n            'f': \"6\",\n        },\n{\n            'v': 0.01639344262295082,\n            'f': \"0.01639344262295082\",\n        }],\n [{\n            'v': 4,\n            'f': \"4\",\n        },\n{\n            'v': 21,\n            'f': \"21\",\n        },\n{\n            'v': 0.01639344262295082,\n            'f': \"0.01639344262295082\",\n        }],\n [{\n            'v': 4,\n            'f': \"4\",\n        },\n{\n            'v': 30,\n            'f': \"30\",\n        },\n{\n            'v': 0.09836065573770492,\n            'f': \"0.09836065573770492\",\n        }],\n [{\n            'v': 4,\n            'f': \"4\",\n        },\n{\n            'v': 10,\n            'f': \"10\",\n        },\n{\n            'v': 0.01639344262295082,\n            'f': \"0.01639344262295082\",\n        }],\n [{\n            'v': 4,\n            'f': \"4\",\n        },\n{\n            'v': 24,\n            'f': \"24\",\n        },\n{\n            'v': 0.04918032786885246,\n            'f': \"0.04918032786885246\",\n        }],\n [{\n            'v': 4,\n            'f': \"4\",\n        },\n{\n            'v': 16,\n            'f': \"16\",\n        },\n{\n            'v': 0.6065573770491803,\n            'f': \"0.6065573770491803\",\n        }],\n [{\n            'v': 4,\n            'f': \"4\",\n        },\n{\n            'v': 22,\n            'f': \"22\",\n        },\n{\n            'v': 0.06557377049180328,\n            'f': \"0.06557377049180328\",\n        }],\n [{\n            'v': 6,\n            'f': \"6\",\n        },\n{\n            'v': 30,\n            'f': \"30\",\n        },\n{\n            'v': 0.03278688524590164,\n            'f': \"0.03278688524590164\",\n        }],\n [{\n            'v': 6,\n            'f': \"6\",\n        },\n{\n            'v': 13,\n            'f': \"13\",\n        },\n{\n            'v': 0.01639344262295082,\n            'f': \"0.01639344262295082\",\n        }],\n [{\n            'v': 6,\n            'f': \"6\",\n        },\n{\n            'v': 25,\n            'f': \"25\",\n        },\n{\n            'v': 0.16393442622950818,\n            'f': \"0.16393442622950818\",\n        }],\n [{\n            'v': 6,\n            'f': \"6\",\n        },\n{\n            'v': 23,\n            'f': \"23\",\n        },\n{\n            'v': 0.04918032786885246,\n            'f': \"0.04918032786885246\",\n        }],\n [{\n            'v': 6,\n            'f': \"6\",\n        },\n{\n            'v': 27,\n            'f': \"27\",\n        },\n{\n            'v': 0.01639344262295082,\n            'f': \"0.01639344262295082\",\n        }],\n [{\n            'v': 6,\n            'f': \"6\",\n        },\n{\n            'v': 7,\n            'f': \"7\",\n        },\n{\n            'v': 0.03278688524590164,\n            'f': \"0.03278688524590164\",\n        }],\n [{\n            'v': 6,\n            'f': \"6\",\n        },\n{\n            'v': 3,\n            'f': \"3\",\n        },\n{\n            'v': 0.01639344262295082,\n            'f': \"0.01639344262295082\",\n        }],\n [{\n            'v': 6,\n            'f': \"6\",\n        },\n{\n            'v': 24,\n            'f': \"24\",\n        },\n{\n            'v': 0.01639344262295082,\n            'f': \"0.01639344262295082\",\n        }],\n [{\n            'v': 6,\n            'f': \"6\",\n        },\n{\n            'v': 22,\n            'f': \"22\",\n        },\n{\n            'v': 0.21311475409836064,\n            'f': \"0.21311475409836064\",\n        }],\n [{\n            'v': 6,\n            'f': \"6\",\n        },\n{\n            'v': 29,\n            'f': \"29\",\n        },\n{\n            'v': 0.03278688524590164,\n            'f': \"0.03278688524590164\",\n        }],\n [{\n            'v': 6,\n            'f': \"6\",\n        },\n{\n            'v': 11,\n            'f': \"11\",\n        },\n{\n            'v': 0.13114754098360656,\n            'f': \"0.13114754098360656\",\n        }],\n [{\n            'v': 6,\n            'f': \"6\",\n        },\n{\n            'v': 21,\n            'f': \"21\",\n        },\n{\n            'v': 0.13114754098360656,\n            'f': \"0.13114754098360656\",\n        }],\n [{\n            'v': 6,\n            'f': \"6\",\n        },\n{\n            'v': 16,\n            'f': \"16\",\n        },\n{\n            'v': 0.08196721311475409,\n            'f': \"0.08196721311475409\",\n        }],\n [{\n            'v': 6,\n            'f': \"6\",\n        },\n{\n            'v': 4,\n            'f': \"4\",\n        },\n{\n            'v': 0.01639344262295082,\n            'f': \"0.01639344262295082\",\n        }],\n [{\n            'v': 6,\n            'f': \"6\",\n        },\n{\n            'v': 28,\n            'f': \"28\",\n        },\n{\n            'v': 0.04918032786885246,\n            'f': \"0.04918032786885246\",\n        }],\n [{\n            'v': 7,\n            'f': \"7\",\n        },\n{\n            'v': 1,\n            'f': \"1\",\n        },\n{\n            'v': 0.0457516339869281,\n            'f': \"0.0457516339869281\",\n        }],\n [{\n            'v': 7,\n            'f': \"7\",\n        },\n{\n            'v': 23,\n            'f': \"23\",\n        },\n{\n            'v': 0.09803921568627451,\n            'f': \"0.09803921568627451\",\n        }],\n [{\n            'v': 7,\n            'f': \"7\",\n        },\n{\n            'v': 11,\n            'f': \"11\",\n        },\n{\n            'v': 0.026143790849673203,\n            'f': \"0.026143790849673203\",\n        }],\n [{\n            'v': 7,\n            'f': \"7\",\n        },\n{\n            'v': 3,\n            'f': \"3\",\n        },\n{\n            'v': 0.006535947712418301,\n            'f': \"0.006535947712418301\",\n        }],\n [{\n            'v': 7,\n            'f': \"7\",\n        },\n{\n            'v': 22,\n            'f': \"22\",\n        },\n{\n            'v': 0.0718954248366013,\n            'f': \"0.0718954248366013\",\n        }],\n [{\n            'v': 7,\n            'f': \"7\",\n        },\n{\n            'v': 6,\n            'f': \"6\",\n        },\n{\n            'v': 0.0196078431372549,\n            'f': \"0.0196078431372549\",\n        }],\n [{\n            'v': 7,\n            'f': \"7\",\n        },\n{\n            'v': 24,\n            'f': \"24\",\n        },\n{\n            'v': 0.0196078431372549,\n            'f': \"0.0196078431372549\",\n        }],\n [{\n            'v': 7,\n            'f': \"7\",\n        },\n{\n            'v': 21,\n            'f': \"21\",\n        },\n{\n            'v': 0.0915032679738562,\n            'f': \"0.0915032679738562\",\n        }],\n [{\n            'v': 7,\n            'f': \"7\",\n        },\n{\n            'v': 16,\n            'f': \"16\",\n        },\n{\n            'v': 0.0784313725490196,\n            'f': \"0.0784313725490196\",\n        }],\n [{\n            'v': 7,\n            'f': \"7\",\n        },\n{\n            'v': 15,\n            'f': \"15\",\n        },\n{\n            'v': 0.006535947712418301,\n            'f': \"0.006535947712418301\",\n        }],\n [{\n            'v': 7,\n            'f': \"7\",\n        },\n{\n            'v': 28,\n            'f': \"28\",\n        },\n{\n            'v': 0.1111111111111111,\n            'f': \"0.1111111111111111\",\n        }],\n [{\n            'v': 7,\n            'f': \"7\",\n        },\n{\n            'v': 4,\n            'f': \"4\",\n        },\n{\n            'v': 0.006535947712418301,\n            'f': \"0.006535947712418301\",\n        }],\n [{\n            'v': 7,\n            'f': \"7\",\n        },\n{\n            'v': 25,\n            'f': \"25\",\n        },\n{\n            'v': 0.006535947712418301,\n            'f': \"0.006535947712418301\",\n        }],\n [{\n            'v': 7,\n            'f': \"7\",\n        },\n{\n            'v': 19,\n            'f': \"19\",\n        },\n{\n            'v': 0.006535947712418301,\n            'f': \"0.006535947712418301\",\n        }],\n [{\n            'v': 7,\n            'f': \"7\",\n        },\n{\n            'v': 8,\n            'f': \"8\",\n        },\n{\n            'v': 0.013071895424836602,\n            'f': \"0.013071895424836602\",\n        }],\n [{\n            'v': 7,\n            'f': \"7\",\n        },\n{\n            'v': 27,\n            'f': \"27\",\n        },\n{\n            'v': 0.013071895424836602,\n            'f': \"0.013071895424836602\",\n        }],\n [{\n            'v': 7,\n            'f': \"7\",\n        },\n{\n            'v': 13,\n            'f': \"13\",\n        },\n{\n            'v': 0.006535947712418301,\n            'f': \"0.006535947712418301\",\n        }],\n [{\n            'v': 7,\n            'f': \"7\",\n        },\n{\n            'v': 30,\n            'f': \"30\",\n        },\n{\n            'v': 0.37254901960784315,\n            'f': \"0.37254901960784315\",\n        }],\n [{\n            'v': 8,\n            'f': \"8\",\n        },\n{\n            'v': 21,\n            'f': \"21\",\n        },\n{\n            'v': 0.043010752688172046,\n            'f': \"0.043010752688172046\",\n        }],\n [{\n            'v': 8,\n            'f': \"8\",\n        },\n{\n            'v': 7,\n            'f': \"7\",\n        },\n{\n            'v': 0.043010752688172046,\n            'f': \"0.043010752688172046\",\n        }],\n [{\n            'v': 8,\n            'f': \"8\",\n        },\n{\n            'v': 30,\n            'f': \"30\",\n        },\n{\n            'v': 0.1827956989247312,\n            'f': \"0.1827956989247312\",\n        }],\n [{\n            'v': 8,\n            'f': \"8\",\n        },\n{\n            'v': 19,\n            'f': \"19\",\n        },\n{\n            'v': 0.010752688172043012,\n            'f': \"0.010752688172043012\",\n        }],\n [{\n            'v': 8,\n            'f': \"8\",\n        },\n{\n            'v': 23,\n            'f': \"23\",\n        },\n{\n            'v': 0.03225806451612903,\n            'f': \"0.03225806451612903\",\n        }],\n [{\n            'v': 8,\n            'f': \"8\",\n        },\n{\n            'v': 4,\n            'f': \"4\",\n        },\n{\n            'v': 0.08602150537634409,\n            'f': \"0.08602150537634409\",\n        }],\n [{\n            'v': 8,\n            'f': \"8\",\n        },\n{\n            'v': 29,\n            'f': \"29\",\n        },\n{\n            'v': 0.010752688172043012,\n            'f': \"0.010752688172043012\",\n        }],\n [{\n            'v': 8,\n            'f': \"8\",\n        },\n{\n            'v': 22,\n            'f': \"22\",\n        },\n{\n            'v': 0.06451612903225806,\n            'f': \"0.06451612903225806\",\n        }],\n [{\n            'v': 8,\n            'f': \"8\",\n        },\n{\n            'v': 16,\n            'f': \"16\",\n        },\n{\n            'v': 0.44086021505376344,\n            'f': \"0.44086021505376344\",\n        }],\n [{\n            'v': 8,\n            'f': \"8\",\n        },\n{\n            'v': 24,\n            'f': \"24\",\n        },\n{\n            'v': 0.043010752688172046,\n            'f': \"0.043010752688172046\",\n        }],\n [{\n            'v': 8,\n            'f': \"8\",\n        },\n{\n            'v': 28,\n            'f': \"28\",\n        },\n{\n            'v': 0.03225806451612903,\n            'f': \"0.03225806451612903\",\n        }],\n [{\n            'v': 8,\n            'f': \"8\",\n        },\n{\n            'v': 1,\n            'f': \"1\",\n        },\n{\n            'v': 0.010752688172043012,\n            'f': \"0.010752688172043012\",\n        }],\n [{\n            'v': 9,\n            'f': \"9\",\n        },\n{\n            'v': 11,\n            'f': \"11\",\n        },\n{\n            'v': 1.0,\n            'f': \"1.0\",\n        }],\n [{\n            'v': 10,\n            'f': \"10\",\n        },\n{\n            'v': 21,\n            'f': \"21\",\n        },\n{\n            'v': 0.75,\n            'f': \"0.75\",\n        }],\n [{\n            'v': 10,\n            'f': \"10\",\n        },\n{\n            'v': 1,\n            'f': \"1\",\n        },\n{\n            'v': 0.25,\n            'f': \"0.25\",\n        }],\n [{\n            'v': 11,\n            'f': \"11\",\n        },\n{\n            'v': 19,\n            'f': \"19\",\n        },\n{\n            'v': 0.014705882352941176,\n            'f': \"0.014705882352941176\",\n        }],\n [{\n            'v': 11,\n            'f': \"11\",\n        },\n{\n            'v': 8,\n            'f': \"8\",\n        },\n{\n            'v': 0.029411764705882353,\n            'f': \"0.029411764705882353\",\n        }],\n [{\n            'v': 11,\n            'f': \"11\",\n        },\n{\n            'v': 7,\n            'f': \"7\",\n        },\n{\n            'v': 0.029411764705882353,\n            'f': \"0.029411764705882353\",\n        }],\n [{\n            'v': 11,\n            'f': \"11\",\n        },\n{\n            'v': 6,\n            'f': \"6\",\n        },\n{\n            'v': 0.014705882352941176,\n            'f': \"0.014705882352941176\",\n        }],\n [{\n            'v': 11,\n            'f': \"11\",\n        },\n{\n            'v': 23,\n            'f': \"23\",\n        },\n{\n            'v': 0.04411764705882353,\n            'f': \"0.04411764705882353\",\n        }],\n [{\n            'v': 11,\n            'f': \"11\",\n        },\n{\n            'v': 24,\n            'f': \"24\",\n        },\n{\n            'v': 0.029411764705882353,\n            'f': \"0.029411764705882353\",\n        }],\n [{\n            'v': 11,\n            'f': \"11\",\n        },\n{\n            'v': 16,\n            'f': \"16\",\n        },\n{\n            'v': 0.058823529411764705,\n            'f': \"0.058823529411764705\",\n        }],\n [{\n            'v': 11,\n            'f': \"11\",\n        },\n{\n            'v': 30,\n            'f': \"30\",\n        },\n{\n            'v': 0.029411764705882353,\n            'f': \"0.029411764705882353\",\n        }],\n [{\n            'v': 11,\n            'f': \"11\",\n        },\n{\n            'v': 27,\n            'f': \"27\",\n        },\n{\n            'v': 0.38235294117647056,\n            'f': \"0.38235294117647056\",\n        }],\n [{\n            'v': 11,\n            'f': \"11\",\n        },\n{\n            'v': 26,\n            'f': \"26\",\n        },\n{\n            'v': 0.014705882352941176,\n            'f': \"0.014705882352941176\",\n        }],\n [{\n            'v': 11,\n            'f': \"11\",\n        },\n{\n            'v': 25,\n            'f': \"25\",\n        },\n{\n            'v': 0.058823529411764705,\n            'f': \"0.058823529411764705\",\n        }],\n [{\n            'v': 11,\n            'f': \"11\",\n        },\n{\n            'v': 21,\n            'f': \"21\",\n        },\n{\n            'v': 0.11764705882352941,\n            'f': \"0.11764705882352941\",\n        }],\n [{\n            'v': 11,\n            'f': \"11\",\n        },\n{\n            'v': 22,\n            'f': \"22\",\n        },\n{\n            'v': 0.029411764705882353,\n            'f': \"0.029411764705882353\",\n        }],\n [{\n            'v': 11,\n            'f': \"11\",\n        },\n{\n            'v': 13,\n            'f': \"13\",\n        },\n{\n            'v': 0.029411764705882353,\n            'f': \"0.029411764705882353\",\n        }],\n [{\n            'v': 11,\n            'f': \"11\",\n        },\n{\n            'v': 29,\n            'f': \"29\",\n        },\n{\n            'v': 0.11764705882352941,\n            'f': \"0.11764705882352941\",\n        }],\n [{\n            'v': 13,\n            'f': \"13\",\n        },\n{\n            'v': 16,\n            'f': \"16\",\n        },\n{\n            'v': 0.2,\n            'f': \"0.2\",\n        }],\n [{\n            'v': 13,\n            'f': \"13\",\n        },\n{\n            'v': 21,\n            'f': \"21\",\n        },\n{\n            'v': 0.1,\n            'f': \"0.1\",\n        }],\n [{\n            'v': 13,\n            'f': \"13\",\n        },\n{\n            'v': 4,\n            'f': \"4\",\n        },\n{\n            'v': 0.05,\n            'f': \"0.05\",\n        }],\n [{\n            'v': 13,\n            'f': \"13\",\n        },\n{\n            'v': 27,\n            'f': \"27\",\n        },\n{\n            'v': 0.05,\n            'f': \"0.05\",\n        }]],\n        columns: [[\"number\", \"p1\"], [\"number\", \"p2\"], [\"number\", \"rel\"]],\n        columnOptions: [],\n        rowsPerPage: 10,\n        helpUrl: \"https://colab.research.google.com/notebooks/data_table.ipynb\",\n        suppressOutputScrolling: true,\n        minimumWidth: undefined,\n      });\n    ",
      "text/html": [
       "<div>\n",
       "<style scoped>\n",
       "    .dataframe tbody tr th:only-of-type {\n",
       "        vertical-align: middle;\n",
       "    }\n",
       "\n",
       "    .dataframe tbody tr th {\n",
       "        vertical-align: top;\n",
       "    }\n",
       "\n",
       "    .dataframe thead th {\n",
       "        text-align: right;\n",
       "    }\n",
       "</style>\n",
       "<table border=\"1\" class=\"dataframe\">\n",
       "  <thead>\n",
       "    <tr style=\"text-align: right;\">\n",
       "      <th></th>\n",
       "      <th>p1</th>\n",
       "      <th>p2</th>\n",
       "      <th>rel</th>\n",
       "    </tr>\n",
       "  </thead>\n",
       "  <tbody>\n",
       "    <tr>\n",
       "      <th>0</th>\n",
       "      <td>1</td>\n",
       "      <td>16</td>\n",
       "      <td>0.088889</td>\n",
       "    </tr>\n",
       "    <tr>\n",
       "      <th>1</th>\n",
       "      <td>1</td>\n",
       "      <td>19</td>\n",
       "      <td>0.022222</td>\n",
       "    </tr>\n",
       "    <tr>\n",
       "      <th>2</th>\n",
       "      <td>1</td>\n",
       "      <td>7</td>\n",
       "      <td>0.111111</td>\n",
       "    </tr>\n",
       "    <tr>\n",
       "      <th>3</th>\n",
       "      <td>1</td>\n",
       "      <td>8</td>\n",
       "      <td>0.155556</td>\n",
       "    </tr>\n",
       "    <tr>\n",
       "      <th>4</th>\n",
       "      <td>1</td>\n",
       "      <td>24</td>\n",
       "      <td>0.044444</td>\n",
       "    </tr>\n",
       "    <tr>\n",
       "      <th>...</th>\n",
       "      <td>...</td>\n",
       "      <td>...</td>\n",
       "      <td>...</td>\n",
       "    </tr>\n",
       "    <tr>\n",
       "      <th>95</th>\n",
       "      <td>11</td>\n",
       "      <td>29</td>\n",
       "      <td>0.117647</td>\n",
       "    </tr>\n",
       "    <tr>\n",
       "      <th>96</th>\n",
       "      <td>13</td>\n",
       "      <td>16</td>\n",
       "      <td>0.200000</td>\n",
       "    </tr>\n",
       "    <tr>\n",
       "      <th>97</th>\n",
       "      <td>13</td>\n",
       "      <td>21</td>\n",
       "      <td>0.100000</td>\n",
       "    </tr>\n",
       "    <tr>\n",
       "      <th>98</th>\n",
       "      <td>13</td>\n",
       "      <td>4</td>\n",
       "      <td>0.050000</td>\n",
       "    </tr>\n",
       "    <tr>\n",
       "      <th>99</th>\n",
       "      <td>13</td>\n",
       "      <td>27</td>\n",
       "      <td>0.050000</td>\n",
       "    </tr>\n",
       "  </tbody>\n",
       "</table>\n",
       "<p>100 rows × 3 columns</p>\n",
       "</div>"
      ],
      "text/plain": [
       "<google.colab.data_table.DataTable object>"
      ]
     },
     "execution_count": 34,
     "metadata": {},
     "output_type": "execute_result"
    }
   ],
   "source": [
    "%%sql\n",
    "create or replace temp view Transition_relative as \n",
    "select  t.p1, t2.p2, t2.nbtransition/t.total as rel\n",
    "from Transition2 t2,Total_transition t\n",
    "where t2.p1=t.p1 ;\n",
    "\n",
    "\n",
    "select * from Transition_relative\n",
    "order by  p1"
   ]
  },
  {
   "cell_type": "markdown",
   "metadata": {
    "id": "Zr3JfNuCIKRS"
   },
   "source": [
    "#### Distances entre POIs\n",
    "table Distance(poi1, poi2, distance)"
   ]
  },
  {
   "cell_type": "code",
   "execution_count": 35,
   "metadata": {
    "id": "8Rmks4vUTDj9"
   },
   "outputs": [],
   "source": [
    "import math\n",
    "import cmath"
   ]
  },
  {
   "cell_type": "code",
   "execution_count": 36,
   "metadata": {
    "colab": {
     "base_uri": "https://localhost:8080/"
    },
    "id": "5LNiUCokRuXE",
    "outputId": "7b78cf17-29be-4365-8de1-538012cf0c71"
   },
   "outputs": [
    {
     "name": "stdout",
     "output_type": "stream",
     "text": [
      "212272.1385712766\n"
     ]
    }
   ],
   "source": [
    "# les import doivent être fait dans la fonction udf\n",
    "\n",
    "#retourne la distance en mètre\n",
    "def distance(a,b,c,d):\n",
    "  #on convertit les angles en radiant\n",
    "  import math\n",
    "\n",
    "  a=a* (math.pi / 180)\n",
    "  b=b * (math.pi / 180)\n",
    "  c=c * (math.pi / 180)\n",
    "  d=d * (math.pi / 180) \n",
    "  R=6367445  # rayon de la terre en mètre\n",
    "  return R*math.acos(math.sin(a)*math.sin(b) + (math.cos(a)*math.cos(b)*math.cos(c-d)) ) \n",
    "\n",
    "spark.udf.register(\"distance\", distance, DoubleType() ) # il faut faire attention à bien choisir le type ici, sinon la valeur retourné est null\n",
    "\n",
    "print( distance(2.350,3.063,48.856,50.63) )"
   ]
  },
  {
   "cell_type": "code",
   "execution_count": 37,
   "metadata": {
    "colab": {
     "base_uri": "https://localhost:8080/",
     "height": 315
    },
    "id": "RNiK9tW5N3Gu",
    "outputId": "f4be4de6-59c8-48a0-9542-28e5294e7aff"
   },
   "outputs": [
    {
     "data": {
      "application/vnd.google.colaboratory.module+javascript": "\n      import \"https://ssl.gstatic.com/colaboratory/data_table/a8bd4d5e58f96183/data_table.js\";\n\n      window.createDataTable({\n        data: [[{\n            'v': 1,\n            'f': \"1\",\n        },\n{\n            'v': 1,\n            'f': \"1\",\n        },\n{\n            'v': 0.09488232433795929,\n            'f': \"0.09488232433795929\",\n        }],\n [{\n            'v': 1,\n            'f': \"1\",\n        },\n{\n            'v': 2,\n            'f': \"2\",\n        },\n{\n            'v': 3381.8386739473026,\n            'f': \"3381.8386739473026\",\n        }],\n [{\n            'v': 1,\n            'f': \"1\",\n        },\n{\n            'v': 3,\n            'f': \"3\",\n        },\n{\n            'v': 2101.1965996196764,\n            'f': \"2101.1965996196764\",\n        }],\n [{\n            'v': 1,\n            'f': \"1\",\n        },\n{\n            'v': 4,\n            'f': \"4\",\n        },\n{\n            'v': 832.6236937216019,\n            'f': \"832.6236937216019\",\n        }],\n [{\n            'v': 1,\n            'f': \"1\",\n        },\n{\n            'v': 5,\n            'f': \"5\",\n        },\n{\n            'v': 19494.102273815803,\n            'f': \"19494.102273815803\",\n        }],\n [{\n            'v': 1,\n            'f': \"1\",\n        },\n{\n            'v': 6,\n            'f': \"6\",\n        },\n{\n            'v': 1604.6947191964166,\n            'f': \"1604.6947191964166\",\n        }],\n [{\n            'v': 1,\n            'f': \"1\",\n        },\n{\n            'v': 7,\n            'f': \"7\",\n        },\n{\n            'v': 433.52688210429494,\n            'f': \"433.52688210429494\",\n        }],\n [{\n            'v': 1,\n            'f': \"1\",\n        },\n{\n            'v': 8,\n            'f': \"8\",\n        },\n{\n            'v': 561.2896283414918,\n            'f': \"561.2896283414918\",\n        }],\n [{\n            'v': 1,\n            'f': \"1\",\n        },\n{\n            'v': 9,\n            'f': \"9\",\n        },\n{\n            'v': 8786.612873698785,\n            'f': \"8786.612873698785\",\n        }],\n [{\n            'v': 1,\n            'f': \"1\",\n        },\n{\n            'v': 10,\n            'f': \"10\",\n        },\n{\n            'v': 3008.416578750994,\n            'f': \"3008.416578750994\",\n        }],\n [{\n            'v': 1,\n            'f': \"1\",\n        },\n{\n            'v': 11,\n            'f': \"11\",\n        },\n{\n            'v': 2944.4281258315605,\n            'f': \"2944.4281258315605\",\n        }],\n [{\n            'v': 1,\n            'f': \"1\",\n        },\n{\n            'v': 12,\n            'f': \"12\",\n        },\n{\n            'v': 25207.5335139468,\n            'f': \"25207.5335139468\",\n        }],\n [{\n            'v': 1,\n            'f': \"1\",\n        },\n{\n            'v': 13,\n            'f': \"13\",\n        },\n{\n            'v': 4569.173013895111,\n            'f': \"4569.173013895111\",\n        }],\n [{\n            'v': 1,\n            'f': \"1\",\n        },\n{\n            'v': 14,\n            'f': \"14\",\n        },\n{\n            'v': 3214.2826122623605,\n            'f': \"3214.2826122623605\",\n        }],\n [{\n            'v': 1,\n            'f': \"1\",\n        },\n{\n            'v': 15,\n            'f': \"15\",\n        },\n{\n            'v': 2596.328644100117,\n            'f': \"2596.328644100117\",\n        }],\n [{\n            'v': 1,\n            'f': \"1\",\n        },\n{\n            'v': 16,\n            'f': \"16\",\n        },\n{\n            'v': 642.8843174465607,\n            'f': \"642.8843174465607\",\n        }],\n [{\n            'v': 1,\n            'f': \"1\",\n        },\n{\n            'v': 17,\n            'f': \"17\",\n        },\n{\n            'v': 3193.9990365623853,\n            'f': \"3193.9990365623853\",\n        }],\n [{\n            'v': 1,\n            'f': \"1\",\n        },\n{\n            'v': 18,\n            'f': \"18\",\n        },\n{\n            'v': 5790.972549774014,\n            'f': \"5790.972549774014\",\n        }],\n [{\n            'v': 1,\n            'f': \"1\",\n        },\n{\n            'v': 19,\n            'f': \"19\",\n        },\n{\n            'v': 2500.8954914174087,\n            'f': \"2500.8954914174087\",\n        }],\n [{\n            'v': 1,\n            'f': \"1\",\n        },\n{\n            'v': 20,\n            'f': \"20\",\n        },\n{\n            'v': 6752.356373803594,\n            'f': \"6752.356373803594\",\n        }],\n [{\n            'v': 1,\n            'f': \"1\",\n        },\n{\n            'v': 21,\n            'f': \"21\",\n        },\n{\n            'v': 1423.0801824599196,\n            'f': \"1423.0801824599196\",\n        }],\n [{\n            'v': 1,\n            'f': \"1\",\n        },\n{\n            'v': 22,\n            'f': \"22\",\n        },\n{\n            'v': 1079.8247083437984,\n            'f': \"1079.8247083437984\",\n        }],\n [{\n            'v': 1,\n            'f': \"1\",\n        },\n{\n            'v': 23,\n            'f': \"23\",\n        },\n{\n            'v': 1187.3877668019315,\n            'f': \"1187.3877668019315\",\n        }],\n [{\n            'v': 1,\n            'f': \"1\",\n        },\n{\n            'v': 24,\n            'f': \"24\",\n        },\n{\n            'v': 586.2082174200677,\n            'f': \"586.2082174200677\",\n        }],\n [{\n            'v': 1,\n            'f': \"1\",\n        },\n{\n            'v': 25,\n            'f': \"25\",\n        },\n{\n            'v': 2146.6767859648007,\n            'f': \"2146.6767859648007\",\n        }],\n [{\n            'v': 1,\n            'f': \"1\",\n        },\n{\n            'v': 26,\n            'f': \"26\",\n        },\n{\n            'v': 10886.090930586452,\n            'f': \"10886.090930586452\",\n        }],\n [{\n            'v': 1,\n            'f': \"1\",\n        },\n{\n            'v': 27,\n            'f': \"27\",\n        },\n{\n            'v': 3145.1296503707904,\n            'f': \"3145.1296503707904\",\n        }],\n [{\n            'v': 1,\n            'f': \"1\",\n        },\n{\n            'v': 28,\n            'f': \"28\",\n        },\n{\n            'v': 1038.728865275574,\n            'f': \"1038.728865275574\",\n        }],\n [{\n            'v': 1,\n            'f': \"1\",\n        },\n{\n            'v': 29,\n            'f': \"29\",\n        },\n{\n            'v': 2351.5966721518466,\n            'f': \"2351.5966721518466\",\n        }],\n [{\n            'v': 1,\n            'f': \"1\",\n        },\n{\n            'v': 30,\n            'f': \"30\",\n        },\n{\n            'v': 243.8410572389378,\n            'f': \"243.8410572389378\",\n        }],\n [{\n            'v': 2,\n            'f': \"2\",\n        },\n{\n            'v': 1,\n            'f': \"1\",\n        },\n{\n            'v': 3381.8386739473026,\n            'f': \"3381.8386739473026\",\n        }],\n [{\n            'v': 2,\n            'f': \"2\",\n        },\n{\n            'v': 2,\n            'f': \"2\",\n        },\n{\n            'v': 0.0,\n            'f': \"0.0\",\n        }],\n [{\n            'v': 2,\n            'f': \"2\",\n        },\n{\n            'v': 3,\n            'f': \"3\",\n        },\n{\n            'v': 4495.014046269177,\n            'f': \"4495.014046269177\",\n        }],\n [{\n            'v': 2,\n            'f': \"2\",\n        },\n{\n            'v': 4,\n            'f': \"4\",\n        },\n{\n            'v': 2553.875996996845,\n            'f': \"2553.875996996845\",\n        }],\n [{\n            'v': 2,\n            'f': \"2\",\n        },\n{\n            'v': 5,\n            'f': \"5\",\n        },\n{\n            'v': 17203.015590849984,\n            'f': \"17203.015590849984\",\n        }],\n [{\n            'v': 2,\n            'f': \"2\",\n        },\n{\n            'v': 6,\n            'f': \"6\",\n        },\n{\n            'v': 3133.5107557989722,\n            'f': \"3133.5107557989722\",\n        }],\n [{\n            'v': 2,\n            'f': \"2\",\n        },\n{\n            'v': 7,\n            'f': \"7\",\n        },\n{\n            'v': 3681.3584756713512,\n            'f': \"3681.3584756713512\",\n        }],\n [{\n            'v': 2,\n            'f': \"2\",\n        },\n{\n            'v': 8,\n            'f': \"8\",\n        },\n{\n            'v': 2832.0025780302662,\n            'f': \"2832.0025780302662\",\n        }],\n [{\n            'v': 2,\n            'f': \"2\",\n        },\n{\n            'v': 9,\n            'f': \"9\",\n        },\n{\n            'v': 11338.270934642576,\n            'f': \"11338.270934642576\",\n        }],\n [{\n            'v': 2,\n            'f': \"2\",\n        },\n{\n            'v': 10,\n            'f': \"10\",\n        },\n{\n            'v': 5983.20024989806,\n            'f': \"5983.20024989806\",\n        }],\n [{\n            'v': 2,\n            'f': \"2\",\n        },\n{\n            'v': 11,\n            'f': \"11\",\n        },\n{\n            'v': 4330.19447828725,\n            'f': \"4330.19447828725\",\n        }],\n [{\n            'v': 2,\n            'f': \"2\",\n        },\n{\n            'v': 12,\n            'f': \"12\",\n        },\n{\n            'v': 28158.420316023174,\n            'f': \"28158.420316023174\",\n        }],\n [{\n            'v': 2,\n            'f': \"2\",\n        },\n{\n            'v': 13,\n            'f': \"13\",\n        },\n{\n            'v': 5089.528360796313,\n            'f': \"5089.528360796313\",\n        }],\n [{\n            'v': 2,\n            'f': \"2\",\n        },\n{\n            'v': 14,\n            'f': \"14\",\n        },\n{\n            'v': 167.58810617904427,\n            'f': \"167.58810617904427\",\n        }],\n [{\n            'v': 2,\n            'f': \"2\",\n        },\n{\n            'v': 15,\n            'f': \"15\",\n        },\n{\n            'v': 3871.145702326492,\n            'f': \"3871.145702326492\",\n        }],\n [{\n            'v': 2,\n            'f': \"2\",\n        },\n{\n            'v': 16,\n            'f': \"16\",\n        },\n{\n            'v': 2759.299948134229,\n            'f': \"2759.299948134229\",\n        }],\n [{\n            'v': 2,\n            'f': \"2\",\n        },\n{\n            'v': 17,\n            'f': \"17\",\n        },\n{\n            'v': 201.08862078861043,\n            'f': \"201.08862078861043\",\n        }],\n [{\n            'v': 2,\n            'f': \"2\",\n        },\n{\n            'v': 18,\n            'f': \"18\",\n        },\n{\n            'v': 2650.3429491296274,\n            'f': \"2650.3429491296274\",\n        }],\n [{\n            'v': 2,\n            'f': \"2\",\n        },\n{\n            'v': 19,\n            'f': \"19\",\n        },\n{\n            'v': 3481.0228319700723,\n            'f': \"3481.0228319700723\",\n        }],\n [{\n            'v': 2,\n            'f': \"2\",\n        },\n{\n            'v': 20,\n            'f': \"20\",\n        },\n{\n            'v': 3895.9343639091926,\n            'f': \"3895.9343639091926\",\n        }],\n [{\n            'v': 2,\n            'f': \"2\",\n        },\n{\n            'v': 21,\n            'f': \"21\",\n        },\n{\n            'v': 4027.9034541757424,\n            'f': \"4027.9034541757424\",\n        }],\n [{\n            'v': 2,\n            'f': \"2\",\n        },\n{\n            'v': 22,\n            'f': \"22\",\n        },\n{\n            'v': 3567.327805440788,\n            'f': \"3567.327805440788\",\n        }],\n [{\n            'v': 2,\n            'f': \"2\",\n        },\n{\n            'v': 23,\n            'f': \"23\",\n        },\n{\n            'v': 3877.4515837307003,\n            'f': \"3877.4515837307003\",\n        }],\n [{\n            'v': 2,\n            'f': \"2\",\n        },\n{\n            'v': 24,\n            'f': \"24\",\n        },\n{\n            'v': 3006.8549167032493,\n            'f': \"3006.8549167032493\",\n        }],\n [{\n            'v': 2,\n            'f': \"2\",\n        },\n{\n            'v': 25,\n            'f': \"25\",\n        },\n{\n            'v': 2837.8026485421183,\n            'f': \"2837.8026485421183\",\n        }],\n [{\n            'v': 2,\n            'f': \"2\",\n        },\n{\n            'v': 26,\n            'f': \"26\",\n        },\n{\n            'v': 10672.846867661592,\n            'f': \"10672.846867661592\",\n        }],\n [{\n            'v': 2,\n            'f': \"2\",\n        },\n{\n            'v': 27,\n            'f': \"27\",\n        },\n{\n            'v': 4717.80595404443,\n            'f': \"4717.80595404443\",\n        }],\n [{\n            'v': 2,\n            'f': \"2\",\n        },\n{\n            'v': 28,\n            'f': \"28\",\n        },\n{\n            'v': 3691.6782592766276,\n            'f': \"3691.6782592766276\",\n        }],\n [{\n            'v': 2,\n            'f': \"2\",\n        },\n{\n            'v': 29,\n            'f': \"29\",\n        },\n{\n            'v': 3943.3630058146796,\n            'f': \"3943.3630058146796\",\n        }],\n [{\n            'v': 2,\n            'f': \"2\",\n        },\n{\n            'v': 30,\n            'f': \"30\",\n        },\n{\n            'v': 3360.7886361363926,\n            'f': \"3360.7886361363926\",\n        }],\n [{\n            'v': 3,\n            'f': \"3\",\n        },\n{\n            'v': 1,\n            'f': \"1\",\n        },\n{\n            'v': 2101.1965996196764,\n            'f': \"2101.1965996196764\",\n        }],\n [{\n            'v': 3,\n            'f': \"3\",\n        },\n{\n            'v': 2,\n            'f': \"2\",\n        },\n{\n            'v': 4495.014046269177,\n            'f': \"4495.014046269177\",\n        }],\n [{\n            'v': 3,\n            'f': \"3\",\n        },\n{\n            'v': 3,\n            'f': \"3\",\n        },\n{\n            'v': 0.0,\n            'f': \"0.0\",\n        }],\n [{\n            'v': 3,\n            'f': \"3\",\n        },\n{\n            'v': 4,\n            'f': \"4\",\n        },\n{\n            'v': 2422.757761191114,\n            'f': \"2422.757761191114\",\n        }],\n [{\n            'v': 3,\n            'f': \"3\",\n        },\n{\n            'v': 5,\n            'f': \"5\",\n        },\n{\n            'v': 18677.586035250024,\n            'f': \"18677.586035250024\",\n        }],\n [{\n            'v': 3,\n            'f': \"3\",\n        },\n{\n            'v': 6,\n            'f': \"6\",\n        },\n{\n            'v': 1366.401913614016,\n            'f': \"1366.401913614016\",\n        }],\n [{\n            'v': 3,\n            'f': \"3\",\n        },\n{\n            'v': 7,\n            'f': \"7\",\n        },\n{\n            'v': 1711.5040040279682,\n            'f': \"1711.5040040279682\",\n        }],\n [{\n            'v': 3,\n            'f': \"3\",\n        },\n{\n            'v': 8,\n            'f': \"8\",\n        },\n{\n            'v': 2242.1794936514107,\n            'f': \"2242.1794936514107\",\n        }],\n [{\n            'v': 3,\n            'f': \"3\",\n        },\n{\n            'v': 9,\n            'f': \"9\",\n        },\n{\n            'v': 6926.83519691886,\n            'f': \"6926.83519691886\",\n        }],\n [{\n            'v': 3,\n            'f': \"3\",\n        },\n{\n            'v': 10,\n            'f': \"10\",\n        },\n{\n            'v': 1620.2320281643579,\n            'f': \"1620.2320281643579\",\n        }],\n [{\n            'v': 3,\n            'f': \"3\",\n        },\n{\n            'v': 11,\n            'f': \"11\",\n        },\n{\n            'v': 1261.4371990519257,\n            'f': \"1261.4371990519257\",\n        }],\n [{\n            'v': 3,\n            'f': \"3\",\n        },\n{\n            'v': 12,\n            'f': \"12\",\n        },\n{\n            'v': 23664.377531484755,\n            'f': \"23664.377531484755\",\n        }],\n [{\n            'v': 3,\n            'f': \"3\",\n        },\n{\n            'v': 13,\n            'f': \"13\",\n        },\n{\n            'v': 2937.964183279928,\n            'f': \"2937.964183279928\",\n        }],\n [{\n            'v': 3,\n            'f': \"3\",\n        },\n{\n            'v': 14,\n            'f': \"14\",\n        },\n{\n            'v': 4344.129256250165,\n            'f': \"4344.129256250165\",\n        }],\n [{\n            'v': 3,\n            'f': \"3\",\n        },\n{\n            'v': 15,\n            'f': \"15\",\n        },\n{\n            'v': 4687.935314221981,\n            'f': \"4687.935314221981\",\n        }],\n [{\n            'v': 3,\n            'f': \"3\",\n        },\n{\n            'v': 16,\n            'f': \"16\",\n        },\n{\n            'v': 2248.3314971175,\n            'f': \"2248.3314971175\",\n        }],\n [{\n            'v': 3,\n            'f': \"3\",\n        },\n{\n            'v': 17,\n            'f': \"17\",\n        },\n{\n            'v': 4359.613152602813,\n            'f': \"4359.613152602813\",\n        }],\n [{\n            'v': 3,\n            'f': \"3\",\n        },\n{\n            'v': 18,\n            'f': \"18\",\n        },\n{\n            'v': 6279.716850096354,\n            'f': \"6279.716850096354\",\n        }],\n [{\n            'v': 3,\n            'f': \"3\",\n        },\n{\n            'v': 19,\n            'f': \"19\",\n        },\n{\n            'v': 4601.750292734491,\n            'f': \"4601.750292734491\",\n        }],\n [{\n            'v': 3,\n            'f': \"3\",\n        },\n{\n            'v': 20,\n            'f': \"20\",\n        },\n{\n            'v': 6867.533292028986,\n            'f': \"6867.533292028986\",\n        }],\n [{\n            'v': 3,\n            'f': \"3\",\n        },\n{\n            'v': 21,\n            'f': \"21\",\n        },\n{\n            'v': 679.0218923894631,\n            'f': \"679.0218923894631\",\n        }],\n [{\n            'v': 3,\n            'f': \"3\",\n        },\n{\n            'v': 22,\n            'f': \"22\",\n        },\n{\n            'v': 1112.898036743126,\n            'f': \"1112.898036743126\",\n        }],\n [{\n            'v': 3,\n            'f': \"3\",\n        },\n{\n            'v': 23,\n            'f': \"23\",\n        },\n{\n            'v': 915.5180388998513,\n            'f': \"915.5180388998513\",\n        }],\n [{\n            'v': 3,\n            'f': \"3\",\n        },\n{\n            'v': 24,\n            'f': \"24\",\n        },\n{\n            'v': 2641.0996095679366,\n            'f': \"2641.0996095679366\",\n        }],\n [{\n            'v': 3,\n            'f': \"3\",\n        },\n{\n            'v': 25,\n            'f': \"25\",\n        },\n{\n            'v': 1837.0336123448508,\n            'f': \"1837.0336123448508\",\n        }],\n [{\n            'v': 3,\n            'f': \"3\",\n        },\n{\n            'v': 26,\n            'f': \"26\",\n        },\n{\n            'v': 9136.20110742993,\n            'f': \"9136.20110742993\",\n        }],\n [{\n            'v': 3,\n            'f': \"3\",\n        },\n{\n            'v': 27,\n            'f': \"27\",\n        },\n{\n            'v': 1249.1323496042892,\n            'f': \"1249.1323496042892\",\n        }],\n [{\n            'v': 3,\n            'f': \"3\",\n        },\n{\n            'v': 28,\n            'f': \"28\",\n        },\n{\n            'v': 1085.9775667507201,\n            'f': \"1085.9775667507201\",\n        }],\n [{\n            'v': 3,\n            'f': \"3\",\n        },\n{\n            'v': 29,\n            'f': \"29\",\n        },\n{\n            'v': 919.1103745323597,\n            'f': \"919.1103745323597\",\n        }],\n [{\n            'v': 3,\n            'f': \"3\",\n        },\n{\n            'v': 30,\n            'f': \"30\",\n        },\n{\n            'v': 1882.7256084118135,\n            'f': \"1882.7256084118135\",\n        }],\n [{\n            'v': 4,\n            'f': \"4\",\n        },\n{\n            'v': 1,\n            'f': \"1\",\n        },\n{\n            'v': 832.6236937216019,\n            'f': \"832.6236937216019\",\n        }],\n [{\n            'v': 4,\n            'f': \"4\",\n        },\n{\n            'v': 2,\n            'f': \"2\",\n        },\n{\n            'v': 2553.875996996845,\n            'f': \"2553.875996996845\",\n        }],\n [{\n            'v': 4,\n            'f': \"4\",\n        },\n{\n            'v': 3,\n            'f': \"3\",\n        },\n{\n            'v': 2422.757761191114,\n            'f': \"2422.757761191114\",\n        }],\n [{\n            'v': 4,\n            'f': \"4\",\n        },\n{\n            'v': 4,\n            'f': \"4\",\n        },\n{\n            'v': 0.0,\n            'f': \"0.0\",\n        }],\n [{\n            'v': 4,\n            'f': \"4\",\n        },\n{\n            'v': 5,\n            'f': \"5\",\n        },\n{\n            'v': 18847.86993286032,\n            'f': \"18847.86993286032\",\n        }],\n [{\n            'v': 4,\n            'f': \"4\",\n        },\n{\n            'v': 6,\n            'f': \"6\",\n        },\n{\n            'v': 1419.169638962814,\n            'f': \"1419.169638962814\",\n        }],\n [{\n            'v': 4,\n            'f': \"4\",\n        },\n{\n            'v': 7,\n            'f': \"7\",\n        },\n{\n            'v': 1141.8607414750177,\n            'f': \"1141.8607414750177\",\n        }],\n [{\n            'v': 4,\n            'f': \"4\",\n        },\n{\n            'v': 8,\n            'f': \"8\",\n        },\n{\n            'v': 278.67833518364546,\n            'f': \"278.67833518364546\",\n        }],\n [{\n            'v': 4,\n            'f': \"4\",\n        },\n{\n            'v': 9,\n            'f': \"9\",\n        },\n{\n            'v': 9310.654347989144,\n            'f': \"9310.654347989144\",\n        }],\n [{\n            'v': 4,\n            'f': \"4\",\n        },\n{\n            'v': 10,\n            'f': \"10\",\n        },\n{\n            'v': 3632.4482793014054,\n            'f': \"3632.4482793014054\",\n        }]],\n        columns: [[\"number\", \"poiID\"], [\"number\", \"poiID\"], [\"number\", \"distance\"]],\n        columnOptions: [],\n        rowsPerPage: 10,\n        helpUrl: \"https://colab.research.google.com/notebooks/data_table.ipynb\",\n        suppressOutputScrolling: true,\n        minimumWidth: undefined,\n      });\n    ",
      "text/html": [
       "<div>\n",
       "<style scoped>\n",
       "    .dataframe tbody tr th:only-of-type {\n",
       "        vertical-align: middle;\n",
       "    }\n",
       "\n",
       "    .dataframe tbody tr th {\n",
       "        vertical-align: top;\n",
       "    }\n",
       "\n",
       "    .dataframe thead th {\n",
       "        text-align: right;\n",
       "    }\n",
       "</style>\n",
       "<table border=\"1\" class=\"dataframe\">\n",
       "  <thead>\n",
       "    <tr style=\"text-align: right;\">\n",
       "      <th></th>\n",
       "      <th>poiID</th>\n",
       "      <th>poiID</th>\n",
       "      <th>distance</th>\n",
       "    </tr>\n",
       "  </thead>\n",
       "  <tbody>\n",
       "    <tr>\n",
       "      <th>0</th>\n",
       "      <td>1</td>\n",
       "      <td>1</td>\n",
       "      <td>0.094882</td>\n",
       "    </tr>\n",
       "    <tr>\n",
       "      <th>1</th>\n",
       "      <td>1</td>\n",
       "      <td>2</td>\n",
       "      <td>3381.838674</td>\n",
       "    </tr>\n",
       "    <tr>\n",
       "      <th>2</th>\n",
       "      <td>1</td>\n",
       "      <td>3</td>\n",
       "      <td>2101.196600</td>\n",
       "    </tr>\n",
       "    <tr>\n",
       "      <th>3</th>\n",
       "      <td>1</td>\n",
       "      <td>4</td>\n",
       "      <td>832.623694</td>\n",
       "    </tr>\n",
       "    <tr>\n",
       "      <th>4</th>\n",
       "      <td>1</td>\n",
       "      <td>5</td>\n",
       "      <td>19494.102274</td>\n",
       "    </tr>\n",
       "    <tr>\n",
       "      <th>...</th>\n",
       "      <td>...</td>\n",
       "      <td>...</td>\n",
       "      <td>...</td>\n",
       "    </tr>\n",
       "    <tr>\n",
       "      <th>95</th>\n",
       "      <td>4</td>\n",
       "      <td>6</td>\n",
       "      <td>1419.169639</td>\n",
       "    </tr>\n",
       "    <tr>\n",
       "      <th>96</th>\n",
       "      <td>4</td>\n",
       "      <td>7</td>\n",
       "      <td>1141.860741</td>\n",
       "    </tr>\n",
       "    <tr>\n",
       "      <th>97</th>\n",
       "      <td>4</td>\n",
       "      <td>8</td>\n",
       "      <td>278.678335</td>\n",
       "    </tr>\n",
       "    <tr>\n",
       "      <th>98</th>\n",
       "      <td>4</td>\n",
       "      <td>9</td>\n",
       "      <td>9310.654348</td>\n",
       "    </tr>\n",
       "    <tr>\n",
       "      <th>99</th>\n",
       "      <td>4</td>\n",
       "      <td>10</td>\n",
       "      <td>3632.448279</td>\n",
       "    </tr>\n",
       "  </tbody>\n",
       "</table>\n",
       "<p>100 rows × 3 columns</p>\n",
       "</div>"
      ],
      "text/plain": [
       "<google.colab.data_table.DataTable object>"
      ]
     },
     "execution_count": 37,
     "metadata": {},
     "output_type": "execute_result"
    }
   ],
   "source": [
    "%%sql\n",
    "select p1.poiID,p2.poiID,distance(p1.latitude,p2.latitude,p1.longitude,p2.longitude) as distance\n",
    "from POI p1 full join POI p2"
   ]
  },
  {
   "cell_type": "markdown",
   "metadata": {
    "id": "6kCIQcFHHdsE"
   },
   "source": [
    "### 6) DuréeVisitePOI \n",
    "La durée moyenne de visite d'un POI.\n",
    "Indication, pour une série d'événements consécutifs associés à un même POI dans une séquence, la durée de visite est la différence de date entre le 1er et le dernier événement."
   ]
  },
  {
   "cell_type": "code",
   "execution_count": 38,
   "metadata": {
    "colab": {
     "base_uri": "https://localhost:8080/",
     "height": 315
    },
    "id": "l_DwInkqbqKw",
    "outputId": "db9c3084-29fe-4eae-96c2-7f3317c24cb4"
   },
   "outputs": [
    {
     "data": {
      "application/vnd.google.colaboratory.module+javascript": "\n      import \"https://ssl.gstatic.com/colaboratory/data_table/a8bd4d5e58f96183/data_table.js\";\n\n      window.createDataTable({\n        data: [[{\n            'v': 14,\n            'f': \"14\",\n        },\n{\n            'v': 965.9736842105264,\n            'f': \"965.9736842105264\",\n        }],\n [{\n            'v': 12,\n            'f': \"12\",\n        },\n{\n            'v': 3136.9864864864867,\n            'f': \"3136.9864864864867\",\n        }],\n [{\n            'v': 13,\n            'f': \"13\",\n        },\n{\n            'v': 2124.133333333333,\n            'f': \"2124.133333333333\",\n        }],\n [{\n            'v': 18,\n            'f': \"18\",\n        },\n{\n            'v': 1037.4,\n            'f': \"1037.4\",\n        }],\n [{\n            'v': 23,\n            'f': \"23\",\n        },\n{\n            'v': 1468.289224952741,\n            'f': \"1468.289224952741\",\n        }],\n [{\n            'v': 6,\n            'f': \"6\",\n        },\n{\n            'v': 1379.5304347826086,\n            'f': \"1379.5304347826086\",\n        }],\n [{\n            'v': 16,\n            'f': \"16\",\n        },\n{\n            'v': 2971.145067698259,\n            'f': \"2971.145067698259\",\n        }],\n [{\n            'v': 9,\n            'f': \"9\",\n        },\n{\n            'v': 3673.6944444444443,\n            'f': \"3673.6944444444443\",\n        }],\n [{\n            'v': 17,\n            'f': \"17\",\n        },\n{\n            'v': 6392.653846153846,\n            'f': \"6392.653846153846\",\n        }],\n [{\n            'v': 10,\n            'f': \"10\",\n        },\n{\n            'v': 2013.1341463414635,\n            'f': \"2013.1341463414635\",\n        }],\n [{\n            'v': 1,\n            'f': \"1\",\n        },\n{\n            'v': 3018.9415584415583,\n            'f': \"3018.9415584415583\",\n        }],\n [{\n            'v': 27,\n            'f': \"27\",\n        },\n{\n            'v': 950.7666666666667,\n            'f': \"950.7666666666667\",\n        }],\n [{\n            'v': 3,\n            'f': \"3\",\n        },\n{\n            'v': 1418.3,\n            'f': \"1418.3\",\n        }],\n [{\n            'v': 7,\n            'f': \"7\",\n        },\n{\n            'v': 1515.0481927710844,\n            'f': \"1515.0481927710844\",\n        }],\n [{\n            'v': 11,\n            'f': \"11\",\n        },\n{\n            'v': 2605.7804391217564,\n            'f': \"2605.7804391217564\",\n        }],\n [{\n            'v': 26,\n            'f': \"26\",\n        },\n{\n            'v': 1198.3235294117646,\n            'f': \"1198.3235294117646\",\n        }],\n [{\n            'v': 25,\n            'f': \"25\",\n        },\n{\n            'v': 1173.5382716049382,\n            'f': \"1173.5382716049382\",\n        }],\n [{\n            'v': 30,\n            'f': \"30\",\n        },\n{\n            'v': 1509.2198581560283,\n            'f': \"1509.2198581560283\",\n        }],\n [{\n            'v': 20,\n            'f': \"20\",\n        },\n{\n            'v': 435.55555555555554,\n            'f': \"435.55555555555554\",\n        }],\n [{\n            'v': 19,\n            'f': \"19\",\n        },\n{\n            'v': 558.5769230769231,\n            'f': \"558.5769230769231\",\n        }],\n [{\n            'v': 15,\n            'f': \"15\",\n        },\n{\n            'v': 1697.6046511627908,\n            'f': \"1697.6046511627908\",\n        }],\n [{\n            'v': 29,\n            'f': \"29\",\n        },\n{\n            'v': 1351.360294117647,\n            'f': \"1351.360294117647\",\n        }],\n [{\n            'v': 22,\n            'f': \"22\",\n        },\n{\n            'v': 1785.7616959064328,\n            'f': \"1785.7616959064328\",\n        }],\n [{\n            'v': 28,\n            'f': \"28\",\n        },\n{\n            'v': 899.0794871794872,\n            'f': \"899.0794871794872\",\n        }],\n [{\n            'v': 4,\n            'f': \"4\",\n        },\n{\n            'v': 5291.538011695907,\n            'f': \"5291.538011695907\",\n        }],\n [{\n            'v': 2,\n            'f': \"2\",\n        },\n{\n            'v': 2332.102564102564,\n            'f': \"2332.102564102564\",\n        }],\n [{\n            'v': 21,\n            'f': \"21\",\n        },\n{\n            'v': 1582.520782396088,\n            'f': \"1582.520782396088\",\n        }],\n [{\n            'v': 8,\n            'f': \"8\",\n        },\n{\n            'v': 3285.0616740088108,\n            'f': \"3285.0616740088108\",\n        }],\n [{\n            'v': 24,\n            'f': \"24\",\n        },\n{\n            'v': 2175.0037453183522,\n            'f': \"2175.0037453183522\",\n        }]],\n        columns: [[\"number\", \"poiID\"], [\"number\", \"duree_moyenne\"]],\n        columnOptions: [],\n        rowsPerPage: 10,\n        helpUrl: \"https://colab.research.google.com/notebooks/data_table.ipynb\",\n        suppressOutputScrolling: true,\n        minimumWidth: undefined,\n      });\n    ",
      "text/html": [
       "<div>\n",
       "<style scoped>\n",
       "    .dataframe tbody tr th:only-of-type {\n",
       "        vertical-align: middle;\n",
       "    }\n",
       "\n",
       "    .dataframe tbody tr th {\n",
       "        vertical-align: top;\n",
       "    }\n",
       "\n",
       "    .dataframe thead th {\n",
       "        text-align: right;\n",
       "    }\n",
       "</style>\n",
       "<table border=\"1\" class=\"dataframe\">\n",
       "  <thead>\n",
       "    <tr style=\"text-align: right;\">\n",
       "      <th></th>\n",
       "      <th>poiID</th>\n",
       "      <th>duree_moyenne</th>\n",
       "    </tr>\n",
       "  </thead>\n",
       "  <tbody>\n",
       "    <tr>\n",
       "      <th>0</th>\n",
       "      <td>14</td>\n",
       "      <td>965.973684</td>\n",
       "    </tr>\n",
       "    <tr>\n",
       "      <th>1</th>\n",
       "      <td>12</td>\n",
       "      <td>3136.986486</td>\n",
       "    </tr>\n",
       "    <tr>\n",
       "      <th>2</th>\n",
       "      <td>13</td>\n",
       "      <td>2124.133333</td>\n",
       "    </tr>\n",
       "    <tr>\n",
       "      <th>3</th>\n",
       "      <td>18</td>\n",
       "      <td>1037.400000</td>\n",
       "    </tr>\n",
       "    <tr>\n",
       "      <th>4</th>\n",
       "      <td>23</td>\n",
       "      <td>1468.289225</td>\n",
       "    </tr>\n",
       "    <tr>\n",
       "      <th>5</th>\n",
       "      <td>6</td>\n",
       "      <td>1379.530435</td>\n",
       "    </tr>\n",
       "    <tr>\n",
       "      <th>6</th>\n",
       "      <td>16</td>\n",
       "      <td>2971.145068</td>\n",
       "    </tr>\n",
       "    <tr>\n",
       "      <th>7</th>\n",
       "      <td>9</td>\n",
       "      <td>3673.694444</td>\n",
       "    </tr>\n",
       "    <tr>\n",
       "      <th>8</th>\n",
       "      <td>17</td>\n",
       "      <td>6392.653846</td>\n",
       "    </tr>\n",
       "    <tr>\n",
       "      <th>9</th>\n",
       "      <td>10</td>\n",
       "      <td>2013.134146</td>\n",
       "    </tr>\n",
       "    <tr>\n",
       "      <th>10</th>\n",
       "      <td>1</td>\n",
       "      <td>3018.941558</td>\n",
       "    </tr>\n",
       "    <tr>\n",
       "      <th>11</th>\n",
       "      <td>27</td>\n",
       "      <td>950.766667</td>\n",
       "    </tr>\n",
       "    <tr>\n",
       "      <th>12</th>\n",
       "      <td>3</td>\n",
       "      <td>1418.300000</td>\n",
       "    </tr>\n",
       "    <tr>\n",
       "      <th>13</th>\n",
       "      <td>7</td>\n",
       "      <td>1515.048193</td>\n",
       "    </tr>\n",
       "    <tr>\n",
       "      <th>14</th>\n",
       "      <td>11</td>\n",
       "      <td>2605.780439</td>\n",
       "    </tr>\n",
       "    <tr>\n",
       "      <th>15</th>\n",
       "      <td>26</td>\n",
       "      <td>1198.323529</td>\n",
       "    </tr>\n",
       "    <tr>\n",
       "      <th>16</th>\n",
       "      <td>25</td>\n",
       "      <td>1173.538272</td>\n",
       "    </tr>\n",
       "    <tr>\n",
       "      <th>17</th>\n",
       "      <td>30</td>\n",
       "      <td>1509.219858</td>\n",
       "    </tr>\n",
       "    <tr>\n",
       "      <th>18</th>\n",
       "      <td>20</td>\n",
       "      <td>435.555556</td>\n",
       "    </tr>\n",
       "    <tr>\n",
       "      <th>19</th>\n",
       "      <td>19</td>\n",
       "      <td>558.576923</td>\n",
       "    </tr>\n",
       "    <tr>\n",
       "      <th>20</th>\n",
       "      <td>15</td>\n",
       "      <td>1697.604651</td>\n",
       "    </tr>\n",
       "    <tr>\n",
       "      <th>21</th>\n",
       "      <td>29</td>\n",
       "      <td>1351.360294</td>\n",
       "    </tr>\n",
       "    <tr>\n",
       "      <th>22</th>\n",
       "      <td>22</td>\n",
       "      <td>1785.761696</td>\n",
       "    </tr>\n",
       "    <tr>\n",
       "      <th>23</th>\n",
       "      <td>28</td>\n",
       "      <td>899.079487</td>\n",
       "    </tr>\n",
       "    <tr>\n",
       "      <th>24</th>\n",
       "      <td>4</td>\n",
       "      <td>5291.538012</td>\n",
       "    </tr>\n",
       "    <tr>\n",
       "      <th>25</th>\n",
       "      <td>2</td>\n",
       "      <td>2332.102564</td>\n",
       "    </tr>\n",
       "    <tr>\n",
       "      <th>26</th>\n",
       "      <td>21</td>\n",
       "      <td>1582.520782</td>\n",
       "    </tr>\n",
       "    <tr>\n",
       "      <th>27</th>\n",
       "      <td>8</td>\n",
       "      <td>3285.061674</td>\n",
       "    </tr>\n",
       "    <tr>\n",
       "      <th>28</th>\n",
       "      <td>24</td>\n",
       "      <td>2175.003745</td>\n",
       "    </tr>\n",
       "  </tbody>\n",
       "</table>\n",
       "</div>"
      ],
      "text/plain": [
       "<google.colab.data_table.DataTable object>"
      ]
     },
     "execution_count": 38,
     "metadata": {},
     "output_type": "execute_result"
    }
   ],
   "source": [
    "%%sql\n",
    "select poiID,avg(duree_visite) as duree_moyenne\n",
    "from (select userID,seqID,poiID, max(date)-min(date) as duree_visite from user_visits group by userID,seqID,poiID) duree_visite\n",
    "group by poiID;\n"
   ]
  },
  {
   "cell_type": "markdown",
   "metadata": {
    "id": "E01R85iD2JYd"
   },
   "source": [
    "## Exercice 2"
   ]
  },
  {
   "cell_type": "markdown",
   "metadata": {
    "id": "tBoK2TbByOVE"
   },
   "source": [
    "Charger les données de Geonames"
   ]
  },
  {
   "cell_type": "code",
   "execution_count": 40,
   "metadata": {
    "colab": {
     "base_uri": "https://localhost:8080/"
    },
    "id": "IxutWT04wnCU",
    "outputId": "911dbdf9-c2fe-4106-8fda-feffd8fd6628"
   },
   "outputs": [
    {
     "name": "stdout",
     "output_type": "stream",
     "text": [
      "downloading from URL:  https://nuage.lip6.fr/s/H3bpyRGgnCq2NR4/download?path=geonames_ALL/allCountries.zip save in : /local/data/allCountries.zip\n"
     ]
    },
    {
     "data": {
      "text/plain": [
       "['allCountries.zip', 'userVisits-Toro.csv', 'POI-Toro.csv', 'allCountries.txt']"
      ]
     },
     "execution_count": 40,
     "metadata": {},
     "output_type": "execute_result"
    }
   ],
   "source": [
    "import zipfile\n",
    "\n",
    "#geonames\n",
    "web_dir = PUBLIC_DATASET + \"geonames_ALL\"\n",
    "\n",
    "download_file(web_dir, local_dir, \"allCountries.zip\")\n",
    "\n",
    "#unzip\n",
    "local_file = local_dir + \"/\" + \"allCountries.txt\"\n",
    "if(os.path.isfile(local_file)):\n",
    "    print(local_file, \"is already stored\")\n",
    "else:\n",
    "  with zipfile.ZipFile(local_dir + \"/\" + \"allCountries.zip\", 'r') as zip_ref:\n",
    "    zip_ref.extractall(local_dir)\n",
    "\n",
    "os.listdir(local_dir)"
   ]
  },
  {
   "cell_type": "code",
   "execution_count": 41,
   "metadata": {
    "colab": {
     "base_uri": "https://localhost:8080/"
    },
    "id": "dHEt5Snqy84t",
    "outputId": "cf1eb2ee-8b38-4d87-efa6-5f5ad0c76f79"
   },
   "outputs": [
    {
     "name": "stdout",
     "output_type": "stream",
     "text": [
      "+-------+--------------------+--------------------+--------------------+--------+-------+---+---+---+-----+----+----+----+----+----+----+----+--------------+----------+\n",
      "|    _c0|                 _c1|                 _c2|                 _c3|     _c4|    _c5|_c6|_c7|_c8|  _c9|_c10|_c11|_c12|_c13|_c14|_c15|_c16|          _c17|      _c18|\n",
      "+-------+--------------------+--------------------+--------------------+--------+-------+---+---+---+-----+----+----+----+----+----+----+----+--------------+----------+\n",
      "|2986043|  Pic de Font Blanca|  Pic de Font Blanca|Pic de Font Blanc...|42.64991|1.53335|  T| PK| AD| null|  00|null|null|null|   0|null|2860|Europe/Andorra|2014-11-05|\n",
      "|2994701|            Roc Mélé|            Roc Mele|Roc Mele,Roc Mele...|42.58765|1.74028|  T| MT| AD|AD,FR|  00|null|null|null|   0|null|2803|Europe/Andorra|2014-11-05|\n",
      "|3007683|Pic des Langounelles|Pic des Langounelles|Pic des Langounelles|42.61203|1.47364|  T| PK| AD|AD,FR|  00|null|null|null|   0|null|2685|Europe/Andorra|2014-11-05|\n",
      "+-------+--------------------+--------------------+--------------------+--------+-------+---+---+---+-----+----+----+----+----+----+----+----+--------------+----------+\n",
      "only showing top 3 rows\n",
      "\n"
     ]
    }
   ],
   "source": [
    "geonames =  spark.read.option(\"header\", \"False\").option(\"delimiter\", \"\\t\").format(\"csv\").load(local_dir + \"/\" + \"allCountries.txt\")\n",
    "geonames.createOrReplaceTempView(\"geonames\")\n",
    "geonames.show(3)"
   ]
  },
  {
   "cell_type": "code",
   "execution_count": 42,
   "metadata": {
    "colab": {
     "base_uri": "https://localhost:8080/"
    },
    "id": "oEmzLSHg07l7",
    "outputId": "3e87beae-c1f2-41f3-ee88-e836a5462187"
   },
   "outputs": [
    {
     "name": "stdout",
     "output_type": "stream",
     "text": [
      "root\n",
      " |-- _c0: string (nullable = true)\n",
      " |-- _c1: string (nullable = true)\n",
      " |-- _c2: string (nullable = true)\n",
      " |-- _c3: string (nullable = true)\n",
      " |-- _c4: string (nullable = true)\n",
      " |-- _c5: string (nullable = true)\n",
      " |-- _c6: string (nullable = true)\n",
      " |-- _c7: string (nullable = true)\n",
      " |-- _c8: string (nullable = true)\n",
      " |-- _c9: string (nullable = true)\n",
      " |-- _c10: string (nullable = true)\n",
      " |-- _c11: string (nullable = true)\n",
      " |-- _c12: string (nullable = true)\n",
      " |-- _c13: string (nullable = true)\n",
      " |-- _c14: string (nullable = true)\n",
      " |-- _c15: string (nullable = true)\n",
      " |-- _c16: string (nullable = true)\n",
      " |-- _c17: string (nullable = true)\n",
      " |-- _c18: string (nullable = true)\n",
      "\n"
     ]
    }
   ],
   "source": [
    "geonames.printSchema()"
   ]
  },
  {
   "cell_type": "markdown",
   "metadata": {
    "id": "PLsxr-912g0Q"
   },
   "source": [
    "### 1) Geonames\n"
   ]
  },
  {
   "cell_type": "markdown",
   "metadata": {
    "id": "Z7RUqF95vYhx"
   },
   "source": [
    "#####1a) schéma de Geonames\n",
    "\n",
    "Définir Geonames2 en précisant le schéma : nom et type des attributs.\n",
    "Se limiter au 9 premiers attributs donnant des informations sur l'identifiant d'un POI, ses noms, sa position GPS, le code du pays..., ), d'après le document [readme.txt](https://nuage.lip6.fr/s/kaBX3sF3YEzMZHK) dans le dossier [geonames_ALL](https://nuage.lip6.fr/s/H3bpyRGgnCq2NR4?path=%2Fgeonames_ALL)"
   ]
  },
  {
   "cell_type": "code",
   "execution_count": 43,
   "metadata": {
    "colab": {
     "base_uri": "https://localhost:8080/",
     "height": 332
    },
    "id": "X3JLNOFH2ed4",
    "outputId": "f134a50e-4110-4c3e-a5b4-68d5f53c1c69"
   },
   "outputs": [
    {
     "data": {
      "application/vnd.google.colaboratory.module+javascript": "\n      import \"https://ssl.gstatic.com/colaboratory/data_table/a8bd4d5e58f96183/data_table.js\";\n\n      window.createDataTable({\n        data: [[{\n            'v': 2986043,\n            'f': \"2986043\",\n        },\n\"Pic de Font Blanca\",\n\"Pic de Font Blanca,Pic du Port\",\n{\n            'v': 42.64991,\n            'f': \"42.64991\",\n        },\n{\n            'v': 1.53335,\n            'f': \"1.53335\",\n        },\n\"T\",\n\"PK\",\n\"AD\"],\n [{\n            'v': 2994701,\n            'f': \"2994701\",\n        },\n\"Roc M\\u00e9l\\u00e9\",\n\"Roc Mele,Roc Meler,Roc M\\u00e9l\\u00e9\",\n{\n            'v': 42.58765,\n            'f': \"42.58765\",\n        },\n{\n            'v': 1.74028,\n            'f': \"1.74028\",\n        },\n\"T\",\n\"MT\",\n\"AD\"],\n [{\n            'v': 3007683,\n            'f': \"3007683\",\n        },\n\"Pic des Langounelles\",\n\"Pic des Langounelles\",\n{\n            'v': 42.61203,\n            'f': \"42.61203\",\n        },\n{\n            'v': 1.47364,\n            'f': \"1.47364\",\n        },\n\"T\",\n\"PK\",\n\"AD\"],\n [{\n            'v': 3017832,\n            'f': \"3017832\",\n        },\n\"Pic de les Abelletes\",\n\"Pic de la Font-Negre,Pic de la Font-N\\u00e8gre,Pic de les Abelletes\",\n{\n            'v': 42.52535,\n            'f': \"42.52535\",\n        },\n{\n            'v': 1.73343,\n            'f': \"1.73343\",\n        },\n\"T\",\n\"PK\",\n\"AD\"],\n [{\n            'v': 3017833,\n            'f': \"3017833\",\n        },\n\"Estany de les Abelletes\",\n\"Estany de les Abelletes,Etang de Font-Negre,\\u00c9tang de Font-N\\u00e8gre\",\n{\n            'v': 42.52915,\n            'f': \"42.52915\",\n        },\n{\n            'v': 1.73362,\n            'f': \"1.73362\",\n        },\n\"H\",\n\"LK\",\n\"AD\"],\n [{\n            'v': 3023203,\n            'f': \"3023203\",\n        },\n\"Port Vieux de la Coume d\\u2019Ose\",\n\"Port Vieux de Coume d'Ose,Port Vieux de Coume d\\u2019Ose,Port Vieux de la Coume d'Ose,Port Vieux de la Coume d\\u2019Ose\",\n{\n            'v': 42.62568,\n            'f': \"42.62568\",\n        },\n{\n            'v': 1.61823,\n            'f': \"1.61823\",\n        },\n\"T\",\n\"PASS\",\n\"AD\"],\n [{\n            'v': 3029315,\n            'f': \"3029315\",\n        },\n\"Port de la Cabanette\",\n\"Port de la Cabanette,Porteille de la Cabanette\",\n{\n            'v': 42.6,\n            'f': \"42.6\",\n        },\n{\n            'v': 1.73333,\n            'f': \"1.73333\",\n        },\n\"T\",\n\"PASS\",\n\"AD\"],\n [{\n            'v': 3034945,\n            'f': \"3034945\",\n        },\n\"Port Dret\",\n\"Port Dret,Port de Bareites,Port de las Bareytes,Port des Bareytes\",\n{\n            'v': 42.60172,\n            'f': \"42.60172\",\n        },\n{\n            'v': 1.45562,\n            'f': \"1.45562\",\n        },\n\"T\",\n\"PASS\",\n\"AD\"],\n [{\n            'v': 3038814,\n            'f': \"3038814\",\n        },\n\"Costa de Xurius\",\nnull,\n{\n            'v': 42.50692,\n            'f': \"42.50692\",\n        },\n{\n            'v': 1.47569,\n            'f': \"1.47569\",\n        },\n\"T\",\n\"SLP\",\n\"AD\"],\n [{\n            'v': 3038815,\n            'f': \"3038815\",\n        },\n\"Font de la Xona\",\nnull,\n{\n            'v': 42.55003,\n            'f': \"42.55003\",\n        },\n{\n            'v': 1.44986,\n            'f': \"1.44986\",\n        },\n\"H\",\n\"SPNG\",\n\"AD\"],\n [{\n            'v': 3038816,\n            'f': \"3038816\",\n        },\n\"Xixerella\",\nnull,\n{\n            'v': 42.55327,\n            'f': \"42.55327\",\n        },\n{\n            'v': 1.48736,\n            'f': \"1.48736\",\n        },\n\"P\",\n\"PPL\",\n\"AD\"],\n [{\n            'v': 3038818,\n            'f': \"3038818\",\n        },\n\"Riu Xic\",\nnull,\n{\n            'v': 42.57165,\n            'f': \"42.57165\",\n        },\n{\n            'v': 1.67554,\n            'f': \"1.67554\",\n        },\n\"H\",\n\"STM\",\n\"AD\"],\n [{\n            'v': 3038819,\n            'f': \"3038819\",\n        },\n\"Pas del Xic\",\nnull,\n{\n            'v': 42.49766,\n            'f': \"42.49766\",\n        },\n{\n            'v': 1.57597,\n            'f': \"1.57597\",\n        },\n\"R\",\n\"TRL\",\n\"AD\"],\n [{\n            'v': 3038820,\n            'f': \"3038820\",\n        },\n\"Roc del Xeig\",\nnull,\n{\n            'v': 42.56068,\n            'f': \"42.56068\",\n        },\n{\n            'v': 1.4898,\n            'f': \"1.4898\",\n        },\n\"T\",\n\"RK\",\n\"AD\"],\n [{\n            'v': 3038821,\n            'f': \"3038821\",\n        },\n\"Collada del Xeig\",\nnull,\n{\n            'v': 42.57512,\n            'f': \"42.57512\",\n        },\n{\n            'v': 1.49009,\n            'f': \"1.49009\",\n        },\n\"T\",\n\"PK\",\n\"AD\"],\n [{\n            'v': 3038822,\n            'f': \"3038822\",\n        },\n\"Fonts Vives\",\nnull,\n{\n            'v': 42.49829,\n            'f': \"42.49829\",\n        },\n{\n            'v': 1.56428,\n            'f': \"1.56428\",\n        },\n\"H\",\n\"SPNG\",\n\"AD\"],\n [{\n            'v': 3038823,\n            'f': \"3038823\",\n        },\n\"Roc de Vista\",\nnull,\n{\n            'v': 42.49922,\n            'f': \"42.49922\",\n        },\n{\n            'v': 1.48118,\n            'f': \"1.48118\",\n        },\n\"T\",\n\"RK\",\n\"AD\"],\n [{\n            'v': 3038824,\n            'f': \"3038824\",\n        },\n\"Obaga de Vista\",\nnull,\n{\n            'v': 42.47935,\n            'f': \"42.47935\",\n        },\n{\n            'v': 1.44621,\n            'f': \"1.44621\",\n        },\n\"T\",\n\"SLP\",\n\"AD\"],\n [{\n            'v': 3038825,\n            'f': \"3038825\",\n        },\n\"Coll de Vista\",\nnull,\n{\n            'v': 42.47611,\n            'f': \"42.47611\",\n        },\n{\n            'v': 1.60578,\n            'f': \"1.60578\",\n        },\n\"T\",\n\"GAP\",\n\"AD\"],\n [{\n            'v': 3038826,\n            'f': \"3038826\",\n        },\n\"Coll de Vista\",\n\"Coll de Vista\",\n{\n            'v': 42.47552,\n            'f': \"42.47552\",\n        },\n{\n            'v': 1.44173,\n            'f': \"1.44173\",\n        },\n\"T\",\n\"PASS\",\n\"AD\"],\n [{\n            'v': 3038827,\n            'f': \"3038827\",\n        },\n\"Visanseny\",\n\"Visanceny,Visanseny\",\n{\n            'v': 42.57488,\n            'f': \"42.57488\",\n        },\n{\n            'v': 1.61616,\n            'f': \"1.61616\",\n        },\n\"L\",\n\"LCTY\",\n\"AD\"],\n [{\n            'v': 3038828,\n            'f': \"3038828\",\n        },\n\"Roc de la Vinya\",\nnull,\n{\n            'v': 42.52776,\n            'f': \"42.52776\",\n        },\n{\n            'v': 1.56446,\n            'f': \"1.56446\",\n        },\n\"T\",\n\"RK\",\n\"AD\"],\n [{\n            'v': 3038829,\n            'f': \"3038829\",\n        },\n\"Canal de la Vinya\",\nnull,\n{\n            'v': 42.52232,\n            'f': \"42.52232\",\n        },\n{\n            'v': 1.52319,\n            'f': \"1.52319\",\n        },\n\"H\",\n\"STM\",\n\"AD\"],\n [{\n            'v': 3038830,\n            'f': \"3038830\",\n        },\n\"Bosc de Villar\",\nnull,\n{\n            'v': 42.60135,\n            'f': \"42.60135\",\n        },\n{\n            'v': 1.5434,\n            'f': \"1.5434\",\n        },\n\"V\",\n\"FRST\",\n\"AD\"],\n [{\n            'v': 3038831,\n            'f': \"3038831\",\n        },\n\"Torrent de Vila\",\nnull,\n{\n            'v': 42.53414,\n            'f': \"42.53414\",\n        },\n{\n            'v': 1.56678,\n            'f': \"1.56678\",\n        },\n\"H\",\n\"STM\",\n\"AD\"],\n [{\n            'v': 3038832,\n            'f': \"3038832\",\n        },\n\"Vila\",\n\"Casas Vila,Vila\",\n{\n            'v': 42.53176,\n            'f': \"42.53176\",\n        },\n{\n            'v': 1.56654,\n            'f': \"1.56654\",\n        },\n\"P\",\n\"PPL\",\n\"AD\"],\n [{\n            'v': 3038833,\n            'f': \"3038833\",\n        },\n\"Basers de Vicen\\u00e7\",\nnull,\n{\n            'v': 42.47669,\n            'f': \"42.47669\",\n        },\n{\n            'v': 1.4829,\n            'f': \"1.4829\",\n        },\n\"T\",\n\"CLF\",\n\"AD\"],\n [{\n            'v': 3038834,\n            'f': \"3038834\",\n        },\n\"Pla de Vi\\u00e0s\",\nnull,\n{\n            'v': 42.59001,\n            'f': \"42.59001\",\n        },\n{\n            'v': 1.65996,\n            'f': \"1.65996\",\n        },\n\"T\",\n\"UPLD\",\n\"AD\"],\n [{\n            'v': 3038835,\n            'f': \"3038835\",\n        },\n\"Vial del Cardaire\",\nnull,\n{\n            'v': 42.56372,\n            'f': \"42.56372\",\n        },\n{\n            'v': 1.50503,\n            'f': \"1.50503\",\n        },\n\"L\",\n\"LCTY\",\n\"AD\"],\n [{\n            'v': 3038836,\n            'f': \"3038836\",\n        },\n\"Font del Vi\",\nnull,\n{\n            'v': 42.52342,\n            'f': \"42.52342\",\n        },\n{\n            'v': 1.47698,\n            'f': \"1.47698\",\n        },\n\"H\",\n\"SPNG\",\n\"AD\"],\n [{\n            'v': 3038837,\n            'f': \"3038837\",\n        },\n\"Font Verda\",\nnull,\n{\n            'v': 42.5557,\n            'f': \"42.5557\",\n        },\n{\n            'v': 1.55859,\n            'f': \"1.55859\",\n        },\n\"H\",\n\"SPNG\",\n\"AD\"],\n [{\n            'v': 3038838,\n            'f': \"3038838\",\n        },\n\"Costa Verda\",\nnull,\n{\n            'v': 42.48297,\n            'f': \"42.48297\",\n        },\n{\n            'v': 1.66086,\n            'f': \"1.66086\",\n        },\n\"T\",\n\"SLP\",\n\"AD\"],\n [{\n            'v': 3038839,\n            'f': \"3038839\",\n        },\n\"Costa Verda\",\nnull,\n{\n            'v': 42.48749,\n            'f': \"42.48749\",\n        },\n{\n            'v': 1.57108,\n            'f': \"1.57108\",\n        },\n\"T\",\n\"SLP\",\n\"AD\"],\n [{\n            'v': 3038840,\n            'f': \"3038840\",\n        },\n\"Serrat de Ventader\",\nnull,\n{\n            'v': 42.49157,\n            'f': \"42.49157\",\n        },\n{\n            'v': 1.43183,\n            'f': \"1.43183\",\n        },\n\"T\",\n\"SPUR\",\n\"AD\"],\n [{\n            'v': 3038841,\n            'f': \"3038841\",\n        },\n\"Bony de Vellatocina\",\nnull,\n{\n            'v': 42.61246,\n            'f': \"42.61246\",\n        },\n{\n            'v': 1.50594,\n            'f': \"1.50594\",\n        },\n\"T\",\n\"PK\",\n\"AD\"],\n [{\n            'v': 3038842,\n            'f': \"3038842\",\n        },\n\"Pleta Vella\",\nnull,\n{\n            'v': 42.51143,\n            'f': \"42.51143\",\n        },\n{\n            'v': 1.60976,\n            'f': \"1.60976\",\n        },\n\"L\",\n\"GRAZ\",\n\"AD\"],\n [{\n            'v': 3038843,\n            'f': \"3038843\",\n        },\n\"Sol\\u00e0 Vell\",\nnull,\n{\n            'v': 42.46645,\n            'f': \"42.46645\",\n        },\n{\n            'v': 1.47647,\n            'f': \"1.47647\",\n        },\n\"T\",\n\"SLP\",\n\"AD\"],\n [{\n            'v': 3038844,\n            'f': \"3038844\",\n        },\n\"Port Vell\",\nnull,\n{\n            'v': 42.65315,\n            'f': \"42.65315\",\n        },\n{\n            'v': 1.55207,\n            'f': \"1.55207\",\n        },\n\"T\",\n\"PASS\",\n\"AD\"],\n [{\n            'v': 3038845,\n            'f': \"3038845\",\n        },\n\"Port Negre del Pallars\",\n\"Port Negre del Pallars,Port Vell\",\n{\n            'v': 42.56799,\n            'f': \"42.56799\",\n        },\n{\n            'v': 1.44412,\n            'f': \"1.44412\",\n        },\n\"T\",\n\"PASS\",\n\"AD\"],\n [{\n            'v': 3038846,\n            'f': \"3038846\",\n        },\n\"Bancal Vedeller\",\nnull,\n{\n            'v': 42.60103,\n            'f': \"42.60103\",\n        },\n{\n            'v': 1.45896,\n            'f': \"1.45896\",\n        },\n\"R\",\n\"TRL\",\n\"AD\"],\n [{\n            'v': 3038847,\n            'f': \"3038847\",\n        },\n\"Vedat del Xeig\",\nnull,\n{\n            'v': 42.56223,\n            'f': \"42.56223\",\n        },\n{\n            'v': 1.48785,\n            'f': \"1.48785\",\n        },\n\"L\",\n\"LCTY\",\n\"AD\"],\n [{\n            'v': 3038848,\n            'f': \"3038848\",\n        },\n\"Vedat dels Plans\",\nnull,\n{\n            'v': 42.53983,\n            'f': \"42.53983\",\n        },\n{\n            'v': 1.50408,\n            'f': \"1.50408\",\n        },\n\"L\",\n\"AREA\",\n\"AD\"],\n [{\n            'v': 3038849,\n            'f': \"3038849\",\n        },\n\"Vedat de Coll de les Cases\",\nnull,\n{\n            'v': 42.57491,\n            'f': \"42.57491\",\n        },\n{\n            'v': 1.49849,\n            'f': \"1.49849\",\n        },\n\"L\",\n\"LCTY\",\n\"AD\"],\n [{\n            'v': 3038850,\n            'f': \"3038850\",\n        },\n\"Serra del Vedat\",\nnull,\n{\n            'v': 42.46836,\n            'f': \"42.46836\",\n        },\n{\n            'v': 1.48497,\n            'f': \"1.48497\",\n        },\n\"T\",\n\"RDGE\",\n\"AD\"],\n [{\n            'v': 3038851,\n            'f': \"3038851\",\n        },\n\"Planades del Vedat\",\nnull,\n{\n            'v': 42.53939,\n            'f': \"42.53939\",\n        },\n{\n            'v': 1.50116,\n            'f': \"1.50116\",\n        },\n\"T\",\n\"UPLD\",\n\"AD\"],\n [{\n            'v': 3038852,\n            'f': \"3038852\",\n        },\n\"Veda de Sorteny\",\nnull,\n{\n            'v': 42.62075,\n            'f': \"42.62075\",\n        },\n{\n            'v': 1.55042,\n            'f': \"1.55042\",\n        },\n\"L\",\n\"LCTY\",\n\"AD\"],\n [{\n            'v': 3038853,\n            'f': \"3038853\",\n        },\n\"Veda del Castellar\",\nnull,\n{\n            'v': 42.62578,\n            'f': \"42.62578\",\n        },\n{\n            'v': 1.50914,\n            'f': \"1.50914\",\n        },\n\"L\",\n\"AREA\",\n\"AD\"],\n [{\n            'v': 3038854,\n            'f': \"3038854\",\n        },\n\"Canal de les Veces\",\nnull,\n{\n            'v': 42.52405,\n            'f': \"42.52405\",\n        },\n{\n            'v': 1.52124,\n            'f': \"1.52124\",\n        },\n\"H\",\n\"STM\",\n\"AD\"],\n [{\n            'v': 3038855,\n            'f': \"3038855\",\n        },\n\"Coma de Varilles\",\nnull,\n{\n            'v': 42.63797,\n            'f': \"42.63797\",\n        },\n{\n            'v': 1.52599,\n            'f': \"1.52599\",\n        },\n\"T\",\n\"VAL\",\n\"AD\"],\n [{\n            'v': 3038856,\n            'f': \"3038856\",\n        },\n\"Portella de les Vaques\",\nnull,\n{\n            'v': 42.56734,\n            'f': \"42.56734\",\n        },\n{\n            'v': 1.44421,\n            'f': \"1.44421\",\n        },\n\"T\",\n\"PASS\",\n\"AD\"],\n [{\n            'v': 3038857,\n            'f': \"3038857\",\n        },\n\"Pas de les Vaques\",\nnull,\n{\n            'v': 42.58129,\n            'f': \"42.58129\",\n        },\n{\n            'v': 1.70146,\n            'f': \"1.70146\",\n        },\n\"T\",\n\"PASS\",\n\"AD\"],\n [{\n            'v': 3038858,\n            'f': \"3038858\",\n        },\n\"Collada de les Vaques\",\nnull,\n{\n            'v': 42.56354,\n            'f': \"42.56354\",\n        },\n{\n            'v': 1.56884,\n            'f': \"1.56884\",\n        },\n\"T\",\n\"PASS\",\n\"AD\"],\n [{\n            'v': 3038859,\n            'f': \"3038859\",\n        },\n\"Roc del Vaquer\",\nnull,\n{\n            'v': 42.63442,\n            'f': \"42.63442\",\n        },\n{\n            'v': 1.47968,\n            'f': \"1.47968\",\n        },\n\"T\",\n\"CLF\",\n\"AD\"],\n [{\n            'v': 3038860,\n            'f': \"3038860\",\n        },\n\"Valls de la Coma\",\nnull,\n{\n            'v': 42.60079,\n            'f': \"42.60079\",\n        },\n{\n            'v': 1.63691,\n            'f': \"1.63691\",\n        },\n\"L\",\n\"LCTY\",\n\"AD\"],\n [{\n            'v': 3038861,\n            'f': \"3038861\",\n        },\n\"Vall d'Incles\",\nnull,\n{\n            'v': 42.58386,\n            'f': \"42.58386\",\n        },\n{\n            'v': 1.66331,\n            'f': \"1.66331\",\n        },\n\"L\",\n\"LCTY\",\n\"AD\"],\n [{\n            'v': 3038862,\n            'f': \"3038862\",\n        },\n\"Vall de Soldeu\",\nnull,\n{\n            'v': 42.56103,\n            'f': \"42.56103\",\n        },\n{\n            'v': 1.68234,\n            'f': \"1.68234\",\n        },\n\"T\",\n\"VAL\",\n\"AD\"],\n [{\n            'v': 3038863,\n            'f': \"3038863\",\n        },\n\"Riu de la Vall del Riu\",\nnull,\n{\n            'v': 42.57178,\n            'f': \"42.57178\",\n        },\n{\n            'v': 1.61415,\n            'f': \"1.61415\",\n        },\n\"H\",\n\"STM\",\n\"AD\"],\n [{\n            'v': 3038864,\n            'f': \"3038864\",\n        },\n\"Estany Gran de la Vall del Riu\",\nnull,\n{\n            'v': 42.60065,\n            'f': \"42.60065\",\n        },\n{\n            'v': 1.59278,\n            'f': \"1.59278\",\n        },\n\"H\",\n\"LK\",\n\"AD\"],\n [{\n            'v': 3038865,\n            'f': \"3038865\",\n        },\n\"Cascada de la Vall del Riu\",\nnull,\n{\n            'v': 42.57326,\n            'f': \"42.57326\",\n        },\n{\n            'v': 1.61423,\n            'f': \"1.61423\",\n        },\n\"H\",\n\"FLLS\",\n\"AD\"],\n [{\n            'v': 3038866,\n            'f': \"3038866\",\n        },\n\"Canals de la Vall del Riu\",\nnull,\n{\n            'v': 42.59059,\n            'f': \"42.59059\",\n        },\n{\n            'v': 1.60713,\n            'f': \"1.60713\",\n        },\n\"H\",\n\"RVN\",\n\"AD\"],\n [{\n            'v': 3038867,\n            'f': \"3038867\",\n        },\n\"Cam\\u00ed de la Vall del Riu\",\nnull,\n{\n            'v': 42.58421,\n            'f': \"42.58421\",\n        },\n{\n            'v': 1.61129,\n            'f': \"1.61129\",\n        },\n\"R\",\n\"TRL\",\n\"AD\"],\n [{\n            'v': 3038868,\n            'f': \"3038868\",\n        },\n\"Bosc de la Vall del Riu\",\nnull,\n{\n            'v': 42.58333,\n            'f': \"42.58333\",\n        },\n{\n            'v': 1.61667,\n            'f': \"1.61667\",\n        },\n\"V\",\n\"FRST\",\n\"AD\"],\n [{\n            'v': 3038869,\n            'f': \"3038869\",\n        },\n\"Vall del Riu\",\nnull,\n{\n            'v': 42.59499,\n            'f': \"42.59499\",\n        },\n{\n            'v': 1.60747,\n            'f': \"1.60747\",\n        },\n\"L\",\n\"AREA\",\n\"AD\"],\n [{\n            'v': 3038870,\n            'f': \"3038870\",\n        },\n\"Coll de Vall Civera\",\n\"Coll de Valcibera,Coll de Vall Civera,Collado de Vall-Civera,Port de Vall Civera\",\n{\n            'v': 42.48818,\n            'f': \"42.48818\",\n        },\n{\n            'v': 1.66373,\n            'f': \"1.66373\",\n        },\n\"T\",\n\"PASS\",\n\"AD\"],\n [{\n            'v': 3038871,\n            'f': \"3038871\",\n        },\n\"Obac de la Vall\",\nnull,\n{\n            'v': 42.46602,\n            'f': \"42.46602\",\n        },\n{\n            'v': 1.50498,\n            'f': \"1.50498\",\n        },\n\"T\",\n\"SLP\",\n\"AD\"],\n [{\n            'v': 3038872,\n            'f': \"3038872\",\n        },\n\"Riu Valira d\\u2019Orient\",\n\"Rio Balira del Orien,Riu Valira d'Orient,Riu Valira d\\u2019Orient,R\\u00edo Balira del Orien\",\n{\n            'v': 42.51146,\n            'f': \"42.51146\",\n        },\n{\n            'v': 1.53647,\n            'f': \"1.53647\",\n        },\n\"H\",\n\"STM\",\n\"AD\"],\n [{\n            'v': 3038873,\n            'f': \"3038873\",\n        },\n\"Riu Valira del Nord\",\n\"Riu Valira d'Ordino,Riu Valira del Nord,Riu Valira del Nort,Riu Valira d\\u2019Ordino,Valira del Nord,Valira del Norte\",\n{\n            'v': 42.5123,\n            'f': \"42.5123\",\n        },\n{\n            'v': 1.53617,\n            'f': \"1.53617\",\n        },\n\"H\",\n\"STM\",\n\"AD\"],\n [{\n            'v': 3038874,\n            'f': \"3038874\",\n        },\n\"Estanys de la Val del Riu\",\nnull,\n{\n            'v': 42.60398,\n            'f': \"42.60398\",\n        },\n{\n            'v': 1.59622,\n            'f': \"1.59622\",\n        },\n\"H\",\n\"LKS\",\n\"AD\"],\n [{\n            'v': 3038875,\n            'f': \"3038875\",\n        },\n\"Vaca Morta\",\nnull,\n{\n            'v': 42.5681,\n            'f': \"42.5681\",\n        },\n{\n            'v': 1.76256,\n            'f': \"1.76256\",\n        },\n\"L\",\n\"LCTY\",\n\"AD\"],\n [{\n            'v': 3038876,\n            'f': \"3038876\",\n        },\n\"Riu d\\u2019Urina\",\nnull,\n{\n            'v': 42.5594,\n            'f': \"42.5594\",\n        },\n{\n            'v': 1.58998,\n            'f': \"1.58998\",\n        },\n\"H\",\n\"STM\",\n\"AD\"],\n [{\n            'v': 3038877,\n            'f': \"3038877\",\n        },\n\"Serrat de la U\\u00efna\",\nnull,\n{\n            'v': 42.55975,\n            'f': \"42.55975\",\n        },\n{\n            'v': 1.52393,\n            'f': \"1.52393\",\n        },\n\"T\",\n\"RDGE\",\n\"AD\"],\n [{\n            'v': 3038878,\n            'f': \"3038878\",\n        },\n\"Obaga de la Tuta\",\nnull,\n{\n            'v': 42.48885,\n            'f': \"42.48885\",\n        },\n{\n            'v': 1.44734,\n            'f': \"1.44734\",\n        },\n\"T\",\n\"SLP\",\n\"AD\"],\n [{\n            'v': 3038879,\n            'f': \"3038879\",\n        },\n\"Cova de la Tuta\",\nnull,\n{\n            'v': 42.48678,\n            'f': \"42.48678\",\n        },\n{\n            'v': 1.44548,\n            'f': \"1.44548\",\n        },\n\"S\",\n\"CAVE\",\n\"AD\"],\n [{\n            'v': 3038880,\n            'f': \"3038880\",\n        },\n\"Roca del Tut\",\nnull,\n{\n            'v': 42.54941,\n            'f': \"42.54941\",\n        },\n{\n            'v': 1.45701,\n            'f': \"1.45701\",\n        },\n\"T\",\n\"RK\",\n\"AD\"],\n [{\n            'v': 3038881,\n            'f': \"3038881\",\n        },\n\"Coll de Turer\",\nnull,\n{\n            'v': 42.55784,\n            'f': \"42.55784\",\n        },\n{\n            'v': 1.46979,\n            'f': \"1.46979\",\n        },\n\"T\",\n\"PASS\",\n\"AD\"],\n [{\n            'v': 3038882,\n            'f': \"3038882\",\n        },\n\"Font del Tud\\u00f3\",\nnull,\n{\n            'v': 42.44205,\n            'f': \"42.44205\",\n        },\n{\n            'v': 1.53489,\n            'f': \"1.53489\",\n        },\n\"H\",\n\"SPNG\",\n\"AD\"],\n [{\n            'v': 3038883,\n            'f': \"3038883\",\n        },\n\"Estany de les Truites\",\nnull,\n{\n            'v': 42.57705,\n            'f': \"42.57705\",\n        },\n{\n            'v': 1.44801,\n            'f': \"1.44801\",\n        },\n\"H\",\n\"LK\",\n\"AD\"],\n [{\n            'v': 3038884,\n            'f': \"3038884\",\n        },\n\"Serra de Tristaina\",\n\"Serra de Tristaina\",\n{\n            'v': 42.65048,\n            'f': \"42.65048\",\n        },\n{\n            'v': 1.47705,\n            'f': \"1.47705\",\n        },\n\"T\",\n\"RDGE\",\n\"AD\"],\n [{\n            'v': 3038885,\n            'f': \"3038885\",\n        },\n\"Riu de Tristaina\",\nnull,\n{\n            'v': 42.615,\n            'f': \"42.615\",\n        },\n{\n            'v': 1.53707,\n            'f': \"1.53707\",\n        },\n\"H\",\n\"STM\",\n\"AD\"],\n [{\n            'v': 3038886,\n            'f': \"3038886\",\n        },\n\"Pic de Tristaina\",\n\"Pic de Triatagne,Pic de Tristagne,Pic de Tristaina,Pic des Tri-Stagnes,Tristaina\",\n{\n            'v': 42.65265,\n            'f': \"42.65265\",\n        },\n{\n            'v': 1.49242,\n            'f': \"1.49242\",\n        },\n\"T\",\n\"PK\",\n\"AD\"],\n [{\n            'v': 3038887,\n            'f': \"3038887\",\n        },\n\"Clot de Tres Torrents\",\nnull,\n{\n            'v': 42.54063,\n            'f': \"42.54063\",\n        },\n{\n            'v': 1.53382,\n            'f': \"1.53382\",\n        },\n\"H\",\n\"RVN\",\n\"AD\"],\n [{\n            'v': 3038888,\n            'f': \"3038888\",\n        },\n\"Bony de Tres Corts\",\nnull,\n{\n            'v': 42.52911,\n            'f': \"42.52911\",\n        },\n{\n            'v': 1.53538,\n            'f': \"1.53538\",\n        },\n\"T\",\n\"SPUR\",\n\"AD\"],\n [{\n            'v': 3038889,\n            'f': \"3038889\",\n        },\n\"Canal dels Tr\\u00e8mols\",\nnull,\n{\n            'v': 42.49814,\n            'f': \"42.49814\",\n        },\n{\n            'v': 1.49076,\n            'f': \"1.49076\",\n        },\n\"H\",\n\"STM\",\n\"AD\"],\n [{\n            'v': 3038890,\n            'f': \"3038890\",\n        },\n\"Travenc\",\nnull,\n{\n            'v': 42.60215,\n            'f': \"42.60215\",\n        },\n{\n            'v': 1.69377,\n            'f': \"1.69377\",\n        },\n\"L\",\n\"LCTY\",\n\"AD\"],\n [{\n            'v': 3038891,\n            'f': \"3038891\",\n        },\n\"Pleta de la Trava\",\nnull,\n{\n            'v': 42.48464,\n            'f': \"42.48464\",\n        },\n{\n            'v': 1.62251,\n            'f': \"1.62251\",\n        },\n\"L\",\n\"GRAZ\",\n\"AD\"],\n [{\n            'v': 3038892,\n            'f': \"3038892\",\n        },\n\"Coll de la Trava\",\nnull,\n{\n            'v': 42.47973,\n            'f': \"42.47973\",\n        },\n{\n            'v': 1.47555,\n            'f': \"1.47555\",\n        },\n\"T\",\n\"SPUR\",\n\"AD\"],\n [{\n            'v': 3038893,\n            'f': \"3038893\",\n        },\n\"Canal de la Trava\",\nnull,\n{\n            'v': 42.57395,\n            'f': \"42.57395\",\n        },\n{\n            'v': 1.52496,\n            'f': \"1.52496\",\n        },\n\"H\",\n\"RVN\",\n\"AD\"],\n [{\n            'v': 3038894,\n            'f': \"3038894\",\n        },\n\"Bosc de la Trava\",\nnull,\n{\n            'v': 42.4844,\n            'f': \"42.4844\",\n        },\n{\n            'v': 1.63007,\n            'f': \"1.63007\",\n        },\n\"V\",\n\"FRST\",\n\"AD\"],\n [{\n            'v': 3038895,\n            'f': \"3038895\",\n        },\n\"Font dels Traginers\",\nnull,\n{\n            'v': 42.43156,\n            'f': \"42.43156\",\n        },\n{\n            'v': 1.52845,\n            'f': \"1.52845\",\n        },\n\"H\",\n\"SPNG\",\n\"AD\"],\n [{\n            'v': 3038896,\n            'f': \"3038896\",\n        },\n\"Pla de les Toves\",\nnull,\n{\n            'v': 42.46355,\n            'f': \"42.46355\",\n        },\n{\n            'v': 1.45008,\n            'f': \"1.45008\",\n        },\n\"T\",\n\"UPLD\",\n\"AD\"],\n [{\n            'v': 3038897,\n            'f': \"3038897\",\n        },\n\"Torrent del Tossalroi\",\nnull,\n{\n            'v': 42.47256,\n            'f': \"42.47256\",\n        },\n{\n            'v': 1.51244,\n            'f': \"1.51244\",\n        },\n\"H\",\n\"STM\",\n\"AD\"],\n [{\n            'v': 3038898,\n            'f': \"3038898\",\n        },\n\"Tossal Gran\",\nnull,\n{\n            'v': 42.47986,\n            'f': \"42.47986\",\n        },\n{\n            'v': 1.4892,\n            'f': \"1.4892\",\n        },\n\"L\",\n\"LCTY\",\n\"AD\"],\n [{\n            'v': 3038899,\n            'f': \"3038899\",\n        },\n\"Tossalet i Vinyals\",\n\"Tossalet i Vinyals\",\n{\n            'v': 42.48597,\n            'f': \"42.48597\",\n        },\n{\n            'v': 1.4891,\n            'f': \"1.4891\",\n        },\n\"P\",\n\"PPLL\",\n\"AD\"],\n [{\n            'v': 3038900,\n            'f': \"3038900\",\n        },\n\"Bosc del Tossal de les Poselles\",\nnull,\n{\n            'v': 42.53331,\n            'f': \"42.53331\",\n        },\n{\n            'v': 1.50326,\n            'f': \"1.50326\",\n        },\n\"V\",\n\"FRST\",\n\"AD\"],\n [{\n            'v': 3038901,\n            'f': \"3038901\",\n        },\n\"Tossal\",\nnull,\n{\n            'v': 42.45927,\n            'f': \"42.45927\",\n        },\n{\n            'v': 1.49176,\n            'f': \"1.49176\",\n        },\n\"L\",\n\"LCTY\",\n\"AD\"],\n [{\n            'v': 3038902,\n            'f': \"3038902\",\n        },\n\"Tosquers\",\nnull,\n{\n            'v': 42.56587,\n            'f': \"42.56587\",\n        },\n{\n            'v': 1.48763,\n            'f': \"1.48763\",\n        },\n\"T\",\n\"SLP\",\n\"AD\"],\n [{\n            'v': 3038903,\n            'f': \"3038903\",\n        },\n\"Canal del Tosquer\",\nnull,\n{\n            'v': 42.57114,\n            'f': \"42.57114\",\n        },\n{\n            'v': 1.52067,\n            'f': \"1.52067\",\n        },\n\"H\",\n\"STM\",\n\"AD\"],\n [{\n            'v': 3038904,\n            'f': \"3038904\",\n        },\n\"Bosc del Tosquer\",\nnull,\n{\n            'v': 42.57189,\n            'f': \"42.57189\",\n        },\n{\n            'v': 1.52369,\n            'f': \"1.52369\",\n        },\n\"V\",\n\"FRST\",\n\"AD\"],\n [{\n            'v': 3038905,\n            'f': \"3038905\",\n        },\n\"Bosc del Tosquer\",\nnull,\n{\n            'v': 42.53793,\n            'f': \"42.53793\",\n        },\n{\n            'v': 1.6007,\n            'f': \"1.6007\",\n        },\n\"V\",\n\"FRST\",\n\"AD\"],\n [{\n            'v': 3038906,\n            'f': \"3038906\",\n        },\n\"Bosc de la Tosca\",\nnull,\n{\n            'v': 42.43912,\n            'f': \"42.43912\",\n        },\n{\n            'v': 1.45592,\n            'f': \"1.45592\",\n        },\n\"V\",\n\"FRST\",\n\"AD\"]],\n        columns: [[\"number\", \"geonameID\"], [\"string\", \"name\"], [\"string\", \"alternate_name\"], [\"number\", \"latitude\"], [\"number\", \"longitude\"], [\"string\", \"feature_class\"], [\"string\", \"feature_code\"], [\"string\", \"country_code\"]],\n        columnOptions: [],\n        rowsPerPage: 10,\n        helpUrl: \"https://colab.research.google.com/notebooks/data_table.ipynb\",\n        suppressOutputScrolling: true,\n        minimumWidth: undefined,\n      });\n    ",
      "text/html": [
       "<div>\n",
       "<style scoped>\n",
       "    .dataframe tbody tr th:only-of-type {\n",
       "        vertical-align: middle;\n",
       "    }\n",
       "\n",
       "    .dataframe tbody tr th {\n",
       "        vertical-align: top;\n",
       "    }\n",
       "\n",
       "    .dataframe thead th {\n",
       "        text-align: right;\n",
       "    }\n",
       "</style>\n",
       "<table border=\"1\" class=\"dataframe\">\n",
       "  <thead>\n",
       "    <tr style=\"text-align: right;\">\n",
       "      <th></th>\n",
       "      <th>geonameID</th>\n",
       "      <th>name</th>\n",
       "      <th>alternate_name</th>\n",
       "      <th>latitude</th>\n",
       "      <th>longitude</th>\n",
       "      <th>feature_class</th>\n",
       "      <th>feature_code</th>\n",
       "      <th>country_code</th>\n",
       "    </tr>\n",
       "  </thead>\n",
       "  <tbody>\n",
       "    <tr>\n",
       "      <th>0</th>\n",
       "      <td>2986043</td>\n",
       "      <td>Pic de Font Blanca</td>\n",
       "      <td>Pic de Font Blanca,Pic du Port</td>\n",
       "      <td>42.64991</td>\n",
       "      <td>1.53335</td>\n",
       "      <td>T</td>\n",
       "      <td>PK</td>\n",
       "      <td>AD</td>\n",
       "    </tr>\n",
       "    <tr>\n",
       "      <th>1</th>\n",
       "      <td>2994701</td>\n",
       "      <td>Roc Mélé</td>\n",
       "      <td>Roc Mele,Roc Meler,Roc Mélé</td>\n",
       "      <td>42.58765</td>\n",
       "      <td>1.74028</td>\n",
       "      <td>T</td>\n",
       "      <td>MT</td>\n",
       "      <td>AD</td>\n",
       "    </tr>\n",
       "    <tr>\n",
       "      <th>2</th>\n",
       "      <td>3007683</td>\n",
       "      <td>Pic des Langounelles</td>\n",
       "      <td>Pic des Langounelles</td>\n",
       "      <td>42.61203</td>\n",
       "      <td>1.47364</td>\n",
       "      <td>T</td>\n",
       "      <td>PK</td>\n",
       "      <td>AD</td>\n",
       "    </tr>\n",
       "    <tr>\n",
       "      <th>3</th>\n",
       "      <td>3017832</td>\n",
       "      <td>Pic de les Abelletes</td>\n",
       "      <td>Pic de la Font-Negre,Pic de la Font-Nègre,Pic ...</td>\n",
       "      <td>42.52535</td>\n",
       "      <td>1.73343</td>\n",
       "      <td>T</td>\n",
       "      <td>PK</td>\n",
       "      <td>AD</td>\n",
       "    </tr>\n",
       "    <tr>\n",
       "      <th>4</th>\n",
       "      <td>3017833</td>\n",
       "      <td>Estany de les Abelletes</td>\n",
       "      <td>Estany de les Abelletes,Etang de Font-Negre,Ét...</td>\n",
       "      <td>42.52915</td>\n",
       "      <td>1.73362</td>\n",
       "      <td>H</td>\n",
       "      <td>LK</td>\n",
       "      <td>AD</td>\n",
       "    </tr>\n",
       "    <tr>\n",
       "      <th>...</th>\n",
       "      <td>...</td>\n",
       "      <td>...</td>\n",
       "      <td>...</td>\n",
       "      <td>...</td>\n",
       "      <td>...</td>\n",
       "      <td>...</td>\n",
       "      <td>...</td>\n",
       "      <td>...</td>\n",
       "    </tr>\n",
       "    <tr>\n",
       "      <th>95</th>\n",
       "      <td>3038902</td>\n",
       "      <td>Tosquers</td>\n",
       "      <td>None</td>\n",
       "      <td>42.56587</td>\n",
       "      <td>1.48763</td>\n",
       "      <td>T</td>\n",
       "      <td>SLP</td>\n",
       "      <td>AD</td>\n",
       "    </tr>\n",
       "    <tr>\n",
       "      <th>96</th>\n",
       "      <td>3038903</td>\n",
       "      <td>Canal del Tosquer</td>\n",
       "      <td>None</td>\n",
       "      <td>42.57114</td>\n",
       "      <td>1.52067</td>\n",
       "      <td>H</td>\n",
       "      <td>STM</td>\n",
       "      <td>AD</td>\n",
       "    </tr>\n",
       "    <tr>\n",
       "      <th>97</th>\n",
       "      <td>3038904</td>\n",
       "      <td>Bosc del Tosquer</td>\n",
       "      <td>None</td>\n",
       "      <td>42.57189</td>\n",
       "      <td>1.52369</td>\n",
       "      <td>V</td>\n",
       "      <td>FRST</td>\n",
       "      <td>AD</td>\n",
       "    </tr>\n",
       "    <tr>\n",
       "      <th>98</th>\n",
       "      <td>3038905</td>\n",
       "      <td>Bosc del Tosquer</td>\n",
       "      <td>None</td>\n",
       "      <td>42.53793</td>\n",
       "      <td>1.60070</td>\n",
       "      <td>V</td>\n",
       "      <td>FRST</td>\n",
       "      <td>AD</td>\n",
       "    </tr>\n",
       "    <tr>\n",
       "      <th>99</th>\n",
       "      <td>3038906</td>\n",
       "      <td>Bosc de la Tosca</td>\n",
       "      <td>None</td>\n",
       "      <td>42.43912</td>\n",
       "      <td>1.45592</td>\n",
       "      <td>V</td>\n",
       "      <td>FRST</td>\n",
       "      <td>AD</td>\n",
       "    </tr>\n",
       "  </tbody>\n",
       "</table>\n",
       "<p>100 rows × 8 columns</p>\n",
       "</div>"
      ],
      "text/plain": [
       "<google.colab.data_table.DataTable object>"
      ]
     },
     "execution_count": 43,
     "metadata": {},
     "output_type": "execute_result"
    }
   ],
   "source": [
    "%%sql\n",
    "create or replace temp view Geonames2 as \n",
    "select cast(_c0 as long) as geonameID, \n",
    "cast(_c1 as varchar(200)) as name,\n",
    "cast(_c3 as varchar(10000)) as alternate_name,\n",
    "cast(_c4 as double) as latitude,\n",
    "cast(_c5 as double) as longitude,\n",
    "cast(_c6 as char(1)) as feature_class,\n",
    "cast(_c7 as varchar(10)) as feature_code,\n",
    "cast(_c8 as char(2)) as country_code\n",
    "\n",
    "from Geonames;\n",
    "\n",
    "select * from Geonames2"
   ]
  },
  {
   "cell_type": "markdown",
   "metadata": {
    "id": "41O4qiNNvEGi"
   },
   "source": [
    "##### 1b) Extrait pour le Canada\n",
    "\n",
    "Définir la vue Geonames_canada pour les POI situés au Canada."
   ]
  },
  {
   "cell_type": "code",
   "execution_count": 44,
   "metadata": {
    "colab": {
     "base_uri": "https://localhost:8080/",
     "height": 431
    },
    "id": "CwPhTrdbEo-F",
    "outputId": "8112d0c9-9aa1-46c0-f4f4-22f6dea00179"
   },
   "outputs": [
    {
     "data": {
      "application/vnd.google.colaboratory.module+javascript": "\n      import \"https://ssl.gstatic.com/colaboratory/data_table/a8bd4d5e58f96183/data_table.js\";\n\n      window.createDataTable({\n        data: [[{\n            'v': 3424953,\n            'f': \"3424953\",\n        },\n\"Virgin Rocks\",\nnull,\n{\n            'v': 46.42886,\n            'f': \"46.42886\",\n        },\n{\n            'v': -50.81995,\n            'f': \"-50.81995\",\n        },\n\"U\",\n\"RFU\"],\n [{\n            'v': 3425041,\n            'f': \"3425041\",\n        },\n\"Eastern Shoals\",\nnull,\n{\n            'v': 46.44743,\n            'f': \"46.44743\",\n        },\n{\n            'v': -50.48577,\n            'f': \"-50.48577\",\n        },\n\"U\",\n\"SHSU\"],\n [{\n            'v': 3426061,\n            'f': \"3426061\",\n        },\n\"Downing Basin\",\nnull,\n{\n            'v': 47.05216,\n            'f': \"47.05216\",\n        },\n{\n            'v': -50.79163,\n            'f': \"-50.79163\",\n        },\n\"U\",\n\"TRGU\"],\n [{\n            'v': 3831549,\n            'f': \"3831549\",\n        },\n\"Kane Basin\",\n\"Bassin Kane,Kane Basin\",\n{\n            'v': 79.3886,\n            'f': \"79.3886\",\n        },\n{\n            'v': -70.42541,\n            'f': \"-70.42541\",\n        },\n\"H\",\n\"STRT\"],\n [{\n            'v': 3831631,\n            'f': \"3831631\",\n        },\n\"Georges Shoal\",\n\"Georges Bank,St. George's Bank,St. George's Shoal\",\n{\n            'v': 41.65444,\n            'f': \"41.65444\",\n        },\n{\n            'v': -67.73242,\n            'f': \"-67.73242\",\n        },\n\"U\",\n\"SHLU\"],\n [{\n            'v': 4030308,\n            'f': \"4030308\",\n        },\n\"Swiftsure Bank\",\nnull,\n{\n            'v': 48.55321,\n            'f': \"48.55321\",\n        },\n{\n            'v': -125.02235,\n            'f': \"-125.02235\",\n        },\n\"U\",\n\"BNKU\"],\n [{\n            'v': 4977402,\n            'f': \"4977402\",\n        },\n\"Saint John River\",\n\"Fleuve Saint-Jean,La Riviere Saint Jean,Long River,Loshtock,Ouy goody,Oxgoudy,Riviere Saint-Jean,Rivi\\u00e8re Saint-Jean,Saint Jhons River,Saint John's River,Wallastook,Woolastook\",\n{\n            'v': 45.26664,\n            'f': \"45.26664\",\n        },\n{\n            'v': -66.06525,\n            'f': \"-66.06525\",\n        },\n\"H\",\n\"STM\"],\n [{\n            'v': 5130529,\n            'f': \"5130529\",\n        },\n\"Parish Dock\",\n\"Parish Dock,Parish's Dock\",\n{\n            'v': 44.74951,\n            'f': \"44.74951\",\n        },\n{\n            'v': -75.44967,\n            'f': \"-75.44967\",\n        },\n\"S\",\nnull],\n [{\n            'v': 5881639,\n            'f': \"5881639\",\n        },\n\"100 Mile House\",\n\"One Hundred Mile House\",\n{\n            'v': 51.64982,\n            'f': \"51.64982\",\n        },\n{\n            'v': -121.28594,\n            'f': \"-121.28594\",\n        },\n\"P\",\n\"PPL\"],\n [{\n            'v': 5881640,\n            'f': \"5881640\",\n        },\n\"101 Mile Lake\",\nnull,\n{\n            'v': 51.6675,\n            'f': \"51.6675\",\n        },\n{\n            'v': -121.29361,\n            'f': \"-121.29361\",\n        },\n\"H\",\n\"LK\"],\n [{\n            'v': 5881641,\n            'f': \"5881641\",\n        },\n\"101 Ponds\",\nnull,\n{\n            'v': 47.811,\n            'f': \"47.811\",\n        },\n{\n            'v': -53.97733,\n            'f': \"-53.97733\",\n        },\n\"H\",\n\"PNDS\"],\n [{\n            'v': 5881642,\n            'f': \"5881642\",\n        },\n\"103 Mile Lake\",\nnull,\n{\n            'v': 51.685,\n            'f': \"51.685\",\n        },\n{\n            'v': -121.29861,\n            'f': \"-121.29861\",\n        },\n\"H\",\n\"LK\"],\n [{\n            'v': 5881643,\n            'f': \"5881643\",\n        },\n\"105 Mile House\",\nnull,\n{\n            'v': 51.69982,\n            'f': \"51.69982\",\n        },\n{\n            'v': -121.31935,\n            'f': \"-121.31935\",\n        },\n\"P\",\n\"PPLL\"],\n [{\n            'v': 5881644,\n            'f': \"5881644\",\n        },\n\"105 Mile Lake\",\nnull,\n{\n            'v': 51.71444,\n            'f': \"51.71444\",\n        },\n{\n            'v': -121.32889,\n            'f': \"-121.32889\",\n        },\n\"H\",\n\"LK\"],\n [{\n            'v': 5881645,\n            'f': \"5881645\",\n        },\n\"105 Mile Post Indian Reserve 2\",\n\"Reserve indienne 105 Mile Post 2,R\\u00e9serve indienne 105 Mile Post 2\",\n{\n            'v': 50.73306,\n            'f': \"50.73306\",\n        },\n{\n            'v': -121.3193,\n            'f': \"-121.3193\",\n        },\n\"L\",\n\"RESV\"],\n [{\n            'v': 5881646,\n            'f': \"5881646\",\n        },\n\"106-Narrow Lake-120 Road Corridor Game Preserve\",\nnull,\n{\n            'v': 54.28341,\n            'f': \"54.28341\",\n        },\n{\n            'v': -104.63417,\n            'f': \"-104.63417\",\n        },\n\"L\",\n\"RES\"],\n [{\n            'v': 5881647,\n            'f': \"5881647\",\n        },\n\"108 Mile Lake\",\nnull,\n{\n            'v': 51.74222,\n            'f': \"51.74222\",\n        },\n{\n            'v': -121.36222,\n            'f': \"-121.36222\",\n        },\n\"H\",\n\"LK\"],\n [{\n            'v': 5881648,\n            'f': \"5881648\",\n        },\n\"108 Mile Ranch\",\n\"108 Mile House,ZMH\",\n{\n            'v': 51.74983,\n            'f': \"51.74983\",\n        },\n{\n            'v': -121.35266,\n            'f': \"-121.35266\",\n        },\n\"L\",\n\"AREA\"],\n [{\n            'v': 5881649,\n            'f': \"5881649\",\n        },\n\"10th Line Shore\",\nnull,\n{\n            'v': 45.09194,\n            'f': \"45.09194\",\n        },\n{\n            'v': -76.15056,\n            'f': \"-76.15056\",\n        },\n\"P\",\n\"PPL\"],\n [{\n            'v': 5881650,\n            'f': \"5881650\",\n        },\n\"111 Mile Creek\",\nnull,\n{\n            'v': 51.79983,\n            'f': \"51.79983\",\n        },\n{\n            'v': -121.46939,\n            'f': \"-121.46939\",\n        },\n\"H\",\n\"STM\"],\n [{\n            'v': 5881651,\n            'f': \"5881651\",\n        },\n\"111 Mile House\",\nnull,\n{\n            'v': 51.76653,\n            'f': \"51.76653\",\n        },\n{\n            'v': -121.38597,\n            'f': \"-121.38597\",\n        },\n\"P\",\n\"PPLL\"],\n [{\n            'v': 5881652,\n            'f': \"5881652\",\n        },\n\"114 Mile House\",\nnull,\n{\n            'v': 51.79983,\n            'f': \"51.79983\",\n        },\n{\n            'v': -121.43598,\n            'f': \"-121.43598\",\n        },\n\"P\",\n\"PPLL\"],\n [{\n            'v': 5881653,\n            'f': \"5881653\",\n        },\n\"117 Mile Creek\",\nnull,\n{\n            'v': 51.81653,\n            'f': \"51.81653\",\n        },\n{\n            'v': -121.48599,\n            'f': \"-121.48599\",\n        },\n\"H\",\n\"STM\"],\n [{\n            'v': 5881654,\n            'f': \"5881654\",\n        },\n\"11-A Drain\",\nnull,\n{\n            'v': 49.62061,\n            'f': \"49.62061\",\n        },\n{\n            'v': -97.59538,\n            'f': \"-97.59538\",\n        },\n\"H\",\n\"CNLD\"],\n [{\n            'v': 5881655,\n            'f': \"5881655\",\n        },\n\"11 Pup\",\nnull,\n{\n            'v': 63.89335,\n            'f': \"63.89335\",\n        },\n{\n            'v': -139.1991,\n            'f': \"-139.1991\",\n        },\n\"T\",\n\"VAL\"],\n [{\n            'v': 5881656,\n            'f': \"5881656\",\n        },\n\"122 Mile House\",\nnull,\n{\n            'v': 51.84983,\n            'f': \"51.84983\",\n        },\n{\n            'v': -121.60273,\n            'f': \"-121.60273\",\n        },\n\"P\",\n\"PPLL\"],\n [{\n            'v': 5881657,\n            'f': \"5881657\",\n        },\n\"127 Mile House\",\nnull,\n{\n            'v': 51.88313,\n            'f': \"51.88313\",\n        },\n{\n            'v': -121.66944,\n            'f': \"-121.66944\",\n        },\n\"P\",\n\"PPLL\"],\n [{\n            'v': 5881658,\n            'f': \"5881658\",\n        },\n\"12 Mile\",\nnull,\n{\n            'v': 55.81654,\n            'f': \"55.81654\",\n        },\n{\n            'v': -124.96998,\n            'f': \"-124.96998\",\n        },\n\"P\",\n\"PPLL\"],\n [{\n            'v': 5881659,\n            'f': \"5881659\",\n        },\n\"12 Pup\",\nnull,\n{\n            'v': 63.94917,\n            'f': \"63.94917\",\n        },\n{\n            'v': -138.98831,\n            'f': \"-138.98831\",\n        },\n\"T\",\n\"VAL\"],\n [{\n            'v': 5881660,\n            'f': \"5881660\",\n        },\n\"130 Mile Lake\",\nnull,\n{\n            'v': 51.90611,\n            'f': \"51.90611\",\n        },\n{\n            'v': -121.74,\n            'f': \"-121.74\",\n        },\n\"H\",\n\"LK\"],\n [{\n            'v': 5881661,\n            'f': \"5881661\",\n        },\n\"141 Mile House\",\nnull,\n{\n            'v': 52.0,\n            'f': \"52.0\",\n        },\n{\n            'v': -121.85,\n            'f': \"-121.85\",\n        },\n\"P\",\n\"PPL\"],\n [{\n            'v': 5881662,\n            'f': \"5881662\",\n        },\n\"150 Mile House\",\nnull,\n{\n            'v': 52.11654,\n            'f': \"52.11654\",\n        },\n{\n            'v': -121.85277,\n            'f': \"-121.85277\",\n        },\n\"L\",\n\"AREA\"],\n [{\n            'v': 5881663,\n            'f': \"5881663\",\n        },\n\"150 Yard Creek\",\nnull,\n{\n            'v': 48.54715,\n            'f': \"48.54715\",\n        },\n{\n            'v': -124.50758,\n            'f': \"-124.50758\",\n        },\n\"H\",\n\"STM\"],\n [{\n            'v': 5881664,\n            'f': \"5881664\",\n        },\n\"15 Above Pup\",\nnull,\n{\n            'v': 63.97776,\n            'f': \"63.97776\",\n        },\n{\n            'v': -139.13162,\n            'f': \"-139.13162\",\n        },\n\"H\",\n\"STM\"],\n [{\n            'v': 5881665,\n            'f': \"5881665\",\n        },\n\"15 Mile Swamp\",\nnull,\n{\n            'v': 55.61655,\n            'f': \"55.61655\",\n        },\n{\n            'v': -123.66983,\n            'f': \"-123.66983\",\n        },\n\"T\",\n\"PLN\"],\n [{\n            'v': 5881666,\n            'f': \"5881666\",\n        },\n\"16 1/2 Mile Lake\",\nnull,\n{\n            'v': 52.70861,\n            'f': \"52.70861\",\n        },\n{\n            'v': -117.91111,\n            'f': \"-117.91111\",\n        },\n\"H\",\n\"LK\"],\n [{\n            'v': 5881667,\n            'f': \"5881667\",\n        },\n\"16 Below Pup\",\nnull,\n{\n            'v': 63.95527,\n            'f': \"63.95527\",\n        },\n{\n            'v': -138.9338,\n            'f': \"-138.9338\",\n        },\n\"H\",\n\"STM\"],\n [{\n            'v': 5881668,\n            'f': \"5881668\",\n        },\n\"180 Lake\",\nnull,\n{\n            'v': 57.35611,\n            'f': \"57.35611\",\n        },\n{\n            'v': -130.48139,\n            'f': \"-130.48139\",\n        },\n\"H\",\n\"LK\"],\n [{\n            'v': 5881669,\n            'f': \"5881669\",\n        },\n\"18 Gulch\",\nnull,\n{\n            'v': 63.94445,\n            'f': \"63.94445\",\n        },\n{\n            'v': -139.33553,\n            'f': \"-139.33553\",\n        },\n\"H\",\n\"STM\"],\n [{\n            'v': 5881670,\n            'f': \"5881670\",\n        },\n\"18 Mile Reef\",\nnull,\n{\n            'v': 54.59316,\n            'f': \"54.59316\",\n        },\n{\n            'v': -124.71155,\n            'f': \"-124.71155\",\n        },\n\"H\",\n\"RF\"],\n [{\n            'v': 5881671,\n            'f': \"5881671\",\n        },\n\"19 Pup\",\nnull,\n{\n            'v': 63.80055,\n            'f': \"63.80055\",\n        },\n{\n            'v': -139.11878,\n            'f': \"-139.11878\",\n        },\n\"T\",\n\"VAL\"],\n [{\n            'v': 5881672,\n            'f': \"5881672\",\n        },\n\"19 Pup\",\nnull,\n{\n            'v': 63.91835,\n            'f': \"63.91835\",\n        },\n{\n            'v': -139.28222,\n            'f': \"-139.28222\",\n        },\n\"H\",\n\"STM\"],\n [{\n            'v': 5881673,\n            'f': \"5881673\",\n        },\n\"{1}\\u00fatsaw Lake\",\nnull,\n{\n            'v': 62.6995,\n            'f': \"62.6995\",\n        },\n{\n            'v': -136.73732,\n            'f': \"-136.73732\",\n        },\n\"H\",\n\"LK\"],\n [{\n            'v': 5881675,\n            'f': \"5881675\",\n        },\n\"{1}y\\u00f3 Ts'eda\",\nnull,\n{\n            'v': 61.23279,\n            'f': \"61.23279\",\n        },\n{\n            'v': -134.62047,\n            'f': \"-134.62047\",\n        },\n\"H\",\n\"STM\"],\n [{\n            'v': 5881676,\n            'f': \"5881676\",\n        },\n\"20 Pup\",\nnull,\n{\n            'v': 64.04384,\n            'f': \"64.04384\",\n        },\n{\n            'v': -139.66136,\n            'f': \"-139.66136\",\n        },\n\"H\",\n\"STM\"],\n [{\n            'v': 5881677,\n            'f': \"5881677\",\n        },\n\"20 Pup\",\nnull,\n{\n            'v': 64.02257,\n            'f': \"64.02257\",\n        },\n{\n            'v': -139.14614,\n            'f': \"-139.14614\",\n        },\n\"T\",\n\"VAL\"],\n [{\n            'v': 5881678,\n            'f': \"5881678\",\n        },\n\"21 Pup\",\nnull,\n{\n            'v': 64.02307,\n            'f': \"64.02307\",\n        },\n{\n            'v': -139.14114,\n            'f': \"-139.14114\",\n        },\n\"T\",\n\"VAL\"],\n [{\n            'v': 5881679,\n            'f': \"5881679\",\n        },\n\"23 Gulch\",\nnull,\n{\n            'v': 63.96337,\n            'f': \"63.96337\",\n        },\n{\n            'v': -138.94501,\n            'f': \"-138.94501\",\n        },\n\"T\",\n\"VAL\"],\n [{\n            'v': 5881680,\n            'f': \"5881680\",\n        },\n\"24 Mile Lake\",\nnull,\n{\n            'v': 46.53173,\n            'f': \"46.53173\",\n        },\n{\n            'v': -81.98763,\n            'f': \"-81.98763\",\n        },\n\"H\",\n\"LK\"],\n [{\n            'v': 5881681,\n            'f': \"5881681\",\n        },\n\"24 Pup\",\nnull,\n{\n            'v': 63.70665,\n            'f': \"63.70665\",\n        },\n{\n            'v': -138.63823,\n            'f': \"-138.63823\",\n        },\n\"H\",\n\"STM\"],\n [{\n            'v': 5881682,\n            'f': \"5881682\",\n        },\n\"27 Gulch\",\nnull,\n{\n            'v': 63.88915,\n            'f': \"63.88915\",\n        },\n{\n            'v': -139.28081,\n            'f': \"-139.28081\",\n        },\n\"T\",\n\"VAL\"],\n [{\n            'v': 5881683,\n            'f': \"5881683\",\n        },\n\"28 Mile Lake\",\nnull,\n{\n            'v': 54.78611,\n            'f': \"54.78611\",\n        },\n{\n            'v': -124.18333,\n            'f': \"-124.18333\",\n        },\n\"H\",\n\"LK\"],\n [{\n            'v': 5881684,\n            'f': \"5881684\",\n        },\n\"2 Below Pup\",\nnull,\n{\n            'v': 63.77165,\n            'f': \"63.77165\",\n        },\n{\n            'v': -138.90376,\n            'f': \"-138.90376\",\n        },\n\"H\",\n\"STM\"],\n [{\n            'v': 5881686,\n            'f': \"5881686\",\n        },\n\"{3}{17}y G\\u00fbn\",\nnull,\n{\n            'v': 60.48277,\n            'f': \"60.48277\",\n        },\n{\n            'v': -132.83686,\n            'f': \"-132.83686\",\n        },\n\"T\",\n\"MT\"],\n [{\n            'v': 5881687,\n            'f': \"5881687\",\n        },\n\"34 Pup\",\nnull,\n{\n            'v': 63.71335,\n            'f': \"63.71335\",\n        },\n{\n            'v': -138.66373,\n            'f': \"-138.66373\",\n        },\n\"H\",\n\"STM\"],\n [{\n            'v': 5881688,\n            'f': \"5881688\",\n        },\n\"Fort St. James\",\n\"Fort Saint James,\\u0641\\u0648\\u0631\\u0679 \\u0633\\u06cc\\u0646\\u0679 \\u062c\\u06cc\\u0645\\u0632\",\n{\n            'v': 54.45597,\n            'f': \"54.45597\",\n        },\n{\n            'v': -124.26275,\n            'f': \"-124.26275\",\n        },\n\"P\",\n\"PPL\"],\n [{\n            'v': 5881689,\n            'f': \"5881689\",\n        },\n\"37 Pup\",\nnull,\n{\n            'v': 63.71555,\n            'f': \"63.71555\",\n        },\n{\n            'v': -138.67653,\n            'f': \"-138.67653\",\n        },\n\"H\",\n\"STM\"],\n [{\n            'v': 5881690,\n            'f': \"5881690\",\n        },\n\"3 Below Pup\",\nnull,\n{\n            'v': 63.94477,\n            'f': \"63.94477\",\n        },\n{\n            'v': -138.9019,\n            'f': \"-138.9019\",\n        },\n\"H\",\n\"STM\"],\n [{\n            'v': 5881691,\n            'f': \"5881691\",\n        },\n\"3 Channels Area\",\nnull,\n{\n            'v': 56.75303,\n            'f': \"56.75303\",\n        },\n{\n            'v': -110.52813,\n            'f': \"-110.52813\",\n        },\n\"H\",\n\"STM\"],\n [{\n            'v': 5881692,\n            'f': \"5881692\",\n        },\n\"3 Mile Creek\",\nnull,\n{\n            'v': 52.49985,\n            'f': \"52.49985\",\n        },\n{\n            'v': -121.86947,\n            'f': \"-121.86947\",\n        },\n\"H\",\n\"STM\"],\n [{\n            'v': 5881693,\n            'f': \"5881693\",\n        },\n\"3 Mile Creek\",\nnull,\n{\n            'v': 55.80544,\n            'f': \"55.80544\",\n        },\n{\n            'v': -124.77136,\n            'f': \"-124.77136\",\n        },\n\"H\",\n\"STM\"],\n [{\n            'v': 5881694,\n            'f': \"5881694\",\n        },\n\"40 Mile Flats\",\nnull,\n{\n            'v': 57.93716,\n            'f': \"57.93716\",\n        },\n{\n            'v': -130.03723,\n            'f': \"-130.03723\",\n        },\n\"P\",\n\"PPLL\"],\n [{\n            'v': 5881695,\n            'f': \"5881695\",\n        },\n\"4 1/2 Mile Indian Reserve 2\",\n\"Reserve indienne 4 1/2 Mile 2,R\\u00e9serve indienne 4 1/2 Mile 2\",\n{\n            'v': 49.5997,\n            'f': \"49.5997\",\n        },\n{\n            'v': -121.41925,\n            'f': \"-121.41925\",\n        },\n\"L\",\n\"RESV\"],\n [{\n            'v': 5881696,\n            'f': \"5881696\",\n        },\n\"42nd Highland Memorial Cemetery\",\nnull,\n{\n            'v': 46.2126,\n            'f': \"46.2126\",\n        },\n{\n            'v': -66.60997,\n            'f': \"-66.60997\",\n        },\n\"L\",\n\"RES\"],\n [{\n            'v': 5881697,\n            'f': \"5881697\",\n        },\n\"44 Gulch\",\nnull,\n{\n            'v': 63.97165,\n            'f': \"63.97165\",\n        },\n{\n            'v': -139.35774,\n            'f': \"-139.35774\",\n        },\n\"T\",\n\"VAL\"],\n [{\n            'v': 5881698,\n            'f': \"5881698\",\n        },\n\"48 Road\",\nnull,\n{\n            'v': 46.25011,\n            'f': \"46.25011\",\n        },\n{\n            'v': -62.71536,\n            'f': \"-62.71536\",\n        },\n\"P\",\n\"PPLL\"],\n [{\n            'v': 5881699,\n            'f': \"5881699\",\n        },\n\"49 Lake\",\nnull,\n{\n            'v': 56.305,\n            'f': \"56.305\",\n        },\n{\n            'v': -110.89056,\n            'f': \"-110.89056\",\n        },\n\"H\",\n\"LK\"],\n [{\n            'v': 5881700,\n            'f': \"5881700\",\n        },\n\"4 Above Pup\",\nnull,\n{\n            'v': 64.01007,\n            'f': \"64.01007\",\n        },\n{\n            'v': -139.09193,\n            'f': \"-139.09193\",\n        },\n\"H\",\n\"STM\"],\n [{\n            'v': 5881701,\n            'f': \"5881701\",\n        },\n\"4 Mile Lake\",\nnull,\n{\n            'v': 51.03944,\n            'f': \"51.03944\",\n        },\n{\n            'v': -121.55028,\n            'f': \"-121.55028\",\n        },\n\"H\",\n\"LK\"],\n [{\n            'v': 5881702,\n            'f': \"5881702\",\n        },\n\"5040 Peak\",\nnull,\n{\n            'v': 49.18292,\n            'f': \"49.18292\",\n        },\n{\n            'v': -125.28614,\n            'f': \"-125.28614\",\n        },\n\"T\",\n\"PK\"],\n [{\n            'v': 5881703,\n            'f': \"5881703\",\n        },\n\"51 Lake\",\nnull,\n{\n            'v': 56.31389,\n            'f': \"56.31389\",\n        },\n{\n            'v': -110.94361,\n            'f': \"-110.94361\",\n        },\n\"H\",\n\"LK\"],\n [{\n            'v': 5881704,\n            'f': \"5881704\",\n        },\n\"51 Pup\",\nnull,\n{\n            'v': 63.73555,\n            'f': \"63.73555\",\n        },\n{\n            'v': -138.69184,\n            'f': \"-138.69184\",\n        },\n\"H\",\n\"STM\"],\n [{\n            'v': 5881705,\n            'f': \"5881705\",\n        },\n\"52 Hill\",\nnull,\n{\n            'v': 42.48339,\n            'f': \"42.48339\",\n        },\n{\n            'v': -81.68307,\n            'f': \"-81.68307\",\n        },\n\"T\",\n\"HLL\"],\n [{\n            'v': 5881706,\n            'f': \"5881706\",\n        },\n\"54 Lake\",\nnull,\n{\n            'v': 56.35222,\n            'f': \"56.35222\",\n        },\n{\n            'v': -110.98944,\n            'f': \"-110.98944\",\n        },\n\"H\",\n\"LK\"],\n [{\n            'v': 5881707,\n            'f': \"5881707\",\n        },\n\"54 Pup\",\nnull,\n{\n            'v': 63.98617,\n            'f': \"63.98617\",\n        },\n{\n            'v': -139.02662,\n            'f': \"-139.02662\",\n        },\n\"H\",\n\"STM\"],\n [{\n            'v': 5881708,\n            'f': \"5881708\",\n        },\n\"55 Lake\",\nnull,\n{\n            'v': 56.36611,\n            'f': \"56.36611\",\n        },\n{\n            'v': -110.99389,\n            'f': \"-110.99389\",\n        },\n\"H\",\n\"LK\"],\n [{\n            'v': 5881709,\n            'f': \"5881709\",\n        },\n\"56 Trail\",\nnull,\n{\n            'v': 53.86681,\n            'f': \"53.86681\",\n        },\n{\n            'v': -106.43435,\n            'f': \"-106.43435\",\n        },\nnull,\nnull],\n [{\n            'v': 5881710,\n            'f': \"5881710\",\n        },\n\"65 Pup\",\nnull,\n{\n            'v': 63.81626,\n            'f': \"63.81626\",\n        },\n{\n            'v': -137.28751,\n            'f': \"-137.28751\",\n        },\n\"H\",\n\"STM\"],\n [{\n            'v': 5881711,\n            'f': \"5881711\",\n        },\n\"66 Pup\",\nnull,\n{\n            'v': 63.75116,\n            'f': \"63.75116\",\n        },\n{\n            'v': -138.71104,\n            'f': \"-138.71104\",\n        },\n\"H\",\n\"STM\"],\n [{\n            'v': 5881712,\n            'f': \"5881712\",\n        },\n\"68 Bay\",\nnull,\n{\n            'v': 46.40146,\n            'f': \"46.40146\",\n        },\n{\n            'v': -83.02546,\n            'f': \"-83.02546\",\n        },\n\"H\",\n\"BAY\"],\n [{\n            'v': 5881713,\n            'f': \"5881713\",\n        },\n\"68 Narrows\",\nnull,\n{\n            'v': 46.40146,\n            'f': \"46.40146\",\n        },\n{\n            'v': -82.95406,\n            'f': \"-82.95406\",\n        },\n\"H\",\n\"CHN\"],\n [{\n            'v': 5881714,\n            'f': \"5881714\",\n        },\n\"6 Mile Lake\",\nnull,\n{\n            'v': 51.02333,\n            'f': \"51.02333\",\n        },\n{\n            'v': -121.54667,\n            'f': \"-121.54667\",\n        },\n\"H\",\n\"LK\"],\n [{\n            'v': 5881715,\n            'f': \"5881715\",\n        },\n\"70 Mile House\",\nnull,\n{\n            'v': 51.30341,\n            'f': \"51.30341\",\n        },\n{\n            'v': -121.39652,\n            'f': \"-121.39652\",\n        },\n\"P\",\n\"PPL\"],\n [{\n            'v': 5881717,\n            'f': \"5881717\",\n        },\n\"71 Pup\",\nnull,\n{\n            'v': 63.92028,\n            'f': \"63.92028\",\n        },\n{\n            'v': -138.66578,\n            'f': \"-138.66578\",\n        },\n\"H\",\n\"STM\"],\n [{\n            'v': 5881718,\n            'f': \"5881718\",\n        },\n\"71 Pup\",\nnull,\n{\n            'v': 63.75506,\n            'f': \"63.75506\",\n        },\n{\n            'v': -138.72215,\n            'f': \"-138.72215\",\n        },\n\"H\",\n\"STM\"],\n [{\n            'v': 5881719,\n            'f': \"5881719\",\n        },\n\"7e Lac\",\nnull,\n{\n            'v': 46.13698,\n            'f': \"46.13698\",\n        },\n{\n            'v': -73.81904,\n            'f': \"-73.81904\",\n        },\n\"H\",\n\"LK\"],\n [{\n            'v': 5881720,\n            'f': \"5881720\",\n        },\n\"7 Miles Point\",\nnull,\n{\n            'v': 69.25198,\n            'f': \"69.25198\",\n        },\n{\n            'v': -114.15516,\n            'f': \"-114.15516\",\n        },\n\"T\",\n\"PT\"],\n [{\n            'v': 5881721,\n            'f': \"5881721\",\n        },\n\"7 Pup\",\nnull,\n{\n            'v': 63.90025,\n            'f': \"63.90025\",\n        },\n{\n            'v': -139.21941,\n            'f': \"-139.21941\",\n        },\n\"T\",\n\"VAL\"],\n [{\n            'v': 5881722,\n            'f': \"5881722\",\n        },\n\"8 Above Pup\",\nnull,\n{\n            'v': 63.98446,\n            'f': \"63.98446\",\n        },\n{\n            'v': -139.12443,\n            'f': \"-139.12443\",\n        },\n\"H\",\n\"STM\"],\n [{\n            'v': 5881723,\n            'f': \"5881723\",\n        },\n\"8 Below Pup\",\nnull,\n{\n            'v': 63.83007,\n            'f': \"63.83007\",\n        },\n{\n            'v': -138.71626,\n            'f': \"-138.71626\",\n        },\n\"H\",\n\"STM\"],\n [{\n            'v': 5881724,\n            'f': \"5881724\",\n        },\n\"93 Mile\",\nnull,\n{\n            'v': 51.56667,\n            'f': \"51.56667\",\n        },\n{\n            'v': -121.33333,\n            'f': \"-121.33333\",\n        },\n\"P\",\n\"PPL\"],\n [{\n            'v': 5881725,\n            'f': \"5881725\",\n        },\n\"9e Lac\",\nnull,\n{\n            'v': 46.16393,\n            'f': \"46.16393\",\n        },\n{\n            'v': -73.79626,\n            'f': \"-73.79626\",\n        },\n\"H\",\n\"LK\"],\n [{\n            'v': 5881726,\n            'f': \"5881726\",\n        },\n\"A{4}'ak\\u00e1\",\nnull,\n{\n            'v': 60.15917,\n            'f': \"60.15917\",\n        },\n{\n            'v': -132.71463,\n            'f': \"-132.71463\",\n        },\n\"H\",\n\"STM\"],\n [{\n            'v': 5881727,\n            'f': \"5881727\",\n        },\n\"Aadland Lake\",\nnull,\n{\n            'v': 59.41686,\n            'f': \"59.41686\",\n        },\n{\n            'v': -108.71744,\n            'f': \"-108.71744\",\n        },\n\"H\",\n\"LK\"],\n [{\n            'v': 5881728,\n            'f': \"5881728\",\n        },\n\"Aalder Island\",\nnull,\n{\n            'v': 44.63345,\n            'f': \"44.63345\",\n        },\n{\n            'v': -64.41545,\n            'f': \"-64.41545\",\n        },\n\"T\",\n\"ISL\"],\n [{\n            'v': 5881729,\n            'f': \"5881729\",\n        },\n\"Aalders Landing\",\nnull,\n{\n            'v': 44.83345,\n            'f': \"44.83345\",\n        },\n{\n            'v': -64.91549,\n            'f': \"-64.91549\",\n        },\n\"L\",\n\"AREA\"],\n [{\n            'v': 5881730,\n            'f': \"5881730\",\n        },\n\"Aalders Lang Brook\",\nnull,\n{\n            'v': 44.86685,\n            'f': \"44.86685\",\n        },\n{\n            'v': -64.29875,\n            'f': \"-64.29875\",\n        },\n\"H\",\n\"STM\"],\n [{\n            'v': 5881731,\n            'f': \"5881731\",\n        },\n\"Aalders Lang Meadow\",\nnull,\n{\n            'v': 44.85015,\n            'f': \"44.85015\",\n        },\n{\n            'v': -64.31545,\n            'f': \"-64.31545\",\n        },\n\"T\",\n\"PLN\"],\n [{\n            'v': 5881732,\n            'f': \"5881732\",\n        },\n\"Aaltanhash Inlet\",\n\"Aaltenash Bight\",\n{\n            'v': 53.12854,\n            'f': \"53.12854\",\n        },\n{\n            'v': -128.51789,\n            'f': \"-128.51789\",\n        },\n\"H\",\n\"INLT\"],\n [{\n            'v': 5881733,\n            'f': \"5881733\",\n        },\n\"Aaltanhash River\",\nnull,\n{\n            'v': 53.14741,\n            'f': \"53.14741\",\n        },\n{\n            'v': -128.47695,\n            'f': \"-128.47695\",\n        },\n\"H\",\n\"STM\"]],\n        columns: [[\"number\", \"geonameID\"], [\"string\", \"name\"], [\"string\", \"alternate_name\"], [\"number\", \"latitude\"], [\"number\", \"longitude\"], [\"string\", \"feature_class\"], [\"string\", \"feature_code\"]],\n        columnOptions: [],\n        rowsPerPage: 10,\n        helpUrl: \"https://colab.research.google.com/notebooks/data_table.ipynb\",\n        suppressOutputScrolling: true,\n        minimumWidth: undefined,\n      });\n    ",
      "text/html": [
       "<div>\n",
       "<style scoped>\n",
       "    .dataframe tbody tr th:only-of-type {\n",
       "        vertical-align: middle;\n",
       "    }\n",
       "\n",
       "    .dataframe tbody tr th {\n",
       "        vertical-align: top;\n",
       "    }\n",
       "\n",
       "    .dataframe thead th {\n",
       "        text-align: right;\n",
       "    }\n",
       "</style>\n",
       "<table border=\"1\" class=\"dataframe\">\n",
       "  <thead>\n",
       "    <tr style=\"text-align: right;\">\n",
       "      <th></th>\n",
       "      <th>geonameID</th>\n",
       "      <th>name</th>\n",
       "      <th>alternate_name</th>\n",
       "      <th>latitude</th>\n",
       "      <th>longitude</th>\n",
       "      <th>feature_class</th>\n",
       "      <th>feature_code</th>\n",
       "    </tr>\n",
       "  </thead>\n",
       "  <tbody>\n",
       "    <tr>\n",
       "      <th>0</th>\n",
       "      <td>3424953</td>\n",
       "      <td>Virgin Rocks</td>\n",
       "      <td>None</td>\n",
       "      <td>46.42886</td>\n",
       "      <td>-50.81995</td>\n",
       "      <td>U</td>\n",
       "      <td>RFU</td>\n",
       "    </tr>\n",
       "    <tr>\n",
       "      <th>1</th>\n",
       "      <td>3425041</td>\n",
       "      <td>Eastern Shoals</td>\n",
       "      <td>None</td>\n",
       "      <td>46.44743</td>\n",
       "      <td>-50.48577</td>\n",
       "      <td>U</td>\n",
       "      <td>SHSU</td>\n",
       "    </tr>\n",
       "    <tr>\n",
       "      <th>2</th>\n",
       "      <td>3426061</td>\n",
       "      <td>Downing Basin</td>\n",
       "      <td>None</td>\n",
       "      <td>47.05216</td>\n",
       "      <td>-50.79163</td>\n",
       "      <td>U</td>\n",
       "      <td>TRGU</td>\n",
       "    </tr>\n",
       "    <tr>\n",
       "      <th>3</th>\n",
       "      <td>3831549</td>\n",
       "      <td>Kane Basin</td>\n",
       "      <td>Bassin Kane,Kane Basin</td>\n",
       "      <td>79.38860</td>\n",
       "      <td>-70.42541</td>\n",
       "      <td>H</td>\n",
       "      <td>STRT</td>\n",
       "    </tr>\n",
       "    <tr>\n",
       "      <th>4</th>\n",
       "      <td>3831631</td>\n",
       "      <td>Georges Shoal</td>\n",
       "      <td>Georges Bank,St. George's Bank,St. George's Shoal</td>\n",
       "      <td>41.65444</td>\n",
       "      <td>-67.73242</td>\n",
       "      <td>U</td>\n",
       "      <td>SHLU</td>\n",
       "    </tr>\n",
       "    <tr>\n",
       "      <th>...</th>\n",
       "      <td>...</td>\n",
       "      <td>...</td>\n",
       "      <td>...</td>\n",
       "      <td>...</td>\n",
       "      <td>...</td>\n",
       "      <td>...</td>\n",
       "      <td>...</td>\n",
       "    </tr>\n",
       "    <tr>\n",
       "      <th>95</th>\n",
       "      <td>5881729</td>\n",
       "      <td>Aalders Landing</td>\n",
       "      <td>None</td>\n",
       "      <td>44.83345</td>\n",
       "      <td>-64.91549</td>\n",
       "      <td>L</td>\n",
       "      <td>AREA</td>\n",
       "    </tr>\n",
       "    <tr>\n",
       "      <th>96</th>\n",
       "      <td>5881730</td>\n",
       "      <td>Aalders Lang Brook</td>\n",
       "      <td>None</td>\n",
       "      <td>44.86685</td>\n",
       "      <td>-64.29875</td>\n",
       "      <td>H</td>\n",
       "      <td>STM</td>\n",
       "    </tr>\n",
       "    <tr>\n",
       "      <th>97</th>\n",
       "      <td>5881731</td>\n",
       "      <td>Aalders Lang Meadow</td>\n",
       "      <td>None</td>\n",
       "      <td>44.85015</td>\n",
       "      <td>-64.31545</td>\n",
       "      <td>T</td>\n",
       "      <td>PLN</td>\n",
       "    </tr>\n",
       "    <tr>\n",
       "      <th>98</th>\n",
       "      <td>5881732</td>\n",
       "      <td>Aaltanhash Inlet</td>\n",
       "      <td>Aaltenash Bight</td>\n",
       "      <td>53.12854</td>\n",
       "      <td>-128.51789</td>\n",
       "      <td>H</td>\n",
       "      <td>INLT</td>\n",
       "    </tr>\n",
       "    <tr>\n",
       "      <th>99</th>\n",
       "      <td>5881733</td>\n",
       "      <td>Aaltanhash River</td>\n",
       "      <td>None</td>\n",
       "      <td>53.14741</td>\n",
       "      <td>-128.47695</td>\n",
       "      <td>H</td>\n",
       "      <td>STM</td>\n",
       "    </tr>\n",
       "  </tbody>\n",
       "</table>\n",
       "<p>100 rows × 7 columns</p>\n",
       "</div>"
      ],
      "text/plain": [
       "<google.colab.data_table.DataTable object>"
      ]
     },
     "execution_count": 44,
     "metadata": {},
     "output_type": "execute_result"
    }
   ],
   "source": [
    "%%sql\n",
    "create or replace temp view Geonames_canada as\n",
    "select geonameID, name, alternate_name, latitude, longitude, feature_class, feature_code from Geonames2\n",
    "where country_code = 'CA';\n",
    "\n",
    "cache table Geonames_canada;\n",
    "\n",
    "select * from  Geonames_canada;"
   ]
  },
  {
   "cell_type": "markdown",
   "metadata": {
    "id": "OpYWBi8Z45kV"
   },
   "source": [
    "### 2) Association entre les POI et Geonames\n",
    "Compléter des POI avec des attributs de geonames (par exemple name et [feature code](http://www.geonames.org/export/codes.html))"
   ]
  },
  {
   "cell_type": "code",
   "execution_count": 45,
   "metadata": {
    "colab": {
     "base_uri": "https://localhost:8080/",
     "height": 315
    },
    "id": "S3kSBQ4n9K36",
    "outputId": "8353fcc3-09c3-4d7b-a083-84a1801e5039"
   },
   "outputs": [
    {
     "data": {
      "application/vnd.google.colaboratory.module+javascript": "\n      import \"https://ssl.gstatic.com/colaboratory/data_table/a8bd4d5e58f96183/data_table.js\";\n\n      window.createDataTable({\n        data: [[{\n            'v': 2,\n            'f': \"2\",\n        },\n\"BMO_Field\",\n{\n            'v': 43.63278,\n            'f': \"43.63278\",\n        },\n{\n            'v': -79.41861,\n            'f': \"-79.41861\",\n        },\n\"Sport\",\nnull,\nnull],\n [{\n            'v': 12,\n            'f': \"12\",\n        },\n\"Toronto_Zoo\",\n{\n            'v': 43.8202778,\n            'f': \"43.8202778\",\n        },\n{\n            'v': -79.1827778,\n            'f': \"-79.1827778\",\n        },\n\"Cultural\",\n\"Takht-e Qey\\u015far\",\n\"PPL\"],\n [{\n            'v': 26,\n            'f': \"26\",\n        },\n\"Yorkdale_Shopping_Centre\",\n{\n            'v': 43.725599,\n            'f': \"43.725599\",\n        },\n{\n            'v': -79.452696,\n            'f': \"-79.452696\",\n        },\n\"Shopping\",\n\"Sheykh \\u2018Ajam\",\n\"PPL\"],\n [{\n            'v': 28,\n            'f': \"28\",\n        },\n\"Old_City_Hall_(Toronto)\",\n{\n            'v': 43.6525,\n            'f': \"43.6525\",\n        },\n{\n            'v': -79.38167,\n            'f': \"-79.38167\",\n        },\n\"Structure\",\nnull,\nnull],\n [{\n            'v': 29,\n            'f': \"29\",\n        },\n\"Ontario_Legislative_Building\",\n{\n            'v': 43.662447,\n            'f': \"43.662447\",\n        },\n{\n            'v': -79.391708,\n            'f': \"-79.391708\",\n        },\n\"Structure\",\n\"Shar\\u016b\",\n\"PPL\"],\n [{\n            'v': 30,\n            'f': \"30\",\n        },\n\"Union_Station_(Toronto)\",\n{\n            'v': 43.64528,\n            'f': \"43.64528\",\n        },\n{\n            'v': -79.38056,\n            'f': \"-79.38056\",\n        },\n\"Structure\",\n\"Sh\\u0101reh Kan\\u012b\",\n\"PPL\"],\n [{\n            'v': 9,\n            'f': \"9\",\n        },\n\"Ontario_Science_Centre\",\n{\n            'v': 43.71667,\n            'f': \"43.71667\",\n        },\n{\n            'v': -79.33833,\n            'f': \"-79.33833\",\n        },\n\"Cultural\",\n\"K\\u016bh-e Yalm\\u012b\",\n\"MT\"],\n [{\n            'v': 11,\n            'f': \"11\",\n        },\n\"Royal_Ontario_Museum\",\n{\n            'v': 43.6675,\n            'f': \"43.6675\",\n        },\n{\n            'v': -79.39417,\n            'f': \"-79.39417\",\n        },\n\"Cultural\",\n\"Takht-e J\\u0101n\",\n\"STM\"],\n [{\n            'v': 22,\n            'f': \"22\",\n        },\n\"Nathan_Phillips_Square\",\n{\n            'v': 43.6525,\n            'f': \"43.6525\",\n        },\n{\n            'v': -79.38361,\n            'f': \"-79.38361\",\n        },\n\"Beach\",\n\"Shah\\u012bd Madan\\u012b\",\n\"PPL\"],\n [{\n            'v': 14,\n            'f': \"14\",\n        },\n\"Canadian_National_Exhibition\",\n{\n            'v': 43.63333,\n            'f': \"43.63333\",\n        },\n{\n            'v': -79.41667,\n            'f': \"-79.41667\",\n        },\n\"Amusement\",\n\"K\\u016bh-e Takht-e Arreh\",\n\"HLL\"],\n [{\n            'v': 17,\n            'f': \"17\",\n        },\n\"Exhibition_Place\",\n{\n            'v': 43.63278,\n            'f': \"43.63278\",\n        },\n{\n            'v': -79.41611,\n            'f': \"-79.41611\",\n        },\n\"Amusement\",\n\"K\\u016bh-e Shotor Khv\\u0101b\",\n\"MT\"],\n [{\n            'v': 27,\n            'f': \"27\",\n        },\n\"Yorkville,_Toronto\",\n{\n            'v': 43.67028,\n            'f': \"43.67028\",\n        },\n{\n            'v': -79.39111,\n            'f': \"-79.39111\",\n        },\n\"Shopping\",\nnull,\nnull],\n [{\n            'v': 3,\n            'f': \"3\",\n        },\n\"Maple_Leaf_Gardens\",\n{\n            'v': 43.66222,\n            'f': \"43.66222\",\n        },\n{\n            'v': -79.38028,\n            'f': \"-79.38028\",\n        },\n\"Sport\",\n\"Zam\\u012bn S\\u016bkhteh\",\n\"CRRL\"],\n [{\n            'v': 7,\n            'f': \"7\",\n        },\n\"Hockey_Hall_of_Fame\",\n{\n            'v': 43.646976,\n            'f': \"43.646976\",\n        },\n{\n            'v': -79.377253,\n            'f': \"-79.377253\",\n        },\n\"Cultural\",\nnull,\nnull],\n [{\n            'v': 4,\n            'f': \"4\",\n        },\n\"Rogers_Centre\",\n{\n            'v': 43.64139,\n            'f': \"43.64139\",\n        },\n{\n            'v': -79.38917,\n            'f': \"-79.38917\",\n        },\n\"Sport\",\n\"R\\u016bdkh\\u0101neh-ye \\u0100b-e Z\\u0101lek\",\n\"STM\"],\n [{\n            'v': 5,\n            'f': \"5\",\n        },\n\"Woodbine_Racetrack\",\n{\n            'v': 43.712525,\n            'f': \"43.712525\",\n        },\n{\n            'v': -79.6020417,\n            'f': \"-79.6020417\",\n        },\n\"Sport\",\n\"Yek\\u0101h\\u012b\",\n\"PPL\"],\n [{\n            'v': 8,\n            'f': \"8\",\n        },\n\"Ripley%27s_Aquarium_of_Canada\",\n{\n            'v': 43.642481,\n            'f': \"43.642481\",\n        },\n{\n            'v': -79.38605,\n            'f': \"-79.38605\",\n        },\n\"Cultural\",\n\"Tappeh-ye Seh N\\u016br\",\n\"HLL\"],\n [{\n            'v': 15,\n            'f': \"15\",\n        },\n\"Centreville_Amusement_Park\",\n{\n            'v': 43.6203083,\n            'f': \"43.6203083\",\n        },\n{\n            'v': -79.3736778,\n            'f': \"-79.3736778\",\n        },\n\"Amusement\",\n\"T\\u012bleh\",\n\"PPL\"],\n [{\n            'v': 19,\n            'f': \"19\",\n        },\n\"Toronto_Islands\",\n{\n            'v': 43.62083,\n            'f': \"43.62083\",\n        },\n{\n            'v': -79.37861,\n            'f': \"-79.37861\",\n        },\n\"Beach\",\n\"R\\u016bdkh\\u0101neh-ye Sh\\u016br\",\n\"STM\"],\n [{\n            'v': 23,\n            'f': \"23\",\n        },\n\"Toronto_Eaton_Centre\",\n{\n            'v': 43.653982,\n            'f': \"43.653982\",\n        },\n{\n            'v': -79.380319,\n            'f': \"-79.380319\",\n        },\n\"Shopping\",\n\"Sheykh \\u015e\\u0101le\\u1e29 S\\u0101\\u2018\\u012bd\",\n\"PPL\"],\n [{\n            'v': 25,\n            'f': \"25\",\n        },\n\"Kensington_Market\",\n{\n            'v': 43.6547722,\n            'f': \"43.6547722\",\n        },\n{\n            'v': -79.4006778,\n            'f': \"-79.4006778\",\n        },\n\"Shopping\",\n\"Seyyed Mo\\u015f\\u0163af\\u0101 Khomeyn\\u012b\",\n\"PPL\"],\n [{\n            'v': 1,\n            'f': \"1\",\n        },\n\"Air_Canada_Centre\",\n{\n            'v': 43.64333,\n            'f': \"43.64333\",\n        },\n{\n            'v': -79.37917,\n            'f': \"-79.37917\",\n        },\n\"Sport\",\nnull,\nnull],\n [{\n            'v': 6,\n            'f': \"6\",\n        },\n\"Art_Gallery_of_Ontario\",\n{\n            'v': 43.65389,\n            'f': \"43.65389\",\n        },\n{\n            'v': -79.39278,\n            'f': \"-79.39278\",\n        },\n\"Cultural\",\n\"\\u0100b-e Yas\\u012b\",\n\"STM\"],\n [{\n            'v': 10,\n            'f': \"10\",\n        },\n\"Riverdale_Farm\",\n{\n            'v': 43.667111,\n            'f': \"43.667111\",\n        },\n{\n            'v': -79.361294,\n            'f': \"-79.361294\",\n        },\n\"Cultural\",\n\"Kab\\u016btar\\u0101n\",\n\"PPL\"],\n [{\n            'v': 16,\n            'f': \"16\",\n        },\n\"CN_Tower\",\n{\n            'v': 43.6426,\n            'f': \"43.6426\",\n        },\n{\n            'v': -79.3871,\n            'f': \"-79.3871\",\n        },\n\"Amusement\",\n\"Sol\\u0163\\u0101n Mo\\u1e29ammad\",\n\"CRRL\"],\n [{\n            'v': 18,\n            'f': \"18\",\n        },\n\"Sunnyside_Amusement_Park\",\n{\n            'v': 43.637923,\n            'f': \"43.637923\",\n        },\n{\n            'v': -79.450786,\n            'f': \"-79.450786\",\n        },\n\"Amusement\",\nnull,\nnull],\n [{\n            'v': 24,\n            'f': \"24\",\n        },\n\"Harbourfront_Centre\",\n{\n            'v': 43.63849,\n            'f': \"43.63849\",\n        },\n{\n            'v': -79.382068,\n            'f': \"-79.382068\",\n        },\n\"Shopping\",\n\"Sheykh \\u1e28oseyn\",\n\"PPL\"],\n [{\n            'v': 13,\n            'f': \"13\",\n        },\n\"Casa_Loma\",\n{\n            'v': 43.6781,\n            'f': \"43.6781\",\n        },\n{\n            'v': -79.4095,\n            'f': \"-79.4095\",\n        },\n\"Cultural\",\n\"Takht Arreh Yek\",\n\"PPL\"],\n [{\n            'v': 20,\n            'f': \"20\",\n        },\n\"High_Park\",\n{\n            'v': 43.646821,\n            'f': \"43.646821\",\n        },\n{\n            'v': -79.462996,\n            'f': \"-79.462996\",\n        },\n\"Beach\",\n\"Sheykh Sa\\u2018d\",\n\"PPLW\"],\n [{\n            'v': 21,\n            'f': \"21\",\n        },\n\"Yonge-Dundas_Square\",\n{\n            'v': 43.65611,\n            'f': \"43.65611\",\n        },\n{\n            'v': -79.38028,\n            'f': \"-79.38028\",\n        },\n\"Beach\",\nnull,\nnull]],\n        columns: [[\"number\", \"poiID\"], [\"string\", \"poiName\"], [\"number\", \"latitude\"], [\"number\", \"longitude\"], [\"string\", \"theme\"], [\"string\", \"name\"], [\"string\", \"feature_code\"]],\n        columnOptions: [],\n        rowsPerPage: 10,\n        helpUrl: \"https://colab.research.google.com/notebooks/data_table.ipynb\",\n        suppressOutputScrolling: true,\n        minimumWidth: undefined,\n      });\n    ",
      "text/html": [
       "<div>\n",
       "<style scoped>\n",
       "    .dataframe tbody tr th:only-of-type {\n",
       "        vertical-align: middle;\n",
       "    }\n",
       "\n",
       "    .dataframe tbody tr th {\n",
       "        vertical-align: top;\n",
       "    }\n",
       "\n",
       "    .dataframe thead th {\n",
       "        text-align: right;\n",
       "    }\n",
       "</style>\n",
       "<table border=\"1\" class=\"dataframe\">\n",
       "  <thead>\n",
       "    <tr style=\"text-align: right;\">\n",
       "      <th></th>\n",
       "      <th>poiID</th>\n",
       "      <th>poiName</th>\n",
       "      <th>latitude</th>\n",
       "      <th>longitude</th>\n",
       "      <th>theme</th>\n",
       "      <th>name</th>\n",
       "      <th>feature_code</th>\n",
       "    </tr>\n",
       "  </thead>\n",
       "  <tbody>\n",
       "    <tr>\n",
       "      <th>0</th>\n",
       "      <td>2</td>\n",
       "      <td>BMO_Field</td>\n",
       "      <td>43.632780</td>\n",
       "      <td>-79.418610</td>\n",
       "      <td>Sport</td>\n",
       "      <td>None</td>\n",
       "      <td>None</td>\n",
       "    </tr>\n",
       "    <tr>\n",
       "      <th>1</th>\n",
       "      <td>12</td>\n",
       "      <td>Toronto_Zoo</td>\n",
       "      <td>43.820278</td>\n",
       "      <td>-79.182778</td>\n",
       "      <td>Cultural</td>\n",
       "      <td>Takht-e Qeyşar</td>\n",
       "      <td>PPL</td>\n",
       "    </tr>\n",
       "    <tr>\n",
       "      <th>2</th>\n",
       "      <td>26</td>\n",
       "      <td>Yorkdale_Shopping_Centre</td>\n",
       "      <td>43.725599</td>\n",
       "      <td>-79.452696</td>\n",
       "      <td>Shopping</td>\n",
       "      <td>Sheykh ‘Ajam</td>\n",
       "      <td>PPL</td>\n",
       "    </tr>\n",
       "    <tr>\n",
       "      <th>3</th>\n",
       "      <td>28</td>\n",
       "      <td>Old_City_Hall_(Toronto)</td>\n",
       "      <td>43.652500</td>\n",
       "      <td>-79.381670</td>\n",
       "      <td>Structure</td>\n",
       "      <td>None</td>\n",
       "      <td>None</td>\n",
       "    </tr>\n",
       "    <tr>\n",
       "      <th>4</th>\n",
       "      <td>29</td>\n",
       "      <td>Ontario_Legislative_Building</td>\n",
       "      <td>43.662447</td>\n",
       "      <td>-79.391708</td>\n",
       "      <td>Structure</td>\n",
       "      <td>Sharū</td>\n",
       "      <td>PPL</td>\n",
       "    </tr>\n",
       "    <tr>\n",
       "      <th>5</th>\n",
       "      <td>30</td>\n",
       "      <td>Union_Station_(Toronto)</td>\n",
       "      <td>43.645280</td>\n",
       "      <td>-79.380560</td>\n",
       "      <td>Structure</td>\n",
       "      <td>Shāreh Kanī</td>\n",
       "      <td>PPL</td>\n",
       "    </tr>\n",
       "    <tr>\n",
       "      <th>6</th>\n",
       "      <td>9</td>\n",
       "      <td>Ontario_Science_Centre</td>\n",
       "      <td>43.716670</td>\n",
       "      <td>-79.338330</td>\n",
       "      <td>Cultural</td>\n",
       "      <td>Kūh-e Yalmī</td>\n",
       "      <td>MT</td>\n",
       "    </tr>\n",
       "    <tr>\n",
       "      <th>7</th>\n",
       "      <td>11</td>\n",
       "      <td>Royal_Ontario_Museum</td>\n",
       "      <td>43.667500</td>\n",
       "      <td>-79.394170</td>\n",
       "      <td>Cultural</td>\n",
       "      <td>Takht-e Jān</td>\n",
       "      <td>STM</td>\n",
       "    </tr>\n",
       "    <tr>\n",
       "      <th>8</th>\n",
       "      <td>22</td>\n",
       "      <td>Nathan_Phillips_Square</td>\n",
       "      <td>43.652500</td>\n",
       "      <td>-79.383610</td>\n",
       "      <td>Beach</td>\n",
       "      <td>Shahīd Madanī</td>\n",
       "      <td>PPL</td>\n",
       "    </tr>\n",
       "    <tr>\n",
       "      <th>9</th>\n",
       "      <td>14</td>\n",
       "      <td>Canadian_National_Exhibition</td>\n",
       "      <td>43.633330</td>\n",
       "      <td>-79.416670</td>\n",
       "      <td>Amusement</td>\n",
       "      <td>Kūh-e Takht-e Arreh</td>\n",
       "      <td>HLL</td>\n",
       "    </tr>\n",
       "    <tr>\n",
       "      <th>10</th>\n",
       "      <td>17</td>\n",
       "      <td>Exhibition_Place</td>\n",
       "      <td>43.632780</td>\n",
       "      <td>-79.416110</td>\n",
       "      <td>Amusement</td>\n",
       "      <td>Kūh-e Shotor Khvāb</td>\n",
       "      <td>MT</td>\n",
       "    </tr>\n",
       "    <tr>\n",
       "      <th>11</th>\n",
       "      <td>27</td>\n",
       "      <td>Yorkville,_Toronto</td>\n",
       "      <td>43.670280</td>\n",
       "      <td>-79.391110</td>\n",
       "      <td>Shopping</td>\n",
       "      <td>None</td>\n",
       "      <td>None</td>\n",
       "    </tr>\n",
       "    <tr>\n",
       "      <th>12</th>\n",
       "      <td>3</td>\n",
       "      <td>Maple_Leaf_Gardens</td>\n",
       "      <td>43.662220</td>\n",
       "      <td>-79.380280</td>\n",
       "      <td>Sport</td>\n",
       "      <td>Zamīn Sūkhteh</td>\n",
       "      <td>CRRL</td>\n",
       "    </tr>\n",
       "    <tr>\n",
       "      <th>13</th>\n",
       "      <td>7</td>\n",
       "      <td>Hockey_Hall_of_Fame</td>\n",
       "      <td>43.646976</td>\n",
       "      <td>-79.377253</td>\n",
       "      <td>Cultural</td>\n",
       "      <td>None</td>\n",
       "      <td>None</td>\n",
       "    </tr>\n",
       "    <tr>\n",
       "      <th>14</th>\n",
       "      <td>4</td>\n",
       "      <td>Rogers_Centre</td>\n",
       "      <td>43.641390</td>\n",
       "      <td>-79.389170</td>\n",
       "      <td>Sport</td>\n",
       "      <td>Rūdkhāneh-ye Āb-e Zālek</td>\n",
       "      <td>STM</td>\n",
       "    </tr>\n",
       "    <tr>\n",
       "      <th>15</th>\n",
       "      <td>5</td>\n",
       "      <td>Woodbine_Racetrack</td>\n",
       "      <td>43.712525</td>\n",
       "      <td>-79.602042</td>\n",
       "      <td>Sport</td>\n",
       "      <td>Yekāhī</td>\n",
       "      <td>PPL</td>\n",
       "    </tr>\n",
       "    <tr>\n",
       "      <th>16</th>\n",
       "      <td>8</td>\n",
       "      <td>Ripley%27s_Aquarium_of_Canada</td>\n",
       "      <td>43.642481</td>\n",
       "      <td>-79.386050</td>\n",
       "      <td>Cultural</td>\n",
       "      <td>Tappeh-ye Seh Nūr</td>\n",
       "      <td>HLL</td>\n",
       "    </tr>\n",
       "    <tr>\n",
       "      <th>17</th>\n",
       "      <td>15</td>\n",
       "      <td>Centreville_Amusement_Park</td>\n",
       "      <td>43.620308</td>\n",
       "      <td>-79.373678</td>\n",
       "      <td>Amusement</td>\n",
       "      <td>Tīleh</td>\n",
       "      <td>PPL</td>\n",
       "    </tr>\n",
       "    <tr>\n",
       "      <th>18</th>\n",
       "      <td>19</td>\n",
       "      <td>Toronto_Islands</td>\n",
       "      <td>43.620830</td>\n",
       "      <td>-79.378610</td>\n",
       "      <td>Beach</td>\n",
       "      <td>Rūdkhāneh-ye Shūr</td>\n",
       "      <td>STM</td>\n",
       "    </tr>\n",
       "    <tr>\n",
       "      <th>19</th>\n",
       "      <td>23</td>\n",
       "      <td>Toronto_Eaton_Centre</td>\n",
       "      <td>43.653982</td>\n",
       "      <td>-79.380319</td>\n",
       "      <td>Shopping</td>\n",
       "      <td>Sheykh Şāleḩ Sā‘īd</td>\n",
       "      <td>PPL</td>\n",
       "    </tr>\n",
       "    <tr>\n",
       "      <th>20</th>\n",
       "      <td>25</td>\n",
       "      <td>Kensington_Market</td>\n",
       "      <td>43.654772</td>\n",
       "      <td>-79.400678</td>\n",
       "      <td>Shopping</td>\n",
       "      <td>Seyyed Moşţafā Khomeynī</td>\n",
       "      <td>PPL</td>\n",
       "    </tr>\n",
       "    <tr>\n",
       "      <th>21</th>\n",
       "      <td>1</td>\n",
       "      <td>Air_Canada_Centre</td>\n",
       "      <td>43.643330</td>\n",
       "      <td>-79.379170</td>\n",
       "      <td>Sport</td>\n",
       "      <td>None</td>\n",
       "      <td>None</td>\n",
       "    </tr>\n",
       "    <tr>\n",
       "      <th>22</th>\n",
       "      <td>6</td>\n",
       "      <td>Art_Gallery_of_Ontario</td>\n",
       "      <td>43.653890</td>\n",
       "      <td>-79.392780</td>\n",
       "      <td>Cultural</td>\n",
       "      <td>Āb-e Yasī</td>\n",
       "      <td>STM</td>\n",
       "    </tr>\n",
       "    <tr>\n",
       "      <th>23</th>\n",
       "      <td>10</td>\n",
       "      <td>Riverdale_Farm</td>\n",
       "      <td>43.667111</td>\n",
       "      <td>-79.361294</td>\n",
       "      <td>Cultural</td>\n",
       "      <td>Kabūtarān</td>\n",
       "      <td>PPL</td>\n",
       "    </tr>\n",
       "    <tr>\n",
       "      <th>24</th>\n",
       "      <td>16</td>\n",
       "      <td>CN_Tower</td>\n",
       "      <td>43.642600</td>\n",
       "      <td>-79.387100</td>\n",
       "      <td>Amusement</td>\n",
       "      <td>Solţān Moḩammad</td>\n",
       "      <td>CRRL</td>\n",
       "    </tr>\n",
       "    <tr>\n",
       "      <th>25</th>\n",
       "      <td>18</td>\n",
       "      <td>Sunnyside_Amusement_Park</td>\n",
       "      <td>43.637923</td>\n",
       "      <td>-79.450786</td>\n",
       "      <td>Amusement</td>\n",
       "      <td>None</td>\n",
       "      <td>None</td>\n",
       "    </tr>\n",
       "    <tr>\n",
       "      <th>26</th>\n",
       "      <td>24</td>\n",
       "      <td>Harbourfront_Centre</td>\n",
       "      <td>43.638490</td>\n",
       "      <td>-79.382068</td>\n",
       "      <td>Shopping</td>\n",
       "      <td>Sheykh Ḩoseyn</td>\n",
       "      <td>PPL</td>\n",
       "    </tr>\n",
       "    <tr>\n",
       "      <th>27</th>\n",
       "      <td>13</td>\n",
       "      <td>Casa_Loma</td>\n",
       "      <td>43.678100</td>\n",
       "      <td>-79.409500</td>\n",
       "      <td>Cultural</td>\n",
       "      <td>Takht Arreh Yek</td>\n",
       "      <td>PPL</td>\n",
       "    </tr>\n",
       "    <tr>\n",
       "      <th>28</th>\n",
       "      <td>20</td>\n",
       "      <td>High_Park</td>\n",
       "      <td>43.646821</td>\n",
       "      <td>-79.462996</td>\n",
       "      <td>Beach</td>\n",
       "      <td>Sheykh Sa‘d</td>\n",
       "      <td>PPLW</td>\n",
       "    </tr>\n",
       "    <tr>\n",
       "      <th>29</th>\n",
       "      <td>21</td>\n",
       "      <td>Yonge-Dundas_Square</td>\n",
       "      <td>43.656110</td>\n",
       "      <td>-79.380280</td>\n",
       "      <td>Beach</td>\n",
       "      <td>None</td>\n",
       "      <td>None</td>\n",
       "    </tr>\n",
       "  </tbody>\n",
       "</table>\n",
       "</div>"
      ],
      "text/plain": [
       "<google.colab.data_table.DataTable object>"
      ]
     },
     "execution_count": 45,
     "metadata": {},
     "output_type": "execute_result"
    }
   ],
   "source": [
    "%%sql\n",
    "select p.poiID, p.poiName, p.latitude, p.longitude, p.theme, g.name, g.feature_code\n",
    "from  POI p left outer join Geonames2 g on  p.poiID=g.geonameID"
   ]
  }
 ],
 "metadata": {
  "colab": {
   "collapsed_sections": [],
   "provenance": [],
   "toc_visible": true
  },
  "kernelspec": {
   "display_name": "Python 3 (ipykernel)",
   "language": "python",
   "name": "python3"
  },
  "language_info": {
   "codemirror_mode": {
    "name": "ipython",
    "version": 3
   },
   "file_extension": ".py",
   "mimetype": "text/x-python",
   "name": "python",
   "nbconvert_exporter": "python",
   "pygments_lexer": "ipython3",
   "version": "3.9.12"
  }
 },
 "nbformat": 4,
 "nbformat_minor": 1
}
